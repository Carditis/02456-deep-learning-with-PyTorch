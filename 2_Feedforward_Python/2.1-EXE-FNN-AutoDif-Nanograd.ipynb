{
 "cells": [
  {
   "cell_type": "markdown",
   "metadata": {
    "id": "HAva8TnYFtFu"
   },
   "source": [
    "# Contents and why we need this lab\n",
    "\n",
    "This lab is about implementing neural networks yourself before we start using other frameworks which hide some of the computation from you. It builds on the first lab where you derived the equations for neural network forward and backward propagation and gradient descent parameter updates. \n",
    "\n",
    "All the frameworks for deep learning you will meet from now on uses automatic differentiation (autodiff) so you don't have to code the backward step yourself. In this version of this lab you will develop your own autodif implementation. We also have a [version](https://github.com/DeepLearningDTU/02456-deep-learning-with-PyTorch/blob/master/2_Feedforward_NumPy/2.1-FNN-NumPy.ipynb) of this lab where you have to code the backward pass explicitly in Numpy."
   ]
  },
  {
   "cell_type": "markdown",
   "metadata": {
    "id": "sCa7HzwpFtFy"
   },
   "source": [
    "# External sources of information\n",
    "\n",
    "1. Jupyter notebook. You can find more information about Jupyter notebooks [here](https://jupyter.org/). It will come as part of the [Anaconda](https://www.anaconda.com/) Python installation. \n",
    "2. [NumPy](https://numpy.org/). Part of Anaconda distribution. If you already know how to program most things about Python and NumPy can be found through Google search.\n",
    "3. [Nanograd](https://github.com/rasmusbergpalm/nanograd) is a minimalistic version of autodiff developed by Rasmus Berg Palm that we use for our framework.\n"
   ]
  },
  {
   "cell_type": "markdown",
   "metadata": {
    "id": "1SjiIp-TFtF0"
   },
   "source": [
    "# This notebook will follow the next steps:\n",
    "\n",
    "1. Nanograd automatic differentiation framework\n",
    "2. Finite difference method\n",
    "3. Data generation\n",
    "4. Defining and initializing the network\n",
    "5. Forward pass\n",
    "6. Training loop \n",
    "7. Testing your model\n",
    "8. Further extensions"
   ]
  },
  {
   "cell_type": "markdown",
   "metadata": {
    "id": "OyXeAA-HuT7s"
   },
   "source": [
    "# Nanograd automatic differention framework"
   ]
  },
  {
   "cell_type": "markdown",
   "metadata": {
    "id": "k6UWKCLKubgA"
   },
   "source": [
    "The [Nanograd](https://github.com/rasmusbergpalm/nanograd) framework defines a class Var which both holds a value and gradient value that we can use to store the intermediate values when we apply the chain rule of differentiation."
   ]
  },
  {
   "cell_type": "code",
   "execution_count": 2,
   "metadata": {
    "id": "Jd4CoEBNzNWS"
   },
   "outputs": [],
   "source": [
    "# Copy and pasted from https://github.com/rasmusbergpalm/nanograd/blob/main/nanograd.py\n",
    "\n",
    "from math import exp, log\n",
    "\n",
    "class Var:\n",
    "    \"\"\"\n",
    "    A variable which holds a float and enables gradient computations.\n",
    "    \"\"\"\n",
    "\n",
    "    def __init__(self, val: float, grad_fn=lambda: []):\n",
    "        assert type(val) == float\n",
    "        self.v = val\n",
    "        self.grad_fn = grad_fn\n",
    "        self.grad = 0.0\n",
    "\n",
    "    def backprop(self, bp):\n",
    "        self.grad += bp\n",
    "        for (input, grad) in self.grad_fn():\n",
    "            input.backprop(grad * bp)\n",
    "\n",
    "    def backward(self):\n",
    "        self.backprop(1.0)\n",
    "\n",
    "    def __add__(self: 'Var', other: 'Var') -> 'Var':\n",
    "        return Var(self.v + other.v, lambda: [(self, 1.0), (other, 1.0)])\n",
    "\n",
    "    def __mul__(self: 'Var', other: 'Var') -> 'Var':\n",
    "        return Var(self.v * other.v, lambda: [(self, other.v), (other, self.v)])\n",
    "\n",
    "    def __pow__(self, power):\n",
    "        assert type(power) in {float, int}, \"power must be float or int\"\n",
    "        return Var(self.v ** power, lambda: [(self, power * self.v ** (power - 1))])\n",
    "\n",
    "    def __neg__(self: 'Var') -> 'Var':\n",
    "        return Var(-1.0) * self\n",
    "\n",
    "    def __sub__(self: 'Var', other: 'Var') -> 'Var':\n",
    "        return self + (-other)\n",
    "\n",
    "    def __truediv__(self: 'Var', other: 'Var') -> 'Var':\n",
    "        return self * other ** -1\n",
    "\n",
    "    def __repr__(self):\n",
    "        return \"Var(v=%.4f, grad=%.4f)\" % (self.v, self.grad)\n",
    "\n",
    "    def relu(self):\n",
    "        return Var(self.v if self.v > 0.0 else 0.0, lambda: [(self, 1.0 if self.v > 0.0 else 0.0)])\n",
    "    \n",
    "    def identity(self):\n",
    "        return Var(self.v, lambda: [(self,self.v)])\n",
    "    \n",
    "    def tanh(self):\n",
    "        return Var((math.exp(self.v)-math.exp(-self.v))/(math.exp(self.v)+math.exp(-self.v)), lambda: [(self,1-(((math.exp(self.v)-math.exp(-self.v))/(math.exp(self.v)+math.exp(-self.v)))**2))])\n",
    "    \n",
    "    def sigmoid(self):\n",
    "        return Var(1.0/1.0+exp(-self.v) , lambda: [(self, (1.0/1.0+exp(-self.v))/(1-(1.0/1.0+exp(-self.v))))])"
   ]
  },
  {
   "cell_type": "markdown",
   "metadata": {
    "id": "yDX67D6jzcte"
   },
   "source": [
    "A few examples illustrate how we can use this:"
   ]
  },
  {
   "cell_type": "code",
   "execution_count": 2,
   "metadata": {},
   "outputs": [],
   "source": [
    "#testi test for understanding :)\n",
    "\n",
    "#a = Var(2.0)\n",
    "#b = Var(2.0)\n",
    "#c = Var(2.0)\n",
    "#print(a)\n",
    "#print(b)\n",
    "#print(c)\n",
    "#f = a*b\n",
    "#print(f)\n",
    "#f.backward()\n",
    "#print(a.v)"
   ]
  },
  {
   "cell_type": "code",
   "execution_count": 3,
   "metadata": {
    "colab": {
     "base_uri": "https://localhost:8080/"
    },
    "id": "xk6PeLc3zwPT",
    "outputId": "47e431b2-07ba-4cb1-ea21-997769641c67"
   },
   "outputs": [
    {
     "name": "stdout",
     "output_type": "stream",
     "text": [
      "Var(v=3.0000, grad=5.0000)\n",
      "Var(v=5.0000, grad=3.0000)\n",
      "Var(v=15.0000, grad=1.0000)\n"
     ]
    }
   ],
   "source": [
    "a = Var(3.0)\n",
    "b = Var(5.0)\n",
    "f = a * b\n",
    "\n",
    "f.backward()\n",
    "\n",
    "for i in [a, b, f]:\n",
    "    print(i)"
   ]
  },
  {
   "cell_type": "code",
   "execution_count": 4,
   "metadata": {
    "colab": {
     "base_uri": "https://localhost:8080/"
    },
    "id": "JmKhYgsY0g_o",
    "outputId": "06c1b1df-c33c-40d3-922a-624612a591c7"
   },
   "outputs": [
    {
     "name": "stdout",
     "output_type": "stream",
     "text": [
      "Var(v=3.0000, grad=14.0000)\n",
      "Var(v=5.0000, grad=3.0000)\n",
      "Var(v=15.0000, grad=1.0000)\n",
      "Var(v=9.0000, grad=3.0000)\n",
      "Var(v=27.0000, grad=1.0000)\n",
      "Var(v=42.0000, grad=1.0000)\n"
     ]
    }
   ],
   "source": [
    "a = Var(3.0)\n",
    "b = Var(5.0)\n",
    "c = a * b\n",
    "d = Var(9.0)\n",
    "e = a * d\n",
    "f = c + e\n",
    "\n",
    "f.backward()\n",
    "\n",
    "for i in [a, b, c, d, e, f]:\n",
    "    print(i)"
   ]
  },
  {
   "cell_type": "markdown",
   "metadata": {
    "id": "Fe3B6uEH140p"
   },
   "source": [
    "## Exercise a) What is being calculated?\n",
    "\n",
    "Explain briefly the output of the code? What is the expression we differentiate and with respect to what variables?\n",
    "\n",
    "\n",
    "Answer:\n",
    "\n",
    "Multiplication and addition will create a new instance, that have the value of dertermined by the opperator and a list of the included factor (instances used (a and b)). If the new instance f is creates as the product of a and b, will backprob first opdate a's grad by differentiating f with respect to a and then do the same for b.\n",
    "\n",
    "This can be expanded as in the other exsample."
   ]
  },
  {
   "cell_type": "markdown",
   "metadata": {
    "id": "q8_Q0t2I3Ruj"
   },
   "source": [
    "## Exercise b) How does the backward function work?\n",
    "\n",
    "You need to understand how the backward function calculates the gradients. We can use the two examples above to help with that.\n",
    "\n",
    "Go through the following four steps and answer the questions on the way:\n",
    "\n",
    "1. We represent the two expressions as graphs as shown below. Fill in the missing expressions for the different derivatives.\n",
    "\n",
    "2. In the remainder consider the first expression. Make a schematic of the data structure which is generated when we define the expression for f. \n",
    "\n",
    "3. Then execute the backward function by hand to convince yourself that it indeed calculates the gradients with respect to the variables. \n",
    "\n",
    "4. Write down the sequence of calls to backprop.\n",
    "\n",
    "\n",
    "Answer:\n",
    "\n",
    "$$\n",
    " a.grad =   \\frac{df}{dv_{-1}} = \\frac{df}{dv_1} \\cdot \\frac{dv_1}{dv_{-1}} = 1 \\cdot \\frac{d(a.v\\cdot b.v)}{da.v} = b.v\n",
    "$$\n",
    "$$\n",
    " b.grad =   \\frac{df}{dv_{0}} = \\frac{df}{dv_1} \\cdot \\frac{dv_1}{dv_{0}} = 1 \\cdot \\frac{d(a.v\\cdot b.v)}{da.v} = a.v\n",
    "$$\n",
    "\n",
    "This shows the chain rule being utelized for calculating the derivative for a and b. The v's represent a link each in the data structure"
   ]
  },
  {
   "cell_type": "code",
   "execution_count": 5,
   "metadata": {
    "id": "idGr71jYXl26"
   },
   "outputs": [
    {
     "name": "stderr",
     "output_type": "stream",
     "text": [
      "[DEBUG@graphviz.backend.execute] run [WindowsPath('dot'), '-V']\n"
     ]
    },
    {
     "data": {
      "text/plain": [
       "('0.20.1', (2, 50, 0))"
      ]
     },
     "execution_count": 5,
     "metadata": {},
     "output_type": "execute_result"
    }
   ],
   "source": [
    "import logging\n",
    "import graphviz\n",
    "\n",
    "logging.basicConfig(format='[%(levelname)s@%(name)s] %(message)s', level=logging.DEBUG)\n",
    "\n",
    "graphviz.__version__, graphviz.version()"
   ]
  },
  {
   "cell_type": "code",
   "execution_count": 6,
   "metadata": {
    "colab": {
     "base_uri": "https://localhost:8080/",
     "height": 152
    },
    "id": "KPe30Q2QXzeG",
    "outputId": "7fa002cd-a018-4dbb-ddf1-28ed5e99ee19"
   },
   "outputs": [
    {
     "name": "stderr",
     "output_type": "stream",
     "text": [
      "[DEBUG@graphviz.backend.execute] run [WindowsPath('dot'), '-Kdot', '-Tsvg']\n"
     ]
    },
    {
     "data": {
      "image/svg+xml": [
       "<?xml version=\"1.0\" encoding=\"UTF-8\" standalone=\"no\"?>\n",
       "<!DOCTYPE svg PUBLIC \"-//W3C//DTD SVG 1.1//EN\"\n",
       " \"http://www.w3.org/Graphics/SVG/1.1/DTD/svg11.dtd\">\n",
       "<!-- Generated by graphviz version 2.50.0 (0)\n",
       " -->\n",
       "<!-- Title: first expression Pages: 1 -->\n",
       "<svg width=\"159pt\" height=\"98pt\"\n",
       " viewBox=\"0.00 0.00 159.00 98.00\" xmlns=\"http://www.w3.org/2000/svg\" xmlns:xlink=\"http://www.w3.org/1999/xlink\">\n",
       "<g id=\"graph0\" class=\"graph\" transform=\"scale(1 1) rotate(0) translate(4 94)\">\n",
       "<title>first expression</title>\n",
       "<polygon fill=\"white\" stroke=\"transparent\" points=\"-4,4 -4,-94 155,-94 155,4 -4,4\"/>\n",
       "<!-- a -->\n",
       "<g id=\"node1\" class=\"node\">\n",
       "<title>a</title>\n",
       "<ellipse fill=\"none\" stroke=\"black\" cx=\"18\" cy=\"-72\" rx=\"18\" ry=\"18\"/>\n",
       "<text text-anchor=\"middle\" x=\"18\" y=\"-68.3\" font-family=\"Times New Roman,serif\" font-size=\"14.00\">a</text>\n",
       "</g>\n",
       "<!-- f -->\n",
       "<g id=\"node2\" class=\"node\">\n",
       "<title>f</title>\n",
       "<ellipse fill=\"none\" stroke=\"black\" cx=\"133\" cy=\"-45\" rx=\"18\" ry=\"18\"/>\n",
       "<text text-anchor=\"middle\" x=\"133\" y=\"-41.3\" font-family=\"Times New Roman,serif\" font-size=\"14.00\">f</text>\n",
       "</g>\n",
       "<!-- a&#45;&gt;f -->\n",
       "<g id=\"edge1\" class=\"edge\">\n",
       "<title>a&#45;&gt;f</title>\n",
       "<path fill=\"none\" stroke=\"black\" d=\"M35.67,-68.02C54.03,-63.63 83.81,-56.51 105.4,-51.36\"/>\n",
       "<polygon fill=\"black\" stroke=\"black\" points=\"106.35,-54.73 115.26,-49 104.72,-47.92 106.35,-54.73\"/>\n",
       "<text text-anchor=\"middle\" x=\"75.5\" y=\"-66.8\" font-family=\"Times New Roman,serif\" font-size=\"14.00\">df/da=b</text>\n",
       "</g>\n",
       "<!-- b -->\n",
       "<g id=\"node3\" class=\"node\">\n",
       "<title>b</title>\n",
       "<ellipse fill=\"none\" stroke=\"black\" cx=\"18\" cy=\"-18\" rx=\"18\" ry=\"18\"/>\n",
       "<text text-anchor=\"middle\" x=\"18\" y=\"-14.3\" font-family=\"Times New Roman,serif\" font-size=\"14.00\">b</text>\n",
       "</g>\n",
       "<!-- b&#45;&gt;f -->\n",
       "<g id=\"edge2\" class=\"edge\">\n",
       "<title>b&#45;&gt;f</title>\n",
       "<path fill=\"none\" stroke=\"black\" d=\"M35.85,-20.94C51.73,-23.83 76.12,-28.59 97,-34 99.89,-34.75 102.9,-35.59 105.88,-36.47\"/>\n",
       "<polygon fill=\"black\" stroke=\"black\" points=\"105.13,-39.9 115.72,-39.5 107.19,-33.21 105.13,-39.9\"/>\n",
       "<text text-anchor=\"middle\" x=\"75.5\" y=\"-37.8\" font-family=\"Times New Roman,serif\" font-size=\"14.00\">df/db=a</text>\n",
       "</g>\n",
       "</g>\n",
       "</svg>\n"
      ],
      "text/plain": [
       "<graphviz.graphs.Digraph at 0x29cdf2fa5b0>"
      ]
     },
     "execution_count": 6,
     "metadata": {},
     "output_type": "execute_result"
    }
   ],
   "source": [
    "e1 = graphviz.Digraph('first expression', filename='fsm.gv')\n",
    "\n",
    "e1.attr(rankdir='LR', size='8,5')\n",
    "\n",
    "e1.attr('node', shape='circle')\n",
    "e1.edge('a', 'f', label='df/da=b')\n",
    "e1.edge('b', 'f', label='df/db=a')\n",
    "\n",
    "e1"
   ]
  },
  {
   "cell_type": "code",
   "execution_count": 7,
   "metadata": {
    "colab": {
     "base_uri": "https://localhost:8080/",
     "height": 232
    },
    "id": "0nittR-mZFeX",
    "outputId": "fa3656a3-732c-4abe-8084-98a492b0d6be"
   },
   "outputs": [
    {
     "name": "stderr",
     "output_type": "stream",
     "text": [
      "[DEBUG@graphviz.backend.execute] run [WindowsPath('dot'), '-Kdot', '-Tsvg']\n"
     ]
    },
    {
     "data": {
      "image/svg+xml": [
       "<?xml version=\"1.0\" encoding=\"UTF-8\" standalone=\"no\"?>\n",
       "<!DOCTYPE svg PUBLIC \"-//W3C//DTD SVG 1.1//EN\"\n",
       " \"http://www.w3.org/Graphics/SVG/1.1/DTD/svg11.dtd\">\n",
       "<!-- Generated by graphviz version 2.50.0 (0)\n",
       " -->\n",
       "<!-- Title: second expression Pages: 1 -->\n",
       "<svg width=\"341pt\" height=\"158pt\"\n",
       " viewBox=\"0.00 0.00 341.00 158.00\" xmlns=\"http://www.w3.org/2000/svg\" xmlns:xlink=\"http://www.w3.org/1999/xlink\">\n",
       "<g id=\"graph0\" class=\"graph\" transform=\"scale(1 1) rotate(0) translate(4 154)\">\n",
       "<title>second expression</title>\n",
       "<polygon fill=\"white\" stroke=\"transparent\" points=\"-4,4 -4,-154 337,-154 337,4 -4,4\"/>\n",
       "<!-- a -->\n",
       "<g id=\"node1\" class=\"node\">\n",
       "<title>a</title>\n",
       "<ellipse fill=\"none\" stroke=\"black\" cx=\"18\" cy=\"-75\" rx=\"18\" ry=\"18\"/>\n",
       "<text text-anchor=\"middle\" x=\"18\" y=\"-71.3\" font-family=\"Times New Roman,serif\" font-size=\"14.00\">a</text>\n",
       "</g>\n",
       "<!-- c -->\n",
       "<g id=\"node2\" class=\"node\">\n",
       "<title>c</title>\n",
       "<ellipse fill=\"none\" stroke=\"black\" cx=\"200\" cy=\"-102\" rx=\"18\" ry=\"18\"/>\n",
       "<text text-anchor=\"middle\" x=\"200\" y=\"-98.3\" font-family=\"Times New Roman,serif\" font-size=\"14.00\">c</text>\n",
       "</g>\n",
       "<!-- a&#45;&gt;c -->\n",
       "<g id=\"edge1\" class=\"edge\">\n",
       "<title>a&#45;&gt;c</title>\n",
       "<path fill=\"none\" stroke=\"black\" d=\"M36.02,-77.01C63.16,-80.29 117.89,-87.22 164,-95 166.71,-95.46 169.54,-95.97 172.35,-96.5\"/>\n",
       "<polygon fill=\"black\" stroke=\"black\" points=\"171.82,-99.96 182.3,-98.45 173.16,-93.09 171.82,-99.96\"/>\n",
       "<text text-anchor=\"middle\" x=\"109\" y=\"-98.8\" font-family=\"Times New Roman,serif\" font-size=\"14.00\">dc/da=df/e+df/dc=b</text>\n",
       "</g>\n",
       "<!-- e -->\n",
       "<g id=\"node4\" class=\"node\">\n",
       "<title>e</title>\n",
       "<ellipse fill=\"none\" stroke=\"black\" cx=\"200\" cy=\"-48\" rx=\"18\" ry=\"18\"/>\n",
       "<text text-anchor=\"middle\" x=\"200\" y=\"-44.3\" font-family=\"Times New Roman,serif\" font-size=\"14.00\">e</text>\n",
       "</g>\n",
       "<!-- a&#45;&gt;e -->\n",
       "<g id=\"edge3\" class=\"edge\">\n",
       "<title>a&#45;&gt;e</title>\n",
       "<path fill=\"none\" stroke=\"black\" d=\"M34.31,-67.17C40.3,-64.45 47.33,-61.66 54,-60 93.99,-50.05 141.91,-47.91 171.4,-47.67\"/>\n",
       "<polygon fill=\"black\" stroke=\"black\" points=\"171.75,-51.17 181.75,-47.65 171.74,-44.17 171.75,-51.17\"/>\n",
       "<text text-anchor=\"middle\" x=\"109\" y=\"-63.8\" font-family=\"Times New Roman,serif\" font-size=\"14.00\">de/da=b</text>\n",
       "</g>\n",
       "<!-- f -->\n",
       "<g id=\"node6\" class=\"node\">\n",
       "<title>f</title>\n",
       "<ellipse fill=\"none\" stroke=\"black\" cx=\"315\" cy=\"-75\" rx=\"18\" ry=\"18\"/>\n",
       "<text text-anchor=\"middle\" x=\"315\" y=\"-71.3\" font-family=\"Times New Roman,serif\" font-size=\"14.00\">f</text>\n",
       "</g>\n",
       "<!-- c&#45;&gt;f -->\n",
       "<g id=\"edge5\" class=\"edge\">\n",
       "<title>c&#45;&gt;f</title>\n",
       "<path fill=\"none\" stroke=\"black\" d=\"M217.67,-98.02C236.03,-93.63 265.81,-86.51 287.4,-81.36\"/>\n",
       "<polygon fill=\"black\" stroke=\"black\" points=\"288.35,-84.73 297.26,-79 286.72,-77.92 288.35,-84.73\"/>\n",
       "<text text-anchor=\"middle\" x=\"257.5\" y=\"-96.8\" font-family=\"Times New Roman,serif\" font-size=\"14.00\">df/dc=1</text>\n",
       "</g>\n",
       "<!-- b -->\n",
       "<g id=\"node3\" class=\"node\">\n",
       "<title>b</title>\n",
       "<ellipse fill=\"none\" stroke=\"black\" cx=\"18\" cy=\"-132\" rx=\"18\" ry=\"18\"/>\n",
       "<text text-anchor=\"middle\" x=\"18\" y=\"-128.3\" font-family=\"Times New Roman,serif\" font-size=\"14.00\">b</text>\n",
       "</g>\n",
       "<!-- b&#45;&gt;c -->\n",
       "<g id=\"edge2\" class=\"edge\">\n",
       "<title>b&#45;&gt;c</title>\n",
       "<path fill=\"none\" stroke=\"black\" d=\"M36.03,-129.83C63.2,-126.28 117.97,-118.74 164,-110 166.72,-109.48 169.55,-108.91 172.37,-108.3\"/>\n",
       "<polygon fill=\"black\" stroke=\"black\" points=\"173.32,-111.68 182.32,-106.08 171.8,-104.84 173.32,-111.68\"/>\n",
       "<text text-anchor=\"middle\" x=\"109\" y=\"-130.8\" font-family=\"Times New Roman,serif\" font-size=\"14.00\">dc/db=a</text>\n",
       "</g>\n",
       "<!-- e&#45;&gt;f -->\n",
       "<g id=\"edge6\" class=\"edge\">\n",
       "<title>e&#45;&gt;f</title>\n",
       "<path fill=\"none\" stroke=\"black\" d=\"M217.85,-50.94C233.73,-53.83 258.12,-58.59 279,-64 281.89,-64.75 284.9,-65.59 287.88,-66.47\"/>\n",
       "<polygon fill=\"black\" stroke=\"black\" points=\"287.13,-69.9 297.72,-69.5 289.19,-63.21 287.13,-69.9\"/>\n",
       "<text text-anchor=\"middle\" x=\"257.5\" y=\"-67.8\" font-family=\"Times New Roman,serif\" font-size=\"14.00\">df/de=1</text>\n",
       "</g>\n",
       "<!-- d -->\n",
       "<g id=\"node5\" class=\"node\">\n",
       "<title>d</title>\n",
       "<ellipse fill=\"none\" stroke=\"black\" cx=\"18\" cy=\"-18\" rx=\"18\" ry=\"18\"/>\n",
       "<text text-anchor=\"middle\" x=\"18\" y=\"-14.3\" font-family=\"Times New Roman,serif\" font-size=\"14.00\">d</text>\n",
       "</g>\n",
       "<!-- d&#45;&gt;e -->\n",
       "<g id=\"edge4\" class=\"edge\">\n",
       "<title>d&#45;&gt;e</title>\n",
       "<path fill=\"none\" stroke=\"black\" d=\"M35.96,-16.76C63.49,-15.27 119.32,-14.47 164,-28 167.96,-29.2 171.95,-30.91 175.75,-32.83\"/>\n",
       "<polygon fill=\"black\" stroke=\"black\" points=\"174.26,-36 184.69,-37.87 177.7,-29.91 174.26,-36\"/>\n",
       "<text text-anchor=\"middle\" x=\"109\" y=\"-31.8\" font-family=\"Times New Roman,serif\" font-size=\"14.00\">de/dd=a</text>\n",
       "</g>\n",
       "</g>\n",
       "</svg>\n"
      ],
      "text/plain": [
       "<graphviz.graphs.Digraph at 0x29cdf2fafd0>"
      ]
     },
     "execution_count": 7,
     "metadata": {},
     "output_type": "execute_result"
    }
   ],
   "source": [
    "e2 = graphviz.Digraph('second expression', filename='fsm.gv')\n",
    "\n",
    "e2.attr(rankdir='LR', size='8,5')\n",
    "\n",
    "e2.attr('node', shape='circle')\n",
    "e2.edge('a', 'c', label='dc/da=df/e+df/dc=b')\n",
    "e2.edge('b', 'c', label='dc/db=a')\n",
    "e2.edge('a', 'e', label='de/da=b')\n",
    "e2.edge('d', 'e', label='de/dd=a')\n",
    "e2.edge('c', 'f', label='df/dc=1')\n",
    "e2.edge('e', 'f', label='df/de=1')\n",
    "\n",
    "e2"
   ]
  },
  {
   "cell_type": "markdown",
   "metadata": {
    "id": "A5oi21W4gpeM"
   },
   "source": [
    "## Exercise c) What happens if we run backward again?\n",
    "\n",
    "Try to execute the code below. Explain what happens."
   ]
  },
  {
   "cell_type": "code",
   "execution_count": 8,
   "metadata": {
    "colab": {
     "base_uri": "https://localhost:8080/"
    },
    "id": "DCtpJyr-gyX1",
    "outputId": "d014bcfa-c9ae-49c3-d268-91cc6ca94ea5"
   },
   "outputs": [
    {
     "name": "stdout",
     "output_type": "stream",
     "text": [
      "Var(v=3.0000, grad=28.0000)\n",
      "Var(v=5.0000, grad=6.0000)\n",
      "Var(v=15.0000, grad=2.0000)\n",
      "Var(v=9.0000, grad=6.0000)\n",
      "Var(v=27.0000, grad=2.0000)\n",
      "Var(v=42.0000, grad=2.0000)\n"
     ]
    }
   ],
   "source": [
    "f.backward()\n",
    "\n",
    "for v in [a, b, c, d, e, f]:\n",
    "    print(v)"
   ]
  },
  {
   "cell_type": "markdown",
   "metadata": {},
   "source": [
    "Answer:\n",
    "\n",
    "We keep adding the same amount to each gradient as before"
   ]
  },
  {
   "cell_type": "markdown",
   "metadata": {
    "id": "e8bPVq2VhsP-"
   },
   "source": [
    "## Exercise d) Zero gradient\n",
    "\n",
    "We can zero the gradient by backpropagating a -1.0 as is shown in the example below. (If you have run backward multiple time then you also have to run the cell below an equal amount of times.) Explain what is going on."
   ]
  },
  {
   "cell_type": "code",
   "execution_count": 9,
   "metadata": {
    "colab": {
     "base_uri": "https://localhost:8080/"
    },
    "id": "OnyPDQx9lJe0",
    "outputId": "7a125fdc-60c4-4340-a580-8b82aea5b0db"
   },
   "outputs": [
    {
     "name": "stdout",
     "output_type": "stream",
     "text": [
      "Var(v=2.0000, grad=0.0000)\n",
      "Var(v=5.0000, grad=6.0000)\n",
      "Var(v=15.0000, grad=2.0000)\n",
      "Var(v=9.0000, grad=6.0000)\n",
      "Var(v=27.0000, grad=2.0000)\n",
      "Var(v=42.0000, grad=2.0000)\n",
      "Var(v=2.0000, grad=0.0000)\n",
      "Var(v=5.0000, grad=3.0000)\n",
      "Var(v=15.0000, grad=1.0000)\n",
      "Var(v=9.0000, grad=3.0000)\n",
      "Var(v=27.0000, grad=1.0000)\n",
      "Var(v=42.0000, grad=1.0000)\n"
     ]
    }
   ],
   "source": [
    "a = Var(2.0)\n",
    "\n",
    "for v in [a, b, c, d, e, f]:\n",
    "    print(v)\n",
    "\n",
    "f.backprop(-1.0)\n",
    "\n",
    "for v in [a, b, c, d, e, f]:\n",
    "    print(v)"
   ]
  },
  {
   "cell_type": "markdown",
   "metadata": {},
   "source": [
    "Answer:\n",
    "\n",
    "1 or -1 will work as a direction for the steps taken. This can therefore be seen as 1 being \"a step forward\" and -1 being \"a step backwards\""
   ]
  },
  {
   "cell_type": "markdown",
   "metadata": {
    "id": "U4057_ljNvWB"
   },
   "source": [
    "## Exercise e) Test correctness of derivatives with the finite difference method\n",
    "\n",
    "Write a small function that uses [the finite difference method](https://en.wikipedia.org/wiki/Finite_difference_method) to numerically test that backpropation implementation is working. In short we will use\n",
    "$$\n",
    "\\frac{\\partial f(a)}{\\partial a} \\approx \\frac{f(a+da)-f(a)}{da}\n",
    "$$\n",
    "for $da \\ll 1$.\n",
    "\n",
    "As an example, we could approximate the derivative of the function $f(a)=a^2$ in e.g. the value $a=4$ using the finite difference method. This amounts to inserting the relevant values and approximating the gradient $f'(4)$ with the fraction above. \n"
   ]
  },
  {
   "cell_type": "code",
   "execution_count": 6,
   "metadata": {
    "colab": {
     "base_uri": "https://localhost:8080/"
    },
    "id": "9TGil92lSXDN",
    "outputId": "7ef5489b-b525-4132-ab08-0b1109c07f4d"
   },
   "outputs": [
    {
     "name": "stdout",
     "output_type": "stream",
     "text": [
      "Var(v=3.0000, grad=5.0000)\n",
      "Var(v=5.0000, grad=3.0000)\n",
      "Var(v=15.0000, grad=1.0000)\n"
     ]
    },
    {
     "ename": "NameError",
     "evalue": "name 'f' is not defined",
     "output_type": "error",
     "traceback": [
      "\u001b[1;31m---------------------------------------------------------------------------\u001b[0m",
      "\u001b[1;31mNameError\u001b[0m                                 Traceback (most recent call last)",
      "\u001b[1;32m<ipython-input-6-213c646026ec>\u001b[0m in \u001b[0;36m<module>\u001b[1;34m\u001b[0m\n\u001b[0;32m     29\u001b[0m     \u001b[1;32mreturn\u001b[0m \u001b[0mfinite_difference\u001b[0m\u001b[1;33m\u001b[0m\u001b[1;33m\u001b[0m\u001b[0m\n\u001b[0;32m     30\u001b[0m \u001b[1;33m\u001b[0m\u001b[0m\n\u001b[1;32m---> 31\u001b[1;33m \u001b[0mprint\u001b[0m\u001b[1;33m(\u001b[0m\u001b[0mfinite_difference\u001b[0m\u001b[1;33m(\u001b[0m\u001b[1;33m)\u001b[0m\u001b[1;33m)\u001b[0m\u001b[1;33m\u001b[0m\u001b[1;33m\u001b[0m\u001b[0m\n\u001b[0m",
      "\u001b[1;32m<ipython-input-6-213c646026ec>\u001b[0m in \u001b[0;36mfinite_difference\u001b[1;34m(da)\u001b[0m\n\u001b[0;32m     22\u001b[0m     \"\"\"\n\u001b[0;32m     23\u001b[0m \u001b[1;33m\u001b[0m\u001b[0m\n\u001b[1;32m---> 24\u001b[1;33m     \u001b[0mfa_da\u001b[0m \u001b[1;33m=\u001b[0m \u001b[0mf\u001b[0m\u001b[1;33m.\u001b[0m\u001b[0mv\u001b[0m \u001b[1;33m+\u001b[0m \u001b[1;33m(\u001b[0m\u001b[0mda\u001b[0m \u001b[1;33m*\u001b[0m \u001b[0mb\u001b[0m\u001b[1;33m.\u001b[0m\u001b[0mv\u001b[0m\u001b[1;33m)\u001b[0m           \u001b[1;31m# <- Insert correct expression\u001b[0m\u001b[1;33m\u001b[0m\u001b[1;33m\u001b[0m\u001b[0m\n\u001b[0m\u001b[0;32m     25\u001b[0m     \u001b[0mfa\u001b[0m \u001b[1;33m=\u001b[0m \u001b[0mf\u001b[0m\u001b[1;33m.\u001b[0m\u001b[0mv\u001b[0m              \u001b[1;31m# <- Insert correct expression\u001b[0m\u001b[1;33m\u001b[0m\u001b[1;33m\u001b[0m\u001b[0m\n\u001b[0;32m     26\u001b[0m \u001b[1;33m\u001b[0m\u001b[0m\n",
      "\u001b[1;31mNameError\u001b[0m: name 'f' is not defined"
     ]
    }
   ],
   "source": [
    "# f function - try to change the code to test other types of functions as well (such as different polynomials etc.)\n",
    "def f_function(a):\n",
    "    a = Var(a)\n",
    "    b = Var(5.0)\n",
    "    f = a * b\n",
    "    f.backward()\n",
    "    return a,b,f\n",
    "\n",
    "for v in f_function(3.0):\n",
    "  print(v)\n",
    "\n",
    "# Insert your finite difference code here\n",
    "def finite_difference(da=1e-10):\n",
    "    \"\"\"\n",
    "    This function compute the finite difference between\n",
    "    \n",
    "    Input:\n",
    "    da:          The finite difference                           (float)\n",
    "    \n",
    "    Output:\n",
    "    finite_difference: numerical approximation to the derivative (float) \n",
    "    \"\"\"\n",
    "\n",
    "    fa_da = f.v + (da * b.v)           # <- Insert correct expression\n",
    "    fa = f.v              # <- Insert correct expression\n",
    "\n",
    "    finite_difference = (fa_da - fa) / da\n",
    "    \n",
    "    return finite_difference\n",
    "\n",
    "print(finite_difference())"
   ]
  },
  {
   "cell_type": "markdown",
   "metadata": {
    "id": "6pZar5RKaUkg"
   },
   "source": [
    "# Create an artificial dataset to play with\n",
    "\n",
    "We create a non-linear 1d regression task. The generator supports various noise levels and it creates train, validation and test sets. You can modify it yourself if you want more or less challenging tasks."
   ]
  },
  {
   "cell_type": "code",
   "execution_count": 7,
   "metadata": {
    "id": "Y6yfMAQ8aduj"
   },
   "outputs": [],
   "source": [
    "import numpy as np\n",
    "import matplotlib.pyplot as plt\n",
    "\n",
    "np.random.seed(42)"
   ]
  },
  {
   "cell_type": "code",
   "execution_count": 8,
   "metadata": {
    "id": "4YabfD43ajNh"
   },
   "outputs": [],
   "source": [
    "def data_generator(noise=0.1, n_samples=300, D1=True):\n",
    "    # Create covariates and response variable\n",
    "    if D1:\n",
    "        X = np.linspace(-3, 3, num=n_samples).reshape(-1,1) # 1-D\n",
    "        np.random.shuffle(X)\n",
    "        y = np.random.normal((0.5*np.sin(X[:,0]*3) + X[:,0]), noise) # 1-D with trend\n",
    "    else:\n",
    "        X = np.random.multivariate_normal(np.zeros(3), noise*np.eye(3), size = n_samples) # 3-D\n",
    "        np.random.shuffle(X)    \n",
    "        y = np.sin(X[:,0]) - 5*(X[:,1]**2) + 0.5*X[:,2] # 3-D\n",
    "\n",
    "    # Stack them together vertically to split data set\n",
    "    data_set = np.vstack((X.T,y)).T\n",
    "    \n",
    "    train, validation, test = np.split(data_set, [int(0.35*n_samples), int(0.7*n_samples)], axis=0)\n",
    "    \n",
    "    # Standardization of the data, remember we do the standardization with the training set mean and standard deviation\n",
    "    train_mu = np.mean(train, axis=0)\n",
    "    train_sigma = np.std(train, axis=0)\n",
    "    \n",
    "    train = (train-train_mu)/train_sigma\n",
    "    validation = (validation-train_mu)/train_sigma\n",
    "    test = (test-train_mu)/train_sigma\n",
    "    \n",
    "    x_train, x_validation, x_test = train[:,:-1], validation[:,:-1], test[:,:-1]\n",
    "    y_train, y_validation, y_test = train[:,-1], validation[:,-1], test[:,-1]\n",
    "\n",
    "    return x_train, y_train,  x_validation, y_validation, x_test, y_test"
   ]
  },
  {
   "cell_type": "code",
   "execution_count": 9,
   "metadata": {
    "id": "u1oDngHLapIz"
   },
   "outputs": [],
   "source": [
    "D1 = True\n",
    "x_train, y_train,  x_validation, y_validation, x_test, y_test = data_generator(noise=0.5, D1=D1)"
   ]
  },
  {
   "cell_type": "code",
   "execution_count": 10,
   "metadata": {
    "colab": {
     "base_uri": "https://localhost:8080/",
     "height": 265
    },
    "id": "Ysfa3FsBavlm",
    "outputId": "399e5382-ae7d-48f6-9774-7ea4c73e7d95"
   },
   "outputs": [
    {
     "data": {
      "image/png": "[encoded data removed]",
      "text/plain": [
       "<Figure size 432x288 with 1 Axes>"
      ]
     },
     "metadata": {
      "needs_background": "light"
     },
     "output_type": "display_data"
    }
   ],
   "source": [
    "if D1:\n",
    "    plt.scatter(x_train[:,0], y_train);\n",
    "    plt.scatter(x_validation[:,0], y_validation);\n",
    "    plt.scatter(x_test[:,0], y_test);\n",
    "else:\n",
    "    plt.scatter(x_train[:,1], y_train);\n",
    "    plt.scatter(x_validation[:,1], y_validation);\n",
    "    plt.scatter(x_test[:,1], y_test);\n",
    "plt.show()"
   ]
  },
  {
   "cell_type": "code",
   "execution_count": 11,
   "metadata": {
    "id": "zac2HHNlgbpm"
   },
   "outputs": [],
   "source": [
    "# convert from nparray to Var\n",
    "def nparray_to_Var(x):\n",
    "  if x.ndim==1:\n",
    "    y = [[Var(float(x[i]))] for i in range(x.shape[0])] # always work with list of list\n",
    "  else:\n",
    "    y = [[Var(float(x[i,j])) for j in range(x.shape[1])] for i in range(x.shape[0])]\n",
    "  return y\n",
    "   \n",
    "x_train = nparray_to_Var(x_train)\n",
    "y_train = nparray_to_Var(y_train)\n",
    "x_validation = nparray_to_Var(x_validation)\n",
    "y_validation = nparray_to_Var(y_validation)\n",
    "x_test = nparray_to_Var(x_test)\n",
    "y_test = nparray_to_Var(y_test)\n"
   ]
  },
  {
   "cell_type": "markdown",
   "metadata": {
    "id": "VbjrqcpVFtGe"
   },
   "source": [
    "# Defining and initializing the network\n",
    "\n",
    "The steps to create a feed forward neural network are the following:\n",
    "\n",
    "1. **Number of hidden layer and hidden units**. We have to define the number of hidden units in each layer. The number of features in X and the output dimensionality (the size of Y) are given but the numbers in between are set by the researcher. Remember that for each unit in each layer beside in the input has a bias term.\n",
    "2. **Activation functions** for each hidden layer. Each hidden layer in your list must have an activation function (it can also be the linear activation which is equivalent to identity function). The power of neural networks comes from non-linear activation functions that learn representations (features) from the data allowing us to learn from it. \n",
    "3. **Parameter initialization**. We will initialize the weights to have random values. This is done in practice by drawing pseudo random numbers from a Gaussian or uniform distribution. It turns out that for deeper models we have to be careful about how we scale the random numbers. This will be the topic of the exercise below. For now we will just use unit variance Gaussians.  \n",
    "\n",
    "In order to make life easier for ourselves we define a DenseLayer class that takes care of initialization and the forward pass. We can also extend it later with print and advanced initialization capabilities. For the latter we have introduced a Initializer class.\n",
    "\n",
    "Note that we use Sequence in the code below. A Sequence is an ordered list. This means the order we insert and access items are the same."
   ]
  },
  {
   "cell_type": "code",
   "execution_count": 12,
   "metadata": {
    "id": "ij_ieRsAt7Xt"
   },
   "outputs": [],
   "source": [
    "class Initializer:\n",
    "\n",
    "  def init_weights(self, n_in, n_out):\n",
    "    raise NotImplementedError\n",
    "\n",
    "  def init_bias(self, n_out):\n",
    "    raise NotImplementedError"
   ]
  },
  {
   "cell_type": "code",
   "execution_count": 13,
   "metadata": {
    "id": "eb18N5phuIha"
   },
   "outputs": [],
   "source": [
    "import random\n",
    "\n",
    "class NormalInitializer(Initializer):\n",
    "\n",
    "  def __init__(self, mean=0, std=0.1):\n",
    "    self.mean = mean\n",
    "    self.std = std\n",
    "\n",
    "  def init_weights(self, n_in, n_out):\n",
    "    return [[Var(random.gauss(self.mean, self.std)) for _ in range(n_out)] for _ in range(n_in)]\n",
    "\n",
    "  def init_bias(self, n_out):\n",
    "    return [Var(0.0) for _ in range(n_out)]\n",
    "\n",
    "class ConstantInitializer(Initializer):\n",
    "\n",
    "  def __init__(self, weight=1.0, bias=0.0):\n",
    "    self.weight = weight\n",
    "    self.bias = bias\n",
    "\n",
    "  def init_weights(self, n_in, n_out):\n",
    "    return [[Var(self.weight) for _ in range(n_out)] for _ in range(n_in)]\n",
    "\n",
    "  def init_bias(self, n_out):\n",
    "    return [Var(self.bias) for _ in range(n_out)]"
   ]
  },
  {
   "cell_type": "code",
   "execution_count": 15,
   "metadata": {
    "id": "jOLYGnZKuM6W"
   },
   "outputs": [],
   "source": [
    "from typing import Sequence\n",
    "\n",
    "class DenseLayer:\n",
    "    def __init__(self, n_in: int, n_out: int, act_fn, initializer = NormalInitializer()):\n",
    "        self.weights = initializer.init_weights(n_in, n_out)\n",
    "        self.bias = initializer.init_bias(n_out)\n",
    "        self.act_fn = act_fn\n",
    "        \n",
    "    def __repr__(self):    \n",
    "        return 'Weights: ' + repr(self.weights) + ' Biases: ' + repr(self.bias)\n",
    "\n",
    "    def parameters(self) -> Sequence[Var]:\n",
    "      params = []\n",
    "      for r in self.weights:\n",
    "        params += r\n",
    "\n",
    "      return params + self.bias\n",
    "\n",
    "    def forward(self, single_input: Sequence[Var]) -> Sequence[Var]:\n",
    "        # self.weights is a matrix with dimension n_in x n_out. We check that the dimensionality of the input \n",
    "        # to the current layer matches the number of nodes in the current layer\n",
    "        assert len(self.weights) == len(single_input), \"weights and single_input must match in first dimension\"\n",
    "        weights = self.weights\n",
    "        out = []\n",
    "        # For some given data point single_input, we now want to calculate the resulting value in each node in the current layer\n",
    "        # We therefore loop over the (number of) nodes in the current layer:\n",
    "        for j in range(len(weights[0])): \n",
    "            # Initialize the node value depending on its corresponding parameters.\n",
    "            node = Var(0.0) # <- Insert code\n",
    "            # We now finish the linear transformation corresponding to the parameters of the currently considered node.\n",
    "            for i in range(len(single_input)):\n",
    "                node += Var(0.0)  # <- Insert code\n",
    "            node = self.act_fn(node)\n",
    "            out.append(node)\n",
    "\n",
    "        return out"
   ]
  },
  {
   "cell_type": "markdown",
   "metadata": {
    "id": "jpIZPBpNI0pO"
   },
   "source": [
    "## Exercise f) Add more activation functions\n",
    "\n",
    "To have a full definition of the neural network, we must define an activation function for every layer. Several activation functions have been proposed and have different characteristics. In the Var class we have already defined the rectified linear init (relu). \n",
    " \n",
    "Implement the following activation functions in the Var class:\n",
    "\n",
    "* Identity: $$\\mathrm{identity}(x) = x$$\n",
    "* Hyperbolic tangent: $$\\tanh(x)$$\n",
    "* Sigmoid (or logistic function): $$\\mathrm{sigmoid}(x) = \\frac{1}{1.0 + \\exp(-x ) }$$  Hint: $\\mathrm{sigmoid}'(x)= \\mathrm{sigmoid}(x)(1-\\mathrm{sigmoid}(x))$.  \n",
    "\n",
    "Hint: You can seek inspiration in the relu method in the Var class."
   ]
  },
  {
   "cell_type": "markdown",
   "metadata": {
    "id": "p_8n_SKnIW2F"
   },
   "source": [
    "## Exercise g) Complete the forward pass\n",
    "\n",
    "In the code below we initialize a 1-5-1 network and pass the training set through it. *The forward method in DenseLayer is **not** complete*. It just outputs zeros right now. The method forward should perform an [affine transformation](https://en.wikipedia.org/wiki/Affine_transformation) on the input followed by an application of the activation function."
   ]
  },
  {
   "cell_type": "code",
   "execution_count": 28,
   "metadata": {
    "colab": {
     "base_uri": "https://localhost:8080/",
     "height": 337
    },
    "id": "xDEjtePxE7Mv",
    "outputId": "753406cd-d8a1-4282-ce03-25ad959b0e11"
   },
   "outputs": [
    {
     "name": "stdout",
     "output_type": "stream",
     "text": [
      "[[Var(v=0.0000, grad=0.0000)], [Var(v=0.0000, grad=0.0000)], [Var(v=0.0000, grad=0.0000)], [Var(v=0.0000, grad=0.0000)], [Var(v=0.0000, grad=0.0000)], [Var(v=0.0000, grad=0.0000)], [Var(v=0.0000, grad=0.0000)], [Var(v=0.0000, grad=0.0000)], [Var(v=0.0000, grad=0.0000)], [Var(v=0.0000, grad=0.0000)], [Var(v=0.0000, grad=0.0000)], [Var(v=0.0000, grad=0.0000)], [Var(v=0.0000, grad=0.0000)], [Var(v=0.0000, grad=0.0000)], [Var(v=0.0000, grad=0.0000)], [Var(v=0.0000, grad=0.0000)], [Var(v=0.0000, grad=0.0000)], [Var(v=0.0000, grad=0.0000)], [Var(v=0.0000, grad=0.0000)], [Var(v=0.0000, grad=0.0000)], [Var(v=0.0000, grad=0.0000)], [Var(v=0.0000, grad=0.0000)], [Var(v=0.0000, grad=0.0000)], [Var(v=0.0000, grad=0.0000)], [Var(v=0.0000, grad=0.0000)], [Var(v=0.0000, grad=0.0000)], [Var(v=0.0000, grad=0.0000)], [Var(v=0.0000, grad=0.0000)], [Var(v=0.0000, grad=0.0000)], [Var(v=0.0000, grad=0.0000)], [Var(v=0.0000, grad=0.0000)], [Var(v=0.0000, grad=0.0000)], [Var(v=0.0000, grad=0.0000)], [Var(v=0.0000, grad=0.0000)], [Var(v=0.0000, grad=0.0000)], [Var(v=0.0000, grad=0.0000)], [Var(v=0.0000, grad=0.0000)], [Var(v=0.0000, grad=0.0000)], [Var(v=0.0000, grad=0.0000)], [Var(v=0.0000, grad=0.0000)], [Var(v=0.0000, grad=0.0000)], [Var(v=0.0000, grad=0.0000)], [Var(v=0.0000, grad=0.0000)], [Var(v=0.0000, grad=0.0000)], [Var(v=0.0000, grad=0.0000)], [Var(v=0.0000, grad=0.0000)], [Var(v=0.0000, grad=0.0000)], [Var(v=0.0000, grad=0.0000)], [Var(v=0.0000, grad=0.0000)], [Var(v=0.0000, grad=0.0000)], [Var(v=0.0000, grad=0.0000)], [Var(v=0.0000, grad=0.0000)], [Var(v=0.0000, grad=0.0000)], [Var(v=0.0000, grad=0.0000)], [Var(v=0.0000, grad=0.0000)], [Var(v=0.0000, grad=0.0000)], [Var(v=0.0000, grad=0.0000)], [Var(v=0.0000, grad=0.0000)], [Var(v=0.0000, grad=0.0000)], [Var(v=0.0000, grad=0.0000)], [Var(v=0.0000, grad=0.0000)], [Var(v=0.0000, grad=0.0000)], [Var(v=0.0000, grad=0.0000)], [Var(v=0.0000, grad=0.0000)], [Var(v=0.0000, grad=0.0000)], [Var(v=0.0000, grad=0.0000)], [Var(v=0.0000, grad=0.0000)], [Var(v=0.0000, grad=0.0000)], [Var(v=0.0000, grad=0.0000)], [Var(v=0.0000, grad=0.0000)], [Var(v=0.0000, grad=0.0000)], [Var(v=0.0000, grad=0.0000)], [Var(v=0.0000, grad=0.0000)], [Var(v=0.0000, grad=0.0000)], [Var(v=0.0000, grad=0.0000)], [Var(v=0.0000, grad=0.0000)], [Var(v=0.0000, grad=0.0000)], [Var(v=0.0000, grad=0.0000)], [Var(v=0.0000, grad=0.0000)], [Var(v=0.0000, grad=0.0000)], [Var(v=0.0000, grad=0.0000)], [Var(v=0.0000, grad=0.0000)], [Var(v=0.0000, grad=0.0000)], [Var(v=0.0000, grad=0.0000)], [Var(v=0.0000, grad=0.0000)], [Var(v=0.0000, grad=0.0000)], [Var(v=0.0000, grad=0.0000)], [Var(v=0.0000, grad=0.0000)], [Var(v=0.0000, grad=0.0000)], [Var(v=0.0000, grad=0.0000)], [Var(v=0.0000, grad=0.0000)], [Var(v=0.0000, grad=0.0000)], [Var(v=0.0000, grad=0.0000)], [Var(v=0.0000, grad=0.0000)], [Var(v=0.0000, grad=0.0000)], [Var(v=0.0000, grad=0.0000)], [Var(v=0.0000, grad=0.0000)], [Var(v=0.0000, grad=0.0000)], [Var(v=0.0000, grad=0.0000)], [Var(v=0.0000, grad=0.0000)], [Var(v=0.0000, grad=0.0000)], [Var(v=0.0000, grad=0.0000)], [Var(v=0.0000, grad=0.0000)], [Var(v=0.0000, grad=0.0000)], [Var(v=0.0000, grad=0.0000)]]\n"
     ]
    }
   ],
   "source": [
    "NN = [\n",
    "    DenseLayer(1, 5, lambda x: x.relu()),\n",
    "    DenseLayer(5, 1, lambda x: x.identity())\n",
    "]\n",
    "\n",
    "def forward(input, network):\n",
    "\n",
    "  def forward_single(x, network):\n",
    "    for layer in network:\n",
    "        x = layer.forward(x)\n",
    "    return x\n",
    "\n",
    "  output = [ forward_single(input[n], network) for n in range(len(input))]\n",
    "  return output\n",
    "\n",
    "print(forward(x_train, NN))\n"
   ]
  },
  {
   "cell_type": "markdown",
   "metadata": {
    "id": "oLrGJytZFtGm"
   },
   "source": [
    "## Exercise h) Print all network parameters\n",
    "\n",
    "Make a function that prints all the parameters of the network (weights and biases) with information about in which layer they appear. In the object oriented spirit you should introduce a method in the DenseLayer class to print the parameters of a layer. Hint: You can take inspiration from the corresponding method in Var. "
   ]
  },
  {
   "cell_type": "code",
   "execution_count": 29,
   "metadata": {
    "id": "iac-VwYGFtGm"
   },
   "outputs": [
    {
     "name": "stdout",
     "output_type": "stream",
     "text": [
      "Layer 0 \n",
      " Weights: [[Var(v=0.1922, grad=0.0000), Var(v=0.0772, grad=0.0000), Var(v=0.0620, grad=0.0000), Var(v=0.0439, grad=0.0000), Var(v=-0.1413, grad=0.0000)]] Biases: [Var(v=0.0000, grad=0.0000), Var(v=0.0000, grad=0.0000), Var(v=0.0000, grad=0.0000), Var(v=0.0000, grad=0.0000), Var(v=0.0000, grad=0.0000)]\n",
      "Layer 1 \n",
      " Weights: [[Var(v=-0.2095, grad=0.0000)], [Var(v=-0.0826, grad=0.0000)], [Var(v=0.0915, grad=0.0000)], [Var(v=0.0304, grad=0.0000)], [Var(v=0.0788, grad=0.0000)]] Biases: [Var(v=0.0000, grad=0.0000)]\n"
     ]
    },
    {
     "data": {
      "text/plain": [
       "[None, None]"
      ]
     },
     "execution_count": 29,
     "metadata": {},
     "output_type": "execute_result"
    }
   ],
   "source": [
    "# Insert code here and in the DenseLayer class\n",
    "[print('Layer', i, '\\n', NN[i]) for i in range(len(NN))] \n",
    "      \n"
   ]
  },
  {
   "cell_type": "markdown",
   "metadata": {
    "id": "_79HOAXrFtHK"
   },
   "source": [
    "## Visualization\n",
    "\n",
    "Now that we have defined our activation functions we can visualize them to see what they look like:"
   ]
  },
  {
   "cell_type": "code",
   "execution_count": 18,
   "metadata": {
    "id": "1FcylHqLTl-Z"
   },
   "outputs": [
    {
     "data": {
      "text/plain": [
       "[<matplotlib.lines.Line2D at 0x16f986e2f70>]"
      ]
     },
     "execution_count": 18,
     "metadata": {},
     "output_type": "execute_result"
    },
    {
     "data": {
      "image/png": "[encoded data removed]",
      "text/plain": [
       "<Figure size 432x288 with 1 Axes>"
      ]
     },
     "metadata": {
      "needs_background": "light"
     },
     "output_type": "display_data"
    }
   ],
   "source": [
    "x = np.linspace(-6, 6, 100)\n",
    "\n",
    "# convert from Var to ndarray  \n",
    "def Var_to_nparray(x):\n",
    "  y = np.zeros((len(x),len(x[0])))\n",
    "  for i in range(len(x)):\n",
    "    for j in range(len(x[0])):\n",
    "      y[i,j] = x[i][j].v\n",
    "  return y\n",
    "\n",
    "# define 1-1 network with weight = 1 and relu activation \n",
    "NN = [ DenseLayer(1, 1, lambda x: x.relu(), initializer = ConstantInitializer(1.0)) ] \n",
    "y = Var_to_nparray(forward(nparray_to_Var(x), NN))\n",
    "\n",
    "#y = Var_to_nparray(relu(nparray_to_Var(x)))\n",
    "plt.plot(x,y)"
   ]
  },
  {
   "cell_type": "code",
   "execution_count": 19,
   "metadata": {
    "id": "oOL2UolJFtHL"
   },
   "outputs": [
    {
     "data": {
      "image/png": "[encoded data removed]",
      "text/plain": [
       "<Figure size 360x360 with 1 Axes>"
      ]
     },
     "metadata": {
      "needs_background": "light"
     },
     "output_type": "display_data"
    }
   ],
   "source": [
    "# Testing all activation layers\n",
    "\n",
    "x = np.linspace(-6, 6, 100)\n",
    "units = {\n",
    "    \"identity\": lambda x: x.identity(),\n",
    "    #\"sigmoid\": lambda x: x.sigmoid(),  <- uncomment before sharing\n",
    "    \"relu\": lambda x: x.relu(),\n",
    "    #\"tanh\": lambda x: x.tanh() <- uncomment before sharing\n",
    "}\n",
    "\n",
    "plt.figure(figsize=(5, 5))\n",
    "[plt.plot(x, Var_to_nparray(forward(nparray_to_Var(x), [DenseLayer(1, 1, unit, initializer = ConstantInitializer(1.0))]) ), label=unit_name, lw=2) for unit_name, unit in units.items()] # unit(nparray_to_Var(x))), label=unit_name, lw=2) for unit_name, unit in units.items()]\n",
    "plt.legend(loc=2, fontsize=16)\n",
    "plt.title('Our activation functions', fontsize=20)\n",
    "plt.ylim([-2, 5])\n",
    "plt.xlim([-6, 6])\n",
    "plt.show()"
   ]
  },
  {
   "cell_type": "markdown",
   "metadata": {
    "id": "b-jdEl-7FtGs"
   },
   "source": [
    "# Advanced initialization schemes\n",
    "\n",
    "If we are not careful with initialization, the signals we propagate forward ($a^{(l)}$, $l=1,\\ldots,L$) and backward ($\\delta^l$, $l=L,L-1,\\ldots,1$) can blow up or shrink to zero. A statistical analysis of the variance of the signals for different activation functions can be found in these two papers: [Glorot initialization](http://proceedings.mlr.press/v9/glorot10a/glorot10a.pdf) and [He initialization](https://arxiv.org/pdf/1502.01852v1.pdf). \n",
    "\n",
    "The result of the analyses are proposals for how to make the initialization such that the variance of the signals (forward and backward) are kept approxmimatly constant when propagating from layer to layer. The exact expressions depend upon the non-linear activation function used. In Glorot initialization, the aim is to keep both the forward and backward variances constant whereas He only aims at keeping the variance in the forward pass constant.\n",
    "\n",
    "We define $n_{in}$ and $n_{out}$ as the number of input units and output units of a particular layer. \n",
    "\n",
    "The Glorot initialization has the form: \n",
    "\n",
    "$$w_{ij} \\sim N \\bigg( 0, \\, \\frac{2 \\alpha }{n_{in} + n_{out}} \\bigg) \\ . $$\n",
    "\n",
    "where $N(\\mu,\\sigma^2)$ is a Gaussian distribution with mean $\\mu$ and variance $\\sigma^2$ and $\\alpha$ is a parameter that depends upon the activation function used. For $\\tanh$, $\\alpha=1$ and for Rectified Linear Unit (ReLU) activations, $\\alpha=2$. (It is also possible to use a uniform distribution for initialization, see [this blog post](https://mmuratarat.github.io/2019-02-25/xavier-glorot-he-weight-init).) \n",
    "\n",
    "The He initialization is very similar\n",
    "\n",
    "$$w_{ij} \\sim N \\bigg( 0, \\, \\frac{\\alpha}{n_{in}} \\bigg) \\ . $$"
   ]
  },
  {
   "cell_type": "markdown",
   "metadata": {
    "id": "mqeyab9qFtGs"
   },
   "source": [
    "## Exercise i) Glorot and He initialization\n",
    " \n",
    "Using the Initializer class, implement functions that implement Glorot and He \n",
    "\n",
    "Explain briefly how you would test numerically that these initializations have the sought after property. Hint: See plots in Glorot paper.\n",
    "\n",
    "Comment: If you want to be more advanced then try to make a universal initializer taking both the activation function and type (Glorot or He) as argument."
   ]
  },
  {
   "cell_type": "code",
   "execution_count": 50,
   "metadata": {
    "id": "Qyk01CgaFtGt"
   },
   "outputs": [],
   "source": [
    "## Glorot\n",
    "def DenseLayer_Glorot_tanh(n_in: int, n_out: int):\n",
    "  std = sqrt(2/n_in+n_out) # <- replace with proper initialization\n",
    "  return DenseLayer(n_in, n_out, lambda x: x.tanh(), initializer = NormalInitializer(std))\n",
    "\n",
    "## He\n",
    "def DenseLayer_He_relu(n_in: int, n_out: int):\n",
    "  std = sqrt(2/n_in) # <- replace with proper initialization\n",
    "  return DenseLayer(n_in, n_out, lambda x: x.relu(), initializer = NormalInitializer(std))"
   ]
  },
  {
   "cell_type": "markdown",
   "metadata": {
    "id": "-XyXBD37FtHk"
   },
   "source": [
    "## Exercise j) Forward pass unit test\n",
    "\n",
    "Write a bit of code to make a unit test that the forward pass works. This can be done by defining a simple network with for example all weights equal to one (using the ConstantInitializer method) and identity activation functions. \n",
    "\n",
    "Hints: Use the [assert](https://www.w3schools.com/python/ref_keyword_assert.asp), the nparray_to_Var and the Var_to_nparray commands. "
   ]
  },
  {
   "cell_type": "code",
   "execution_count": null,
   "metadata": {
    "id": "k0miqRUAFtHl"
   },
   "outputs": [],
   "source": [
    "# Insert code here"
   ]
  },
  {
   "cell_type": "markdown",
   "metadata": {
    "id": "faCxhfFnFtHp"
   },
   "source": [
    "# Loss functions\n",
    "\n",
    "We are only missing a loss function to we need to define a loss function and its derivative with respect to the output of the neural network $y$"
   ]
  },
  {
   "cell_type": "code",
   "execution_count": 23,
   "metadata": {
    "id": "I2eDYKvAFtHq"
   },
   "outputs": [],
   "source": [
    "def squared_loss(t, y):\n",
    "  \n",
    "  # add check that sizes agree\n",
    "  \n",
    "  def squared_loss_single(t, y):\n",
    "    Loss = Var(0.0)\n",
    "    for i in range(len(t)): # sum over outputs\n",
    "      Loss += (t[i]-y[i]) ** 2\n",
    "    return Loss\n",
    "\n",
    "  Loss = Var(0.0)\n",
    "  for n in range(len(t)): # sum over training data\n",
    "    Loss += squared_loss_single(t[n],y[n])\n",
    "  return Loss"
   ]
  },
  {
   "cell_type": "markdown",
   "metadata": {
    "id": "SrwSJ2UWFtHu"
   },
   "source": [
    "## Exercise j) Implement cross entropy loss\n",
    "\n",
    "Insert code below to implement cross-entropy loss for general dimensionality of $t$. Use a logits formulation:\n",
    "$$\n",
    "\\rm{Loss} = - \\sum_i t_i \\, log \\, p_i \n",
    "$$\n",
    "with $p$ given by the the softmax function in terms of the logits $h$:\n",
    "$$\n",
    "p_i = \\frac{\\exp(h_i)}{\\sum_{i'} \\exp(h_{i'})} .\n",
    "$$\n",
    "Inserting $p$ in the expression for the loss gives\n",
    "$$\n",
    "\\rm{Loss} = - \\sum_i t_i h_i + \\rm{LogSumExp}(h) \\ ,\n",
    "$$\n",
    "where \n",
    "$$\n",
    "\\rm{LogSumExp}(h) = \\log \\sum_i \\exp h_i \\ .\n",
    "$$\n",
    "This is true for $t$ being a one-hot vector. \n",
    "\n",
    "Call the function to convince yourself it works. \n",
    "\n",
    "In practice you want to implement a [numerically stable](https://leimao.github.io/blog/LogSumExp/) version of LogSumExp. But we will not bother about that here.\n",
    "\n",
    "Help: You can add these methods in the Var class:\n",
    "\n",
    "    def exp(self):\n",
    "        return Var(exp(self.v), lambda: [(self, exp(self.v))])\n",
    "    \n",
    "    def log(self):\n",
    "        return Var(log(self.v), lambda: [(self, self.v ** -1)])"
   ]
  },
  {
   "cell_type": "code",
   "execution_count": 24,
   "metadata": {
    "id": "6nMuxyfzFtHv"
   },
   "outputs": [],
   "source": [
    "def cross_entropy_loss(t, h):\n",
    "     \n",
    "    Loss = Var(0.0)\n",
    "    # Insert code here\n",
    "    return Loss"
   ]
  },
  {
   "cell_type": "markdown",
   "metadata": {
    "id": "8fAF5ew4FtHy"
   },
   "source": [
    "# Backward pass\n",
    "\n",
    "Now the magic happens! We get the calculation of the gradients for free. Just do:"
   ]
  },
  {
   "cell_type": "code",
   "execution_count": 25,
   "metadata": {
    "id": "iHyfPPI9Qqwu"
   },
   "outputs": [],
   "source": [
    "NN = [\n",
    "    DenseLayer(1, 5, lambda x: x.relu()),\n",
    "    DenseLayer(5, 1, lambda x: x.identity())\n",
    "]\n",
    "\n",
    "output = forward(x_train, NN)\n",
    "\n",
    "Loss = squared_loss(y_train,output)\n",
    "Loss.backward()"
   ]
  },
  {
   "cell_type": "markdown",
   "metadata": {
    "id": "49biIAYKQ1oG"
   },
   "source": [
    "and the gradients will be calculated:"
   ]
  },
  {
   "cell_type": "code",
   "execution_count": 26,
   "metadata": {
    "id": "_rGt1bq_Q7uk"
   },
   "outputs": [
    {
     "name": "stdout",
     "output_type": "stream",
     "text": [
      "Layer 0 \n",
      " Weights: [[Var(v=0.0947, grad=0.0000), Var(v=-0.2507, grad=0.0000), Var(v=-0.1119, grad=0.0000), Var(v=0.0179, grad=0.0000), Var(v=-0.0747, grad=0.0000)]] Biases: [Var(v=0.0000, grad=0.0000), Var(v=0.0000, grad=0.0000), Var(v=0.0000, grad=0.0000), Var(v=0.0000, grad=0.0000), Var(v=0.0000, grad=0.0000)]\n",
      "Layer 1 \n",
      " Weights: [[Var(v=-0.1466, grad=0.0000)], [Var(v=-0.0367, grad=0.0000)], [Var(v=0.2168, grad=0.0000)], [Var(v=-0.0893, grad=0.0000)], [Var(v=-0.0322, grad=0.0000)]] Biases: [Var(v=0.0000, grad=0.0000)]\n"
     ]
    },
    {
     "data": {
      "text/plain": [
       "[None, None]"
      ]
     },
     "execution_count": 26,
     "metadata": {},
     "output_type": "execute_result"
    }
   ],
   "source": [
    "[print('Layer', i, '\\n', NN[i]) for i in range(len(NN))] "
   ]
  },
  {
   "cell_type": "markdown",
   "metadata": {
    "id": "D7d7qK0uFtH9"
   },
   "source": [
    "# Backward pass unit test\n",
    "\n",
    "Above we used finite differences to test that Nanograd is actually doing what it is supposed to do. We can in principle try the same for the neural network. But we will trust that the test above is enough."
   ]
  },
  {
   "cell_type": "markdown",
   "metadata": {
    "id": "WgBi8GOSFtIN"
   },
   "source": [
    "# Training and validation\n",
    "\n",
    "We are ready to train some neural networks!\n",
    "\n",
    "We initialize again:"
   ]
  },
  {
   "cell_type": "code",
   "execution_count": 30,
   "metadata": {
    "id": "01ePmzBzRtdh"
   },
   "outputs": [],
   "source": [
    "NN = [\n",
    "    DenseLayer(1, 15, lambda x: x.relu()),\n",
    "    DenseLayer(15, 50, lambda x: x.relu()),\n",
    "    DenseLayer(50, 1, lambda x: x.identity())\n",
    "]\n",
    "\n",
    "output = forward(x_train, NN)\n",
    "\n",
    "Loss = squared_loss(y_train,output)\n",
    "Loss.backward()"
   ]
  },
  {
   "cell_type": "markdown",
   "metadata": {
    "id": "10iRPiQ1ISHw"
   },
   "source": [
    "and make an update:\n",
    "\n",
    "We introduce a help function parameters to have a handle in all parameters in the network."
   ]
  },
  {
   "cell_type": "code",
   "execution_count": 31,
   "metadata": {
    "id": "dhAI7eyeznia"
   },
   "outputs": [
    {
     "name": "stdout",
     "output_type": "stream",
     "text": [
      "Network before update:\n",
      "Layer 0 \n",
      " Weights: [[Var(v=0.0262, grad=0.0000), Var(v=0.0467, grad=0.0000), Var(v=-0.0064, grad=0.0000), Var(v=-0.0785, grad=0.0000), Var(v=-0.0141, grad=0.0000), Var(v=-0.1341, grad=0.0000), Var(v=0.0714, grad=0.0000), Var(v=-0.1879, grad=0.0000), Var(v=-0.0761, grad=0.0000), Var(v=0.0757, grad=0.0000), Var(v=-0.1493, grad=0.0000), Var(v=0.0084, grad=0.0000), Var(v=0.2500, grad=0.0000), Var(v=0.0600, grad=0.0000), Var(v=0.0567, grad=0.0000)]] Biases: [Var(v=0.0000, grad=0.0000), Var(v=0.0000, grad=0.0000), Var(v=0.0000, grad=0.0000), Var(v=0.0000, grad=0.0000), Var(v=0.0000, grad=0.0000), Var(v=0.0000, grad=0.0000), Var(v=0.0000, grad=0.0000), Var(v=0.0000, grad=0.0000), Var(v=0.0000, grad=0.0000), Var(v=0.0000, grad=0.0000), Var(v=0.0000, grad=0.0000), Var(v=0.0000, grad=0.0000), Var(v=0.0000, grad=0.0000), Var(v=0.0000, grad=0.0000), Var(v=0.0000, grad=0.0000)]\n",
      "Layer 1 \n",
      " Weights: [[Var(v=0.0958, grad=0.0000), Var(v=-0.1757, grad=0.0000), Var(v=-0.0777, grad=0.0000), Var(v=-0.1264, grad=0.0000), Var(v=0.0697, grad=0.0000), Var(v=0.0561, grad=0.0000), Var(v=-0.0201, grad=0.0000), Var(v=-0.0097, grad=0.0000), Var(v=0.0988, grad=0.0000), Var(v=0.0684, grad=0.0000), Var(v=0.0712, grad=0.0000), Var(v=-0.2111, grad=0.0000), Var(v=-0.0489, grad=0.0000), Var(v=-0.0360, grad=0.0000), Var(v=0.0627, grad=0.0000), Var(v=0.1811, grad=0.0000), Var(v=0.0055, grad=0.0000), Var(v=-0.0945, grad=0.0000), Var(v=-0.0113, grad=0.0000), Var(v=-0.1494, grad=0.0000), Var(v=-0.1049, grad=0.0000), Var(v=-0.2283, grad=0.0000), Var(v=0.1096, grad=0.0000), Var(v=-0.2114, grad=0.0000), Var(v=-0.0837, grad=0.0000), Var(v=0.0383, grad=0.0000), Var(v=0.0241, grad=0.0000), Var(v=-0.1216, grad=0.0000), Var(v=-0.0620, grad=0.0000), Var(v=0.1546, grad=0.0000), Var(v=-0.1381, grad=0.0000), Var(v=0.1335, grad=0.0000), Var(v=-0.0599, grad=0.0000), Var(v=0.0288, grad=0.0000), Var(v=0.0534, grad=0.0000), Var(v=-0.0990, grad=0.0000), Var(v=0.0911, grad=0.0000), Var(v=-0.1124, grad=0.0000), Var(v=0.0302, grad=0.0000), Var(v=0.0048, grad=0.0000), Var(v=0.0371, grad=0.0000), Var(v=0.0046, grad=0.0000), Var(v=0.0372, grad=0.0000), Var(v=0.0375, grad=0.0000), Var(v=0.0019, grad=0.0000), Var(v=0.1216, grad=0.0000), Var(v=-0.0320, grad=0.0000), Var(v=-0.1257, grad=0.0000), Var(v=-0.1636, grad=0.0000), Var(v=0.0333, grad=0.0000)], [Var(v=0.0928, grad=0.0000), Var(v=0.0450, grad=0.0000), Var(v=-0.2179, grad=0.0000), Var(v=0.0389, grad=0.0000), Var(v=0.1113, grad=0.0000), Var(v=-0.0066, grad=0.0000), Var(v=0.0630, grad=0.0000), Var(v=0.0258, grad=0.0000), Var(v=-0.0449, grad=0.0000), Var(v=-0.0697, grad=0.0000), Var(v=-0.0685, grad=0.0000), Var(v=0.0208, grad=0.0000), Var(v=0.1085, grad=0.0000), Var(v=0.0297, grad=0.0000), Var(v=0.1481, grad=0.0000), Var(v=-0.0053, grad=0.0000), Var(v=0.1157, grad=0.0000), Var(v=0.0079, grad=0.0000), Var(v=-0.0646, grad=0.0000), Var(v=0.0020, grad=0.0000), Var(v=0.0469, grad=0.0000), Var(v=-0.1633, grad=0.0000), Var(v=0.1790, grad=0.0000), Var(v=0.0133, grad=0.0000), Var(v=-0.1474, grad=0.0000), Var(v=-0.0265, grad=0.0000), Var(v=-0.1486, grad=0.0000), Var(v=0.0127, grad=0.0000), Var(v=0.1152, grad=0.0000), Var(v=0.0173, grad=0.0000), Var(v=-0.0433, grad=0.0000), Var(v=-0.0603, grad=0.0000), Var(v=0.0793, grad=0.0000), Var(v=0.1242, grad=0.0000), Var(v=0.0079, grad=0.0000), Var(v=-0.1331, grad=0.0000), Var(v=-0.0176, grad=0.0000), Var(v=0.2073, grad=0.0000), Var(v=-0.1025, grad=0.0000), Var(v=-0.0077, grad=0.0000), Var(v=0.0662, grad=0.0000), Var(v=0.1535, grad=0.0000), Var(v=0.0145, grad=0.0000), Var(v=0.0679, grad=0.0000), Var(v=-0.1390, grad=0.0000), Var(v=-0.0778, grad=0.0000), Var(v=0.0377, grad=0.0000), Var(v=0.0378, grad=0.0000), Var(v=0.0898, grad=0.0000), Var(v=-0.0604, grad=0.0000)], [Var(v=-0.0691, grad=0.0000), Var(v=-0.2256, grad=0.0000), Var(v=0.0354, grad=0.0000), Var(v=-0.0757, grad=0.0000), Var(v=-0.1173, grad=0.0000), Var(v=0.0311, grad=0.0000), Var(v=-0.0817, grad=0.0000), Var(v=-0.0061, grad=0.0000), Var(v=0.0004, grad=0.0000), Var(v=0.0808, grad=0.0000), Var(v=-0.0961, grad=0.0000), Var(v=0.0217, grad=0.0000), Var(v=0.1425, grad=0.0000), Var(v=-0.1454, grad=0.0000), Var(v=-0.1183, grad=0.0000), Var(v=0.0390, grad=0.0000), Var(v=0.1028, grad=0.0000), Var(v=0.0007, grad=0.0000), Var(v=-0.1319, grad=0.0000), Var(v=0.1592, grad=0.0000), Var(v=0.0141, grad=0.0000), Var(v=0.0317, grad=0.0000), Var(v=-0.0738, grad=0.0000), Var(v=0.0268, grad=0.0000), Var(v=0.1002, grad=0.0000), Var(v=-0.0454, grad=0.0000), Var(v=-0.0553, grad=0.0000), Var(v=-0.1261, grad=0.0000), Var(v=0.0262, grad=0.0000), Var(v=-0.1149, grad=0.0000), Var(v=0.0042, grad=0.0000), Var(v=-0.0455, grad=0.0000), Var(v=-0.2155, grad=0.0000), Var(v=0.1326, grad=0.0000), Var(v=0.0098, grad=0.0000), Var(v=0.0175, grad=0.0000), Var(v=-0.1357, grad=0.0000), Var(v=0.0077, grad=0.0000), Var(v=0.0838, grad=0.0000), Var(v=-0.1161, grad=0.0000), Var(v=-0.0175, grad=0.0000), Var(v=-0.1210, grad=0.0000), Var(v=0.0705, grad=0.0000), Var(v=0.0875, grad=0.0000), Var(v=0.1083, grad=0.0000), Var(v=-0.0585, grad=0.0000), Var(v=0.1497, grad=0.0000), Var(v=-0.0380, grad=0.0000), Var(v=0.1667, grad=0.0000), Var(v=0.0439, grad=0.0000)], [Var(v=-0.0705, grad=0.0000), Var(v=0.1076, grad=0.0000), Var(v=0.0090, grad=0.0000), Var(v=0.0933, grad=0.0000), Var(v=0.0264, grad=0.0000), Var(v=0.1047, grad=0.0000), Var(v=0.0852, grad=0.0000), Var(v=0.0351, grad=0.0000), Var(v=-0.0016, grad=0.0000), Var(v=0.1529, grad=0.0000), Var(v=0.0525, grad=0.0000), Var(v=-0.0975, grad=0.0000), Var(v=-0.0415, grad=0.0000), Var(v=-0.0578, grad=0.0000), Var(v=-0.0433, grad=0.0000), Var(v=-0.0020, grad=0.0000), Var(v=0.1206, grad=0.0000), Var(v=-0.0003, grad=0.0000), Var(v=-0.0446, grad=0.0000), Var(v=-0.2148, grad=0.0000), Var(v=0.0267, grad=0.0000), Var(v=0.1061, grad=0.0000), Var(v=0.0266, grad=0.0000), Var(v=0.0786, grad=0.0000), Var(v=-0.1724, grad=0.0000), Var(v=-0.1608, grad=0.0000), Var(v=0.0494, grad=0.0000), Var(v=-0.0479, grad=0.0000), Var(v=-0.0381, grad=0.0000), Var(v=-0.0264, grad=0.0000), Var(v=0.0292, grad=0.0000), Var(v=-0.2154, grad=0.0000), Var(v=0.0132, grad=0.0000), Var(v=0.1219, grad=0.0000), Var(v=0.0226, grad=0.0000), Var(v=-0.0729, grad=0.0000), Var(v=0.0703, grad=0.0000), Var(v=-0.0225, grad=0.0000), Var(v=-0.0218, grad=0.0000), Var(v=-0.0774, grad=0.0000), Var(v=0.1195, grad=0.0000), Var(v=0.1038, grad=0.0000), Var(v=-0.0412, grad=0.0000), Var(v=-0.0082, grad=0.0000), Var(v=0.0417, grad=0.0000), Var(v=-0.0709, grad=0.0000), Var(v=0.0060, grad=0.0000), Var(v=-0.0553, grad=0.0000), Var(v=0.0200, grad=0.0000), Var(v=0.0211, grad=0.0000)], [Var(v=-0.0520, grad=0.0000), Var(v=-0.1404, grad=0.0000), Var(v=0.0480, grad=0.0000), Var(v=-0.1845, grad=0.0000), Var(v=0.0589, grad=0.0000), Var(v=-0.0530, grad=0.0000), Var(v=-0.0041, grad=0.0000), Var(v=0.0083, grad=0.0000), Var(v=-0.0150, grad=0.0000), Var(v=-0.0491, grad=0.0000), Var(v=0.1347, grad=0.0000), Var(v=-0.0475, grad=0.0000), Var(v=0.0744, grad=0.0000), Var(v=0.1985, grad=0.0000), Var(v=0.1736, grad=0.0000), Var(v=0.0555, grad=0.0000), Var(v=0.0756, grad=0.0000), Var(v=-0.1431, grad=0.0000), Var(v=0.0572, grad=0.0000), Var(v=-0.0068, grad=0.0000), Var(v=0.0848, grad=0.0000), Var(v=0.0437, grad=0.0000), Var(v=0.0194, grad=0.0000), Var(v=0.0525, grad=0.0000), Var(v=-0.0295, grad=0.0000), Var(v=-0.1381, grad=0.0000), Var(v=-0.0098, grad=0.0000), Var(v=-0.0299, grad=0.0000), Var(v=-0.1061, grad=0.0000), Var(v=-0.0988, grad=0.0000), Var(v=-0.0597, grad=0.0000), Var(v=0.1287, grad=0.0000), Var(v=0.1162, grad=0.0000), Var(v=0.1105, grad=0.0000), Var(v=0.1783, grad=0.0000), Var(v=0.0267, grad=0.0000), Var(v=0.0459, grad=0.0000), Var(v=-0.0244, grad=0.0000), Var(v=0.0263, grad=0.0000), Var(v=-0.1805, grad=0.0000), Var(v=-0.0762, grad=0.0000), Var(v=0.1147, grad=0.0000), Var(v=-0.0283, grad=0.0000), Var(v=-0.2016, grad=0.0000), Var(v=0.0632, grad=0.0000), Var(v=0.1268, grad=0.0000), Var(v=-0.0642, grad=0.0000), Var(v=0.0718, grad=0.0000), Var(v=0.0182, grad=0.0000), Var(v=0.0158, grad=0.0000)], [Var(v=-0.0980, grad=0.0000), Var(v=0.2393, grad=0.0000), Var(v=-0.0376, grad=0.0000), Var(v=0.0504, grad=0.0000), Var(v=-0.2026, grad=0.0000), Var(v=0.1441, grad=0.0000), Var(v=-0.0539, grad=0.0000), Var(v=0.1183, grad=0.0000), Var(v=0.0041, grad=0.0000), Var(v=-0.0283, grad=0.0000), Var(v=-0.0683, grad=0.0000), Var(v=0.0227, grad=0.0000), Var(v=-0.0601, grad=0.0000), Var(v=0.0853, grad=0.0000), Var(v=-0.0053, grad=0.0000), Var(v=-0.0306, grad=0.0000), Var(v=-0.1458, grad=0.0000), Var(v=-0.0360, grad=0.0000), Var(v=-0.0853, grad=0.0000), Var(v=-0.0603, grad=0.0000), Var(v=0.0623, grad=0.0000), Var(v=-0.0806, grad=0.0000), Var(v=-0.1422, grad=0.0000), Var(v=-0.1307, grad=0.0000), Var(v=-0.1552, grad=0.0000), Var(v=-0.0904, grad=0.0000), Var(v=-0.0597, grad=0.0000), Var(v=-0.1896, grad=0.0000), Var(v=0.0715, grad=0.0000), Var(v=0.1101, grad=0.0000), Var(v=0.0361, grad=0.0000), Var(v=-0.1109, grad=0.0000), Var(v=-0.0306, grad=0.0000), Var(v=0.0846, grad=0.0000), Var(v=0.0117, grad=0.0000), Var(v=-0.1056, grad=0.0000), Var(v=-0.0437, grad=0.0000), Var(v=-0.0173, grad=0.0000), Var(v=0.0642, grad=0.0000), Var(v=-0.0385, grad=0.0000), Var(v=0.1043, grad=0.0000), Var(v=-0.1284, grad=0.0000), Var(v=0.1843, grad=0.0000), Var(v=0.1769, grad=0.0000), Var(v=0.1634, grad=0.0000), Var(v=0.1078, grad=0.0000), Var(v=0.1239, grad=0.0000), Var(v=-0.1447, grad=0.0000), Var(v=-0.0350, grad=0.0000), Var(v=-0.0107, grad=0.0000)], [Var(v=-0.0795, grad=0.0000), Var(v=-0.2219, grad=0.0000), Var(v=0.1430, grad=0.0000), Var(v=-0.0663, grad=0.0000), Var(v=0.2075, grad=0.0000), Var(v=-0.0064, grad=0.0000), Var(v=-0.0415, grad=0.0000), Var(v=0.0205, grad=0.0000), Var(v=-0.0158, grad=0.0000), Var(v=-0.0910, grad=0.0000), Var(v=-0.1394, grad=0.0000), Var(v=0.1515, grad=0.0000), Var(v=-0.1110, grad=0.0000), Var(v=0.1206, grad=0.0000), Var(v=-0.0600, grad=0.0000), Var(v=0.0870, grad=0.0000), Var(v=-0.1673, grad=0.0000), Var(v=-0.1159, grad=0.0000), Var(v=0.1671, grad=0.0000), Var(v=-0.0764, grad=0.0000), Var(v=0.1763, grad=0.0000), Var(v=0.0856, grad=0.0000), Var(v=0.0587, grad=0.0000), Var(v=0.0572, grad=0.0000), Var(v=0.1165, grad=0.0000), Var(v=0.0509, grad=0.0000), Var(v=0.0474, grad=0.0000), Var(v=-0.0012, grad=0.0000), Var(v=0.0915, grad=0.0000), Var(v=-0.0015, grad=0.0000), Var(v=-0.1006, grad=0.0000), Var(v=-0.1111, grad=0.0000), Var(v=-0.1479, grad=0.0000), Var(v=-0.1197, grad=0.0000), Var(v=0.0436, grad=0.0000), Var(v=-0.0062, grad=0.0000), Var(v=0.0389, grad=0.0000), Var(v=-0.1168, grad=0.0000), Var(v=0.1300, grad=0.0000), Var(v=0.0299, grad=0.0000), Var(v=0.0913, grad=0.0000), Var(v=0.1020, grad=0.0000), Var(v=0.0024, grad=0.0000), Var(v=-0.1494, grad=0.0000), Var(v=0.0071, grad=0.0000), Var(v=-0.0044, grad=0.0000), Var(v=0.0427, grad=0.0000), Var(v=0.0523, grad=0.0000), Var(v=-0.0360, grad=0.0000), Var(v=0.0925, grad=0.0000)], [Var(v=0.0360, grad=0.0000), Var(v=-0.0872, grad=0.0000), Var(v=0.0844, grad=0.0000), Var(v=-0.0483, grad=0.0000), Var(v=0.2329, grad=0.0000), Var(v=0.1712, grad=0.0000), Var(v=0.0573, grad=0.0000), Var(v=-0.0471, grad=0.0000), Var(v=0.1333, grad=0.0000), Var(v=-0.2557, grad=0.0000), Var(v=-0.0678, grad=0.0000), Var(v=0.1786, grad=0.0000), Var(v=-0.0824, grad=0.0000), Var(v=-0.0995, grad=0.0000), Var(v=-0.0103, grad=0.0000), Var(v=-0.0275, grad=0.0000), Var(v=-0.0375, grad=0.0000), Var(v=0.1337, grad=0.0000), Var(v=-0.0535, grad=0.0000), Var(v=0.0802, grad=0.0000), Var(v=-0.1159, grad=0.0000), Var(v=-0.0804, grad=0.0000), Var(v=-0.0580, grad=0.0000), Var(v=-0.1448, grad=0.0000), Var(v=0.0110, grad=0.0000), Var(v=0.1639, grad=0.0000), Var(v=-0.0498, grad=0.0000), Var(v=0.1139, grad=0.0000), Var(v=-0.0194, grad=0.0000), Var(v=-0.0358, grad=0.0000), Var(v=0.0035, grad=0.0000), Var(v=0.0584, grad=0.0000), Var(v=0.0052, grad=0.0000), Var(v=-0.2370, grad=0.0000), Var(v=0.2296, grad=0.0000), Var(v=0.0426, grad=0.0000), Var(v=-0.1402, grad=0.0000), Var(v=-0.1375, grad=0.0000), Var(v=0.0823, grad=0.0000), Var(v=-0.0594, grad=0.0000), Var(v=-0.1271, grad=0.0000), Var(v=-0.0090, grad=0.0000), Var(v=0.0291, grad=0.0000), Var(v=0.0410, grad=0.0000), Var(v=-0.0237, grad=0.0000), Var(v=-0.1335, grad=0.0000), Var(v=0.1442, grad=0.0000), Var(v=0.0152, grad=0.0000), Var(v=-0.0495, grad=0.0000), Var(v=0.0113, grad=0.0000)], [Var(v=-0.0230, grad=0.0000), Var(v=-0.0974, grad=0.0000), Var(v=0.0363, grad=0.0000), Var(v=-0.0911, grad=0.0000), Var(v=-0.0147, grad=0.0000), Var(v=0.0216, grad=0.0000), Var(v=-0.0704, grad=0.0000), Var(v=-0.1212, grad=0.0000), Var(v=-0.0641, grad=0.0000), Var(v=-0.1011, grad=0.0000), Var(v=-0.2170, grad=0.0000), Var(v=-0.0477, grad=0.0000), Var(v=-0.0769, grad=0.0000), Var(v=-0.1381, grad=0.0000), Var(v=0.0459, grad=0.0000), Var(v=-0.1407, grad=0.0000), Var(v=0.0625, grad=0.0000), Var(v=0.0976, grad=0.0000), Var(v=0.1410, grad=0.0000), Var(v=0.0494, grad=0.0000), Var(v=-0.0647, grad=0.0000), Var(v=0.0599, grad=0.0000), Var(v=-0.1083, grad=0.0000), Var(v=0.0549, grad=0.0000), Var(v=0.1428, grad=0.0000), Var(v=-0.0594, grad=0.0000), Var(v=-0.0057, grad=0.0000), Var(v=0.1400, grad=0.0000), Var(v=-0.0099, grad=0.0000), Var(v=0.0514, grad=0.0000), Var(v=-0.1530, grad=0.0000), Var(v=0.1448, grad=0.0000), Var(v=0.0045, grad=0.0000), Var(v=0.1521, grad=0.0000), Var(v=-0.0457, grad=0.0000), Var(v=0.0924, grad=0.0000), Var(v=0.0095, grad=0.0000), Var(v=-0.0012, grad=0.0000), Var(v=0.2218, grad=0.0000), Var(v=0.0399, grad=0.0000), Var(v=0.0732, grad=0.0000), Var(v=-0.1548, grad=0.0000), Var(v=-0.0953, grad=0.0000), Var(v=-0.1056, grad=0.0000), Var(v=-0.0484, grad=0.0000), Var(v=-0.1120, grad=0.0000), Var(v=-0.0173, grad=0.0000), Var(v=0.0895, grad=0.0000), Var(v=0.0286, grad=0.0000), Var(v=0.0044, grad=0.0000)], [Var(v=-0.0185, grad=0.0000), Var(v=0.0904, grad=0.0000), Var(v=0.1375, grad=0.0000), Var(v=-0.0327, grad=0.0000), Var(v=0.0297, grad=0.0000), Var(v=0.0270, grad=0.0000), Var(v=0.2811, grad=0.0000), Var(v=0.1674, grad=0.0000), Var(v=0.0065, grad=0.0000), Var(v=-0.0045, grad=0.0000), Var(v=-0.0988, grad=0.0000), Var(v=-0.3583, grad=0.0000), Var(v=0.0038, grad=0.0000), Var(v=0.0126, grad=0.0000), Var(v=-0.1645, grad=0.0000), Var(v=0.0446, grad=0.0000), Var(v=-0.0258, grad=0.0000), Var(v=-0.1593, grad=0.0000), Var(v=-0.1192, grad=0.0000), Var(v=-0.0009, grad=0.0000), Var(v=-0.0923, grad=0.0000), Var(v=0.2304, grad=0.0000), Var(v=0.1234, grad=0.0000), Var(v=0.0919, grad=0.0000), Var(v=0.0956, grad=0.0000), Var(v=-0.1140, grad=0.0000), Var(v=-0.1327, grad=0.0000), Var(v=-0.1356, grad=0.0000), Var(v=-0.0018, grad=0.0000), Var(v=0.1747, grad=0.0000), Var(v=0.1498, grad=0.0000), Var(v=-0.0247, grad=0.0000), Var(v=0.0976, grad=0.0000), Var(v=0.2138, grad=0.0000), Var(v=-0.0298, grad=0.0000), Var(v=0.0858, grad=0.0000), Var(v=-0.0518, grad=0.0000), Var(v=-0.0629, grad=0.0000), Var(v=-0.0960, grad=0.0000), Var(v=-0.0173, grad=0.0000), Var(v=0.0789, grad=0.0000), Var(v=-0.0126, grad=0.0000), Var(v=-0.0424, grad=0.0000), Var(v=-0.0332, grad=0.0000), Var(v=0.0017, grad=0.0000), Var(v=0.0388, grad=0.0000), Var(v=-0.1861, grad=0.0000), Var(v=0.0564, grad=0.0000), Var(v=-0.1230, grad=0.0000), Var(v=-0.0993, grad=0.0000)], [Var(v=-0.0680, grad=0.0000), Var(v=0.0613, grad=0.0000), Var(v=0.0589, grad=0.0000), Var(v=0.2238, grad=0.0000), Var(v=-0.0179, grad=0.0000), Var(v=-0.0599, grad=0.0000), Var(v=-0.0493, grad=0.0000), Var(v=0.0222, grad=0.0000), Var(v=-0.0795, grad=0.0000), Var(v=0.0636, grad=0.0000), Var(v=-0.0619, grad=0.0000), Var(v=-0.0031, grad=0.0000), Var(v=0.0873, grad=0.0000), Var(v=0.1240, grad=0.0000), Var(v=-0.0777, grad=0.0000), Var(v=0.0177, grad=0.0000), Var(v=0.0226, grad=0.0000), Var(v=-0.1396, grad=0.0000), Var(v=0.1780, grad=0.0000), Var(v=0.0495, grad=0.0000), Var(v=-0.0366, grad=0.0000), Var(v=0.0979, grad=0.0000), Var(v=0.0299, grad=0.0000), Var(v=0.0489, grad=0.0000), Var(v=-0.0806, grad=0.0000), Var(v=-0.1319, grad=0.0000), Var(v=0.1019, grad=0.0000), Var(v=0.0998, grad=0.0000), Var(v=0.0368, grad=0.0000), Var(v=0.1133, grad=0.0000), Var(v=0.0127, grad=0.0000), Var(v=0.1236, grad=0.0000), Var(v=-0.0862, grad=0.0000), Var(v=-0.0992, grad=0.0000), Var(v=0.1581, grad=0.0000), Var(v=-0.0984, grad=0.0000), Var(v=0.0457, grad=0.0000), Var(v=0.2303, grad=0.0000), Var(v=-0.0273, grad=0.0000), Var(v=0.0196, grad=0.0000), Var(v=0.0721, grad=0.0000), Var(v=-0.0724, grad=0.0000), Var(v=0.0981, grad=0.0000), Var(v=0.0664, grad=0.0000), Var(v=0.0816, grad=0.0000), Var(v=-0.0720, grad=0.0000), Var(v=-0.0270, grad=0.0000), Var(v=0.0303, grad=0.0000), Var(v=0.0388, grad=0.0000), Var(v=-0.1155, grad=0.0000)], [Var(v=0.1001, grad=0.0000), Var(v=-0.0586, grad=0.0000), Var(v=-0.0263, grad=0.0000), Var(v=0.0554, grad=0.0000), Var(v=-0.0463, grad=0.0000), Var(v=0.1039, grad=0.0000), Var(v=-0.0805, grad=0.0000), Var(v=-0.0836, grad=0.0000), Var(v=0.0150, grad=0.0000), Var(v=0.0194, grad=0.0000), Var(v=-0.0841, grad=0.0000), Var(v=0.2141, grad=0.0000), Var(v=-0.0417, grad=0.0000), Var(v=0.1512, grad=0.0000), Var(v=0.1732, grad=0.0000), Var(v=0.1146, grad=0.0000), Var(v=0.0235, grad=0.0000), Var(v=-0.0735, grad=0.0000), Var(v=-0.0125, grad=0.0000), Var(v=-0.1590, grad=0.0000), Var(v=-0.0597, grad=0.0000), Var(v=-0.0559, grad=0.0000), Var(v=0.0912, grad=0.0000), Var(v=0.1122, grad=0.0000), Var(v=-0.0250, grad=0.0000), Var(v=-0.0161, grad=0.0000), Var(v=0.1177, grad=0.0000), Var(v=0.1163, grad=0.0000), Var(v=0.1896, grad=0.0000), Var(v=-0.0351, grad=0.0000), Var(v=0.0085, grad=0.0000), Var(v=0.1746, grad=0.0000), Var(v=-0.0271, grad=0.0000), Var(v=-0.0848, grad=0.0000), Var(v=-0.0202, grad=0.0000), Var(v=-0.0666, grad=0.0000), Var(v=0.0525, grad=0.0000), Var(v=-0.0695, grad=0.0000), Var(v=0.1094, grad=0.0000), Var(v=0.0287, grad=0.0000), Var(v=-0.0192, grad=0.0000), Var(v=-0.0388, grad=0.0000), Var(v=-0.0459, grad=0.0000), Var(v=0.0071, grad=0.0000), Var(v=0.0091, grad=0.0000), Var(v=0.0014, grad=0.0000), Var(v=0.0843, grad=0.0000), Var(v=-0.2273, grad=0.0000), Var(v=0.0313, grad=0.0000), Var(v=0.0226, grad=0.0000)], [Var(v=-0.1682, grad=0.0000), Var(v=-0.1121, grad=0.0000), Var(v=-0.0142, grad=0.0000), Var(v=-0.0005, grad=0.0000), Var(v=-0.1236, grad=0.0000), Var(v=-0.1059, grad=0.0000), Var(v=-0.0699, grad=0.0000), Var(v=-0.1441, grad=0.0000), Var(v=0.0391, grad=0.0000), Var(v=-0.1460, grad=0.0000), Var(v=0.0377, grad=0.0000), Var(v=0.0293, grad=0.0000), Var(v=0.1150, grad=0.0000), Var(v=0.0328, grad=0.0000), Var(v=-0.1097, grad=0.0000), Var(v=-0.0012, grad=0.0000), Var(v=-0.1222, grad=0.0000), Var(v=-0.0782, grad=0.0000), Var(v=0.0535, grad=0.0000), Var(v=-0.0098, grad=0.0000), Var(v=0.0153, grad=0.0000), Var(v=0.0509, grad=0.0000), Var(v=-0.1471, grad=0.0000), Var(v=-0.0561, grad=0.0000), Var(v=0.1645, grad=0.0000), Var(v=0.0443, grad=0.0000), Var(v=0.1114, grad=0.0000), Var(v=-0.1016, grad=0.0000), Var(v=-0.0728, grad=0.0000), Var(v=0.0800, grad=0.0000), Var(v=0.0817, grad=0.0000), Var(v=0.0600, grad=0.0000), Var(v=-0.0198, grad=0.0000), Var(v=0.0451, grad=0.0000), Var(v=-0.0342, grad=0.0000), Var(v=-0.1045, grad=0.0000), Var(v=-0.0027, grad=0.0000), Var(v=0.0809, grad=0.0000), Var(v=0.0238, grad=0.0000), Var(v=0.0925, grad=0.0000), Var(v=0.0710, grad=0.0000), Var(v=0.0058, grad=0.0000), Var(v=0.0723, grad=0.0000), Var(v=0.0275, grad=0.0000), Var(v=-0.0573, grad=0.0000), Var(v=0.1107, grad=0.0000), Var(v=-0.0611, grad=0.0000), Var(v=0.0160, grad=0.0000), Var(v=0.1622, grad=0.0000), Var(v=-0.0427, grad=0.0000)], [Var(v=0.0430, grad=0.0000), Var(v=-0.0656, grad=0.0000), Var(v=0.0600, grad=0.0000), Var(v=-0.1209, grad=0.0000), Var(v=0.0129, grad=0.0000), Var(v=-0.0592, grad=0.0000), Var(v=0.0400, grad=0.0000), Var(v=-0.0171, grad=0.0000), Var(v=-0.1256, grad=0.0000), Var(v=-0.0797, grad=0.0000), Var(v=0.0057, grad=0.0000), Var(v=0.0897, grad=0.0000), Var(v=-0.0859, grad=0.0000), Var(v=0.1830, grad=0.0000), Var(v=-0.1157, grad=0.0000), Var(v=0.1066, grad=0.0000), Var(v=-0.0889, grad=0.0000), Var(v=0.0805, grad=0.0000), Var(v=-0.0596, grad=0.0000), Var(v=0.0495, grad=0.0000), Var(v=-0.1089, grad=0.0000), Var(v=0.0261, grad=0.0000), Var(v=-0.1168, grad=0.0000), Var(v=0.0589, grad=0.0000), Var(v=-0.0218, grad=0.0000), Var(v=0.0482, grad=0.0000), Var(v=-0.1228, grad=0.0000), Var(v=-0.0760, grad=0.0000), Var(v=0.0733, grad=0.0000), Var(v=-0.0073, grad=0.0000), Var(v=0.0767, grad=0.0000), Var(v=-0.0488, grad=0.0000), Var(v=0.0216, grad=0.0000), Var(v=-0.1021, grad=0.0000), Var(v=-0.1707, grad=0.0000), Var(v=0.1442, grad=0.0000), Var(v=-0.1705, grad=0.0000), Var(v=-0.0926, grad=0.0000), Var(v=0.1652, grad=0.0000), Var(v=-0.1452, grad=0.0000), Var(v=0.0562, grad=0.0000), Var(v=0.0124, grad=0.0000), Var(v=-0.0935, grad=0.0000), Var(v=0.0673, grad=0.0000), Var(v=-0.0336, grad=0.0000), Var(v=-0.0298, grad=0.0000), Var(v=0.0311, grad=0.0000), Var(v=0.0384, grad=0.0000), Var(v=-0.0260, grad=0.0000), Var(v=-0.0669, grad=0.0000)], [Var(v=0.2684, grad=0.0000), Var(v=0.1023, grad=0.0000), Var(v=0.0080, grad=0.0000), Var(v=-0.1075, grad=0.0000), Var(v=0.1242, grad=0.0000), Var(v=-0.0436, grad=0.0000), Var(v=-0.0564, grad=0.0000), Var(v=-0.1048, grad=0.0000), Var(v=0.2006, grad=0.0000), Var(v=-0.1082, grad=0.0000), Var(v=-0.0278, grad=0.0000), Var(v=0.1813, grad=0.0000), Var(v=-0.0246, grad=0.0000), Var(v=0.0153, grad=0.0000), Var(v=0.2094, grad=0.0000), Var(v=0.0068, grad=0.0000), Var(v=0.0519, grad=0.0000), Var(v=0.0068, grad=0.0000), Var(v=0.1407, grad=0.0000), Var(v=-0.2884, grad=0.0000), Var(v=0.2353, grad=0.0000), Var(v=0.0601, grad=0.0000), Var(v=0.1291, grad=0.0000), Var(v=-0.0513, grad=0.0000), Var(v=-0.1170, grad=0.0000), Var(v=0.0141, grad=0.0000), Var(v=0.0304, grad=0.0000), Var(v=0.0139, grad=0.0000), Var(v=-0.0886, grad=0.0000), Var(v=0.0091, grad=0.0000), Var(v=0.0241, grad=0.0000), Var(v=-0.0375, grad=0.0000), Var(v=-0.0049, grad=0.0000), Var(v=-0.0360, grad=0.0000), Var(v=-0.0639, grad=0.0000), Var(v=0.2345, grad=0.0000), Var(v=0.0406, grad=0.0000), Var(v=-0.0911, grad=0.0000), Var(v=-0.0315, grad=0.0000), Var(v=0.0355, grad=0.0000), Var(v=0.0027, grad=0.0000), Var(v=0.0334, grad=0.0000), Var(v=-0.0117, grad=0.0000), Var(v=-0.1197, grad=0.0000), Var(v=0.1534, grad=0.0000), Var(v=-0.0844, grad=0.0000), Var(v=0.1814, grad=0.0000), Var(v=-0.0674, grad=0.0000), Var(v=-0.0882, grad=0.0000), Var(v=0.0766, grad=0.0000)]] Biases: [Var(v=0.0000, grad=0.0000), Var(v=0.0000, grad=0.0000), Var(v=0.0000, grad=0.0000), Var(v=0.0000, grad=0.0000), Var(v=0.0000, grad=0.0000), Var(v=0.0000, grad=0.0000), Var(v=0.0000, grad=0.0000), Var(v=0.0000, grad=0.0000), Var(v=0.0000, grad=0.0000), Var(v=0.0000, grad=0.0000), Var(v=0.0000, grad=0.0000), Var(v=0.0000, grad=0.0000), Var(v=0.0000, grad=0.0000), Var(v=0.0000, grad=0.0000), Var(v=0.0000, grad=0.0000), Var(v=0.0000, grad=0.0000), Var(v=0.0000, grad=0.0000), Var(v=0.0000, grad=0.0000), Var(v=0.0000, grad=0.0000), Var(v=0.0000, grad=0.0000), Var(v=0.0000, grad=0.0000), Var(v=0.0000, grad=0.0000), Var(v=0.0000, grad=0.0000), Var(v=0.0000, grad=0.0000), Var(v=0.0000, grad=0.0000), Var(v=0.0000, grad=0.0000), Var(v=0.0000, grad=0.0000), Var(v=0.0000, grad=0.0000), Var(v=0.0000, grad=0.0000), Var(v=0.0000, grad=0.0000), Var(v=0.0000, grad=0.0000), Var(v=0.0000, grad=0.0000), Var(v=0.0000, grad=0.0000), Var(v=0.0000, grad=0.0000), Var(v=0.0000, grad=0.0000), Var(v=0.0000, grad=0.0000), Var(v=0.0000, grad=0.0000), Var(v=0.0000, grad=0.0000), Var(v=0.0000, grad=0.0000), Var(v=0.0000, grad=0.0000), Var(v=0.0000, grad=0.0000), Var(v=0.0000, grad=0.0000), Var(v=0.0000, grad=0.0000), Var(v=0.0000, grad=0.0000), Var(v=0.0000, grad=0.0000), Var(v=0.0000, grad=0.0000), Var(v=0.0000, grad=0.0000), Var(v=0.0000, grad=0.0000), Var(v=0.0000, grad=0.0000), Var(v=0.0000, grad=0.0000)]\n",
      "Layer 2 \n",
      " Weights: [[Var(v=0.1259, grad=0.0000)], [Var(v=0.1001, grad=0.0000)], [Var(v=0.0469, grad=0.0000)], [Var(v=0.0235, grad=0.0000)], [Var(v=-0.1436, grad=0.0000)], [Var(v=-0.0939, grad=0.0000)], [Var(v=-0.0325, grad=0.0000)], [Var(v=0.0222, grad=0.0000)], [Var(v=-0.0984, grad=0.0000)], [Var(v=0.0655, grad=0.0000)], [Var(v=0.0555, grad=0.0000)], [Var(v=0.0674, grad=0.0000)], [Var(v=-0.0067, grad=0.0000)], [Var(v=-0.0809, grad=0.0000)], [Var(v=0.0027, grad=0.0000)], [Var(v=-0.1017, grad=0.0000)], [Var(v=0.1347, grad=0.0000)], [Var(v=0.1161, grad=0.0000)], [Var(v=-0.0783, grad=0.0000)], [Var(v=-0.0714, grad=0.0000)], [Var(v=0.0044, grad=0.0000)], [Var(v=0.0474, grad=0.0000)], [Var(v=0.0914, grad=0.0000)], [Var(v=-0.0201, grad=0.0000)], [Var(v=-0.0661, grad=0.0000)], [Var(v=0.0872, grad=0.0000)], [Var(v=-0.0453, grad=0.0000)], [Var(v=0.0057, grad=0.0000)], [Var(v=0.1406, grad=0.0000)], [Var(v=-0.0051, grad=0.0000)], [Var(v=-0.1653, grad=0.0000)], [Var(v=0.1622, grad=0.0000)], [Var(v=-0.0684, grad=0.0000)], [Var(v=0.0205, grad=0.0000)], [Var(v=0.0438, grad=0.0000)], [Var(v=-0.1548, grad=0.0000)], [Var(v=-0.1727, grad=0.0000)], [Var(v=0.0205, grad=0.0000)], [Var(v=-0.0046, grad=0.0000)], [Var(v=-0.0635, grad=0.0000)], [Var(v=0.0127, grad=0.0000)], [Var(v=-0.1018, grad=0.0000)], [Var(v=0.0273, grad=0.0000)], [Var(v=-0.0590, grad=0.0000)], [Var(v=-0.1019, grad=0.0000)], [Var(v=0.0644, grad=0.0000)], [Var(v=-0.0768, grad=0.0000)], [Var(v=-0.0693, grad=0.0000)], [Var(v=-0.2110, grad=0.0000)], [Var(v=-0.0403, grad=0.0000)]] Biases: [Var(v=0.0000, grad=0.0000)]\n",
      "\n",
      "Network after update:\n",
      "Layer 0 \n",
      " Weights: [[Var(v=0.0262, grad=0.0000), Var(v=0.0467, grad=0.0000), Var(v=-0.0064, grad=0.0000), Var(v=-0.0785, grad=0.0000), Var(v=-0.0141, grad=0.0000), Var(v=-0.1341, grad=0.0000), Var(v=0.0714, grad=0.0000), Var(v=-0.1879, grad=0.0000), Var(v=-0.0761, grad=0.0000), Var(v=0.0757, grad=0.0000), Var(v=-0.1493, grad=0.0000), Var(v=0.0084, grad=0.0000), Var(v=0.2500, grad=0.0000), Var(v=0.0600, grad=0.0000), Var(v=0.0567, grad=0.0000)]] Biases: [Var(v=0.0000, grad=0.0000), Var(v=0.0000, grad=0.0000), Var(v=0.0000, grad=0.0000), Var(v=0.0000, grad=0.0000), Var(v=0.0000, grad=0.0000), Var(v=0.0000, grad=0.0000), Var(v=0.0000, grad=0.0000), Var(v=0.0000, grad=0.0000), Var(v=0.0000, grad=0.0000), Var(v=0.0000, grad=0.0000), Var(v=0.0000, grad=0.0000), Var(v=0.0000, grad=0.0000), Var(v=0.0000, grad=0.0000), Var(v=0.0000, grad=0.0000), Var(v=0.0000, grad=0.0000)]\n",
      "Layer 1 \n",
      " Weights: [[Var(v=0.0958, grad=0.0000), Var(v=-0.1757, grad=0.0000), Var(v=-0.0777, grad=0.0000), Var(v=-0.1264, grad=0.0000), Var(v=0.0697, grad=0.0000), Var(v=0.0561, grad=0.0000), Var(v=-0.0201, grad=0.0000), Var(v=-0.0097, grad=0.0000), Var(v=0.0988, grad=0.0000), Var(v=0.0684, grad=0.0000), Var(v=0.0712, grad=0.0000), Var(v=-0.2111, grad=0.0000), Var(v=-0.0489, grad=0.0000), Var(v=-0.0360, grad=0.0000), Var(v=0.0627, grad=0.0000), Var(v=0.1811, grad=0.0000), Var(v=0.0055, grad=0.0000), Var(v=-0.0945, grad=0.0000), Var(v=-0.0113, grad=0.0000), Var(v=-0.1494, grad=0.0000), Var(v=-0.1049, grad=0.0000), Var(v=-0.2283, grad=0.0000), Var(v=0.1096, grad=0.0000), Var(v=-0.2114, grad=0.0000), Var(v=-0.0837, grad=0.0000), Var(v=0.0383, grad=0.0000), Var(v=0.0241, grad=0.0000), Var(v=-0.1216, grad=0.0000), Var(v=-0.0620, grad=0.0000), Var(v=0.1546, grad=0.0000), Var(v=-0.1381, grad=0.0000), Var(v=0.1335, grad=0.0000), Var(v=-0.0599, grad=0.0000), Var(v=0.0288, grad=0.0000), Var(v=0.0534, grad=0.0000), Var(v=-0.0990, grad=0.0000), Var(v=0.0911, grad=0.0000), Var(v=-0.1124, grad=0.0000), Var(v=0.0302, grad=0.0000), Var(v=0.0048, grad=0.0000), Var(v=0.0371, grad=0.0000), Var(v=0.0046, grad=0.0000), Var(v=0.0372, grad=0.0000), Var(v=0.0375, grad=0.0000), Var(v=0.0019, grad=0.0000), Var(v=0.1216, grad=0.0000), Var(v=-0.0320, grad=0.0000), Var(v=-0.1257, grad=0.0000), Var(v=-0.1636, grad=0.0000), Var(v=0.0333, grad=0.0000)], [Var(v=0.0928, grad=0.0000), Var(v=0.0450, grad=0.0000), Var(v=-0.2179, grad=0.0000), Var(v=0.0389, grad=0.0000), Var(v=0.1113, grad=0.0000), Var(v=-0.0066, grad=0.0000), Var(v=0.0630, grad=0.0000), Var(v=0.0258, grad=0.0000), Var(v=-0.0449, grad=0.0000), Var(v=-0.0697, grad=0.0000), Var(v=-0.0685, grad=0.0000), Var(v=0.0208, grad=0.0000), Var(v=0.1085, grad=0.0000), Var(v=0.0297, grad=0.0000), Var(v=0.1481, grad=0.0000), Var(v=-0.0053, grad=0.0000), Var(v=0.1157, grad=0.0000), Var(v=0.0079, grad=0.0000), Var(v=-0.0646, grad=0.0000), Var(v=0.0020, grad=0.0000), Var(v=0.0469, grad=0.0000), Var(v=-0.1633, grad=0.0000), Var(v=0.1790, grad=0.0000), Var(v=0.0133, grad=0.0000), Var(v=-0.1474, grad=0.0000), Var(v=-0.0265, grad=0.0000), Var(v=-0.1486, grad=0.0000), Var(v=0.0127, grad=0.0000), Var(v=0.1152, grad=0.0000), Var(v=0.0173, grad=0.0000), Var(v=-0.0433, grad=0.0000), Var(v=-0.0603, grad=0.0000), Var(v=0.0793, grad=0.0000), Var(v=0.1242, grad=0.0000), Var(v=0.0079, grad=0.0000), Var(v=-0.1331, grad=0.0000), Var(v=-0.0176, grad=0.0000), Var(v=0.2073, grad=0.0000), Var(v=-0.1025, grad=0.0000), Var(v=-0.0077, grad=0.0000), Var(v=0.0662, grad=0.0000), Var(v=0.1535, grad=0.0000), Var(v=0.0145, grad=0.0000), Var(v=0.0679, grad=0.0000), Var(v=-0.1390, grad=0.0000), Var(v=-0.0778, grad=0.0000), Var(v=0.0377, grad=0.0000), Var(v=0.0378, grad=0.0000), Var(v=0.0898, grad=0.0000), Var(v=-0.0604, grad=0.0000)], [Var(v=-0.0691, grad=0.0000), Var(v=-0.2256, grad=0.0000), Var(v=0.0354, grad=0.0000), Var(v=-0.0757, grad=0.0000), Var(v=-0.1173, grad=0.0000), Var(v=0.0311, grad=0.0000), Var(v=-0.0817, grad=0.0000), Var(v=-0.0061, grad=0.0000), Var(v=0.0004, grad=0.0000), Var(v=0.0808, grad=0.0000), Var(v=-0.0961, grad=0.0000), Var(v=0.0217, grad=0.0000), Var(v=0.1425, grad=0.0000), Var(v=-0.1454, grad=0.0000), Var(v=-0.1183, grad=0.0000), Var(v=0.0390, grad=0.0000), Var(v=0.1028, grad=0.0000), Var(v=0.0007, grad=0.0000), Var(v=-0.1319, grad=0.0000), Var(v=0.1592, grad=0.0000), Var(v=0.0141, grad=0.0000), Var(v=0.0317, grad=0.0000), Var(v=-0.0738, grad=0.0000), Var(v=0.0268, grad=0.0000), Var(v=0.1002, grad=0.0000), Var(v=-0.0454, grad=0.0000), Var(v=-0.0553, grad=0.0000), Var(v=-0.1261, grad=0.0000), Var(v=0.0262, grad=0.0000), Var(v=-0.1149, grad=0.0000), Var(v=0.0042, grad=0.0000), Var(v=-0.0455, grad=0.0000), Var(v=-0.2155, grad=0.0000), Var(v=0.1326, grad=0.0000), Var(v=0.0098, grad=0.0000), Var(v=0.0175, grad=0.0000), Var(v=-0.1357, grad=0.0000), Var(v=0.0077, grad=0.0000), Var(v=0.0838, grad=0.0000), Var(v=-0.1161, grad=0.0000), Var(v=-0.0175, grad=0.0000), Var(v=-0.1210, grad=0.0000), Var(v=0.0705, grad=0.0000), Var(v=0.0875, grad=0.0000), Var(v=0.1083, grad=0.0000), Var(v=-0.0585, grad=0.0000), Var(v=0.1497, grad=0.0000), Var(v=-0.0380, grad=0.0000), Var(v=0.1667, grad=0.0000), Var(v=0.0439, grad=0.0000)], [Var(v=-0.0705, grad=0.0000), Var(v=0.1076, grad=0.0000), Var(v=0.0090, grad=0.0000), Var(v=0.0933, grad=0.0000), Var(v=0.0264, grad=0.0000), Var(v=0.1047, grad=0.0000), Var(v=0.0852, grad=0.0000), Var(v=0.0351, grad=0.0000), Var(v=-0.0016, grad=0.0000), Var(v=0.1529, grad=0.0000), Var(v=0.0525, grad=0.0000), Var(v=-0.0975, grad=0.0000), Var(v=-0.0415, grad=0.0000), Var(v=-0.0578, grad=0.0000), Var(v=-0.0433, grad=0.0000), Var(v=-0.0020, grad=0.0000), Var(v=0.1206, grad=0.0000), Var(v=-0.0003, grad=0.0000), Var(v=-0.0446, grad=0.0000), Var(v=-0.2148, grad=0.0000), Var(v=0.0267, grad=0.0000), Var(v=0.1061, grad=0.0000), Var(v=0.0266, grad=0.0000), Var(v=0.0786, grad=0.0000), Var(v=-0.1724, grad=0.0000), Var(v=-0.1608, grad=0.0000), Var(v=0.0494, grad=0.0000), Var(v=-0.0479, grad=0.0000), Var(v=-0.0381, grad=0.0000), Var(v=-0.0264, grad=0.0000), Var(v=0.0292, grad=0.0000), Var(v=-0.2154, grad=0.0000), Var(v=0.0132, grad=0.0000), Var(v=0.1219, grad=0.0000), Var(v=0.0226, grad=0.0000), Var(v=-0.0729, grad=0.0000), Var(v=0.0703, grad=0.0000), Var(v=-0.0225, grad=0.0000), Var(v=-0.0218, grad=0.0000), Var(v=-0.0774, grad=0.0000), Var(v=0.1195, grad=0.0000), Var(v=0.1038, grad=0.0000), Var(v=-0.0412, grad=0.0000), Var(v=-0.0082, grad=0.0000), Var(v=0.0417, grad=0.0000), Var(v=-0.0709, grad=0.0000), Var(v=0.0060, grad=0.0000), Var(v=-0.0553, grad=0.0000), Var(v=0.0200, grad=0.0000), Var(v=0.0211, grad=0.0000)], [Var(v=-0.0520, grad=0.0000), Var(v=-0.1404, grad=0.0000), Var(v=0.0480, grad=0.0000), Var(v=-0.1845, grad=0.0000), Var(v=0.0589, grad=0.0000), Var(v=-0.0530, grad=0.0000), Var(v=-0.0041, grad=0.0000), Var(v=0.0083, grad=0.0000), Var(v=-0.0150, grad=0.0000), Var(v=-0.0491, grad=0.0000), Var(v=0.1347, grad=0.0000), Var(v=-0.0475, grad=0.0000), Var(v=0.0744, grad=0.0000), Var(v=0.1985, grad=0.0000), Var(v=0.1736, grad=0.0000), Var(v=0.0555, grad=0.0000), Var(v=0.0756, grad=0.0000), Var(v=-0.1431, grad=0.0000), Var(v=0.0572, grad=0.0000), Var(v=-0.0068, grad=0.0000), Var(v=0.0848, grad=0.0000), Var(v=0.0437, grad=0.0000), Var(v=0.0194, grad=0.0000), Var(v=0.0525, grad=0.0000), Var(v=-0.0295, grad=0.0000), Var(v=-0.1381, grad=0.0000), Var(v=-0.0098, grad=0.0000), Var(v=-0.0299, grad=0.0000), Var(v=-0.1061, grad=0.0000), Var(v=-0.0988, grad=0.0000), Var(v=-0.0597, grad=0.0000), Var(v=0.1287, grad=0.0000), Var(v=0.1162, grad=0.0000), Var(v=0.1105, grad=0.0000), Var(v=0.1783, grad=0.0000), Var(v=0.0267, grad=0.0000), Var(v=0.0459, grad=0.0000), Var(v=-0.0244, grad=0.0000), Var(v=0.0263, grad=0.0000), Var(v=-0.1805, grad=0.0000), Var(v=-0.0762, grad=0.0000), Var(v=0.1147, grad=0.0000), Var(v=-0.0283, grad=0.0000), Var(v=-0.2016, grad=0.0000), Var(v=0.0632, grad=0.0000), Var(v=0.1268, grad=0.0000), Var(v=-0.0642, grad=0.0000), Var(v=0.0718, grad=0.0000), Var(v=0.0182, grad=0.0000), Var(v=0.0158, grad=0.0000)], [Var(v=-0.0980, grad=0.0000), Var(v=0.2393, grad=0.0000), Var(v=-0.0376, grad=0.0000), Var(v=0.0504, grad=0.0000), Var(v=-0.2026, grad=0.0000), Var(v=0.1441, grad=0.0000), Var(v=-0.0539, grad=0.0000), Var(v=0.1183, grad=0.0000), Var(v=0.0041, grad=0.0000), Var(v=-0.0283, grad=0.0000), Var(v=-0.0683, grad=0.0000), Var(v=0.0227, grad=0.0000), Var(v=-0.0601, grad=0.0000), Var(v=0.0853, grad=0.0000), Var(v=-0.0053, grad=0.0000), Var(v=-0.0306, grad=0.0000), Var(v=-0.1458, grad=0.0000), Var(v=-0.0360, grad=0.0000), Var(v=-0.0853, grad=0.0000), Var(v=-0.0603, grad=0.0000), Var(v=0.0623, grad=0.0000), Var(v=-0.0806, grad=0.0000), Var(v=-0.1422, grad=0.0000), Var(v=-0.1307, grad=0.0000), Var(v=-0.1552, grad=0.0000), Var(v=-0.0904, grad=0.0000), Var(v=-0.0597, grad=0.0000), Var(v=-0.1896, grad=0.0000), Var(v=0.0715, grad=0.0000), Var(v=0.1101, grad=0.0000), Var(v=0.0361, grad=0.0000), Var(v=-0.1109, grad=0.0000), Var(v=-0.0306, grad=0.0000), Var(v=0.0846, grad=0.0000), Var(v=0.0117, grad=0.0000), Var(v=-0.1056, grad=0.0000), Var(v=-0.0437, grad=0.0000), Var(v=-0.0173, grad=0.0000), Var(v=0.0642, grad=0.0000), Var(v=-0.0385, grad=0.0000), Var(v=0.1043, grad=0.0000), Var(v=-0.1284, grad=0.0000), Var(v=0.1843, grad=0.0000), Var(v=0.1769, grad=0.0000), Var(v=0.1634, grad=0.0000), Var(v=0.1078, grad=0.0000), Var(v=0.1239, grad=0.0000), Var(v=-0.1447, grad=0.0000), Var(v=-0.0350, grad=0.0000), Var(v=-0.0107, grad=0.0000)], [Var(v=-0.0795, grad=0.0000), Var(v=-0.2219, grad=0.0000), Var(v=0.1430, grad=0.0000), Var(v=-0.0663, grad=0.0000), Var(v=0.2075, grad=0.0000), Var(v=-0.0064, grad=0.0000), Var(v=-0.0415, grad=0.0000), Var(v=0.0205, grad=0.0000), Var(v=-0.0158, grad=0.0000), Var(v=-0.0910, grad=0.0000), Var(v=-0.1394, grad=0.0000), Var(v=0.1515, grad=0.0000), Var(v=-0.1110, grad=0.0000), Var(v=0.1206, grad=0.0000), Var(v=-0.0600, grad=0.0000), Var(v=0.0870, grad=0.0000), Var(v=-0.1673, grad=0.0000), Var(v=-0.1159, grad=0.0000), Var(v=0.1671, grad=0.0000), Var(v=-0.0764, grad=0.0000), Var(v=0.1763, grad=0.0000), Var(v=0.0856, grad=0.0000), Var(v=0.0587, grad=0.0000), Var(v=0.0572, grad=0.0000), Var(v=0.1165, grad=0.0000), Var(v=0.0509, grad=0.0000), Var(v=0.0474, grad=0.0000), Var(v=-0.0012, grad=0.0000), Var(v=0.0915, grad=0.0000), Var(v=-0.0015, grad=0.0000), Var(v=-0.1006, grad=0.0000), Var(v=-0.1111, grad=0.0000), Var(v=-0.1479, grad=0.0000), Var(v=-0.1197, grad=0.0000), Var(v=0.0436, grad=0.0000), Var(v=-0.0062, grad=0.0000), Var(v=0.0389, grad=0.0000), Var(v=-0.1168, grad=0.0000), Var(v=0.1300, grad=0.0000), Var(v=0.0299, grad=0.0000), Var(v=0.0913, grad=0.0000), Var(v=0.1020, grad=0.0000), Var(v=0.0024, grad=0.0000), Var(v=-0.1494, grad=0.0000), Var(v=0.0071, grad=0.0000), Var(v=-0.0044, grad=0.0000), Var(v=0.0427, grad=0.0000), Var(v=0.0523, grad=0.0000), Var(v=-0.0360, grad=0.0000), Var(v=0.0925, grad=0.0000)], [Var(v=0.0360, grad=0.0000), Var(v=-0.0872, grad=0.0000), Var(v=0.0844, grad=0.0000), Var(v=-0.0483, grad=0.0000), Var(v=0.2329, grad=0.0000), Var(v=0.1712, grad=0.0000), Var(v=0.0573, grad=0.0000), Var(v=-0.0471, grad=0.0000), Var(v=0.1333, grad=0.0000), Var(v=-0.2557, grad=0.0000), Var(v=-0.0678, grad=0.0000), Var(v=0.1786, grad=0.0000), Var(v=-0.0824, grad=0.0000), Var(v=-0.0995, grad=0.0000), Var(v=-0.0103, grad=0.0000), Var(v=-0.0275, grad=0.0000), Var(v=-0.0375, grad=0.0000), Var(v=0.1337, grad=0.0000), Var(v=-0.0535, grad=0.0000), Var(v=0.0802, grad=0.0000), Var(v=-0.1159, grad=0.0000), Var(v=-0.0804, grad=0.0000), Var(v=-0.0580, grad=0.0000), Var(v=-0.1448, grad=0.0000), Var(v=0.0110, grad=0.0000), Var(v=0.1639, grad=0.0000), Var(v=-0.0498, grad=0.0000), Var(v=0.1139, grad=0.0000), Var(v=-0.0194, grad=0.0000), Var(v=-0.0358, grad=0.0000), Var(v=0.0035, grad=0.0000), Var(v=0.0584, grad=0.0000), Var(v=0.0052, grad=0.0000), Var(v=-0.2370, grad=0.0000), Var(v=0.2296, grad=0.0000), Var(v=0.0426, grad=0.0000), Var(v=-0.1402, grad=0.0000), Var(v=-0.1375, grad=0.0000), Var(v=0.0823, grad=0.0000), Var(v=-0.0594, grad=0.0000), Var(v=-0.1271, grad=0.0000), Var(v=-0.0090, grad=0.0000), Var(v=0.0291, grad=0.0000), Var(v=0.0410, grad=0.0000), Var(v=-0.0237, grad=0.0000), Var(v=-0.1335, grad=0.0000), Var(v=0.1442, grad=0.0000), Var(v=0.0152, grad=0.0000), Var(v=-0.0495, grad=0.0000), Var(v=0.0113, grad=0.0000)], [Var(v=-0.0230, grad=0.0000), Var(v=-0.0974, grad=0.0000), Var(v=0.0363, grad=0.0000), Var(v=-0.0911, grad=0.0000), Var(v=-0.0147, grad=0.0000), Var(v=0.0216, grad=0.0000), Var(v=-0.0704, grad=0.0000), Var(v=-0.1212, grad=0.0000), Var(v=-0.0641, grad=0.0000), Var(v=-0.1011, grad=0.0000), Var(v=-0.2170, grad=0.0000), Var(v=-0.0477, grad=0.0000), Var(v=-0.0769, grad=0.0000), Var(v=-0.1381, grad=0.0000), Var(v=0.0459, grad=0.0000), Var(v=-0.1407, grad=0.0000), Var(v=0.0625, grad=0.0000), Var(v=0.0976, grad=0.0000), Var(v=0.1410, grad=0.0000), Var(v=0.0494, grad=0.0000), Var(v=-0.0647, grad=0.0000), Var(v=0.0599, grad=0.0000), Var(v=-0.1083, grad=0.0000), Var(v=0.0549, grad=0.0000), Var(v=0.1428, grad=0.0000), Var(v=-0.0594, grad=0.0000), Var(v=-0.0057, grad=0.0000), Var(v=0.1400, grad=0.0000), Var(v=-0.0099, grad=0.0000), Var(v=0.0514, grad=0.0000), Var(v=-0.1530, grad=0.0000), Var(v=0.1448, grad=0.0000), Var(v=0.0045, grad=0.0000), Var(v=0.1521, grad=0.0000), Var(v=-0.0457, grad=0.0000), Var(v=0.0924, grad=0.0000), Var(v=0.0095, grad=0.0000), Var(v=-0.0012, grad=0.0000), Var(v=0.2218, grad=0.0000), Var(v=0.0399, grad=0.0000), Var(v=0.0732, grad=0.0000), Var(v=-0.1548, grad=0.0000), Var(v=-0.0953, grad=0.0000), Var(v=-0.1056, grad=0.0000), Var(v=-0.0484, grad=0.0000), Var(v=-0.1120, grad=0.0000), Var(v=-0.0173, grad=0.0000), Var(v=0.0895, grad=0.0000), Var(v=0.0286, grad=0.0000), Var(v=0.0044, grad=0.0000)], [Var(v=-0.0185, grad=0.0000), Var(v=0.0904, grad=0.0000), Var(v=0.1375, grad=0.0000), Var(v=-0.0327, grad=0.0000), Var(v=0.0297, grad=0.0000), Var(v=0.0270, grad=0.0000), Var(v=0.2811, grad=0.0000), Var(v=0.1674, grad=0.0000), Var(v=0.0065, grad=0.0000), Var(v=-0.0045, grad=0.0000), Var(v=-0.0988, grad=0.0000), Var(v=-0.3583, grad=0.0000), Var(v=0.0038, grad=0.0000), Var(v=0.0126, grad=0.0000), Var(v=-0.1645, grad=0.0000), Var(v=0.0446, grad=0.0000), Var(v=-0.0258, grad=0.0000), Var(v=-0.1593, grad=0.0000), Var(v=-0.1192, grad=0.0000), Var(v=-0.0009, grad=0.0000), Var(v=-0.0923, grad=0.0000), Var(v=0.2304, grad=0.0000), Var(v=0.1234, grad=0.0000), Var(v=0.0919, grad=0.0000), Var(v=0.0956, grad=0.0000), Var(v=-0.1140, grad=0.0000), Var(v=-0.1327, grad=0.0000), Var(v=-0.1356, grad=0.0000), Var(v=-0.0018, grad=0.0000), Var(v=0.1747, grad=0.0000), Var(v=0.1498, grad=0.0000), Var(v=-0.0247, grad=0.0000), Var(v=0.0976, grad=0.0000), Var(v=0.2138, grad=0.0000), Var(v=-0.0298, grad=0.0000), Var(v=0.0858, grad=0.0000), Var(v=-0.0518, grad=0.0000), Var(v=-0.0629, grad=0.0000), Var(v=-0.0960, grad=0.0000), Var(v=-0.0173, grad=0.0000), Var(v=0.0789, grad=0.0000), Var(v=-0.0126, grad=0.0000), Var(v=-0.0424, grad=0.0000), Var(v=-0.0332, grad=0.0000), Var(v=0.0017, grad=0.0000), Var(v=0.0388, grad=0.0000), Var(v=-0.1861, grad=0.0000), Var(v=0.0564, grad=0.0000), Var(v=-0.1230, grad=0.0000), Var(v=-0.0993, grad=0.0000)], [Var(v=-0.0680, grad=0.0000), Var(v=0.0613, grad=0.0000), Var(v=0.0589, grad=0.0000), Var(v=0.2238, grad=0.0000), Var(v=-0.0179, grad=0.0000), Var(v=-0.0599, grad=0.0000), Var(v=-0.0493, grad=0.0000), Var(v=0.0222, grad=0.0000), Var(v=-0.0795, grad=0.0000), Var(v=0.0636, grad=0.0000), Var(v=-0.0619, grad=0.0000), Var(v=-0.0031, grad=0.0000), Var(v=0.0873, grad=0.0000), Var(v=0.1240, grad=0.0000), Var(v=-0.0777, grad=0.0000), Var(v=0.0177, grad=0.0000), Var(v=0.0226, grad=0.0000), Var(v=-0.1396, grad=0.0000), Var(v=0.1780, grad=0.0000), Var(v=0.0495, grad=0.0000), Var(v=-0.0366, grad=0.0000), Var(v=0.0979, grad=0.0000), Var(v=0.0299, grad=0.0000), Var(v=0.0489, grad=0.0000), Var(v=-0.0806, grad=0.0000), Var(v=-0.1319, grad=0.0000), Var(v=0.1019, grad=0.0000), Var(v=0.0998, grad=0.0000), Var(v=0.0368, grad=0.0000), Var(v=0.1133, grad=0.0000), Var(v=0.0127, grad=0.0000), Var(v=0.1236, grad=0.0000), Var(v=-0.0862, grad=0.0000), Var(v=-0.0992, grad=0.0000), Var(v=0.1581, grad=0.0000), Var(v=-0.0984, grad=0.0000), Var(v=0.0457, grad=0.0000), Var(v=0.2303, grad=0.0000), Var(v=-0.0273, grad=0.0000), Var(v=0.0196, grad=0.0000), Var(v=0.0721, grad=0.0000), Var(v=-0.0724, grad=0.0000), Var(v=0.0981, grad=0.0000), Var(v=0.0664, grad=0.0000), Var(v=0.0816, grad=0.0000), Var(v=-0.0720, grad=0.0000), Var(v=-0.0270, grad=0.0000), Var(v=0.0303, grad=0.0000), Var(v=0.0388, grad=0.0000), Var(v=-0.1155, grad=0.0000)], [Var(v=0.1001, grad=0.0000), Var(v=-0.0586, grad=0.0000), Var(v=-0.0263, grad=0.0000), Var(v=0.0554, grad=0.0000), Var(v=-0.0463, grad=0.0000), Var(v=0.1039, grad=0.0000), Var(v=-0.0805, grad=0.0000), Var(v=-0.0836, grad=0.0000), Var(v=0.0150, grad=0.0000), Var(v=0.0194, grad=0.0000), Var(v=-0.0841, grad=0.0000), Var(v=0.2141, grad=0.0000), Var(v=-0.0417, grad=0.0000), Var(v=0.1512, grad=0.0000), Var(v=0.1732, grad=0.0000), Var(v=0.1146, grad=0.0000), Var(v=0.0235, grad=0.0000), Var(v=-0.0735, grad=0.0000), Var(v=-0.0125, grad=0.0000), Var(v=-0.1590, grad=0.0000), Var(v=-0.0597, grad=0.0000), Var(v=-0.0559, grad=0.0000), Var(v=0.0912, grad=0.0000), Var(v=0.1122, grad=0.0000), Var(v=-0.0250, grad=0.0000), Var(v=-0.0161, grad=0.0000), Var(v=0.1177, grad=0.0000), Var(v=0.1163, grad=0.0000), Var(v=0.1896, grad=0.0000), Var(v=-0.0351, grad=0.0000), Var(v=0.0085, grad=0.0000), Var(v=0.1746, grad=0.0000), Var(v=-0.0271, grad=0.0000), Var(v=-0.0848, grad=0.0000), Var(v=-0.0202, grad=0.0000), Var(v=-0.0666, grad=0.0000), Var(v=0.0525, grad=0.0000), Var(v=-0.0695, grad=0.0000), Var(v=0.1094, grad=0.0000), Var(v=0.0287, grad=0.0000), Var(v=-0.0192, grad=0.0000), Var(v=-0.0388, grad=0.0000), Var(v=-0.0459, grad=0.0000), Var(v=0.0071, grad=0.0000), Var(v=0.0091, grad=0.0000), Var(v=0.0014, grad=0.0000), Var(v=0.0843, grad=0.0000), Var(v=-0.2273, grad=0.0000), Var(v=0.0313, grad=0.0000), Var(v=0.0226, grad=0.0000)], [Var(v=-0.1682, grad=0.0000), Var(v=-0.1121, grad=0.0000), Var(v=-0.0142, grad=0.0000), Var(v=-0.0005, grad=0.0000), Var(v=-0.1236, grad=0.0000), Var(v=-0.1059, grad=0.0000), Var(v=-0.0699, grad=0.0000), Var(v=-0.1441, grad=0.0000), Var(v=0.0391, grad=0.0000), Var(v=-0.1460, grad=0.0000), Var(v=0.0377, grad=0.0000), Var(v=0.0293, grad=0.0000), Var(v=0.1150, grad=0.0000), Var(v=0.0328, grad=0.0000), Var(v=-0.1097, grad=0.0000), Var(v=-0.0012, grad=0.0000), Var(v=-0.1222, grad=0.0000), Var(v=-0.0782, grad=0.0000), Var(v=0.0535, grad=0.0000), Var(v=-0.0098, grad=0.0000), Var(v=0.0153, grad=0.0000), Var(v=0.0509, grad=0.0000), Var(v=-0.1471, grad=0.0000), Var(v=-0.0561, grad=0.0000), Var(v=0.1645, grad=0.0000), Var(v=0.0443, grad=0.0000), Var(v=0.1114, grad=0.0000), Var(v=-0.1016, grad=0.0000), Var(v=-0.0728, grad=0.0000), Var(v=0.0800, grad=0.0000), Var(v=0.0817, grad=0.0000), Var(v=0.0600, grad=0.0000), Var(v=-0.0198, grad=0.0000), Var(v=0.0451, grad=0.0000), Var(v=-0.0342, grad=0.0000), Var(v=-0.1045, grad=0.0000), Var(v=-0.0027, grad=0.0000), Var(v=0.0809, grad=0.0000), Var(v=0.0238, grad=0.0000), Var(v=0.0925, grad=0.0000), Var(v=0.0710, grad=0.0000), Var(v=0.0058, grad=0.0000), Var(v=0.0723, grad=0.0000), Var(v=0.0275, grad=0.0000), Var(v=-0.0573, grad=0.0000), Var(v=0.1107, grad=0.0000), Var(v=-0.0611, grad=0.0000), Var(v=0.0160, grad=0.0000), Var(v=0.1622, grad=0.0000), Var(v=-0.0427, grad=0.0000)], [Var(v=0.0430, grad=0.0000), Var(v=-0.0656, grad=0.0000), Var(v=0.0600, grad=0.0000), Var(v=-0.1209, grad=0.0000), Var(v=0.0129, grad=0.0000), Var(v=-0.0592, grad=0.0000), Var(v=0.0400, grad=0.0000), Var(v=-0.0171, grad=0.0000), Var(v=-0.1256, grad=0.0000), Var(v=-0.0797, grad=0.0000), Var(v=0.0057, grad=0.0000), Var(v=0.0897, grad=0.0000), Var(v=-0.0859, grad=0.0000), Var(v=0.1830, grad=0.0000), Var(v=-0.1157, grad=0.0000), Var(v=0.1066, grad=0.0000), Var(v=-0.0889, grad=0.0000), Var(v=0.0805, grad=0.0000), Var(v=-0.0596, grad=0.0000), Var(v=0.0495, grad=0.0000), Var(v=-0.1089, grad=0.0000), Var(v=0.0261, grad=0.0000), Var(v=-0.1168, grad=0.0000), Var(v=0.0589, grad=0.0000), Var(v=-0.0218, grad=0.0000), Var(v=0.0482, grad=0.0000), Var(v=-0.1228, grad=0.0000), Var(v=-0.0760, grad=0.0000), Var(v=0.0733, grad=0.0000), Var(v=-0.0073, grad=0.0000), Var(v=0.0767, grad=0.0000), Var(v=-0.0488, grad=0.0000), Var(v=0.0216, grad=0.0000), Var(v=-0.1021, grad=0.0000), Var(v=-0.1707, grad=0.0000), Var(v=0.1442, grad=0.0000), Var(v=-0.1705, grad=0.0000), Var(v=-0.0926, grad=0.0000), Var(v=0.1652, grad=0.0000), Var(v=-0.1452, grad=0.0000), Var(v=0.0562, grad=0.0000), Var(v=0.0124, grad=0.0000), Var(v=-0.0935, grad=0.0000), Var(v=0.0673, grad=0.0000), Var(v=-0.0336, grad=0.0000), Var(v=-0.0298, grad=0.0000), Var(v=0.0311, grad=0.0000), Var(v=0.0384, grad=0.0000), Var(v=-0.0260, grad=0.0000), Var(v=-0.0669, grad=0.0000)], [Var(v=0.2684, grad=0.0000), Var(v=0.1023, grad=0.0000), Var(v=0.0080, grad=0.0000), Var(v=-0.1075, grad=0.0000), Var(v=0.1242, grad=0.0000), Var(v=-0.0436, grad=0.0000), Var(v=-0.0564, grad=0.0000), Var(v=-0.1048, grad=0.0000), Var(v=0.2006, grad=0.0000), Var(v=-0.1082, grad=0.0000), Var(v=-0.0278, grad=0.0000), Var(v=0.1813, grad=0.0000), Var(v=-0.0246, grad=0.0000), Var(v=0.0153, grad=0.0000), Var(v=0.2094, grad=0.0000), Var(v=0.0068, grad=0.0000), Var(v=0.0519, grad=0.0000), Var(v=0.0068, grad=0.0000), Var(v=0.1407, grad=0.0000), Var(v=-0.2884, grad=0.0000), Var(v=0.2353, grad=0.0000), Var(v=0.0601, grad=0.0000), Var(v=0.1291, grad=0.0000), Var(v=-0.0513, grad=0.0000), Var(v=-0.1170, grad=0.0000), Var(v=0.0141, grad=0.0000), Var(v=0.0304, grad=0.0000), Var(v=0.0139, grad=0.0000), Var(v=-0.0886, grad=0.0000), Var(v=0.0091, grad=0.0000), Var(v=0.0241, grad=0.0000), Var(v=-0.0375, grad=0.0000), Var(v=-0.0049, grad=0.0000), Var(v=-0.0360, grad=0.0000), Var(v=-0.0639, grad=0.0000), Var(v=0.2345, grad=0.0000), Var(v=0.0406, grad=0.0000), Var(v=-0.0911, grad=0.0000), Var(v=-0.0315, grad=0.0000), Var(v=0.0355, grad=0.0000), Var(v=0.0027, grad=0.0000), Var(v=0.0334, grad=0.0000), Var(v=-0.0117, grad=0.0000), Var(v=-0.1197, grad=0.0000), Var(v=0.1534, grad=0.0000), Var(v=-0.0844, grad=0.0000), Var(v=0.1814, grad=0.0000), Var(v=-0.0674, grad=0.0000), Var(v=-0.0882, grad=0.0000), Var(v=0.0766, grad=0.0000)]] Biases: [Var(v=0.0000, grad=0.0000), Var(v=0.0000, grad=0.0000), Var(v=0.0000, grad=0.0000), Var(v=0.0000, grad=0.0000), Var(v=0.0000, grad=0.0000), Var(v=0.0000, grad=0.0000), Var(v=0.0000, grad=0.0000), Var(v=0.0000, grad=0.0000), Var(v=0.0000, grad=0.0000), Var(v=0.0000, grad=0.0000), Var(v=0.0000, grad=0.0000), Var(v=0.0000, grad=0.0000), Var(v=0.0000, grad=0.0000), Var(v=0.0000, grad=0.0000), Var(v=0.0000, grad=0.0000), Var(v=0.0000, grad=0.0000), Var(v=0.0000, grad=0.0000), Var(v=0.0000, grad=0.0000), Var(v=0.0000, grad=0.0000), Var(v=0.0000, grad=0.0000), Var(v=0.0000, grad=0.0000), Var(v=0.0000, grad=0.0000), Var(v=0.0000, grad=0.0000), Var(v=0.0000, grad=0.0000), Var(v=0.0000, grad=0.0000), Var(v=0.0000, grad=0.0000), Var(v=0.0000, grad=0.0000), Var(v=0.0000, grad=0.0000), Var(v=0.0000, grad=0.0000), Var(v=0.0000, grad=0.0000), Var(v=0.0000, grad=0.0000), Var(v=0.0000, grad=0.0000), Var(v=0.0000, grad=0.0000), Var(v=0.0000, grad=0.0000), Var(v=0.0000, grad=0.0000), Var(v=0.0000, grad=0.0000), Var(v=0.0000, grad=0.0000), Var(v=0.0000, grad=0.0000), Var(v=0.0000, grad=0.0000), Var(v=0.0000, grad=0.0000), Var(v=0.0000, grad=0.0000), Var(v=0.0000, grad=0.0000), Var(v=0.0000, grad=0.0000), Var(v=0.0000, grad=0.0000), Var(v=0.0000, grad=0.0000), Var(v=0.0000, grad=0.0000), Var(v=0.0000, grad=0.0000), Var(v=0.0000, grad=0.0000), Var(v=0.0000, grad=0.0000), Var(v=0.0000, grad=0.0000)]\n",
      "Layer 2 \n",
      " Weights: [[Var(v=0.1259, grad=0.0000)], [Var(v=0.1001, grad=0.0000)], [Var(v=0.0469, grad=0.0000)], [Var(v=0.0235, grad=0.0000)], [Var(v=-0.1436, grad=0.0000)], [Var(v=-0.0939, grad=0.0000)], [Var(v=-0.0325, grad=0.0000)], [Var(v=0.0222, grad=0.0000)], [Var(v=-0.0984, grad=0.0000)], [Var(v=0.0655, grad=0.0000)], [Var(v=0.0555, grad=0.0000)], [Var(v=0.0674, grad=0.0000)], [Var(v=-0.0067, grad=0.0000)], [Var(v=-0.0809, grad=0.0000)], [Var(v=0.0027, grad=0.0000)], [Var(v=-0.1017, grad=0.0000)], [Var(v=0.1347, grad=0.0000)], [Var(v=0.1161, grad=0.0000)], [Var(v=-0.0783, grad=0.0000)], [Var(v=-0.0714, grad=0.0000)], [Var(v=0.0044, grad=0.0000)], [Var(v=0.0474, grad=0.0000)], [Var(v=0.0914, grad=0.0000)], [Var(v=-0.0201, grad=0.0000)], [Var(v=-0.0661, grad=0.0000)], [Var(v=0.0872, grad=0.0000)], [Var(v=-0.0453, grad=0.0000)], [Var(v=0.0057, grad=0.0000)], [Var(v=0.1406, grad=0.0000)], [Var(v=-0.0051, grad=0.0000)], [Var(v=-0.1653, grad=0.0000)], [Var(v=0.1622, grad=0.0000)], [Var(v=-0.0684, grad=0.0000)], [Var(v=0.0205, grad=0.0000)], [Var(v=0.0438, grad=0.0000)], [Var(v=-0.1548, grad=0.0000)], [Var(v=-0.1727, grad=0.0000)], [Var(v=0.0205, grad=0.0000)], [Var(v=-0.0046, grad=0.0000)], [Var(v=-0.0635, grad=0.0000)], [Var(v=0.0127, grad=0.0000)], [Var(v=-0.1018, grad=0.0000)], [Var(v=0.0273, grad=0.0000)], [Var(v=-0.0590, grad=0.0000)], [Var(v=-0.1019, grad=0.0000)], [Var(v=0.0644, grad=0.0000)], [Var(v=-0.0768, grad=0.0000)], [Var(v=-0.0693, grad=0.0000)], [Var(v=-0.2110, grad=0.0000)], [Var(v=-0.0403, grad=0.0000)]] Biases: [Var(v=0.0000, grad=0.0000)]\n",
      "\n",
      "Network after zeroing gradients:\n",
      "Layer 0 \n",
      " Weights: [[Var(v=0.0262, grad=0.0000), Var(v=0.0467, grad=0.0000), Var(v=-0.0064, grad=0.0000), Var(v=-0.0785, grad=0.0000), Var(v=-0.0141, grad=0.0000), Var(v=-0.1341, grad=0.0000), Var(v=0.0714, grad=0.0000), Var(v=-0.1879, grad=0.0000), Var(v=-0.0761, grad=0.0000), Var(v=0.0757, grad=0.0000), Var(v=-0.1493, grad=0.0000), Var(v=0.0084, grad=0.0000), Var(v=0.2500, grad=0.0000), Var(v=0.0600, grad=0.0000), Var(v=0.0567, grad=0.0000)]] Biases: [Var(v=0.0000, grad=0.0000), Var(v=0.0000, grad=0.0000), Var(v=0.0000, grad=0.0000), Var(v=0.0000, grad=0.0000), Var(v=0.0000, grad=0.0000), Var(v=0.0000, grad=0.0000), Var(v=0.0000, grad=0.0000), Var(v=0.0000, grad=0.0000), Var(v=0.0000, grad=0.0000), Var(v=0.0000, grad=0.0000), Var(v=0.0000, grad=0.0000), Var(v=0.0000, grad=0.0000), Var(v=0.0000, grad=0.0000), Var(v=0.0000, grad=0.0000), Var(v=0.0000, grad=0.0000)]\n",
      "Layer 1 \n",
      " Weights: [[Var(v=0.0958, grad=0.0000), Var(v=-0.1757, grad=0.0000), Var(v=-0.0777, grad=0.0000), Var(v=-0.1264, grad=0.0000), Var(v=0.0697, grad=0.0000), Var(v=0.0561, grad=0.0000), Var(v=-0.0201, grad=0.0000), Var(v=-0.0097, grad=0.0000), Var(v=0.0988, grad=0.0000), Var(v=0.0684, grad=0.0000), Var(v=0.0712, grad=0.0000), Var(v=-0.2111, grad=0.0000), Var(v=-0.0489, grad=0.0000), Var(v=-0.0360, grad=0.0000), Var(v=0.0627, grad=0.0000), Var(v=0.1811, grad=0.0000), Var(v=0.0055, grad=0.0000), Var(v=-0.0945, grad=0.0000), Var(v=-0.0113, grad=0.0000), Var(v=-0.1494, grad=0.0000), Var(v=-0.1049, grad=0.0000), Var(v=-0.2283, grad=0.0000), Var(v=0.1096, grad=0.0000), Var(v=-0.2114, grad=0.0000), Var(v=-0.0837, grad=0.0000), Var(v=0.0383, grad=0.0000), Var(v=0.0241, grad=0.0000), Var(v=-0.1216, grad=0.0000), Var(v=-0.0620, grad=0.0000), Var(v=0.1546, grad=0.0000), Var(v=-0.1381, grad=0.0000), Var(v=0.1335, grad=0.0000), Var(v=-0.0599, grad=0.0000), Var(v=0.0288, grad=0.0000), Var(v=0.0534, grad=0.0000), Var(v=-0.0990, grad=0.0000), Var(v=0.0911, grad=0.0000), Var(v=-0.1124, grad=0.0000), Var(v=0.0302, grad=0.0000), Var(v=0.0048, grad=0.0000), Var(v=0.0371, grad=0.0000), Var(v=0.0046, grad=0.0000), Var(v=0.0372, grad=0.0000), Var(v=0.0375, grad=0.0000), Var(v=0.0019, grad=0.0000), Var(v=0.1216, grad=0.0000), Var(v=-0.0320, grad=0.0000), Var(v=-0.1257, grad=0.0000), Var(v=-0.1636, grad=0.0000), Var(v=0.0333, grad=0.0000)], [Var(v=0.0928, grad=0.0000), Var(v=0.0450, grad=0.0000), Var(v=-0.2179, grad=0.0000), Var(v=0.0389, grad=0.0000), Var(v=0.1113, grad=0.0000), Var(v=-0.0066, grad=0.0000), Var(v=0.0630, grad=0.0000), Var(v=0.0258, grad=0.0000), Var(v=-0.0449, grad=0.0000), Var(v=-0.0697, grad=0.0000), Var(v=-0.0685, grad=0.0000), Var(v=0.0208, grad=0.0000), Var(v=0.1085, grad=0.0000), Var(v=0.0297, grad=0.0000), Var(v=0.1481, grad=0.0000), Var(v=-0.0053, grad=0.0000), Var(v=0.1157, grad=0.0000), Var(v=0.0079, grad=0.0000), Var(v=-0.0646, grad=0.0000), Var(v=0.0020, grad=0.0000), Var(v=0.0469, grad=0.0000), Var(v=-0.1633, grad=0.0000), Var(v=0.1790, grad=0.0000), Var(v=0.0133, grad=0.0000), Var(v=-0.1474, grad=0.0000), Var(v=-0.0265, grad=0.0000), Var(v=-0.1486, grad=0.0000), Var(v=0.0127, grad=0.0000), Var(v=0.1152, grad=0.0000), Var(v=0.0173, grad=0.0000), Var(v=-0.0433, grad=0.0000), Var(v=-0.0603, grad=0.0000), Var(v=0.0793, grad=0.0000), Var(v=0.1242, grad=0.0000), Var(v=0.0079, grad=0.0000), Var(v=-0.1331, grad=0.0000), Var(v=-0.0176, grad=0.0000), Var(v=0.2073, grad=0.0000), Var(v=-0.1025, grad=0.0000), Var(v=-0.0077, grad=0.0000), Var(v=0.0662, grad=0.0000), Var(v=0.1535, grad=0.0000), Var(v=0.0145, grad=0.0000), Var(v=0.0679, grad=0.0000), Var(v=-0.1390, grad=0.0000), Var(v=-0.0778, grad=0.0000), Var(v=0.0377, grad=0.0000), Var(v=0.0378, grad=0.0000), Var(v=0.0898, grad=0.0000), Var(v=-0.0604, grad=0.0000)], [Var(v=-0.0691, grad=0.0000), Var(v=-0.2256, grad=0.0000), Var(v=0.0354, grad=0.0000), Var(v=-0.0757, grad=0.0000), Var(v=-0.1173, grad=0.0000), Var(v=0.0311, grad=0.0000), Var(v=-0.0817, grad=0.0000), Var(v=-0.0061, grad=0.0000), Var(v=0.0004, grad=0.0000), Var(v=0.0808, grad=0.0000), Var(v=-0.0961, grad=0.0000), Var(v=0.0217, grad=0.0000), Var(v=0.1425, grad=0.0000), Var(v=-0.1454, grad=0.0000), Var(v=-0.1183, grad=0.0000), Var(v=0.0390, grad=0.0000), Var(v=0.1028, grad=0.0000), Var(v=0.0007, grad=0.0000), Var(v=-0.1319, grad=0.0000), Var(v=0.1592, grad=0.0000), Var(v=0.0141, grad=0.0000), Var(v=0.0317, grad=0.0000), Var(v=-0.0738, grad=0.0000), Var(v=0.0268, grad=0.0000), Var(v=0.1002, grad=0.0000), Var(v=-0.0454, grad=0.0000), Var(v=-0.0553, grad=0.0000), Var(v=-0.1261, grad=0.0000), Var(v=0.0262, grad=0.0000), Var(v=-0.1149, grad=0.0000), Var(v=0.0042, grad=0.0000), Var(v=-0.0455, grad=0.0000), Var(v=-0.2155, grad=0.0000), Var(v=0.1326, grad=0.0000), Var(v=0.0098, grad=0.0000), Var(v=0.0175, grad=0.0000), Var(v=-0.1357, grad=0.0000), Var(v=0.0077, grad=0.0000), Var(v=0.0838, grad=0.0000), Var(v=-0.1161, grad=0.0000), Var(v=-0.0175, grad=0.0000), Var(v=-0.1210, grad=0.0000), Var(v=0.0705, grad=0.0000), Var(v=0.0875, grad=0.0000), Var(v=0.1083, grad=0.0000), Var(v=-0.0585, grad=0.0000), Var(v=0.1497, grad=0.0000), Var(v=-0.0380, grad=0.0000), Var(v=0.1667, grad=0.0000), Var(v=0.0439, grad=0.0000)], [Var(v=-0.0705, grad=0.0000), Var(v=0.1076, grad=0.0000), Var(v=0.0090, grad=0.0000), Var(v=0.0933, grad=0.0000), Var(v=0.0264, grad=0.0000), Var(v=0.1047, grad=0.0000), Var(v=0.0852, grad=0.0000), Var(v=0.0351, grad=0.0000), Var(v=-0.0016, grad=0.0000), Var(v=0.1529, grad=0.0000), Var(v=0.0525, grad=0.0000), Var(v=-0.0975, grad=0.0000), Var(v=-0.0415, grad=0.0000), Var(v=-0.0578, grad=0.0000), Var(v=-0.0433, grad=0.0000), Var(v=-0.0020, grad=0.0000), Var(v=0.1206, grad=0.0000), Var(v=-0.0003, grad=0.0000), Var(v=-0.0446, grad=0.0000), Var(v=-0.2148, grad=0.0000), Var(v=0.0267, grad=0.0000), Var(v=0.1061, grad=0.0000), Var(v=0.0266, grad=0.0000), Var(v=0.0786, grad=0.0000), Var(v=-0.1724, grad=0.0000), Var(v=-0.1608, grad=0.0000), Var(v=0.0494, grad=0.0000), Var(v=-0.0479, grad=0.0000), Var(v=-0.0381, grad=0.0000), Var(v=-0.0264, grad=0.0000), Var(v=0.0292, grad=0.0000), Var(v=-0.2154, grad=0.0000), Var(v=0.0132, grad=0.0000), Var(v=0.1219, grad=0.0000), Var(v=0.0226, grad=0.0000), Var(v=-0.0729, grad=0.0000), Var(v=0.0703, grad=0.0000), Var(v=-0.0225, grad=0.0000), Var(v=-0.0218, grad=0.0000), Var(v=-0.0774, grad=0.0000), Var(v=0.1195, grad=0.0000), Var(v=0.1038, grad=0.0000), Var(v=-0.0412, grad=0.0000), Var(v=-0.0082, grad=0.0000), Var(v=0.0417, grad=0.0000), Var(v=-0.0709, grad=0.0000), Var(v=0.0060, grad=0.0000), Var(v=-0.0553, grad=0.0000), Var(v=0.0200, grad=0.0000), Var(v=0.0211, grad=0.0000)], [Var(v=-0.0520, grad=0.0000), Var(v=-0.1404, grad=0.0000), Var(v=0.0480, grad=0.0000), Var(v=-0.1845, grad=0.0000), Var(v=0.0589, grad=0.0000), Var(v=-0.0530, grad=0.0000), Var(v=-0.0041, grad=0.0000), Var(v=0.0083, grad=0.0000), Var(v=-0.0150, grad=0.0000), Var(v=-0.0491, grad=0.0000), Var(v=0.1347, grad=0.0000), Var(v=-0.0475, grad=0.0000), Var(v=0.0744, grad=0.0000), Var(v=0.1985, grad=0.0000), Var(v=0.1736, grad=0.0000), Var(v=0.0555, grad=0.0000), Var(v=0.0756, grad=0.0000), Var(v=-0.1431, grad=0.0000), Var(v=0.0572, grad=0.0000), Var(v=-0.0068, grad=0.0000), Var(v=0.0848, grad=0.0000), Var(v=0.0437, grad=0.0000), Var(v=0.0194, grad=0.0000), Var(v=0.0525, grad=0.0000), Var(v=-0.0295, grad=0.0000), Var(v=-0.1381, grad=0.0000), Var(v=-0.0098, grad=0.0000), Var(v=-0.0299, grad=0.0000), Var(v=-0.1061, grad=0.0000), Var(v=-0.0988, grad=0.0000), Var(v=-0.0597, grad=0.0000), Var(v=0.1287, grad=0.0000), Var(v=0.1162, grad=0.0000), Var(v=0.1105, grad=0.0000), Var(v=0.1783, grad=0.0000), Var(v=0.0267, grad=0.0000), Var(v=0.0459, grad=0.0000), Var(v=-0.0244, grad=0.0000), Var(v=0.0263, grad=0.0000), Var(v=-0.1805, grad=0.0000), Var(v=-0.0762, grad=0.0000), Var(v=0.1147, grad=0.0000), Var(v=-0.0283, grad=0.0000), Var(v=-0.2016, grad=0.0000), Var(v=0.0632, grad=0.0000), Var(v=0.1268, grad=0.0000), Var(v=-0.0642, grad=0.0000), Var(v=0.0718, grad=0.0000), Var(v=0.0182, grad=0.0000), Var(v=0.0158, grad=0.0000)], [Var(v=-0.0980, grad=0.0000), Var(v=0.2393, grad=0.0000), Var(v=-0.0376, grad=0.0000), Var(v=0.0504, grad=0.0000), Var(v=-0.2026, grad=0.0000), Var(v=0.1441, grad=0.0000), Var(v=-0.0539, grad=0.0000), Var(v=0.1183, grad=0.0000), Var(v=0.0041, grad=0.0000), Var(v=-0.0283, grad=0.0000), Var(v=-0.0683, grad=0.0000), Var(v=0.0227, grad=0.0000), Var(v=-0.0601, grad=0.0000), Var(v=0.0853, grad=0.0000), Var(v=-0.0053, grad=0.0000), Var(v=-0.0306, grad=0.0000), Var(v=-0.1458, grad=0.0000), Var(v=-0.0360, grad=0.0000), Var(v=-0.0853, grad=0.0000), Var(v=-0.0603, grad=0.0000), Var(v=0.0623, grad=0.0000), Var(v=-0.0806, grad=0.0000), Var(v=-0.1422, grad=0.0000), Var(v=-0.1307, grad=0.0000), Var(v=-0.1552, grad=0.0000), Var(v=-0.0904, grad=0.0000), Var(v=-0.0597, grad=0.0000), Var(v=-0.1896, grad=0.0000), Var(v=0.0715, grad=0.0000), Var(v=0.1101, grad=0.0000), Var(v=0.0361, grad=0.0000), Var(v=-0.1109, grad=0.0000), Var(v=-0.0306, grad=0.0000), Var(v=0.0846, grad=0.0000), Var(v=0.0117, grad=0.0000), Var(v=-0.1056, grad=0.0000), Var(v=-0.0437, grad=0.0000), Var(v=-0.0173, grad=0.0000), Var(v=0.0642, grad=0.0000), Var(v=-0.0385, grad=0.0000), Var(v=0.1043, grad=0.0000), Var(v=-0.1284, grad=0.0000), Var(v=0.1843, grad=0.0000), Var(v=0.1769, grad=0.0000), Var(v=0.1634, grad=0.0000), Var(v=0.1078, grad=0.0000), Var(v=0.1239, grad=0.0000), Var(v=-0.1447, grad=0.0000), Var(v=-0.0350, grad=0.0000), Var(v=-0.0107, grad=0.0000)], [Var(v=-0.0795, grad=0.0000), Var(v=-0.2219, grad=0.0000), Var(v=0.1430, grad=0.0000), Var(v=-0.0663, grad=0.0000), Var(v=0.2075, grad=0.0000), Var(v=-0.0064, grad=0.0000), Var(v=-0.0415, grad=0.0000), Var(v=0.0205, grad=0.0000), Var(v=-0.0158, grad=0.0000), Var(v=-0.0910, grad=0.0000), Var(v=-0.1394, grad=0.0000), Var(v=0.1515, grad=0.0000), Var(v=-0.1110, grad=0.0000), Var(v=0.1206, grad=0.0000), Var(v=-0.0600, grad=0.0000), Var(v=0.0870, grad=0.0000), Var(v=-0.1673, grad=0.0000), Var(v=-0.1159, grad=0.0000), Var(v=0.1671, grad=0.0000), Var(v=-0.0764, grad=0.0000), Var(v=0.1763, grad=0.0000), Var(v=0.0856, grad=0.0000), Var(v=0.0587, grad=0.0000), Var(v=0.0572, grad=0.0000), Var(v=0.1165, grad=0.0000), Var(v=0.0509, grad=0.0000), Var(v=0.0474, grad=0.0000), Var(v=-0.0012, grad=0.0000), Var(v=0.0915, grad=0.0000), Var(v=-0.0015, grad=0.0000), Var(v=-0.1006, grad=0.0000), Var(v=-0.1111, grad=0.0000), Var(v=-0.1479, grad=0.0000), Var(v=-0.1197, grad=0.0000), Var(v=0.0436, grad=0.0000), Var(v=-0.0062, grad=0.0000), Var(v=0.0389, grad=0.0000), Var(v=-0.1168, grad=0.0000), Var(v=0.1300, grad=0.0000), Var(v=0.0299, grad=0.0000), Var(v=0.0913, grad=0.0000), Var(v=0.1020, grad=0.0000), Var(v=0.0024, grad=0.0000), Var(v=-0.1494, grad=0.0000), Var(v=0.0071, grad=0.0000), Var(v=-0.0044, grad=0.0000), Var(v=0.0427, grad=0.0000), Var(v=0.0523, grad=0.0000), Var(v=-0.0360, grad=0.0000), Var(v=0.0925, grad=0.0000)], [Var(v=0.0360, grad=0.0000), Var(v=-0.0872, grad=0.0000), Var(v=0.0844, grad=0.0000), Var(v=-0.0483, grad=0.0000), Var(v=0.2329, grad=0.0000), Var(v=0.1712, grad=0.0000), Var(v=0.0573, grad=0.0000), Var(v=-0.0471, grad=0.0000), Var(v=0.1333, grad=0.0000), Var(v=-0.2557, grad=0.0000), Var(v=-0.0678, grad=0.0000), Var(v=0.1786, grad=0.0000), Var(v=-0.0824, grad=0.0000), Var(v=-0.0995, grad=0.0000), Var(v=-0.0103, grad=0.0000), Var(v=-0.0275, grad=0.0000), Var(v=-0.0375, grad=0.0000), Var(v=0.1337, grad=0.0000), Var(v=-0.0535, grad=0.0000), Var(v=0.0802, grad=0.0000), Var(v=-0.1159, grad=0.0000), Var(v=-0.0804, grad=0.0000), Var(v=-0.0580, grad=0.0000), Var(v=-0.1448, grad=0.0000), Var(v=0.0110, grad=0.0000), Var(v=0.1639, grad=0.0000), Var(v=-0.0498, grad=0.0000), Var(v=0.1139, grad=0.0000), Var(v=-0.0194, grad=0.0000), Var(v=-0.0358, grad=0.0000), Var(v=0.0035, grad=0.0000), Var(v=0.0584, grad=0.0000), Var(v=0.0052, grad=0.0000), Var(v=-0.2370, grad=0.0000), Var(v=0.2296, grad=0.0000), Var(v=0.0426, grad=0.0000), Var(v=-0.1402, grad=0.0000), Var(v=-0.1375, grad=0.0000), Var(v=0.0823, grad=0.0000), Var(v=-0.0594, grad=0.0000), Var(v=-0.1271, grad=0.0000), Var(v=-0.0090, grad=0.0000), Var(v=0.0291, grad=0.0000), Var(v=0.0410, grad=0.0000), Var(v=-0.0237, grad=0.0000), Var(v=-0.1335, grad=0.0000), Var(v=0.1442, grad=0.0000), Var(v=0.0152, grad=0.0000), Var(v=-0.0495, grad=0.0000), Var(v=0.0113, grad=0.0000)], [Var(v=-0.0230, grad=0.0000), Var(v=-0.0974, grad=0.0000), Var(v=0.0363, grad=0.0000), Var(v=-0.0911, grad=0.0000), Var(v=-0.0147, grad=0.0000), Var(v=0.0216, grad=0.0000), Var(v=-0.0704, grad=0.0000), Var(v=-0.1212, grad=0.0000), Var(v=-0.0641, grad=0.0000), Var(v=-0.1011, grad=0.0000), Var(v=-0.2170, grad=0.0000), Var(v=-0.0477, grad=0.0000), Var(v=-0.0769, grad=0.0000), Var(v=-0.1381, grad=0.0000), Var(v=0.0459, grad=0.0000), Var(v=-0.1407, grad=0.0000), Var(v=0.0625, grad=0.0000), Var(v=0.0976, grad=0.0000), Var(v=0.1410, grad=0.0000), Var(v=0.0494, grad=0.0000), Var(v=-0.0647, grad=0.0000), Var(v=0.0599, grad=0.0000), Var(v=-0.1083, grad=0.0000), Var(v=0.0549, grad=0.0000), Var(v=0.1428, grad=0.0000), Var(v=-0.0594, grad=0.0000), Var(v=-0.0057, grad=0.0000), Var(v=0.1400, grad=0.0000), Var(v=-0.0099, grad=0.0000), Var(v=0.0514, grad=0.0000), Var(v=-0.1530, grad=0.0000), Var(v=0.1448, grad=0.0000), Var(v=0.0045, grad=0.0000), Var(v=0.1521, grad=0.0000), Var(v=-0.0457, grad=0.0000), Var(v=0.0924, grad=0.0000), Var(v=0.0095, grad=0.0000), Var(v=-0.0012, grad=0.0000), Var(v=0.2218, grad=0.0000), Var(v=0.0399, grad=0.0000), Var(v=0.0732, grad=0.0000), Var(v=-0.1548, grad=0.0000), Var(v=-0.0953, grad=0.0000), Var(v=-0.1056, grad=0.0000), Var(v=-0.0484, grad=0.0000), Var(v=-0.1120, grad=0.0000), Var(v=-0.0173, grad=0.0000), Var(v=0.0895, grad=0.0000), Var(v=0.0286, grad=0.0000), Var(v=0.0044, grad=0.0000)], [Var(v=-0.0185, grad=0.0000), Var(v=0.0904, grad=0.0000), Var(v=0.1375, grad=0.0000), Var(v=-0.0327, grad=0.0000), Var(v=0.0297, grad=0.0000), Var(v=0.0270, grad=0.0000), Var(v=0.2811, grad=0.0000), Var(v=0.1674, grad=0.0000), Var(v=0.0065, grad=0.0000), Var(v=-0.0045, grad=0.0000), Var(v=-0.0988, grad=0.0000), Var(v=-0.3583, grad=0.0000), Var(v=0.0038, grad=0.0000), Var(v=0.0126, grad=0.0000), Var(v=-0.1645, grad=0.0000), Var(v=0.0446, grad=0.0000), Var(v=-0.0258, grad=0.0000), Var(v=-0.1593, grad=0.0000), Var(v=-0.1192, grad=0.0000), Var(v=-0.0009, grad=0.0000), Var(v=-0.0923, grad=0.0000), Var(v=0.2304, grad=0.0000), Var(v=0.1234, grad=0.0000), Var(v=0.0919, grad=0.0000), Var(v=0.0956, grad=0.0000), Var(v=-0.1140, grad=0.0000), Var(v=-0.1327, grad=0.0000), Var(v=-0.1356, grad=0.0000), Var(v=-0.0018, grad=0.0000), Var(v=0.1747, grad=0.0000), Var(v=0.1498, grad=0.0000), Var(v=-0.0247, grad=0.0000), Var(v=0.0976, grad=0.0000), Var(v=0.2138, grad=0.0000), Var(v=-0.0298, grad=0.0000), Var(v=0.0858, grad=0.0000), Var(v=-0.0518, grad=0.0000), Var(v=-0.0629, grad=0.0000), Var(v=-0.0960, grad=0.0000), Var(v=-0.0173, grad=0.0000), Var(v=0.0789, grad=0.0000), Var(v=-0.0126, grad=0.0000), Var(v=-0.0424, grad=0.0000), Var(v=-0.0332, grad=0.0000), Var(v=0.0017, grad=0.0000), Var(v=0.0388, grad=0.0000), Var(v=-0.1861, grad=0.0000), Var(v=0.0564, grad=0.0000), Var(v=-0.1230, grad=0.0000), Var(v=-0.0993, grad=0.0000)], [Var(v=-0.0680, grad=0.0000), Var(v=0.0613, grad=0.0000), Var(v=0.0589, grad=0.0000), Var(v=0.2238, grad=0.0000), Var(v=-0.0179, grad=0.0000), Var(v=-0.0599, grad=0.0000), Var(v=-0.0493, grad=0.0000), Var(v=0.0222, grad=0.0000), Var(v=-0.0795, grad=0.0000), Var(v=0.0636, grad=0.0000), Var(v=-0.0619, grad=0.0000), Var(v=-0.0031, grad=0.0000), Var(v=0.0873, grad=0.0000), Var(v=0.1240, grad=0.0000), Var(v=-0.0777, grad=0.0000), Var(v=0.0177, grad=0.0000), Var(v=0.0226, grad=0.0000), Var(v=-0.1396, grad=0.0000), Var(v=0.1780, grad=0.0000), Var(v=0.0495, grad=0.0000), Var(v=-0.0366, grad=0.0000), Var(v=0.0979, grad=0.0000), Var(v=0.0299, grad=0.0000), Var(v=0.0489, grad=0.0000), Var(v=-0.0806, grad=0.0000), Var(v=-0.1319, grad=0.0000), Var(v=0.1019, grad=0.0000), Var(v=0.0998, grad=0.0000), Var(v=0.0368, grad=0.0000), Var(v=0.1133, grad=0.0000), Var(v=0.0127, grad=0.0000), Var(v=0.1236, grad=0.0000), Var(v=-0.0862, grad=0.0000), Var(v=-0.0992, grad=0.0000), Var(v=0.1581, grad=0.0000), Var(v=-0.0984, grad=0.0000), Var(v=0.0457, grad=0.0000), Var(v=0.2303, grad=0.0000), Var(v=-0.0273, grad=0.0000), Var(v=0.0196, grad=0.0000), Var(v=0.0721, grad=0.0000), Var(v=-0.0724, grad=0.0000), Var(v=0.0981, grad=0.0000), Var(v=0.0664, grad=0.0000), Var(v=0.0816, grad=0.0000), Var(v=-0.0720, grad=0.0000), Var(v=-0.0270, grad=0.0000), Var(v=0.0303, grad=0.0000), Var(v=0.0388, grad=0.0000), Var(v=-0.1155, grad=0.0000)], [Var(v=0.1001, grad=0.0000), Var(v=-0.0586, grad=0.0000), Var(v=-0.0263, grad=0.0000), Var(v=0.0554, grad=0.0000), Var(v=-0.0463, grad=0.0000), Var(v=0.1039, grad=0.0000), Var(v=-0.0805, grad=0.0000), Var(v=-0.0836, grad=0.0000), Var(v=0.0150, grad=0.0000), Var(v=0.0194, grad=0.0000), Var(v=-0.0841, grad=0.0000), Var(v=0.2141, grad=0.0000), Var(v=-0.0417, grad=0.0000), Var(v=0.1512, grad=0.0000), Var(v=0.1732, grad=0.0000), Var(v=0.1146, grad=0.0000), Var(v=0.0235, grad=0.0000), Var(v=-0.0735, grad=0.0000), Var(v=-0.0125, grad=0.0000), Var(v=-0.1590, grad=0.0000), Var(v=-0.0597, grad=0.0000), Var(v=-0.0559, grad=0.0000), Var(v=0.0912, grad=0.0000), Var(v=0.1122, grad=0.0000), Var(v=-0.0250, grad=0.0000), Var(v=-0.0161, grad=0.0000), Var(v=0.1177, grad=0.0000), Var(v=0.1163, grad=0.0000), Var(v=0.1896, grad=0.0000), Var(v=-0.0351, grad=0.0000), Var(v=0.0085, grad=0.0000), Var(v=0.1746, grad=0.0000), Var(v=-0.0271, grad=0.0000), Var(v=-0.0848, grad=0.0000), Var(v=-0.0202, grad=0.0000), Var(v=-0.0666, grad=0.0000), Var(v=0.0525, grad=0.0000), Var(v=-0.0695, grad=0.0000), Var(v=0.1094, grad=0.0000), Var(v=0.0287, grad=0.0000), Var(v=-0.0192, grad=0.0000), Var(v=-0.0388, grad=0.0000), Var(v=-0.0459, grad=0.0000), Var(v=0.0071, grad=0.0000), Var(v=0.0091, grad=0.0000), Var(v=0.0014, grad=0.0000), Var(v=0.0843, grad=0.0000), Var(v=-0.2273, grad=0.0000), Var(v=0.0313, grad=0.0000), Var(v=0.0226, grad=0.0000)], [Var(v=-0.1682, grad=0.0000), Var(v=-0.1121, grad=0.0000), Var(v=-0.0142, grad=0.0000), Var(v=-0.0005, grad=0.0000), Var(v=-0.1236, grad=0.0000), Var(v=-0.1059, grad=0.0000), Var(v=-0.0699, grad=0.0000), Var(v=-0.1441, grad=0.0000), Var(v=0.0391, grad=0.0000), Var(v=-0.1460, grad=0.0000), Var(v=0.0377, grad=0.0000), Var(v=0.0293, grad=0.0000), Var(v=0.1150, grad=0.0000), Var(v=0.0328, grad=0.0000), Var(v=-0.1097, grad=0.0000), Var(v=-0.0012, grad=0.0000), Var(v=-0.1222, grad=0.0000), Var(v=-0.0782, grad=0.0000), Var(v=0.0535, grad=0.0000), Var(v=-0.0098, grad=0.0000), Var(v=0.0153, grad=0.0000), Var(v=0.0509, grad=0.0000), Var(v=-0.1471, grad=0.0000), Var(v=-0.0561, grad=0.0000), Var(v=0.1645, grad=0.0000), Var(v=0.0443, grad=0.0000), Var(v=0.1114, grad=0.0000), Var(v=-0.1016, grad=0.0000), Var(v=-0.0728, grad=0.0000), Var(v=0.0800, grad=0.0000), Var(v=0.0817, grad=0.0000), Var(v=0.0600, grad=0.0000), Var(v=-0.0198, grad=0.0000), Var(v=0.0451, grad=0.0000), Var(v=-0.0342, grad=0.0000), Var(v=-0.1045, grad=0.0000), Var(v=-0.0027, grad=0.0000), Var(v=0.0809, grad=0.0000), Var(v=0.0238, grad=0.0000), Var(v=0.0925, grad=0.0000), Var(v=0.0710, grad=0.0000), Var(v=0.0058, grad=0.0000), Var(v=0.0723, grad=0.0000), Var(v=0.0275, grad=0.0000), Var(v=-0.0573, grad=0.0000), Var(v=0.1107, grad=0.0000), Var(v=-0.0611, grad=0.0000), Var(v=0.0160, grad=0.0000), Var(v=0.1622, grad=0.0000), Var(v=-0.0427, grad=0.0000)], [Var(v=0.0430, grad=0.0000), Var(v=-0.0656, grad=0.0000), Var(v=0.0600, grad=0.0000), Var(v=-0.1209, grad=0.0000), Var(v=0.0129, grad=0.0000), Var(v=-0.0592, grad=0.0000), Var(v=0.0400, grad=0.0000), Var(v=-0.0171, grad=0.0000), Var(v=-0.1256, grad=0.0000), Var(v=-0.0797, grad=0.0000), Var(v=0.0057, grad=0.0000), Var(v=0.0897, grad=0.0000), Var(v=-0.0859, grad=0.0000), Var(v=0.1830, grad=0.0000), Var(v=-0.1157, grad=0.0000), Var(v=0.1066, grad=0.0000), Var(v=-0.0889, grad=0.0000), Var(v=0.0805, grad=0.0000), Var(v=-0.0596, grad=0.0000), Var(v=0.0495, grad=0.0000), Var(v=-0.1089, grad=0.0000), Var(v=0.0261, grad=0.0000), Var(v=-0.1168, grad=0.0000), Var(v=0.0589, grad=0.0000), Var(v=-0.0218, grad=0.0000), Var(v=0.0482, grad=0.0000), Var(v=-0.1228, grad=0.0000), Var(v=-0.0760, grad=0.0000), Var(v=0.0733, grad=0.0000), Var(v=-0.0073, grad=0.0000), Var(v=0.0767, grad=0.0000), Var(v=-0.0488, grad=0.0000), Var(v=0.0216, grad=0.0000), Var(v=-0.1021, grad=0.0000), Var(v=-0.1707, grad=0.0000), Var(v=0.1442, grad=0.0000), Var(v=-0.1705, grad=0.0000), Var(v=-0.0926, grad=0.0000), Var(v=0.1652, grad=0.0000), Var(v=-0.1452, grad=0.0000), Var(v=0.0562, grad=0.0000), Var(v=0.0124, grad=0.0000), Var(v=-0.0935, grad=0.0000), Var(v=0.0673, grad=0.0000), Var(v=-0.0336, grad=0.0000), Var(v=-0.0298, grad=0.0000), Var(v=0.0311, grad=0.0000), Var(v=0.0384, grad=0.0000), Var(v=-0.0260, grad=0.0000), Var(v=-0.0669, grad=0.0000)], [Var(v=0.2684, grad=0.0000), Var(v=0.1023, grad=0.0000), Var(v=0.0080, grad=0.0000), Var(v=-0.1075, grad=0.0000), Var(v=0.1242, grad=0.0000), Var(v=-0.0436, grad=0.0000), Var(v=-0.0564, grad=0.0000), Var(v=-0.1048, grad=0.0000), Var(v=0.2006, grad=0.0000), Var(v=-0.1082, grad=0.0000), Var(v=-0.0278, grad=0.0000), Var(v=0.1813, grad=0.0000), Var(v=-0.0246, grad=0.0000), Var(v=0.0153, grad=0.0000), Var(v=0.2094, grad=0.0000), Var(v=0.0068, grad=0.0000), Var(v=0.0519, grad=0.0000), Var(v=0.0068, grad=0.0000), Var(v=0.1407, grad=0.0000), Var(v=-0.2884, grad=0.0000), Var(v=0.2353, grad=0.0000), Var(v=0.0601, grad=0.0000), Var(v=0.1291, grad=0.0000), Var(v=-0.0513, grad=0.0000), Var(v=-0.1170, grad=0.0000), Var(v=0.0141, grad=0.0000), Var(v=0.0304, grad=0.0000), Var(v=0.0139, grad=0.0000), Var(v=-0.0886, grad=0.0000), Var(v=0.0091, grad=0.0000), Var(v=0.0241, grad=0.0000), Var(v=-0.0375, grad=0.0000), Var(v=-0.0049, grad=0.0000), Var(v=-0.0360, grad=0.0000), Var(v=-0.0639, grad=0.0000), Var(v=0.2345, grad=0.0000), Var(v=0.0406, grad=0.0000), Var(v=-0.0911, grad=0.0000), Var(v=-0.0315, grad=0.0000), Var(v=0.0355, grad=0.0000), Var(v=0.0027, grad=0.0000), Var(v=0.0334, grad=0.0000), Var(v=-0.0117, grad=0.0000), Var(v=-0.1197, grad=0.0000), Var(v=0.1534, grad=0.0000), Var(v=-0.0844, grad=0.0000), Var(v=0.1814, grad=0.0000), Var(v=-0.0674, grad=0.0000), Var(v=-0.0882, grad=0.0000), Var(v=0.0766, grad=0.0000)]] Biases: [Var(v=0.0000, grad=0.0000), Var(v=0.0000, grad=0.0000), Var(v=0.0000, grad=0.0000), Var(v=0.0000, grad=0.0000), Var(v=0.0000, grad=0.0000), Var(v=0.0000, grad=0.0000), Var(v=0.0000, grad=0.0000), Var(v=0.0000, grad=0.0000), Var(v=0.0000, grad=0.0000), Var(v=0.0000, grad=0.0000), Var(v=0.0000, grad=0.0000), Var(v=0.0000, grad=0.0000), Var(v=0.0000, grad=0.0000), Var(v=0.0000, grad=0.0000), Var(v=0.0000, grad=0.0000), Var(v=0.0000, grad=0.0000), Var(v=0.0000, grad=0.0000), Var(v=0.0000, grad=0.0000), Var(v=0.0000, grad=0.0000), Var(v=0.0000, grad=0.0000), Var(v=0.0000, grad=0.0000), Var(v=0.0000, grad=0.0000), Var(v=0.0000, grad=0.0000), Var(v=0.0000, grad=0.0000), Var(v=0.0000, grad=0.0000), Var(v=0.0000, grad=0.0000), Var(v=0.0000, grad=0.0000), Var(v=0.0000, grad=0.0000), Var(v=0.0000, grad=0.0000), Var(v=0.0000, grad=0.0000), Var(v=0.0000, grad=0.0000), Var(v=0.0000, grad=0.0000), Var(v=0.0000, grad=0.0000), Var(v=0.0000, grad=0.0000), Var(v=0.0000, grad=0.0000), Var(v=0.0000, grad=0.0000), Var(v=0.0000, grad=0.0000), Var(v=0.0000, grad=0.0000), Var(v=0.0000, grad=0.0000), Var(v=0.0000, grad=0.0000), Var(v=0.0000, grad=0.0000), Var(v=0.0000, grad=0.0000), Var(v=0.0000, grad=0.0000), Var(v=0.0000, grad=0.0000), Var(v=0.0000, grad=0.0000), Var(v=0.0000, grad=0.0000), Var(v=0.0000, grad=0.0000), Var(v=0.0000, grad=0.0000), Var(v=0.0000, grad=0.0000), Var(v=0.0000, grad=0.0000)]\n",
      "Layer 2 \n",
      " Weights: [[Var(v=0.1259, grad=0.0000)], [Var(v=0.1001, grad=0.0000)], [Var(v=0.0469, grad=0.0000)], [Var(v=0.0235, grad=0.0000)], [Var(v=-0.1436, grad=0.0000)], [Var(v=-0.0939, grad=0.0000)], [Var(v=-0.0325, grad=0.0000)], [Var(v=0.0222, grad=0.0000)], [Var(v=-0.0984, grad=0.0000)], [Var(v=0.0655, grad=0.0000)], [Var(v=0.0555, grad=0.0000)], [Var(v=0.0674, grad=0.0000)], [Var(v=-0.0067, grad=0.0000)], [Var(v=-0.0809, grad=0.0000)], [Var(v=0.0027, grad=0.0000)], [Var(v=-0.1017, grad=0.0000)], [Var(v=0.1347, grad=0.0000)], [Var(v=0.1161, grad=0.0000)], [Var(v=-0.0783, grad=0.0000)], [Var(v=-0.0714, grad=0.0000)], [Var(v=0.0044, grad=0.0000)], [Var(v=0.0474, grad=0.0000)], [Var(v=0.0914, grad=0.0000)], [Var(v=-0.0201, grad=0.0000)], [Var(v=-0.0661, grad=0.0000)], [Var(v=0.0872, grad=0.0000)], [Var(v=-0.0453, grad=0.0000)], [Var(v=0.0057, grad=0.0000)], [Var(v=0.1406, grad=0.0000)], [Var(v=-0.0051, grad=0.0000)], [Var(v=-0.1653, grad=0.0000)], [Var(v=0.1622, grad=0.0000)], [Var(v=-0.0684, grad=0.0000)], [Var(v=0.0205, grad=0.0000)], [Var(v=0.0438, grad=0.0000)], [Var(v=-0.1548, grad=0.0000)], [Var(v=-0.1727, grad=0.0000)], [Var(v=0.0205, grad=0.0000)], [Var(v=-0.0046, grad=0.0000)], [Var(v=-0.0635, grad=0.0000)], [Var(v=0.0127, grad=0.0000)], [Var(v=-0.1018, grad=0.0000)], [Var(v=0.0273, grad=0.0000)], [Var(v=-0.0590, grad=0.0000)], [Var(v=-0.1019, grad=0.0000)], [Var(v=0.0644, grad=0.0000)], [Var(v=-0.0768, grad=0.0000)], [Var(v=-0.0693, grad=0.0000)], [Var(v=-0.2110, grad=0.0000)], [Var(v=-0.0403, grad=0.0000)]] Biases: [Var(v=0.0000, grad=0.0000)]\n"
     ]
    },
    {
     "data": {
      "text/plain": [
       "[None, None, None]"
      ]
     },
     "execution_count": 31,
     "metadata": {},
     "output_type": "execute_result"
    }
   ],
   "source": [
    "print('Network before update:')\n",
    "[print('Layer', i, '\\n', NN[i]) for i in range(len(NN))] \n",
    "\n",
    "def parameters(network):\n",
    "  params = []\n",
    "  for layer in range(len(network)):\n",
    "    params += network[layer].parameters()\n",
    "  return params\n",
    "\n",
    "def update_parameters(params, learning_rate=0.01):\n",
    "  for p in params:\n",
    "    p.v -= learning_rate*p.grad\n",
    "\n",
    "def zero_gradients(params):\n",
    "  for p in params:\n",
    "    p.grad = 0.0\n",
    "\n",
    "update_parameters(parameters(NN))\n",
    "\n",
    "print('\\nNetwork after update:')\n",
    "[print('Layer', i, '\\n', NN[i]) for i in range(len(NN))] \n",
    "\n",
    "zero_gradients(parameters(NN))\n",
    "\n",
    "print('\\nNetwork after zeroing gradients:')\n",
    "[print('Layer', i, '\\n', NN[i]) for i in range(len(NN))] "
   ]
  },
  {
   "cell_type": "code",
   "execution_count": 32,
   "metadata": {
    "id": "woWYpdw6FtIO"
   },
   "outputs": [],
   "source": [
    "# Initialize an arbitrary neural network\n",
    "NN = [\n",
    "    DenseLayer(1, 8, lambda x: x.relu()),\n",
    "    DenseLayer(8, 1, lambda x: x.identity())\n",
    "]\n",
    "\n",
    "# Recommended hyper-parameters for 3-D: \n",
    "#NN = [\n",
    "#    DenseLayer(3, 16, lambda x: x.relu()),\n",
    "#    DenseLayer(16, 1, lambda x: x.identity())\n",
    "#]\n",
    "\n",
    "\n",
    "### Notice that, when we switch from tanh to relu activation, we decrease the learning rate. This is due the stability of the gradients \n",
    "## of the activation functions."
   ]
  },
  {
   "cell_type": "code",
   "execution_count": 33,
   "metadata": {
    "id": "mdqaqYBVFtIR"
   },
   "outputs": [],
   "source": [
    "# Initialize training hyperparameters\n",
    "EPOCHS = 200\n",
    "LEARN_R = 2e-3 "
   ]
  },
  {
   "cell_type": "code",
   "execution_count": 34,
   "metadata": {
    "colab": {
     "base_uri": "https://localhost:8080/"
    },
    "id": "5kfg76GMFtIW",
    "outputId": "e30cf68a-31f2-42b4-cc5e-860c297c0f04",
    "scrolled": true
   },
   "outputs": [
    {
     "name": "stdout",
     "output_type": "stream",
     "text": [
      "   0 ( 0.00%) Train loss: 105.000 \t Validation loss: 107.757\n",
      "  10 ( 5.00%) Train loss: 105.000 \t Validation loss: 107.757\n",
      "  20 (10.00%) Train loss: 105.000 \t Validation loss: 107.757\n",
      "  30 (15.00%) Train loss: 105.000 \t Validation loss: 107.757\n",
      "  40 (20.00%) Train loss: 105.000 \t Validation loss: 107.757\n",
      "  50 (25.00%) Train loss: 105.000 \t Validation loss: 107.757\n",
      "  60 (30.00%) Train loss: 105.000 \t Validation loss: 107.757\n",
      "  70 (35.00%) Train loss: 105.000 \t Validation loss: 107.757\n",
      "  80 (40.00%) Train loss: 105.000 \t Validation loss: 107.757\n",
      "  90 (45.00%) Train loss: 105.000 \t Validation loss: 107.757\n",
      " 100 (50.00%) Train loss: 105.000 \t Validation loss: 107.757\n",
      " 110 (55.00%) Train loss: 105.000 \t Validation loss: 107.757\n",
      " 120 (60.00%) Train loss: 105.000 \t Validation loss: 107.757\n",
      " 130 (65.00%) Train loss: 105.000 \t Validation loss: 107.757\n",
      " 140 (70.00%) Train loss: 105.000 \t Validation loss: 107.757\n",
      " 150 (75.00%) Train loss: 105.000 \t Validation loss: 107.757\n",
      " 160 (80.00%) Train loss: 105.000 \t Validation loss: 107.757\n",
      " 170 (85.00%) Train loss: 105.000 \t Validation loss: 107.757\n",
      " 180 (90.00%) Train loss: 105.000 \t Validation loss: 107.757\n",
      " 190 (95.00%) Train loss: 105.000 \t Validation loss: 107.757\n"
     ]
    }
   ],
   "source": [
    "train_loss = []\n",
    "val_loss = []\n",
    "\n",
    "for e in range(EPOCHS):\n",
    "     \n",
    "    # Forward pass and loss computation\n",
    "    Loss = squared_loss(y_train, forward(x_train, NN))\n",
    "\n",
    "    # Backward pass\n",
    "    Loss.backward()\n",
    "    \n",
    "    # gradient descent update\n",
    "    update_parameters(parameters(NN), LEARN_R)\n",
    "    zero_gradients(parameters(NN))\n",
    "    \n",
    "    # Training loss\n",
    "    train_loss.append(Loss.v)\n",
    "    \n",
    "    # Validation\n",
    "    Loss_validation = squared_loss(y_validation, forward(x_validation, NN))\n",
    "    val_loss.append(Loss_validation.v)\n",
    "    \n",
    "    if e%10==0:\n",
    "        print(\"{:4d}\".format(e),\n",
    "              \"({:5.2f}%)\".format(e/EPOCHS*100), \n",
    "              \"Train loss: {:4.3f} \\t Validation loss: {:4.3f}\".format(train_loss[-1], val_loss[-1]))\n",
    "        \n"
   ]
  },
  {
   "cell_type": "code",
   "execution_count": 35,
   "metadata": {
    "colab": {
     "base_uri": "https://localhost:8080/",
     "height": 265
    },
    "id": "VetyRWFwFtIY",
    "outputId": "344e490d-6d7d-455a-fa6f-88dd11eb957e"
   },
   "outputs": [
    {
     "data": {
      "image/png": "[encoded data removed]",
      "text/plain": [
       "<Figure size 432x288 with 1 Axes>"
      ]
     },
     "metadata": {
      "needs_background": "light"
     },
     "output_type": "display_data"
    }
   ],
   "source": [
    "plt.plot(range(len(train_loss)), train_loss);\n",
    "plt.plot(range(len(val_loss)), val_loss);"
   ]
  },
  {
   "cell_type": "markdown",
   "metadata": {
    "id": "8OgmIrM9FtIb"
   },
   "source": [
    "# Testing\n",
    "\n",
    "We have kept the calculation of the test error separate in order to emphasize that you should not use the test set in optimization."
   ]
  },
  {
   "cell_type": "code",
   "execution_count": 36,
   "metadata": {
    "id": "HmNi7S-vFtIc"
   },
   "outputs": [],
   "source": [
    "output_test = forward(x_test, NN)"
   ]
  },
  {
   "cell_type": "code",
   "execution_count": 37,
   "metadata": {
    "colab": {
     "base_uri": "https://localhost:8080/",
     "height": 316
    },
    "id": "7mmJOTSEFtIf",
    "outputId": "e3264095-cefe-4aee-893d-bf152438e332"
   },
   "outputs": [
    {
     "name": "stdout",
     "output_type": "stream",
     "text": [
      "Test loss:  100.013\n"
     ]
    },
    {
     "data": {
      "image/png": "[encoded data removed]",
      "text/plain": [
       "<Figure size 432x288 with 1 Axes>"
      ]
     },
     "metadata": {
      "needs_background": "light"
     },
     "output_type": "display_data"
    }
   ],
   "source": [
    "y_test_np = Var_to_nparray(y_test)\n",
    "plt.scatter(y_test_np, Var_to_nparray(output_test));\n",
    "plt.plot([np.min(y_test_np), np.max(y_test_np)], [np.min(y_test_np), np.max(y_test_np)], color='k');\n",
    "plt.xlabel(\"y\");\n",
    "plt.ylabel(\"$\\hat{y}$\");\n",
    "plt.title(\"Model prediction vs real in the test set, the close to the line the better\")\n",
    "plt.grid(True);\n",
    "plt.axis('equal');\n",
    "plt.tight_layout();\n",
    "\n",
    "Loss_test = squared_loss(y_test, forward(x_test, NN))\n",
    "\n",
    "print(\"Test loss:  {:4.3f}\".format(Loss_test.v))"
   ]
  },
  {
   "cell_type": "code",
   "execution_count": 38,
   "metadata": {
    "colab": {
     "base_uri": "https://localhost:8080/",
     "height": 279
    },
    "id": "ODi0WlmQFtIh",
    "outputId": "d1ab874f-0717-4987-87bf-1f0c7c8e7148"
   },
   "outputs": [
    {
     "data": {
      "image/png": "[encoded data removed]",
      "text/plain": [
       "<Figure size 432x288 with 1 Axes>"
      ]
     },
     "metadata": {
      "needs_background": "light"
     },
     "output_type": "display_data"
    }
   ],
   "source": [
    "x_test_np = Var_to_nparray(x_test)\n",
    "x_train_np = Var_to_nparray(x_train)\n",
    "y_train_np = Var_to_nparray(y_train)\n",
    "if D1:\n",
    "    plt.scatter(x_train_np, y_train_np, label=\"train data\");\n",
    "    plt.scatter(x_test_np, Var_to_nparray(output_test), label=\"test prediction\");\n",
    "    plt.scatter(x_test_np, y_test_np, label=\"test data\");\n",
    "    plt.legend();\n",
    "    plt.xlabel(\"x\");\n",
    "    plt.ylabel(\"y\");\n",
    "else:\n",
    "    plt.scatter(x_train_np[:,1], y_train, label=\"train data\");\n",
    "    plt.scatter(x_test_np[:,1], Var_to_nparray(output_test), label=\"test data prediction\");\n",
    "    plt.scatter(x_test_np[:,1], y_test_np, label=\"test data\");\n",
    "    plt.legend();\n",
    "    plt.xlabel(\"x\");\n",
    "    plt.ylabel(\"y\");"
   ]
  },
  {
   "cell_type": "markdown",
   "metadata": {
    "id": "zTBAmjsAFtIk"
   },
   "source": [
    "## Exercise k) Show overfitting, underfitting and just right fitting\n",
    "\n",
    "Vary the architecture and other things to show clear signs of overfitting (=training loss significantly lower than test loss) and underfitting (=not fitting enoung to training data so that test performance is also hurt).\n",
    "\n",
    "See also if you can get a good compromise which leads to a low validation loss. \n",
    "\n",
    "For this problem do you see any big difference between validation and test loss? The answer here will probably be no. Discuss cases where it is important to keep the two separate.\n",
    "\n",
    "_Insert written answer here._\n"
   ]
  },
  {
   "cell_type": "code",
   "execution_count": 39,
   "metadata": {
    "id": "tQZCn2dxFtIl"
   },
   "outputs": [],
   "source": [
    "# Insert your code for getting overfitting, underfitting and just right fitting"
   ]
  },
  {
   "cell_type": "markdown",
   "metadata": {
    "id": "fYPZP-eTFtIo"
   },
   "source": [
    "# Next steps - classification\n",
    "\n",
    "It is straight forward to extend what we have done to classification. \n",
    "\n",
    "For numerical stability it is better to make softmax and cross-entropy as one function so we write the cross entropy loss as a function of the logits we talked about last week. \n",
    "\n",
    "Next week we will see how to perform classification in PyTorch."
   ]
  },
  {
   "cell_type": "code",
   "execution_count": null,
   "metadata": {},
   "outputs": [],
   "source": []
  }
 ],
 "metadata": {
  "anaconda-cloud": {},
  "colab": {
   "collapsed_sections": [
    "U4057_ljNvWB",
    "p_8n_SKnIW2F",
    "oLrGJytZFtGm",
    "jpIZPBpNI0pO",
    "_79HOAXrFtHK",
    "mqeyab9qFtGs",
    "-XyXBD37FtHk",
    "SrwSJ2UWFtHu",
    "zTBAmjsAFtIk",
    "qsVPul3QFtIo",
    "APqhJv3tta1O"
   ],
   "name": "2.1-EXE-FNN-AutoDif-Nanograd.ipynb",
   "provenance": []
  },
  "kernelspec": {
   "display_name": "Python 3",
   "language": "python",
   "name": "python3"
  },
  "language_info": {
   "codemirror_mode": {
    "name": "ipython",
    "version": 3
   },
   "file_extension": ".py",
   "mimetype": "text/x-python",
   "name": "python",
   "nbconvert_exporter": "python",
   "pygments_lexer": "ipython3",
   "version": "3.8.5"
  }
 },
 "nbformat": 4,
 "nbformat_minor": 1
}
