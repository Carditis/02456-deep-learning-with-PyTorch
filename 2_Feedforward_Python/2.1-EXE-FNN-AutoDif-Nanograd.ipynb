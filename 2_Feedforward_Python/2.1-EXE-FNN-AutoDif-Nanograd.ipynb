{
 "cells": [
  {
   "cell_type": "markdown",
   "metadata": {
    "id": "HAva8TnYFtFu"
   },
   "source": [
    "# Contents and why we need this lab\n",
    "\n",
    "This lab is about implementing neural networks yourself before we start using other frameworks which hide some of the computation from you. It builds on the first lab where you derived the equations for neural network forward and backward propagation and gradient descent parameter updates. \n",
    "\n",
    "All the frameworks for deep learning you will meet from now on uses automatic differentiation (autodiff) so you don't have to code the backward step yourself. In this version of this lab you will develop your own autodif implementation. We also have a [version](https://github.com/DeepLearningDTU/02456-deep-learning-with-PyTorch/blob/master/2_Feedforward_NumPy/2.1-FNN-NumPy.ipynb) of this lab where you have to code the backward pass explicitly in Numpy."
   ]
  },
  {
   "cell_type": "markdown",
   "metadata": {
    "id": "sCa7HzwpFtFy"
   },
   "source": [
    "# External sources of information\n",
    "\n",
    "1. Jupyter notebook. You can find more information about Jupyter notebooks [here](https://jupyter.org/). It will come as part of the [Anaconda](https://www.anaconda.com/) Python installation. \n",
    "2. [NumPy](https://numpy.org/). Part of Anaconda distribution. If you already know how to program most things about Python and NumPy can be found through Google search.\n",
    "3. [Nanograd](https://github.com/rasmusbergpalm/nanograd) is a minimalistic version of autodiff developed by Rasmus Berg Palm that we use for our framework.\n"
   ]
  },
  {
   "cell_type": "markdown",
   "metadata": {
    "id": "1SjiIp-TFtF0"
   },
   "source": [
    "# This notebook will follow the next steps:\n",
    "\n",
    "1. Nanograd automatic differentiation framework\n",
    "2. Finite difference method\n",
    "3. Data generation\n",
    "4. Defining and initializing the network\n",
    "5. Forward pass\n",
    "6. Training loop \n",
    "7. Testing your model\n",
    "8. Further extensions"
   ]
  },
  {
   "cell_type": "markdown",
   "metadata": {
    "id": "OyXeAA-HuT7s"
   },
   "source": [
    "# Nanograd automatic differention framework"
   ]
  },
  {
   "cell_type": "markdown",
   "metadata": {
    "id": "k6UWKCLKubgA"
   },
   "source": [
    "The [Nanograd](https://github.com/rasmusbergpalm/nanograd) framework defines a class Var which both holds a value and gradient value that we can use to store the intermediate values when we apply the chain rule of differentiation."
   ]
  },
  {
   "cell_type": "code",
   "execution_count": 22,
   "metadata": {
    "id": "Jd4CoEBNzNWS"
   },
   "outputs": [],
   "source": [
    "# Copy and pasted from https://github.com/rasmusbergpalm/nanograd/blob/main/nanograd.py\n",
    "\n",
    "from math import exp, log\n",
    "\n",
    "class Var:\n",
    "    \"\"\"\n",
    "    A variable which holds a float and enables gradient computations.\n",
    "    \"\"\"\n",
    "\n",
    "    def __init__(self, val: float, grad_fn=lambda: []):\n",
    "        assert type(val) == float\n",
    "        self.v = val\n",
    "        self.grad_fn = grad_fn\n",
    "        self.grad = 0.0\n",
    "\n",
    "    def backprop(self, bp):\n",
    "        self.grad += bp\n",
    "        for (input, grad) in self.grad_fn():\n",
    "            input.backprop(grad * bp)\n",
    "\n",
    "    def backward(self):\n",
    "        self.backprop(1.0)\n",
    "\n",
    "    def __add__(self: 'Var', other: 'Var') -> 'Var':\n",
    "        return Var(self.v + other.v, lambda: [(self, 1.0), (other, 1.0)])\n",
    "\n",
    "    def __mul__(self: 'Var', other: 'Var') -> 'Var':\n",
    "        return Var(self.v * other.v, lambda: [(self, other.v), (other, self.v)])\n",
    "\n",
    "    def __pow__(self, power):\n",
    "        assert type(power) in {float, int}, \"power must be float or int\"\n",
    "        return Var(self.v ** power, lambda: [(self, power * self.v ** (power - 1))])\n",
    "\n",
    "    def __neg__(self: 'Var') -> 'Var':\n",
    "        return Var(-1.0) * self\n",
    "\n",
    "    def __sub__(self: 'Var', other: 'Var') -> 'Var':\n",
    "        return self + (-other)\n",
    "\n",
    "    def __truediv__(self: 'Var', other: 'Var') -> 'Var':\n",
    "        return self * other ** -1\n",
    "\n",
    "    def __repr__(self):\n",
    "        return \"Var(v=%.4f, grad=%.4f)\" % (self.v, self.grad)\n",
    "\n",
    "    def relu(self):\n",
    "        return Var(self.v if self.v > 0.0 else 0.0, lambda: [(self, 1.0 if self.v > 0.0 else 0.0)])\n",
    "    \n",
    "    def identity(self):\n",
    "        return Var(self.v, lambda: [(self,self.v)])\n",
    "    \n",
    "    def tanh(self):\n",
    "        return Var((math.exp(self.v)-math.exp(-self.v))/(math.exp(self.v)+math.exp(-self.v)), lambda: [(self,1-(((math.exp(self.v)-math.exp(-self.v))/(math.exp(self.v)+math.exp(-self.v)))**2))])\n",
    "    \n",
    "    def sigmoid(self):\n",
    "        return Var(1.0/1.0+exp(-self.v) , lambda: [(self, (1.0/1.0+exp(-self.v))/(1-(1.0/1.0+exp(-self.v))))])"
   ]
  },
  {
   "cell_type": "markdown",
   "metadata": {
    "id": "yDX67D6jzcte"
   },
   "source": [
    "A few examples illustrate how we can use this:"
   ]
  },
  {
   "cell_type": "code",
   "execution_count": 2,
   "metadata": {},
   "outputs": [],
   "source": [
    "#testi test for understanding :)\n",
    "\n",
    "#a = Var(2.0)\n",
    "#b = Var(2.0)\n",
    "#c = Var(2.0)\n",
    "#print(a)\n",
    "#print(b)\n",
    "#print(c)\n",
    "#f = a*b\n",
    "#print(f)\n",
    "#f.backward()\n",
    "#print(a.v)"
   ]
  },
  {
   "cell_type": "code",
   "execution_count": 3,
   "metadata": {
    "colab": {
     "base_uri": "https://localhost:8080/"
    },
    "id": "xk6PeLc3zwPT",
    "outputId": "47e431b2-07ba-4cb1-ea21-997769641c67"
   },
   "outputs": [
    {
     "name": "stdout",
     "output_type": "stream",
     "text": [
      "Var(v=3.0000, grad=5.0000)\n",
      "Var(v=5.0000, grad=3.0000)\n",
      "Var(v=15.0000, grad=1.0000)\n"
     ]
    }
   ],
   "source": [
    "a = Var(3.0)\n",
    "b = Var(5.0)\n",
    "f = a * b\n",
    "\n",
    "f.backward()\n",
    "\n",
    "for i in [a, b, f]:\n",
    "    print(i)"
   ]
  },
  {
   "cell_type": "code",
   "execution_count": 4,
   "metadata": {
    "colab": {
     "base_uri": "https://localhost:8080/"
    },
    "id": "JmKhYgsY0g_o",
    "outputId": "06c1b1df-c33c-40d3-922a-624612a591c7"
   },
   "outputs": [
    {
     "name": "stdout",
     "output_type": "stream",
     "text": [
      "Var(v=3.0000, grad=14.0000)\n",
      "Var(v=5.0000, grad=3.0000)\n",
      "Var(v=15.0000, grad=1.0000)\n",
      "Var(v=9.0000, grad=3.0000)\n",
      "Var(v=27.0000, grad=1.0000)\n",
      "Var(v=42.0000, grad=1.0000)\n"
     ]
    }
   ],
   "source": [
    "a = Var(3.0)\n",
    "b = Var(5.0)\n",
    "c = a * b\n",
    "d = Var(9.0)\n",
    "e = a * d\n",
    "f = c + e\n",
    "\n",
    "f.backward()\n",
    "\n",
    "for i in [a, b, c, d, e, f]:\n",
    "    print(i)"
   ]
  },
  {
   "cell_type": "markdown",
   "metadata": {
    "id": "Fe3B6uEH140p"
   },
   "source": [
    "## Exercise a) What is being calculated?\n",
    "\n",
    "Explain briefly the output of the code? What is the expression we differentiate and with respect to what variables?\n",
    "\n",
    "\n",
    "Answer:\n",
    "\n",
    "Multiplication and addition will create a new instance, that have the value of dertermined by the opperator and a list of the included factor (instances used (a and b)). If the new instance f is creates as the product of a and b, will backprob first opdate a's grad by differentiating f with respect to a and then do the same for b.\n",
    "\n",
    "This can be expanded as in the other exsample."
   ]
  },
  {
   "cell_type": "markdown",
   "metadata": {
    "id": "q8_Q0t2I3Ruj"
   },
   "source": [
    "## Exercise b) How does the backward function work?\n",
    "\n",
    "You need to understand how the backward function calculates the gradients. We can use the two examples above to help with that.\n",
    "\n",
    "Go through the following four steps and answer the questions on the way:\n",
    "\n",
    "1. We represent the two expressions as graphs as shown below. Fill in the missing expressions for the different derivatives.\n",
    "\n",
    "2. In the remainder consider the first expression. Make a schematic of the data structure which is generated when we define the expression for f. \n",
    "\n",
    "3. Then execute the backward function by hand to convince yourself that it indeed calculates the gradients with respect to the variables. \n",
    "\n",
    "4. Write down the sequence of calls to backprop.\n",
    "\n",
    "\n",
    "Answer:\n",
    "\n",
    "$$\n",
    " a.grad =   \\frac{df}{dv_{-1}} = \\frac{df}{dv_1} \\cdot \\frac{dv_1}{dv_{-1}} = 1 \\cdot \\frac{d(a.v\\cdot b.v)}{da.v} = b.v\n",
    "$$\n",
    "$$\n",
    " b.grad =   \\frac{df}{dv_{0}} = \\frac{df}{dv_1} \\cdot \\frac{dv_1}{dv_{0}} = 1 \\cdot \\frac{d(a.v\\cdot b.v)}{da.v} = a.v\n",
    "$$\n",
    "\n",
    "This shows the chain rule being utelized for calculating the derivative for a and b. The v's represent a link each in the data structure"
   ]
  },
  {
   "cell_type": "code",
   "execution_count": 5,
   "metadata": {
    "id": "idGr71jYXl26"
   },
   "outputs": [
    {
     "name": "stderr",
     "output_type": "stream",
     "text": [
      "[DEBUG@graphviz.backend.execute] run [WindowsPath('dot'), '-V']\n"
     ]
    },
    {
     "data": {
      "text/plain": [
       "('0.20.1', (2, 50, 0))"
      ]
     },
     "execution_count": 5,
     "metadata": {},
     "output_type": "execute_result"
    }
   ],
   "source": [
    "import logging\n",
    "import graphviz\n",
    "\n",
    "logging.basicConfig(format='[%(levelname)s@%(name)s] %(message)s', level=logging.DEBUG)\n",
    "\n",
    "graphviz.__version__, graphviz.version()"
   ]
  },
  {
   "cell_type": "code",
   "execution_count": 6,
   "metadata": {
    "colab": {
     "base_uri": "https://localhost:8080/",
     "height": 152
    },
    "id": "KPe30Q2QXzeG",
    "outputId": "7fa002cd-a018-4dbb-ddf1-28ed5e99ee19"
   },
   "outputs": [
    {
     "name": "stderr",
     "output_type": "stream",
     "text": [
      "[DEBUG@graphviz.backend.execute] run [WindowsPath('dot'), '-Kdot', '-Tsvg']\n"
     ]
    },
    {
     "data": {
      "image/svg+xml": [
       "<?xml version=\"1.0\" encoding=\"UTF-8\" standalone=\"no\"?>\n",
       "<!DOCTYPE svg PUBLIC \"-//W3C//DTD SVG 1.1//EN\"\n",
       " \"http://www.w3.org/Graphics/SVG/1.1/DTD/svg11.dtd\">\n",
       "<!-- Generated by graphviz version 2.50.0 (0)\n",
       " -->\n",
       "<!-- Title: first expression Pages: 1 -->\n",
       "<svg width=\"159pt\" height=\"98pt\"\n",
       " viewBox=\"0.00 0.00 159.00 98.00\" xmlns=\"http://www.w3.org/2000/svg\" xmlns:xlink=\"http://www.w3.org/1999/xlink\">\n",
       "<g id=\"graph0\" class=\"graph\" transform=\"scale(1 1) rotate(0) translate(4 94)\">\n",
       "<title>first expression</title>\n",
       "<polygon fill=\"white\" stroke=\"transparent\" points=\"-4,4 -4,-94 155,-94 155,4 -4,4\"/>\n",
       "<!-- a -->\n",
       "<g id=\"node1\" class=\"node\">\n",
       "<title>a</title>\n",
       "<ellipse fill=\"none\" stroke=\"black\" cx=\"18\" cy=\"-72\" rx=\"18\" ry=\"18\"/>\n",
       "<text text-anchor=\"middle\" x=\"18\" y=\"-68.3\" font-family=\"Times New Roman,serif\" font-size=\"14.00\">a</text>\n",
       "</g>\n",
       "<!-- f -->\n",
       "<g id=\"node2\" class=\"node\">\n",
       "<title>f</title>\n",
       "<ellipse fill=\"none\" stroke=\"black\" cx=\"133\" cy=\"-45\" rx=\"18\" ry=\"18\"/>\n",
       "<text text-anchor=\"middle\" x=\"133\" y=\"-41.3\" font-family=\"Times New Roman,serif\" font-size=\"14.00\">f</text>\n",
       "</g>\n",
       "<!-- a&#45;&gt;f -->\n",
       "<g id=\"edge1\" class=\"edge\">\n",
       "<title>a&#45;&gt;f</title>\n",
       "<path fill=\"none\" stroke=\"black\" d=\"M35.67,-68.02C54.03,-63.63 83.81,-56.51 105.4,-51.36\"/>\n",
       "<polygon fill=\"black\" stroke=\"black\" points=\"106.35,-54.73 115.26,-49 104.72,-47.92 106.35,-54.73\"/>\n",
       "<text text-anchor=\"middle\" x=\"75.5\" y=\"-66.8\" font-family=\"Times New Roman,serif\" font-size=\"14.00\">df/da=b</text>\n",
       "</g>\n",
       "<!-- b -->\n",
       "<g id=\"node3\" class=\"node\">\n",
       "<title>b</title>\n",
       "<ellipse fill=\"none\" stroke=\"black\" cx=\"18\" cy=\"-18\" rx=\"18\" ry=\"18\"/>\n",
       "<text text-anchor=\"middle\" x=\"18\" y=\"-14.3\" font-family=\"Times New Roman,serif\" font-size=\"14.00\">b</text>\n",
       "</g>\n",
       "<!-- b&#45;&gt;f -->\n",
       "<g id=\"edge2\" class=\"edge\">\n",
       "<title>b&#45;&gt;f</title>\n",
       "<path fill=\"none\" stroke=\"black\" d=\"M35.85,-20.94C51.73,-23.83 76.12,-28.59 97,-34 99.89,-34.75 102.9,-35.59 105.88,-36.47\"/>\n",
       "<polygon fill=\"black\" stroke=\"black\" points=\"105.13,-39.9 115.72,-39.5 107.19,-33.21 105.13,-39.9\"/>\n",
       "<text text-anchor=\"middle\" x=\"75.5\" y=\"-37.8\" font-family=\"Times New Roman,serif\" font-size=\"14.00\">df/db=a</text>\n",
       "</g>\n",
       "</g>\n",
       "</svg>\n"
      ],
      "text/plain": [
       "<graphviz.graphs.Digraph at 0x29cdf2fa5b0>"
      ]
     },
     "execution_count": 6,
     "metadata": {},
     "output_type": "execute_result"
    }
   ],
   "source": [
    "e1 = graphviz.Digraph('first expression', filename='fsm.gv')\n",
    "\n",
    "e1.attr(rankdir='LR', size='8,5')\n",
    "\n",
    "e1.attr('node', shape='circle')\n",
    "e1.edge('a', 'f', label='df/da=b')\n",
    "e1.edge('b', 'f', label='df/db=a')\n",
    "\n",
    "e1"
   ]
  },
  {
   "cell_type": "code",
   "execution_count": 7,
   "metadata": {
    "colab": {
     "base_uri": "https://localhost:8080/",
     "height": 232
    },
    "id": "0nittR-mZFeX",
    "outputId": "fa3656a3-732c-4abe-8084-98a492b0d6be"
   },
   "outputs": [
    {
     "name": "stderr",
     "output_type": "stream",
     "text": [
      "[DEBUG@graphviz.backend.execute] run [WindowsPath('dot'), '-Kdot', '-Tsvg']\n"
     ]
    },
    {
     "data": {
      "image/svg+xml": [
       "<?xml version=\"1.0\" encoding=\"UTF-8\" standalone=\"no\"?>\n",
       "<!DOCTYPE svg PUBLIC \"-//W3C//DTD SVG 1.1//EN\"\n",
       " \"http://www.w3.org/Graphics/SVG/1.1/DTD/svg11.dtd\">\n",
       "<!-- Generated by graphviz version 2.50.0 (0)\n",
       " -->\n",
       "<!-- Title: second expression Pages: 1 -->\n",
       "<svg width=\"341pt\" height=\"158pt\"\n",
       " viewBox=\"0.00 0.00 341.00 158.00\" xmlns=\"http://www.w3.org/2000/svg\" xmlns:xlink=\"http://www.w3.org/1999/xlink\">\n",
       "<g id=\"graph0\" class=\"graph\" transform=\"scale(1 1) rotate(0) translate(4 154)\">\n",
       "<title>second expression</title>\n",
       "<polygon fill=\"white\" stroke=\"transparent\" points=\"-4,4 -4,-154 337,-154 337,4 -4,4\"/>\n",
       "<!-- a -->\n",
       "<g id=\"node1\" class=\"node\">\n",
       "<title>a</title>\n",
       "<ellipse fill=\"none\" stroke=\"black\" cx=\"18\" cy=\"-75\" rx=\"18\" ry=\"18\"/>\n",
       "<text text-anchor=\"middle\" x=\"18\" y=\"-71.3\" font-family=\"Times New Roman,serif\" font-size=\"14.00\">a</text>\n",
       "</g>\n",
       "<!-- c -->\n",
       "<g id=\"node2\" class=\"node\">\n",
       "<title>c</title>\n",
       "<ellipse fill=\"none\" stroke=\"black\" cx=\"200\" cy=\"-102\" rx=\"18\" ry=\"18\"/>\n",
       "<text text-anchor=\"middle\" x=\"200\" y=\"-98.3\" font-family=\"Times New Roman,serif\" font-size=\"14.00\">c</text>\n",
       "</g>\n",
       "<!-- a&#45;&gt;c -->\n",
       "<g id=\"edge1\" class=\"edge\">\n",
       "<title>a&#45;&gt;c</title>\n",
       "<path fill=\"none\" stroke=\"black\" d=\"M36.02,-77.01C63.16,-80.29 117.89,-87.22 164,-95 166.71,-95.46 169.54,-95.97 172.35,-96.5\"/>\n",
       "<polygon fill=\"black\" stroke=\"black\" points=\"171.82,-99.96 182.3,-98.45 173.16,-93.09 171.82,-99.96\"/>\n",
       "<text text-anchor=\"middle\" x=\"109\" y=\"-98.8\" font-family=\"Times New Roman,serif\" font-size=\"14.00\">dc/da=df/e+df/dc=b</text>\n",
       "</g>\n",
       "<!-- e -->\n",
       "<g id=\"node4\" class=\"node\">\n",
       "<title>e</title>\n",
       "<ellipse fill=\"none\" stroke=\"black\" cx=\"200\" cy=\"-48\" rx=\"18\" ry=\"18\"/>\n",
       "<text text-anchor=\"middle\" x=\"200\" y=\"-44.3\" font-family=\"Times New Roman,serif\" font-size=\"14.00\">e</text>\n",
       "</g>\n",
       "<!-- a&#45;&gt;e -->\n",
       "<g id=\"edge3\" class=\"edge\">\n",
       "<title>a&#45;&gt;e</title>\n",
       "<path fill=\"none\" stroke=\"black\" d=\"M34.31,-67.17C40.3,-64.45 47.33,-61.66 54,-60 93.99,-50.05 141.91,-47.91 171.4,-47.67\"/>\n",
       "<polygon fill=\"black\" stroke=\"black\" points=\"171.75,-51.17 181.75,-47.65 171.74,-44.17 171.75,-51.17\"/>\n",
       "<text text-anchor=\"middle\" x=\"109\" y=\"-63.8\" font-family=\"Times New Roman,serif\" font-size=\"14.00\">de/da=b</text>\n",
       "</g>\n",
       "<!-- f -->\n",
       "<g id=\"node6\" class=\"node\">\n",
       "<title>f</title>\n",
       "<ellipse fill=\"none\" stroke=\"black\" cx=\"315\" cy=\"-75\" rx=\"18\" ry=\"18\"/>\n",
       "<text text-anchor=\"middle\" x=\"315\" y=\"-71.3\" font-family=\"Times New Roman,serif\" font-size=\"14.00\">f</text>\n",
       "</g>\n",
       "<!-- c&#45;&gt;f -->\n",
       "<g id=\"edge5\" class=\"edge\">\n",
       "<title>c&#45;&gt;f</title>\n",
       "<path fill=\"none\" stroke=\"black\" d=\"M217.67,-98.02C236.03,-93.63 265.81,-86.51 287.4,-81.36\"/>\n",
       "<polygon fill=\"black\" stroke=\"black\" points=\"288.35,-84.73 297.26,-79 286.72,-77.92 288.35,-84.73\"/>\n",
       "<text text-anchor=\"middle\" x=\"257.5\" y=\"-96.8\" font-family=\"Times New Roman,serif\" font-size=\"14.00\">df/dc=1</text>\n",
       "</g>\n",
       "<!-- b -->\n",
       "<g id=\"node3\" class=\"node\">\n",
       "<title>b</title>\n",
       "<ellipse fill=\"none\" stroke=\"black\" cx=\"18\" cy=\"-132\" rx=\"18\" ry=\"18\"/>\n",
       "<text text-anchor=\"middle\" x=\"18\" y=\"-128.3\" font-family=\"Times New Roman,serif\" font-size=\"14.00\">b</text>\n",
       "</g>\n",
       "<!-- b&#45;&gt;c -->\n",
       "<g id=\"edge2\" class=\"edge\">\n",
       "<title>b&#45;&gt;c</title>\n",
       "<path fill=\"none\" stroke=\"black\" d=\"M36.03,-129.83C63.2,-126.28 117.97,-118.74 164,-110 166.72,-109.48 169.55,-108.91 172.37,-108.3\"/>\n",
       "<polygon fill=\"black\" stroke=\"black\" points=\"173.32,-111.68 182.32,-106.08 171.8,-104.84 173.32,-111.68\"/>\n",
       "<text text-anchor=\"middle\" x=\"109\" y=\"-130.8\" font-family=\"Times New Roman,serif\" font-size=\"14.00\">dc/db=a</text>\n",
       "</g>\n",
       "<!-- e&#45;&gt;f -->\n",
       "<g id=\"edge6\" class=\"edge\">\n",
       "<title>e&#45;&gt;f</title>\n",
       "<path fill=\"none\" stroke=\"black\" d=\"M217.85,-50.94C233.73,-53.83 258.12,-58.59 279,-64 281.89,-64.75 284.9,-65.59 287.88,-66.47\"/>\n",
       "<polygon fill=\"black\" stroke=\"black\" points=\"287.13,-69.9 297.72,-69.5 289.19,-63.21 287.13,-69.9\"/>\n",
       "<text text-anchor=\"middle\" x=\"257.5\" y=\"-67.8\" font-family=\"Times New Roman,serif\" font-size=\"14.00\">df/de=1</text>\n",
       "</g>\n",
       "<!-- d -->\n",
       "<g id=\"node5\" class=\"node\">\n",
       "<title>d</title>\n",
       "<ellipse fill=\"none\" stroke=\"black\" cx=\"18\" cy=\"-18\" rx=\"18\" ry=\"18\"/>\n",
       "<text text-anchor=\"middle\" x=\"18\" y=\"-14.3\" font-family=\"Times New Roman,serif\" font-size=\"14.00\">d</text>\n",
       "</g>\n",
       "<!-- d&#45;&gt;e -->\n",
       "<g id=\"edge4\" class=\"edge\">\n",
       "<title>d&#45;&gt;e</title>\n",
       "<path fill=\"none\" stroke=\"black\" d=\"M35.96,-16.76C63.49,-15.27 119.32,-14.47 164,-28 167.96,-29.2 171.95,-30.91 175.75,-32.83\"/>\n",
       "<polygon fill=\"black\" stroke=\"black\" points=\"174.26,-36 184.69,-37.87 177.7,-29.91 174.26,-36\"/>\n",
       "<text text-anchor=\"middle\" x=\"109\" y=\"-31.8\" font-family=\"Times New Roman,serif\" font-size=\"14.00\">de/dd=a</text>\n",
       "</g>\n",
       "</g>\n",
       "</svg>\n"
      ],
      "text/plain": [
       "<graphviz.graphs.Digraph at 0x29cdf2fafd0>"
      ]
     },
     "execution_count": 7,
     "metadata": {},
     "output_type": "execute_result"
    }
   ],
   "source": [
    "e2 = graphviz.Digraph('second expression', filename='fsm.gv')\n",
    "\n",
    "e2.attr(rankdir='LR', size='8,5')\n",
    "\n",
    "e2.attr('node', shape='circle')\n",
    "e2.edge('a', 'c', label='dc/da=df/e+df/dc=b')\n",
    "e2.edge('b', 'c', label='dc/db=a')\n",
    "e2.edge('a', 'e', label='de/da=b')\n",
    "e2.edge('d', 'e', label='de/dd=a')\n",
    "e2.edge('c', 'f', label='df/dc=1')\n",
    "e2.edge('e', 'f', label='df/de=1')\n",
    "\n",
    "e2"
   ]
  },
  {
   "cell_type": "markdown",
   "metadata": {
    "id": "A5oi21W4gpeM"
   },
   "source": [
    "## Exercise c) What happens if we run backward again?\n",
    "\n",
    "Try to execute the code below. Explain what happens."
   ]
  },
  {
   "cell_type": "code",
   "execution_count": 8,
   "metadata": {
    "colab": {
     "base_uri": "https://localhost:8080/"
    },
    "id": "DCtpJyr-gyX1",
    "outputId": "d014bcfa-c9ae-49c3-d268-91cc6ca94ea5"
   },
   "outputs": [
    {
     "name": "stdout",
     "output_type": "stream",
     "text": [
      "Var(v=3.0000, grad=28.0000)\n",
      "Var(v=5.0000, grad=6.0000)\n",
      "Var(v=15.0000, grad=2.0000)\n",
      "Var(v=9.0000, grad=6.0000)\n",
      "Var(v=27.0000, grad=2.0000)\n",
      "Var(v=42.0000, grad=2.0000)\n"
     ]
    }
   ],
   "source": [
    "f.backward()\n",
    "\n",
    "for v in [a, b, c, d, e, f]:\n",
    "    print(v)"
   ]
  },
  {
   "cell_type": "markdown",
   "metadata": {},
   "source": [
    "Answer:\n",
    "\n",
    "We keep adding the same amount to each gradient as before"
   ]
  },
  {
   "cell_type": "markdown",
   "metadata": {
    "id": "e8bPVq2VhsP-"
   },
   "source": [
    "## Exercise d) Zero gradient\n",
    "\n",
    "We can zero the gradient by backpropagating a -1.0 as is shown in the example below. (If you have run backward multiple time then you also have to run the cell below an equal amount of times.) Explain what is going on."
   ]
  },
  {
   "cell_type": "code",
   "execution_count": 9,
   "metadata": {
    "colab": {
     "base_uri": "https://localhost:8080/"
    },
    "id": "OnyPDQx9lJe0",
    "outputId": "7a125fdc-60c4-4340-a580-8b82aea5b0db"
   },
   "outputs": [
    {
     "name": "stdout",
     "output_type": "stream",
     "text": [
      "Var(v=2.0000, grad=0.0000)\n",
      "Var(v=5.0000, grad=6.0000)\n",
      "Var(v=15.0000, grad=2.0000)\n",
      "Var(v=9.0000, grad=6.0000)\n",
      "Var(v=27.0000, grad=2.0000)\n",
      "Var(v=42.0000, grad=2.0000)\n",
      "Var(v=2.0000, grad=0.0000)\n",
      "Var(v=5.0000, grad=3.0000)\n",
      "Var(v=15.0000, grad=1.0000)\n",
      "Var(v=9.0000, grad=3.0000)\n",
      "Var(v=27.0000, grad=1.0000)\n",
      "Var(v=42.0000, grad=1.0000)\n"
     ]
    }
   ],
   "source": [
    "a = Var(2.0)\n",
    "\n",
    "for v in [a, b, c, d, e, f]:\n",
    "    print(v)\n",
    "\n",
    "f.backprop(-1.0)\n",
    "\n",
    "for v in [a, b, c, d, e, f]:\n",
    "    print(v)"
   ]
  },
  {
   "cell_type": "markdown",
   "metadata": {},
   "source": [
    "Answer:\n",
    "\n",
    "1 or -1 will work as a direction for the steps taken. This can therefore be seen as 1 being \"a step forward\" and -1 being \"a step backwards\""
   ]
  },
  {
   "cell_type": "markdown",
   "metadata": {
    "id": "U4057_ljNvWB"
   },
   "source": [
    "## Exercise e) Test correctness of derivatives with the finite difference method\n",
    "\n",
    "Write a small function that uses [the finite difference method](https://en.wikipedia.org/wiki/Finite_difference_method) to numerically test that backpropation implementation is working. In short we will use\n",
    "$$\n",
    "\\frac{\\partial f(a)}{\\partial a} \\approx \\frac{f(a+da)-f(a)}{da}\n",
    "$$\n",
    "for $da \\ll 1$.\n",
    "\n",
    "As an example, we could approximate the derivative of the function $f(a)=a^2$ in e.g. the value $a=4$ using the finite difference method. This amounts to inserting the relevant values and approximating the gradient $f'(4)$ with the fraction above. \n"
   ]
  },
  {
   "cell_type": "code",
   "execution_count": 10,
   "metadata": {
    "colab": {
     "base_uri": "https://localhost:8080/"
    },
    "id": "9TGil92lSXDN",
    "outputId": "7ef5489b-b525-4132-ab08-0b1109c07f4d"
   },
   "outputs": [
    {
     "name": "stdout",
     "output_type": "stream",
     "text": [
      "Var(v=3.0000, grad=5.0000)\n",
      "Var(v=5.0000, grad=3.0000)\n",
      "Var(v=15.0000, grad=1.0000)\n",
      "5.000018177270249\n"
     ]
    }
   ],
   "source": [
    "# f function - try to change the code to test other types of functions as well (such as different polynomials etc.)\n",
    "def f_function(a):\n",
    "    a = Var(a)\n",
    "    b = Var(5.0)\n",
    "    f = a * b\n",
    "    f.backward()\n",
    "    return a,b,f\n",
    "\n",
    "for v in f_function(3.0):\n",
    "  print(v)\n",
    "\n",
    "# Insert your finite difference code here\n",
    "def finite_difference(da=1e-10):\n",
    "    \"\"\"\n",
    "    This function compute the finite difference between\n",
    "    \n",
    "    Input:\n",
    "    da:          The finite difference                           (float)\n",
    "    \n",
    "    Output:\n",
    "    finite_difference: numerical approximation to the derivative (float) \n",
    "    \"\"\"\n",
    "\n",
    "    fa_da = f.v + (da * b.v)           # <- Insert correct expression\n",
    "    fa = f.v              # <- Insert correct expression\n",
    "\n",
    "    finite_difference = (fa_da - fa) / da\n",
    "    \n",
    "    return finite_difference\n",
    "\n",
    "print(finite_difference())"
   ]
  },
  {
   "cell_type": "markdown",
   "metadata": {
    "id": "6pZar5RKaUkg"
   },
   "source": [
    "# Create an artificial dataset to play with\n",
    "\n",
    "We create a non-linear 1d regression task. The generator supports various noise levels and it creates train, validation and test sets. You can modify it yourself if you want more or less challenging tasks."
   ]
  },
  {
   "cell_type": "code",
   "execution_count": 11,
   "metadata": {
    "id": "Y6yfMAQ8aduj"
   },
   "outputs": [
    {
     "name": "stderr",
     "output_type": "stream",
     "text": [
      "[DEBUG@matplotlib] (private) matplotlib data path: C:\\Users\\SMRobot\\anaconda3\\lib\\site-packages\\matplotlib\\mpl-data\n",
      "[DEBUG@matplotlib] matplotlib data path: C:\\Users\\SMRobot\\anaconda3\\lib\\site-packages\\matplotlib\\mpl-data\n",
      "[DEBUG@matplotlib] CONFIGDIR=C:\\Users\\SMRobot\\.matplotlib\n",
      "[DEBUG@matplotlib] matplotlib version 3.3.2\n",
      "[DEBUG@matplotlib] interactive is False\n",
      "[DEBUG@matplotlib] platform is win32\n",
      "[DEBUG@matplotlib] loaded modules: ['sys', 'builtins', '_frozen_importlib', '_imp', '_warnings', '_frozen_importlib_external', '_io', 'marshal', 'nt', '_thread', '_weakref', 'winreg', 'time', 'zipimport', '_codecs', 'codecs', 'encodings.aliases', 'encodings', 'encodings.utf_8', 'encodings.cp1252', '_signal', '__main__', 'encodings.latin_1', '_abc', 'abc', 'io', '_stat', 'stat', '_collections_abc', 'genericpath', 'ntpath', 'os.path', 'os', '_sitebuiltins', '_locale', '_bootlocale', 'types', 'importlib._bootstrap', 'importlib._bootstrap_external', 'warnings', 'importlib', 'importlib.machinery', 'importlib.abc', '_operator', 'operator', 'keyword', '_heapq', 'heapq', 'itertools', 'reprlib', '_collections', 'collections', '_functools', 'functools', 'contextlib', 'importlib.util', 'mpl_toolkits', 'sphinxcontrib', 'zope', 'site', '_weakrefset', 'weakref', 'pkgutil', 'runpy', 'ipykernel._version', '__future__', 'enum', '_sre', 'sre_constants', 'sre_parse', 'sre_compile', 'copyreg', 're', '_json', 'json.scanner', 'json.decoder', 'json.encoder', 'json', 'errno', 'signal', 'threading', 'msvcrt', '_winapi', 'subprocess', 'IPython.core', 'IPython.core.getipython', 'IPython.core.release', 'atexit', 'copy', 'posixpath', 'fnmatch', 'glob', 'token', 'tokenize', 'linecache', 'traceback', 'collections.abc', '_string', 'string', 'logging', 'zlib', '_compression', '_bz2', 'bz2', '_lzma', 'lzma', 'shutil', '_ast', 'ast', '_opcode', 'opcode', 'dis', 'inspect', 'traitlets.utils', 'traitlets.utils.getargspec', 'traitlets.utils.importstring', 'traitlets.utils.sentinel', 'traitlets.utils.bunch', 'traitlets.utils.descriptions', 'traitlets.traitlets', 'traitlets.utils.decorators', 'traitlets._version', 'traitlets', 'pprint', 'locale', 'gettext', 'argparse', 'ipython_genutils._version', 'ipython_genutils', 'math', '_bisect', 'bisect', '_sha512', '_random', 'random', 'ipython_genutils.encoding', 'platform', 'ipython_genutils.py3compat', 'ipython_genutils.path', 'traitlets.config.loader', 'textwrap', 'ipython_genutils.text', 'traitlets.config.configurable', 'traitlets.config.application', 'traitlets.config', 'sysconfig', 'urllib', 'urllib.parse', 'pydoc', 'bdb', 'IPython.utils', 'IPython.utils.ipstruct', 'IPython.utils.coloransi', 'pygments', 'IPython.utils.colorable', 'IPython.utils.PyColorize', 'IPython.utils.encoding', 'IPython.utils.py3compat', 'IPython.core.excolors', 'IPython.testing', 'IPython.testing.skipdoctest', 'cmd', 'codeop', 'code', 'pdb', 'IPython.core.debugger', 'IPython.core.display_trap', '_ctypes', '_struct', 'struct', 'ctypes._endian', 'ctypes', 'ctypes.wintypes', 'shlex', 'IPython.utils._process_common', 'IPython.utils._process_win32', 'IPython.utils.process', 'IPython.utils.decorators', 'IPython.utils.path', 'IPython.utils.data', 'IPython.utils.terminal', 'IPython.core.ultratb', 'IPython.utils._sysinfo', 'IPython.utils.sysinfo', 'IPython.core.crashhandler', 'tempfile', 'IPython.utils.importstring', 'IPython.paths', 'IPython.core.profiledir', 'IPython.core.application', 'IPython.terminal', '_hashlib', '_blake2', '_sha3', 'hashlib', 'IPython.core.compilerop', 'IPython.core.error', 'pathlib', 'IPython.utils.text', 'IPython.core.magic_arguments', 'getopt', 'typing.io', 'typing.re', 'typing', 'binascii', 'mimetypes', 'IPython.core.display', 'IPython.core.page', 'getpass', 'IPython.lib.security', 'IPython.lib', '_datetime', 'datetime', 'IPython.lib.pretty', 'IPython.utils.openpy', 'IPython.utils.dir2', 'IPython.utils.wildcard', 'pygments.lexers._mapping', 'pygments.modeline', 'pygments.plugin', 'pygments.util', 'pygments.lexers', 'pygments.filter', 'pygments.token', 'pygments.filters', 'pygments.regexopt', 'pygments.lexer', 'pygments.unistring', 'pygments.lexers.python', 'pygments.formatters._mapping', 'pygments.formatters', 'pygments.styles', 'pygments.formatter', 'pygments.formatters.html', 'IPython.core.oinspect', 'IPython.core.inputtransformer2', 'decorator', 'IPython.core.magic', '_compat_pickle', '_pickle', 'pickle', 'pickleshare', 'IPython.core.autocall', 'IPython.core.macro', 'IPython.core.splitinput', 'IPython.core.prefilter', 'IPython.core.alias', 'IPython.core.builtin_trap', 'backcall.backcall', 'backcall', 'IPython.core.events', 'IPython.core.displayhook', 'IPython.core.displaypub', 'IPython.core.extensions', 'IPython.utils.sentinel', 'IPython.core.formatters', '_sqlite3', 'sqlite3.dbapi2', 'sqlite3', 'IPython.core.history', 'IPython.core.logger', 'IPython.core.payload', 'IPython.core.usage', 'html.entities', 'html', 'IPython.lib.display', 'IPython.display', 'IPython.utils.capture', 'IPython.utils.io', 'IPython.core.hooks', 'IPython.utils.strdispatch', 'IPython.utils.syspathcontext', 'IPython.utils.tempdir', 'IPython.utils.contexts', 'IPython.core.async_helpers', 'IPython.core.interactiveshell', 'concurrent', 'concurrent.futures._base', 'concurrent.futures', '_socket', 'select', 'selectors', 'socket', '_ssl', 'base64', 'ssl', 'asyncio.constants', 'asyncio.format_helpers', 'asyncio.base_futures', 'asyncio.log', 'asyncio.coroutines', '_contextvars', 'contextvars', 'asyncio.exceptions', 'asyncio.base_tasks', '_asyncio', 'asyncio.events', 'asyncio.futures', 'asyncio.protocols', 'asyncio.transports', 'asyncio.sslproto', 'asyncio.locks', 'asyncio.tasks', 'asyncio.staggered', 'asyncio.trsock', 'asyncio.base_events', 'asyncio.runners', 'asyncio.queues', 'asyncio.streams', 'asyncio.subprocess', '_overlapped', 'asyncio.base_subprocess', 'asyncio.proactor_events', 'asyncio.selector_events', 'asyncio.windows_utils', 'asyncio.windows_events', 'asyncio', 'prompt_toolkit.application.current', 'prompt_toolkit.eventloop.utils', 'prompt_toolkit.eventloop.async_generator', 'wcwidth.table_wide', 'wcwidth.table_zero', 'wcwidth.unicode_versions', 'wcwidth.wcwidth', 'wcwidth', 'prompt_toolkit.utils', 'prompt_toolkit.eventloop.inputhook', 'prompt_toolkit.eventloop', 'prompt_toolkit.application.run_in_terminal', 'prompt_toolkit.selection', 'prompt_toolkit.clipboard.base', 'prompt_toolkit.clipboard.in_memory', 'prompt_toolkit.clipboard', 'prompt_toolkit.cache', 'prompt_toolkit.enums', 'prompt_toolkit.filters.base', 'prompt_toolkit.filters.app', 'prompt_toolkit.filters.cli', 'prompt_toolkit.filters.utils', 'prompt_toolkit.filters', 'prompt_toolkit.document', 'prompt_toolkit.auto_suggest', 'prompt_toolkit.data_structures', 'prompt_toolkit.styles.base', 'prompt_toolkit.styles.named_colors', 'prompt_toolkit.styles.style', 'prompt_toolkit.styles.defaults', 'prompt_toolkit.styles.pygments', 'colorsys', 'prompt_toolkit.styles.style_transformation', 'prompt_toolkit.styles', 'prompt_toolkit.output.color_depth', 'prompt_toolkit.output.base', 'prompt_toolkit.patch_stdout', 'prompt_toolkit.output.defaults', 'prompt_toolkit.output', 'array', 'prompt_toolkit.output.vt100', 'prompt_toolkit.mouse_events', 'prompt_toolkit.formatted_text.base', 'prompt_toolkit.formatted_text.ansi', 'xml', 'xml.dom.domreg', 'xml.dom', 'xml.dom.minicompat', 'xml.dom.NodeFilter', 'xml.dom.xmlbuilder', 'xml.dom.minidom', 'prompt_toolkit.formatted_text.html', 'prompt_toolkit.formatted_text.pygments', 'prompt_toolkit.formatted_text.utils', 'prompt_toolkit.formatted_text', 'prompt_toolkit.completion.base', 'prompt_toolkit.completion.filesystem', 'prompt_toolkit.completion.word_completer', 'prompt_toolkit.completion.fuzzy_completer', 'prompt_toolkit.completion.nested', 'prompt_toolkit.completion', 'prompt_toolkit.history', 'prompt_toolkit.keys', 'prompt_toolkit.key_binding.key_bindings', 'prompt_toolkit.key_binding.key_processor', 'prompt_toolkit.key_binding', 'prompt_toolkit.key_binding.vi_state', 'prompt_toolkit.search', 'prompt_toolkit.validation', 'prompt_toolkit.buffer', 'prompt_toolkit.input.base', 'prompt_toolkit.input.defaults', 'prompt_toolkit.input', 'prompt_toolkit.input.typeahead', 'prompt_toolkit.key_binding.bindings', 'prompt_toolkit.key_binding.bindings.scroll', 'prompt_toolkit.key_binding.bindings.page_navigation', 'prompt_toolkit.lexers.base', 'prompt_toolkit.lexers.pygments', 'prompt_toolkit.lexers', 'prompt_toolkit.layout.utils', 'prompt_toolkit.layout.processors', 'prompt_toolkit.layout.controls', 'prompt_toolkit.layout.dimension', 'prompt_toolkit.layout.margins', 'prompt_toolkit.layout.mouse_handlers', 'prompt_toolkit.layout.screen', 'prompt_toolkit.layout.containers', 'prompt_toolkit.layout.layout', 'prompt_toolkit.layout.menus', 'prompt_toolkit.layout', 'prompt_toolkit.key_binding.bindings.completion', 'prompt_toolkit.key_binding.bindings.named_commands', 'prompt_toolkit.key_binding.bindings.basic', 'prompt_toolkit.key_binding.bindings.cpr', 'prompt_toolkit.key_binding.bindings.emacs', 'prompt_toolkit.key_binding.bindings.mouse', 'prompt_toolkit.input.ansi_escape_sequences', 'prompt_toolkit.input.vt100_parser', 'prompt_toolkit.key_binding.digraphs', 'prompt_toolkit.key_binding.bindings.vi', 'prompt_toolkit.key_binding.defaults', 'prompt_toolkit.key_binding.emacs_state', 'prompt_toolkit.layout.dummy', 'prompt_toolkit.renderer', 'prompt_toolkit.application.application', 'prompt_toolkit.application.dummy', 'prompt_toolkit.application', 'prompt_toolkit.key_binding.bindings.focus', 'prompt_toolkit.widgets.toolbars', 'prompt_toolkit.widgets.base', 'prompt_toolkit.widgets.dialogs', 'prompt_toolkit.widgets.menus', 'prompt_toolkit.widgets', 'prompt_toolkit.shortcuts.dialogs', 'prompt_toolkit.shortcuts.progress_bar.formatters', 'prompt_toolkit.shortcuts.progress_bar.base', 'prompt_toolkit.shortcuts.progress_bar', 'prompt_toolkit.key_binding.bindings.auto_suggest', 'prompt_toolkit.key_binding.bindings.open_in_editor', 'prompt_toolkit.shortcuts.prompt', 'prompt_toolkit.shortcuts.utils', 'prompt_toolkit.shortcuts', 'prompt_toolkit', 'pygments.style', 'unicodedata', 'IPython.core.latex_symbols', 'IPython.utils.generics', 'parso._compatibility', 'parso.utils', 'parso.tree', 'parso.python', 'parso.python.token', 'parso.python.tokenize', 'parso.pgen2.grammar_parser', 'parso.pgen2.generator', 'parso.pgen2', 'parso.parser', 'difflib', 'parso.python.prefix', 'parso.python.tree', 'parso.python.parser', 'parso.python.diff', 'gc', 'parso.cache', 'parso.normalizer', 'parso.python.errors', 'parso.python.pep8', 'parso.file_io', 'parso.grammar', 'parso', 'jedi.file_io', '_queue', 'queue', 'jedi._compatibility', 'jedi.parser_utils', 'jedi.debug', 'jedi.settings', 'jedi.cache', 'jedi.inference.cache', 'jedi.inference.helpers', 'jedi.inference.utils', 'jedi.inference.base_value', 'jedi.common', 'jedi.inference.sys_path', 'jedi.inference.recursion', 'jedi.inference.flow_analysis', 'jedi.inference.lazy_value', 'jedi.inference.docstrings', 'jedi.plugins', 'jedi.inference.names', 'jedi.inference.filters', 'jedi.inference.compiled.getattr_static', 'jedi.inference.compiled.access', 'jedi.inference.signature', 'jedi.inference.context', 'jedi.inference.compiled.value', 'jedi.inference.compiled', 'jedi.inference.analysis', 'jedi.inference.gradual', 'jedi.inference.value.module', 'jedi.inference.value.dynamic_arrays', 'jedi.inference.value.iterable', 'jedi.inference.arguments', 'jedi.inference.parser_cache', 'jedi.inference.gradual.generics', 'jedi.inference.value.function', 'jedi.inference.value.klass', 'jedi.inference.value.instance', 'jedi.inference.value', 'jedi.inference.gradual.base', 'jedi.inference.gradual.type_var', 'jedi.inference.gradual.typing', 'jedi.inference.gradual.stub_value', 'jedi.inference.gradual.typeshed', 'jedi.inference.imports', 'jedi.inference.param', 'jedi.inference.gradual.annotation', 'jedi.inference.value.decorator', 'jedi.inference.syntax_tree', 'jedi.inference', 'jedi.inference.gradual.conversion', 'jedi.inference.compiled.mixed', 'pydoc_data', 'pydoc_data.topics', 'jedi.api.keywords', 'jedi.api.completion_cache', 'jedi.api.helpers', 'jedi.api.classes', 'jedi.api.interpreter', 'jedi.api.strings', 'jedi.api.file_name', 'jedi.api.completion', 'filecmp', 'jedi.inference.compiled.subprocess.functions', 'jedi.api.exceptions', 'jedi.inference.compiled.subprocess', 'jedi.api.environment', 'jedi.inference.references', 'jedi.api.project', 'jedi.api.errors', 'jedi.api.refactoring', 'jedi.api.refactoring.extract', 'jedi.inference.gradual.utils', 'jedi.api', 'jedi.plugins.stdlib', 'jedi.plugins.flask', 'jedi.plugins.pytest', 'jedi.plugins.django', 'jedi.plugins.registry', 'jedi', 'IPython.core.completer', 'IPython.terminal.ptutils', 'IPython.lib.clipboard', 'IPython.terminal.shortcuts', 'IPython.terminal.debugger', 'IPython.terminal.magics', 'IPython.terminal.pt_inputhooks', 'IPython.terminal.prompts', 'IPython.terminal.interactiveshell', 'IPython.core.magics.auto', 'IPython.core.magics.basic', 'email', 'http', 'email.errors', 'email.quoprimime', 'email.base64mime', 'quopri', 'email.encoders', 'email.charset', 'email.header', 'calendar', 'email._parseaddr', 'email.utils', 'email._policybase', 'email.feedparser', 'email.parser', 'uu', 'email._encoded_words', 'email.iterators', 'email.message', 'http.client', 'urllib.response', 'urllib.error', 'nturl2path', 'urllib.request', 'IPython.core.magics.code', 'IPython.core.magics.config', 'IPython.core.magics.display', 'timeit', '_lsprof', 'profile', 'cProfile', 'pstats', 'IPython.utils.module_paths', 'IPython.utils.timing', 'IPython.core.magics.execution', 'IPython.core.magics.extension', 'IPython.core.magics.history', 'IPython.core.magics.logging', 'IPython.core.magics.namespace', 'IPython.core.magics.osm', 'IPython.core.magics.packaging', 'IPython.core.pylabtools', 'IPython.core.magics.pylab', 'IPython.lib.backgroundjobs', 'IPython.core.magics.script', 'IPython.core.magics', 'IPython.core.shellapp', 'IPython.extensions', 'IPython.extensions.storemagic', 'IPython.terminal.ipapp', 'IPython.terminal.embed', 'IPython.utils.frame', 'IPython', 'jupyter_client._version', 'zmq.backend.select', 'cython_runtime', 'zmq.backend.cython.constants', '_cython_0_29_21', 'zmq.backend.cython.error', 'zmq.error', 'zmq.backend.cython.message', 'zmq.backend.cython.context', 'zmq.backend.cython.socket', 'zmq.backend.cython.utils', 'zmq.backend.cython._poll', 'zmq.backend.cython._version', 'zmq.backend.cython._device', 'zmq.backend.cython._proxy_steerable', 'zmq.backend.cython', 'zmq.backend', 'zmq.utils', 'zmq.utils.constant_names', 'zmq.sugar.constants', 'zmq.sugar.attrsettr', 'zmq.sugar.poll', 'zmq.utils.strtypes', 'zmq.utils.jsonapi', 'zmq.sugar.socket', 'zmq.sugar.context', 'zmq.sugar.frame', 'zmq.sugar.tracker', 'zmq.sugar.version', 'zmq.sugar.stopwatch', 'zmq.sugar', 'zmq', 'jupyter_client.localinterfaces', 'jupyter_core.version', 'jupyter_core', 'distutils', 'distutils.errors', 'distutils.dep_util', 'distutils.debug', 'distutils.log', 'distutils.spawn', 'distutils.util', 'jupyter_core.paths', 'jupyter_client.connect', 'traitlets.log', 'jupyter_client.launcher', 'jupyter_client.channelsabc', 'jupyter_client.channels', 'jupyter_client.clientabc', 'jupyter_client.client', 'ipython_genutils.importstring', 'jupyter_client.kernelspec', 'jupyter_client.managerabc', 'jupyter_client.manager', 'jupyter_client.blocking.channels', 'jupyter_client.blocking.client', 'jupyter_client.blocking', 'zmq._future', 'zmq.asyncio', 'jupyter_client.asynchronous.channels', 'jupyter_client.asynchronous.client', 'jupyter_client.asynchronous', 'uuid', 'jupyter_client.multikernelmanager', 'jupyter_client', 'ipykernel.connect', 'ipykernel', 'tornado', 'numbers', 'logging.handlers', 'tornado.speedups', 'tornado.util', 'tornado.escape', 'colorama.ansi', 'colorama.win32', 'colorama.winterm', 'colorama.ansitowin32', 'colorama.initialise', 'colorama', 'tornado.log', 'tornado.concurrent', 'tornado.ioloop', 'tornado.platform', 'tornado.gen', 'tornado.platform.asyncio', 'zmq.eventloop.ioloop', 'zmq.eventloop', 'zmq.eventloop.zmqstream', 'imp', 'hmac', 'dateutil._version', 'dateutil', 'six', '_decimal', 'decimal', 'dateutil._common', 'dateutil.relativedelta', 'six.moves', 'dateutil.tz._common', 'dateutil.tz._factories', 'dateutil.tz.win', 'dateutil.tz.tz', 'dateutil.tz', 'dateutil.parser._parser', 'dateutil.parser.isoparser', 'dateutil.parser', '_strptime', 'jupyter_client.jsonutil', 'jupyter_client.adapter', 'jupyter_client.session', 'ipykernel.iostream', 'ipykernel.heartbeat', 'IPython.utils.tokenutil', 'tornado.locks', 'tornado.queues', 'ipykernel.jsonutil', 'ipykernel.kernelbase', 'ipykernel.comm.comm', 'ipykernel.comm.manager', 'ipykernel.comm', 'IPython.core.payloadpage', 'ipykernel.displayhook', 'ipykernel.zmqshell', 'distutils.version', 'ipykernel.eventloops', 'ipykernel.ipkernel', 'ipykernel.parentpoller', 'ipykernel.kernelapp', 'win32api', 'win32security', 'ntsecuritycon', 'faulthandler', 'ipykernel.codeutil', 'ipykernel.pickleutil', 'ipykernel.serialize', 'ipykernel.datapub', 'IPython.core.completerlib', 'storemagic', 'graphviz._defaults', 'unittest.util', 'unittest.result', 'unittest.case', 'unittest.async_case', 'unittest.suite', 'unittest.loader', 'unittest.signals', 'unittest.runner', 'unittest.main', 'unittest', 'unittest.mock', 'graphviz._compat', 'graphviz.backend.execute', 'graphviz.exceptions', 'graphviz.copying', 'graphviz.parameters.base', 'graphviz.parameters.engines', 'graphviz.parameters.formats', 'graphviz.parameters.renderers', 'graphviz.parameters.formatters', 'graphviz.parameters.mixins', 'graphviz.parameters', 'graphviz.backend.dot_command', 'graphviz._tools', 'graphviz.backend.piping', 'graphviz.backend.rendering', 'graphviz.encoding', 'graphviz.backend.unflattening', 'graphviz.backend.viewing', 'graphviz.backend.mixins', 'graphviz.backend.upstream_version', 'graphviz.backend', 'graphviz.base', 'graphviz.quoting', 'graphviz.dot', 'graphviz.piping', 'graphviz.jupyter_integration', 'graphviz.saving', 'graphviz.rendering', 'graphviz.unflattening', 'graphviz.graphs', 'graphviz.sources', 'graphviz', 'encodings.ascii', 'numpy._globals', 'numpy.__config__', 'numpy.version', 'mkl._mklinit', 'mkl._py_mkl_service', 'mkl', 'numpy._distributor_init', 'numpy.core._multiarray_umath', 'numpy.compat._inspect', 'numpy.compat.py3k', 'numpy.compat', 'numpy.core.overrides', 'numpy.core.multiarray', 'numpy.core.umath', 'numpy.core._string_helpers', 'numpy.core._dtype', 'numpy.core._type_aliases', 'numpy.core.numerictypes', 'numpy.core._asarray', 'numpy.core._exceptions', 'numpy.core._methods', 'numpy.core.fromnumeric', 'numpy.core.shape_base', 'numpy.core._ufunc_config', 'numpy.core.arrayprint', 'numpy.core.numeric', 'numpy.core.defchararray', 'numpy.core.records', 'numpy.core.memmap', 'numpy.core.function_base', 'numpy.core.machar', 'numpy.core.getlimits', 'numpy.core.einsumfunc', 'numpy.core._multiarray_tests', 'numpy.core._add_newdocs', 'numpy.core._dtype_ctypes', 'numpy.core._internal', 'numpy._pytesttester', 'numpy.core', 'numpy.lib.mixins', 'numpy.lib.ufunclike', 'numpy.lib.type_check', 'numpy.lib.scimath', 'numpy.lib.twodim_base', 'numpy.linalg.lapack_lite', 'numpy.linalg._umath_linalg', 'numpy.linalg.linalg', 'numpy.linalg', 'numpy.matrixlib.defmatrix', 'numpy.matrixlib', 'numpy.lib.histograms', 'numpy.lib.function_base', 'numpy.lib.stride_tricks', 'numpy.lib.index_tricks', 'numpy.lib.nanfunctions', 'numpy.lib.shape_base', 'numpy.lib.polynomial', 'numpy.lib.utils', 'numpy.lib.arraysetops', 'numpy.lib.format', 'numpy.lib._datasource', 'numpy.lib._iotools', 'numpy.lib.npyio', 'numpy.lib.financial', 'numpy.lib.arrayterator', 'numpy.lib.arraypad', 'numpy.lib._version', 'numpy.lib', 'numpy.fft._pocketfft_internal', 'numpy.fft._pocketfft', 'numpy.fft.helper', 'numpy.fft', 'numpy.polynomial.polyutils', 'numpy.polynomial._polybase', 'numpy.polynomial.polynomial', 'numpy.polynomial.chebyshev', 'numpy.polynomial.legendre', 'numpy.polynomial.hermite', 'numpy.polynomial.hermite_e', 'numpy.polynomial.laguerre', 'numpy.polynomial', 'numpy.random._common', 'secrets', 'numpy.random.bit_generator', 'numpy.random._bounded_integers', 'numpy.random._mt19937', 'numpy.random.mtrand', 'numpy.random._philox', 'numpy.random._pcg64', 'numpy.random._sfc64', 'numpy.random._generator', 'numpy.random._pickle', 'numpy.random', 'numpy.ctypeslib', 'numpy.ma.core', 'numpy.ma.extras', 'numpy.ma', 'numpy', 'matplotlib', 'gzip', 'matplotlib.cbook.deprecation', 'matplotlib.cbook', 'matplotlib._animation_data', 'matplotlib.animation', 'pyparsing', 'matplotlib.fontconfig_pattern', 'matplotlib.docstring', 'matplotlib._color_data', 'matplotlib.colors', 'cycler', 'matplotlib.rcsetup', 'matplotlib._version', 'matplotlib.ft2font', 'kiwisolver']\n"
     ]
    },
    {
     "name": "stderr",
     "output_type": "stream",
     "text": [
      "[DEBUG@matplotlib] CACHEDIR=C:\\Users\\SMRobot\\.matplotlib\n",
      "[DEBUG@matplotlib.font_manager] Using fontManager instance from C:\\Users\\SMRobot\\.matplotlib\\fontlist-v330.json\n",
      "[DEBUG@matplotlib.pyplot] Loaded backend module://ipykernel.pylab.backend_inline version unknown.\n",
      "[DEBUG@matplotlib.pyplot] Loaded backend module://ipykernel.pylab.backend_inline version unknown.\n"
     ]
    }
   ],
   "source": [
    "import numpy as np\n",
    "import matplotlib.pyplot as plt\n",
    "\n",
    "np.random.seed(42)"
   ]
  },
  {
   "cell_type": "code",
   "execution_count": 12,
   "metadata": {
    "id": "4YabfD43ajNh"
   },
   "outputs": [],
   "source": [
    "def data_generator(noise=0.1, n_samples=300, D1=True):\n",
    "    # Create covariates and response variable\n",
    "    if D1:\n",
    "        X = np.linspace(-3, 3, num=n_samples).reshape(-1,1) # 1-D\n",
    "        np.random.shuffle(X)\n",
    "        y = np.random.normal((0.5*np.sin(X[:,0]*3) + X[:,0]), noise) # 1-D with trend\n",
    "    else:\n",
    "        X = np.random.multivariate_normal(np.zeros(3), noise*np.eye(3), size = n_samples) # 3-D\n",
    "        np.random.shuffle(X)    \n",
    "        y = np.sin(X[:,0]) - 5*(X[:,1]**2) + 0.5*X[:,2] # 3-D\n",
    "\n",
    "    # Stack them together vertically to split data set\n",
    "    data_set = np.vstack((X.T,y)).T\n",
    "    \n",
    "    train, validation, test = np.split(data_set, [int(0.35*n_samples), int(0.7*n_samples)], axis=0)\n",
    "    \n",
    "    # Standardization of the data, remember we do the standardization with the training set mean and standard deviation\n",
    "    train_mu = np.mean(train, axis=0)\n",
    "    train_sigma = np.std(train, axis=0)\n",
    "    \n",
    "    train = (train-train_mu)/train_sigma\n",
    "    validation = (validation-train_mu)/train_sigma\n",
    "    test = (test-train_mu)/train_sigma\n",
    "    \n",
    "    x_train, x_validation, x_test = train[:,:-1], validation[:,:-1], test[:,:-1]\n",
    "    y_train, y_validation, y_test = train[:,-1], validation[:,-1], test[:,-1]\n",
    "\n",
    "    return x_train, y_train,  x_validation, y_validation, x_test, y_test"
   ]
  },
  {
   "cell_type": "code",
   "execution_count": 13,
   "metadata": {
    "id": "u1oDngHLapIz"
   },
   "outputs": [],
   "source": [
    "D1 = True\n",
    "x_train, y_train,  x_validation, y_validation, x_test, y_test = data_generator(noise=0.5, D1=D1)"
   ]
  },
  {
   "cell_type": "code",
   "execution_count": 14,
   "metadata": {
    "colab": {
     "base_uri": "https://localhost:8080/",
     "height": 265
    },
    "id": "Ysfa3FsBavlm",
    "outputId": "399e5382-ae7d-48f6-9774-7ea4c73e7d95"
   },
   "outputs": [
    {
     "name": "stderr",
     "output_type": "stream",
     "text": [
      "[DEBUG@matplotlib.font_manager] findfont: Matching sans\\-serif:style=normal:variant=normal:weight=normal:stretch=normal:size=10.0.\n",
      "[DEBUG@matplotlib.font_manager] findfont: score(<Font 'STIXSizeOneSym' (STIXSizOneSymBol.ttf) normal normal 700 normal>) = 10.335\n",
      "[DEBUG@matplotlib.font_manager] findfont: score(<Font 'DejaVu Sans Mono' (DejaVuSansMono-Bold.ttf) normal normal 700 normal>) = 10.335\n",
      "[DEBUG@matplotlib.font_manager] findfont: score(<Font 'STIXNonUnicode' (STIXNonUniIta.ttf) italic normal 400 normal>) = 11.05\n",
      "[DEBUG@matplotlib.font_manager] findfont: score(<Font 'cmsy10' (cmsy10.ttf) normal normal 400 normal>) = 10.05\n",
      "[DEBUG@matplotlib.font_manager] findfont: score(<Font 'STIXSizeThreeSym' (STIXSizThreeSymBol.ttf) normal normal 700 normal>) = 10.335\n",
      "[DEBUG@matplotlib.font_manager] findfont: score(<Font 'cmb10' (cmb10.ttf) normal normal 400 normal>) = 10.05\n",
      "[DEBUG@matplotlib.font_manager] findfont: score(<Font 'DejaVu Sans' (DejaVuSans-Bold.ttf) normal normal 700 normal>) = 0.33499999999999996\n",
      "[DEBUG@matplotlib.font_manager] findfont: score(<Font 'cmtt10' (cmtt10.ttf) normal normal 400 normal>) = 10.05\n",
      "[DEBUG@matplotlib.font_manager] findfont: score(<Font 'STIXGeneral' (STIXGeneralItalic.ttf) italic normal 400 normal>) = 11.05\n",
      "[DEBUG@matplotlib.font_manager] findfont: score(<Font 'cmss10' (cmss10.ttf) normal normal 400 normal>) = 10.05\n",
      "[DEBUG@matplotlib.font_manager] findfont: score(<Font 'STIXNonUnicode' (STIXNonUniBolIta.ttf) italic normal 700 normal>) = 11.335\n",
      "[DEBUG@matplotlib.font_manager] findfont: score(<Font 'STIXNonUnicode' (STIXNonUni.ttf) normal normal 400 normal>) = 10.05\n",
      "[DEBUG@matplotlib.font_manager] findfont: score(<Font 'STIXNonUnicode' (STIXNonUniBol.ttf) normal normal 700 normal>) = 10.335\n",
      "[DEBUG@matplotlib.font_manager] findfont: score(<Font 'STIXGeneral' (STIXGeneralBol.ttf) normal normal 700 normal>) = 10.335\n",
      "[DEBUG@matplotlib.font_manager] findfont: score(<Font 'STIXSizeFiveSym' (STIXSizFiveSymReg.ttf) normal normal 400 normal>) = 10.05\n",
      "[DEBUG@matplotlib.font_manager] findfont: score(<Font 'STIXSizeTwoSym' (STIXSizTwoSymReg.ttf) normal normal 400 normal>) = 10.05\n",
      "[DEBUG@matplotlib.font_manager] findfont: score(<Font 'DejaVu Sans' (DejaVuSans-Oblique.ttf) oblique normal 400 normal>) = 1.05\n",
      "[DEBUG@matplotlib.font_manager] findfont: score(<Font 'STIXGeneral' (STIXGeneralBolIta.ttf) italic normal 700 normal>) = 11.335\n",
      "[DEBUG@matplotlib.font_manager] findfont: score(<Font 'DejaVu Sans' (DejaVuSans-BoldOblique.ttf) oblique normal 700 normal>) = 1.335\n",
      "[DEBUG@matplotlib.font_manager] findfont: score(<Font 'DejaVu Serif' (DejaVuSerif-Bold.ttf) normal normal 700 normal>) = 10.335\n",
      "[DEBUG@matplotlib.font_manager] findfont: score(<Font 'DejaVu Sans Mono' (DejaVuSansMono-BoldOblique.ttf) oblique normal 700 normal>) = 11.335\n",
      "[DEBUG@matplotlib.font_manager] findfont: score(<Font 'STIXGeneral' (STIXGeneral.ttf) normal normal 400 normal>) = 10.05\n",
      "[DEBUG@matplotlib.font_manager] findfont: score(<Font 'DejaVu Serif' (DejaVuSerif-BoldItalic.ttf) italic normal 700 normal>) = 11.335\n",
      "[DEBUG@matplotlib.font_manager] findfont: score(<Font 'STIXSizeFourSym' (STIXSizFourSymBol.ttf) normal normal 700 normal>) = 10.335\n",
      "[DEBUG@matplotlib.font_manager] findfont: score(<Font 'cmex10' (cmex10.ttf) normal normal 400 normal>) = 10.05\n",
      "[DEBUG@matplotlib.font_manager] findfont: score(<Font 'DejaVu Sans Mono' (DejaVuSansMono-Oblique.ttf) oblique normal 400 normal>) = 11.05\n",
      "[DEBUG@matplotlib.font_manager] findfont: score(<Font 'DejaVu Sans Mono' (DejaVuSansMono.ttf) normal normal 400 normal>) = 10.05\n",
      "[DEBUG@matplotlib.font_manager] findfont: score(<Font 'cmmi10' (cmmi10.ttf) normal normal 400 normal>) = 10.05\n",
      "[DEBUG@matplotlib.font_manager] findfont: score(<Font 'STIXSizeThreeSym' (STIXSizThreeSymReg.ttf) normal normal 400 normal>) = 10.05\n",
      "[DEBUG@matplotlib.font_manager] findfont: score(<Font 'DejaVu Serif' (DejaVuSerif.ttf) normal normal 400 normal>) = 10.05\n",
      "[DEBUG@matplotlib.font_manager] findfont: score(<Font 'STIXSizeOneSym' (STIXSizOneSymReg.ttf) normal normal 400 normal>) = 10.05\n",
      "[DEBUG@matplotlib.font_manager] findfont: score(<Font 'STIXSizeFourSym' (STIXSizFourSymReg.ttf) normal normal 400 normal>) = 10.05\n",
      "[DEBUG@matplotlib.font_manager] findfont: score(<Font 'STIXSizeTwoSym' (STIXSizTwoSymBol.ttf) normal normal 700 normal>) = 10.335\n",
      "[DEBUG@matplotlib.font_manager] findfont: score(<Font 'DejaVu Serif' (DejaVuSerif-Italic.ttf) italic normal 400 normal>) = 11.05\n",
      "[DEBUG@matplotlib.font_manager] findfont: score(<Font 'DejaVu Serif Display' (DejaVuSerifDisplay.ttf) normal normal 400 normal>) = 10.05\n",
      "[DEBUG@matplotlib.font_manager] findfont: score(<Font 'DejaVu Sans' (DejaVuSans.ttf) normal normal 400 normal>) = 0.05\n",
      "[DEBUG@matplotlib.font_manager] findfont: score(<Font 'cmr10' (cmr10.ttf) normal normal 400 normal>) = 10.05\n",
      "[DEBUG@matplotlib.font_manager] findfont: score(<Font 'DejaVu Sans Display' (DejaVuSansDisplay.ttf) normal normal 400 normal>) = 10.05\n",
      "[DEBUG@matplotlib.font_manager] findfont: score(<Font 'Gill Sans Ultra Bold Condensed' (GILLUBCD.TTF) normal normal 400 condensed>) = 10.25\n",
      "[DEBUG@matplotlib.font_manager] findfont: score(<Font 'Tw Cen MT' (TCBI____.TTF) italic normal 700 normal>) = 11.335\n",
      "[DEBUG@matplotlib.font_manager] findfont: score(<Font 'ESSTIXSix' (ESSTIX6_.TTF) normal normal 400 normal>) = 10.05\n",
      "[DEBUG@matplotlib.font_manager] findfont: score(<Font 'Bookman Old Style' (BOOKOS.TTF) normal normal 300 normal>) = 10.145\n",
      "[DEBUG@matplotlib.font_manager] findfont: score(<Font 'Detente' (Detente_.ttf) normal normal 5 normal>) = 10.42525\n",
      "[DEBUG@matplotlib.font_manager] findfont: score(<Font 'Forte' (FORTE.TTF) normal normal 400 normal>) = 10.05\n",
      "[DEBUG@matplotlib.font_manager] findfont: score(<Font 'Perpetua' (PER_____.TTF) normal normal 400 normal>) = 10.05\n",
      "[DEBUG@matplotlib.font_manager] findfont: score(<Font 'Lucida Sans' (LSANSDI.TTF) italic normal 600 normal>) = 11.24\n",
      "[DEBUG@matplotlib.font_manager] findfont: score(<Font 'Hansen' (Hansen__.ttf) normal normal 5 normal>) = 10.42525\n",
      "[DEBUG@matplotlib.font_manager] findfont: score(<Font 'Bodoni MT' (BOD_CBI.TTF) italic normal 700 condensed>) = 11.535\n",
      "[DEBUG@matplotlib.font_manager] findfont: score(<Font 'Gill Sans MT' (GILB____.TTF) normal normal 700 normal>) = 10.335\n",
      "[DEBUG@matplotlib.font_manager] findfont: score(<Font 'Arial' (ARIALNBI.TTF) italic normal 700 condensed>) = 7.8986363636363635\n",
      "[DEBUG@matplotlib.font_manager] findfont: score(<Font 'Lucida Sans Typewriter' (LTYPEB.TTF) normal normal 600 normal>) = 10.24\n",
      "[DEBUG@matplotlib.font_manager] findfont: score(<Font 'Copperplate Gothic Bold' (COPRGTB.TTF) normal normal 400 normal>) = 10.05\n",
      "[DEBUG@matplotlib.font_manager] findfont: score(<Font 'HoloLens MDL2 Assets' (holomdl2.ttf) normal normal 400 normal>) = 10.05\n",
      "[DEBUG@matplotlib.font_manager] findfont: score(<Font 'Monotype Corsiva' (MTCORSVA.TTF) normal normal 400 normal>) = 10.05\n",
      "[DEBUG@matplotlib.font_manager] findfont: score(<Font 'Vladimir Script' (VLADIMIR.TTF) normal normal 400 normal>) = 10.05\n",
      "[DEBUG@matplotlib.font_manager] findfont: score(<Font 'Helonia' (HEBO____.ttf) italic normal 700 normal>) = 11.335\n",
      "[DEBUG@matplotlib.font_manager] findfont: score(<Font 'BOUTON International Symbols' (BOUTON_International_symbols.ttf) normal normal 400 normal>) = 10.05\n",
      "[DEBUG@matplotlib.font_manager] findfont: score(<Font 'Greek Diner Inline TT' (Greek_i.ttf) normal normal 400 normal>) = 10.05\n",
      "[DEBUG@matplotlib.font_manager] findfont: score(<Font 'Arial' (ARIALNB.TTF) normal normal 700 condensed>) = 6.8986363636363635\n",
      "[DEBUG@matplotlib.font_manager] findfont: score(<Font 'Eras Light ITC' (ERASLGHT.TTF) normal normal 400 normal>) = 10.05\n",
      "[DEBUG@matplotlib.font_manager] findfont: score(<Font 'PhrasticMedium' (Phrasme_.ttf) normal normal 5 normal>) = 10.42525\n",
      "[DEBUG@matplotlib.font_manager] findfont: score(<Font 'Jokerman' (JOKERMAN.TTF) normal normal 400 normal>) = 10.05\n",
      "[DEBUG@matplotlib.font_manager] findfont: score(<Font 'Snap ITC' (SNAP____.TTF) normal normal 400 normal>) = 10.05\n",
      "[DEBUG@matplotlib.font_manager] findfont: score(<Font 'Candara' (Candaraz.ttf) italic normal 700 normal>) = 11.335\n",
      "[DEBUG@matplotlib.font_manager] findfont: score(<Font 'Harrington' (HARNGTON.TTF) normal normal 400 normal>) = 10.05\n"
     ]
    },
    {
     "name": "stderr",
     "output_type": "stream",
     "text": [
      "[DEBUG@matplotlib.font_manager] findfont: score(<Font 'Open Sans' (Open Sans Light.ttf) normal normal 300 normal>) = 10.145\n",
      "[DEBUG@matplotlib.font_manager] findfont: score(<Font 'Ebrima' (ebrima.ttf) normal normal 400 normal>) = 10.05\n",
      "[DEBUG@matplotlib.font_manager] findfont: score(<Font 'Haxton Logos TT' (Haxton.ttf) normal normal 400 normal>) = 10.05\n",
      "[DEBUG@matplotlib.font_manager] findfont: score(<Font 'Archivo Narrow' (Archivo Narrow Bold.ttf) normal normal 700 condensed>) = 10.535\n",
      "[DEBUG@matplotlib.font_manager] findfont: score(<Font 'ESSTIXNine' (ESSTIX9_.TTF) normal normal 400 normal>) = 10.05\n",
      "[DEBUG@matplotlib.font_manager] findfont: score(<Font 'Bungee' (Bungee-Outline.otf) normal normal 700 normal>) = 10.335\n",
      "[DEBUG@matplotlib.font_manager] findfont: score(<Font 'Myanmar Text' (mmrtext.ttf) normal normal 400 normal>) = 10.05\n",
      "[DEBUG@matplotlib.font_manager] findfont: score(<Font 'Gloucester MT Extra Condensed' (GLECB.TTF) normal normal 400 condensed>) = 10.25\n",
      "[DEBUG@matplotlib.font_manager] findfont: score(<Font 'Calisto MT' (CALISTI.TTF) italic normal 400 normal>) = 11.05\n",
      "[DEBUG@matplotlib.font_manager] findfont: score(<Font 'Eras Demi ITC' (ERASDEMI.TTF) normal normal 400 normal>) = 10.05\n",
      "[DEBUG@matplotlib.font_manager] findfont: score(<Font 'Vivaldi' (VIVALDII.TTF) italic normal 400 normal>) = 11.05\n",
      "[DEBUG@matplotlib.font_manager] findfont: score(<Font 'Constantia' (constanb.ttf) normal normal 700 normal>) = 10.335\n",
      "[DEBUG@matplotlib.font_manager] findfont: score(<Font 'Frankfurter Venetian TT' (Frnkvent.ttf) normal normal 400 normal>) = 10.05\n",
      "[DEBUG@matplotlib.font_manager] findfont: score(<Font 'Verdana' (verdanai.ttf) italic normal 400 normal>) = 4.6863636363636365\n",
      "[DEBUG@matplotlib.font_manager] findfont: score(<Font 'Agency FB' (AGENCYR.TTF) normal normal 400 normal>) = 10.05\n",
      "[DEBUG@matplotlib.font_manager] findfont: score(<Font 'OCR A Extended' (OCRAEXT.TTF) normal normal 400 expanded>) = 10.25\n",
      "[DEBUG@matplotlib.font_manager] findfont: score(<Font 'Tw Cen MT' (TCB_____.TTF) normal normal 700 normal>) = 10.335\n",
      "[DEBUG@matplotlib.font_manager] findfont: score(<Font 'Goudy Old Style' (GOUDOS.TTF) normal normal 400 normal>) = 10.05\n",
      "[DEBUG@matplotlib.font_manager] findfont: score(<Font 'Palatino Linotype' (palab.ttf) normal normal 700 normal>) = 10.335\n",
      "[DEBUG@matplotlib.font_manager] findfont: score(<Font 'Huxley Titling' (Huxley_Titling.ttf) normal normal 400 normal>) = 10.05\n",
      "[DEBUG@matplotlib.font_manager] findfont: score(<Font 'Rockwell' (ROCKBI.TTF) italic normal 700 normal>) = 11.335\n",
      "[DEBUG@matplotlib.font_manager] findfont: score(<Font 'Tw Cen MT Condensed Extra Bold' (TCCEB.TTF) normal normal 400 condensed>) = 10.25\n",
      "[DEBUG@matplotlib.font_manager] findfont: score(<Font 'Calibri' (calibrii.ttf) italic normal 400 normal>) = 11.05\n",
      "[DEBUG@matplotlib.font_manager] findfont: score(<Font 'Franklin Gothic Demi Cond' (FRADMCN.TTF) normal normal 400 condensed>) = 10.25\n",
      "[DEBUG@matplotlib.font_manager] findfont: score(<Font 'Good Times' (goodtime.ttf) normal normal 400 normal>) = 10.05\n",
      "[DEBUG@matplotlib.font_manager] findfont: score(<Font 'Yu Gothic' (YuGothR.ttc) normal normal 400 normal>) = 10.05\n",
      "[DEBUG@matplotlib.font_manager] findfont: score(<Font 'Malgun Gothic' (malgun.ttf) normal normal 400 normal>) = 10.05\n",
      "[DEBUG@matplotlib.font_manager] findfont: score(<Font 'Georgia' (georgiaz.ttf) italic normal 700 normal>) = 11.335\n",
      "[DEBUG@matplotlib.font_manager] findfont: score(<Font 'Salina' (Salina__.ttf) normal normal 5 normal>) = 10.42525\n",
      "[DEBUG@matplotlib.font_manager] findfont: score(<Font 'Heavy Heap' (heavyhea2.ttf) normal normal 400 normal>) = 10.05\n",
      "[DEBUG@matplotlib.font_manager] findfont: score(<Font 'Gill Sans Ultra Bold Condensed' (GILLUBCD.TTF) normal normal 400 condensed>) = 10.25\n",
      "[DEBUG@matplotlib.font_manager] findfont: score(<Font 'Calisto MT' (CALISTBI.TTF) italic normal 700 normal>) = 11.335\n",
      "[DEBUG@matplotlib.font_manager] findfont: score(<Font 'Enliven' (Enliven_.ttf) normal normal 5 normal>) = 10.42525\n",
      "[DEBUG@matplotlib.font_manager] findfont: score(<Font 'Creepygirl' (creerg__.ttf) normal normal 400 normal>) = 10.05\n",
      "[DEBUG@matplotlib.font_manager] findfont: score(<Font 'Balthazar' (BALTH___.TTF) normal normal 5 normal>) = 10.42525\n",
      "[DEBUG@matplotlib.font_manager] findfont: score(<Font 'Sylfaen' (sylfaen.ttf) normal normal 400 normal>) = 10.05\n",
      "[DEBUG@matplotlib.font_manager] findfont: score(<Font 'Comic Sans MS' (comicz.ttf) italic normal 700 normal>) = 11.335\n",
      "[DEBUG@matplotlib.font_manager] findfont: score(<Font 'BOUTON International Symbols' (BOUTON_International_symbols.ttf) normal normal 400 normal>) = 10.05\n",
      "[DEBUG@matplotlib.font_manager] findfont: score(<Font 'DejaVu Serif' (DejaVuSerifCondensed-Italic.ttf) italic normal 400 condensed>) = 11.25\n",
      "[DEBUG@matplotlib.font_manager] findfont: score(<Font 'Franklin Gothic Book' (FRABK.TTF) normal normal 400 normal>) = 10.05\n",
      "[DEBUG@matplotlib.font_manager] findfont: score(<Font 'Ink Free' (Inkfree.ttf) normal normal 400 normal>) = 10.05\n",
      "[DEBUG@matplotlib.font_manager] findfont: score(<Font 'Goudy Old Style' (GOUDOSI.TTF) italic normal 400 normal>) = 11.05\n",
      "[DEBUG@matplotlib.font_manager] findfont: score(<Font 'Baskerville Old Face' (BASKVILL.TTF) normal normal 400 normal>) = 10.05\n",
      "[DEBUG@matplotlib.font_manager] findfont: score(<Font 'Calibri' (calibrib.ttf) normal normal 700 normal>) = 10.335\n",
      "[DEBUG@matplotlib.font_manager] findfont: score(<Font 'Microsoft Tai Le' (taileb.ttf) normal normal 700 normal>) = 10.335\n",
      "[DEBUG@matplotlib.font_manager] findfont: score(<Font 'ESSTIXEleven' (ESSTIX11.TTF) normal normal 400 normal>) = 10.05\n",
      "[DEBUG@matplotlib.font_manager] findfont: score(<Font 'Chinyen' (chinyen.ttf) normal normal 500 normal>) = 10.145\n",
      "[DEBUG@matplotlib.font_manager] findfont: score(<Font 'SF Movie Poster' (sf movie poster2.ttf) normal normal 400 normal>) = 10.05\n",
      "[DEBUG@matplotlib.font_manager] findfont: score(<Font 'Chinyen' (chinyen.ttf) normal normal 500 normal>) = 10.145\n",
      "[DEBUG@matplotlib.font_manager] findfont: score(<Font 'Mycalc' (Mycalc__.ttf) normal normal 5 normal>) = 10.42525\n",
      "[DEBUG@matplotlib.font_manager] findfont: score(<Font 'Comic Sans MS' (comici.ttf) italic normal 400 normal>) = 11.05\n",
      "[DEBUG@matplotlib.font_manager] findfont: score(<Font 'Bungee Layers' (BungeeLayers-Regular.otf) normal normal 400 normal>) = 10.05\n",
      "[DEBUG@matplotlib.font_manager] findfont: score(<Font 'Bookman Old Style' (BOOKOSI.TTF) italic normal 300 normal>) = 11.145\n",
      "[DEBUG@matplotlib.font_manager] findfont: score(<Font 'Castellar' (CASTELAR.TTF) normal normal 400 normal>) = 10.05\n",
      "[DEBUG@matplotlib.font_manager] findfont: score(<Font 'Perpetua Titling MT' (PERTIBD.TTF) normal normal 700 normal>) = 10.335\n",
      "[DEBUG@matplotlib.font_manager] findfont: score(<Font 'Minerva' (Minerva_.ttf) normal normal 5 normal>) = 10.42525\n",
      "[DEBUG@matplotlib.font_manager] findfont: score(<Font 'Microsoft Sans Serif' (micross.ttf) normal normal 400 normal>) = 10.05\n",
      "[DEBUG@matplotlib.font_manager] findfont: score(<Font 'Algerian' (ALGER.TTF) normal normal 400 normal>) = 10.05\n",
      "[DEBUG@matplotlib.font_manager] findfont: score(<Font 'Open Sans' (Open Sans Bold.ttf) normal normal 700 normal>) = 10.335\n",
      "[DEBUG@matplotlib.font_manager] findfont: score(<Font 'Salina' (Salina__.ttf) normal normal 5 normal>) = 10.42525\n",
      "[DEBUG@matplotlib.font_manager] findfont: score(<Font 'Dubai' (DUBAI-REGULAR.TTF) normal normal 400 normal>) = 10.05\n",
      "[DEBUG@matplotlib.font_manager] findfont: score(<Font 'Broadway' (BROADW.TTF) normal normal 400 normal>) = 10.05\n",
      "[DEBUG@matplotlib.font_manager] findfont: score(<Font 'Microsoft Tai Le' (taile.ttf) normal normal 400 normal>) = 10.05\n",
      "[DEBUG@matplotlib.font_manager] findfont: score(<Font 'Segoe Script' (segoesc.ttf) normal normal 400 normal>) = 10.05\n",
      "[DEBUG@matplotlib.font_manager] findfont: score(<Font 'MaplePi' (MaplePi.ttf) normal normal 400 normal>) = 10.05\n",
      "[DEBUG@matplotlib.font_manager] findfont: score(<Font 'Bungee' (Bungee-Shade.otf) normal normal 800 normal>) = 10.43\n",
      "[DEBUG@matplotlib.font_manager] findfont: score(<Font 'Gill Sans MT Ext Condensed Bold' (GLSNECB.TTF) normal normal 400 condensed>) = 10.25\n",
      "[DEBUG@matplotlib.font_manager] findfont: score(<Font 'Century Gothic' (GOTHICBI.TTF) italic normal 700 normal>) = 11.335\n"
     ]
    },
    {
     "name": "stderr",
     "output_type": "stream",
     "text": [
      "[DEBUG@matplotlib.font_manager] findfont: score(<Font 'Pristina' (PRISTINA.TTF) normal normal 400 normal>) = 10.05\n",
      "[DEBUG@matplotlib.font_manager] findfont: score(<Font 'Verdana' (verdanaz.ttf) italic normal 700 normal>) = 4.971363636363637\n",
      "[DEBUG@matplotlib.font_manager] findfont: score(<Font 'Moonbeam' (MOONB___.TTF) normal normal 5 normal>) = 10.42525\n",
      "[DEBUG@matplotlib.font_manager] findfont: score(<Font 'PR Celtic Narrow' (narrow.ttf) normal normal 400 condensed>) = 10.25\n",
      "[DEBUG@matplotlib.font_manager] findfont: score(<Font 'Cambria' (cambriab.ttf) normal normal 700 normal>) = 10.335\n",
      "[DEBUG@matplotlib.font_manager] findfont: score(<Font 'Year supply of fairy cakes' (yearsupplyoffairycakes.ttf) normal normal 400 normal>) = 10.05\n",
      "[DEBUG@matplotlib.font_manager] findfont: score(<Font 'QuiverItal' (QUIVEIT_.TTF) normal normal 5 normal>) = 10.42525\n",
      "[DEBUG@matplotlib.font_manager] findfont: score(<Font 'ESSTIXSeven' (ESSTIX7_.TTF) normal normal 400 normal>) = 10.05\n",
      "[DEBUG@matplotlib.font_manager] findfont: score(<Font 'Skinny' (Skinny__.ttf) normal normal 5 normal>) = 10.42525\n",
      "[DEBUG@matplotlib.font_manager] findfont: score(<Font 'Book Antiqua' (BKANT.TTF) normal normal 400 normal>) = 10.05\n",
      "[DEBUG@matplotlib.font_manager] findfont: score(<Font 'Berlin Sans FB' (BRLNSB.TTF) normal normal 700 normal>) = 10.335\n",
      "[DEBUG@matplotlib.font_manager] findfont: score(<Font 'Copperplate Gothic Light' (COPRGTL.TTF) normal normal 400 normal>) = 10.05\n",
      "[DEBUG@matplotlib.font_manager] findfont: score(<Font 'Open Sans' (Open Sans Light Italic.ttf) italic normal 300 normal>) = 11.145\n",
      "[DEBUG@matplotlib.font_manager] findfont: score(<Font 'Corbel' (corbeli.ttf) italic normal 400 normal>) = 11.05\n",
      "[DEBUG@matplotlib.font_manager] findfont: score(<Font 'STIX' (STIX-BoldItalic.otf) italic normal 700 normal>) = 11.335\n",
      "[DEBUG@matplotlib.font_manager] findfont: score(<Font 'Bernard MT Condensed' (BERNHC.TTF) normal normal 400 condensed>) = 10.25\n",
      "[DEBUG@matplotlib.font_manager] findfont: score(<Font 'Trebuchet MS' (trebuc.ttf) normal normal 400 normal>) = 10.05\n",
      "[DEBUG@matplotlib.font_manager] findfont: score(<Font 'Detente' (Detente_.ttf) normal normal 5 normal>) = 10.42525\n",
      "[DEBUG@matplotlib.font_manager] findfont: score(<Font 'Ebrima' (ebrimabd.ttf) normal normal 700 normal>) = 10.335\n",
      "[DEBUG@matplotlib.font_manager] findfont: score(<Font 'Matura MT Script Capitals' (MATURASC.TTF) normal normal 400 normal>) = 10.05\n",
      "[DEBUG@matplotlib.font_manager] findfont: score(<Font 'Bookshelf Symbol 7' (BSSYM7.TTF) normal normal 400 normal>) = 10.05\n",
      "[DEBUG@matplotlib.font_manager] findfont: score(<Font 'Lucida Bright' (LBRITED.TTF) normal normal 600 normal>) = 10.24\n",
      "[DEBUG@matplotlib.font_manager] findfont: score(<Font 'Thames' (THB_____.ttf) normal normal 700 normal>) = 10.335\n",
      "[DEBUG@matplotlib.font_manager] findfont: score(<Font 'Bobcat' (bobcat.ttf) normal normal 400 normal>) = 10.05\n",
      "[DEBUG@matplotlib.font_manager] findfont: score(<Font 'MingLiU-ExtB' (mingliub.ttc) normal normal 400 normal>) = 10.05\n",
      "[DEBUG@matplotlib.font_manager] findfont: score(<Font 'ESSTIXTwo' (ESSTIX2_.TTF) normal normal 400 normal>) = 10.05\n",
      "[DEBUG@matplotlib.font_manager] findfont: score(<Font 'Archivo Narrow' (Archivo Narrow Bold Italic.ttf) italic normal 700 condensed>) = 11.535\n",
      "[DEBUG@matplotlib.font_manager] findfont: score(<Font 'Sylfaen' (sylfaen.ttf) normal normal 400 normal>) = 10.05\n",
      "[DEBUG@matplotlib.font_manager] findfont: score(<Font 'Almonte Snow' (almosnow.ttf) normal normal 400 normal>) = 10.05\n",
      "[DEBUG@matplotlib.font_manager] findfont: score(<Font 'XITS Math' (xits-math.otf) normal normal 400 normal>) = 10.05\n",
      "[DEBUG@matplotlib.font_manager] findfont: score(<Font 'Times New Roman' (times.ttf) normal normal 400 normal>) = 10.05\n",
      "[DEBUG@matplotlib.font_manager] findfont: score(<Font 'ESSTIXFour' (ESSTIX4_.TTF) normal normal 400 normal>) = 10.05\n",
      "[DEBUG@matplotlib.font_manager] findfont: score(<Font 'Cambria' (cambriai.ttf) italic normal 400 normal>) = 11.05\n",
      "[DEBUG@matplotlib.font_manager] findfont: score(<Font 'Rage Italic' (RAGE.TTF) italic normal 400 normal>) = 11.05\n",
      "[DEBUG@matplotlib.font_manager] findfont: score(<Font 'Amethyst' (Ameth___.ttf) normal normal 5 normal>) = 10.42525\n",
      "[DEBUG@matplotlib.font_manager] findfont: score(<Font 'DejaVu Serif' (DejaVuSerifCondensed-Bold.ttf) normal normal 700 condensed>) = 10.535\n",
      "[DEBUG@matplotlib.font_manager] findfont: score(<Font 'DejaVu Sans' (DejaVuSans-Bold.ttf) normal normal 700 normal>) = 0.33499999999999996\n",
      "[DEBUG@matplotlib.font_manager] findfont: score(<Font 'Segoe UI' (segoeuib.ttf) normal normal 700 normal>) = 10.335\n",
      "[DEBUG@matplotlib.font_manager] findfont: score(<Font 'Bodoni MT' (BOD_CI.TTF) italic normal 400 condensed>) = 11.25\n",
      "[DEBUG@matplotlib.font_manager] findfont: score(<Font 'Copperplate Gothic Light' (COPRGTL.TTF) normal normal 400 normal>) = 10.05\n",
      "[DEBUG@matplotlib.font_manager] findfont: score(<Font 'Cambria' (cambriab.ttf) normal normal 700 normal>) = 10.335\n",
      "[DEBUG@matplotlib.font_manager] findfont: score(<Font 'Bungee Layers' (BungeeLayers-Regular.otf) normal normal 400 normal>) = 10.05\n",
      "[DEBUG@matplotlib.font_manager] findfont: score(<Font 'Arial' (ARIALNI.TTF) italic normal 400 condensed>) = 7.613636363636363\n",
      "[DEBUG@matplotlib.font_manager] findfont: score(<Font 'Berlin Sans FB Demi' (BRLNSDB.TTF) normal normal 700 normal>) = 10.335\n",
      "[DEBUG@matplotlib.font_manager] findfont: score(<Font 'Lucida Fax' (LFAX.TTF) normal normal 400 normal>) = 10.05\n",
      "[DEBUG@matplotlib.font_manager] findfont: score(<Font 'Bookman Old Style' (BOOKOSB.TTF) normal normal 600 normal>) = 10.24\n",
      "[DEBUG@matplotlib.font_manager] findfont: score(<Font 'Californian FB' (CALIFI.TTF) italic normal 400 normal>) = 11.05\n",
      "[DEBUG@matplotlib.font_manager] findfont: score(<Font 'Courier New' (cour.ttf) normal normal 400 normal>) = 10.05\n",
      "[DEBUG@matplotlib.font_manager] findfont: score(<Font 'Franklin Gothic Book' (FRABKIT.TTF) italic normal 400 normal>) = 11.05\n",
      "[DEBUG@matplotlib.font_manager] findfont: score(<Font 'Steppes TT' (Steppes.ttf) normal normal 400 normal>) = 10.05\n",
      "[DEBUG@matplotlib.font_manager] findfont: score(<Font 'Woodcut' (woodcut.ttf) normal normal 5 normal>) = 10.42525\n",
      "[DEBUG@matplotlib.font_manager] findfont: score(<Font 'Ebrima' (ebrimabd.ttf) normal normal 700 normal>) = 10.335\n",
      "[DEBUG@matplotlib.font_manager] findfont: score(<Font 'Fingerpop' (fingerpop2.ttf) normal normal 400 normal>) = 10.05\n",
      "[DEBUG@matplotlib.font_manager] findfont: score(<Font 'Microsoft Yi Baiti' (msyi.ttf) normal normal 400 normal>) = 10.05\n",
      "[DEBUG@matplotlib.font_manager] findfont: score(<Font 'Bookman Old Style' (BOOKOSI.TTF) italic normal 300 normal>) = 11.145\n",
      "[DEBUG@matplotlib.font_manager] findfont: score(<Font 'Century Gothic' (GOTHIC.TTF) normal normal 400 normal>) = 10.05\n",
      "[DEBUG@matplotlib.font_manager] findfont: score(<Font 'Lucida Bright' (LBRITEDI.TTF) italic normal 600 normal>) = 11.24\n",
      "[DEBUG@matplotlib.font_manager] findfont: score(<Font 'Colonna MT' (COLONNA.TTF) normal normal 400 normal>) = 10.05\n",
      "[DEBUG@matplotlib.font_manager] findfont: score(<Font 'Helonia' (HEN_____.ttf) normal normal 400 normal>) = 10.05\n",
      "[DEBUG@matplotlib.font_manager] findfont: score(<Font 'Wingdings 2' (WINGDNG2.TTF) normal normal 400 normal>) = 10.05\n",
      "[DEBUG@matplotlib.font_manager] findfont: score(<Font 'DejaVu Serif' (DejaVuSerifCondensed-BoldItalic.ttf) italic normal 700 condensed>) = 11.535\n",
      "[DEBUG@matplotlib.font_manager] findfont: score(<Font 'ESSTIXSeventeen' (ESSTIX17.TTF) normal normal 400 normal>) = 10.05\n",
      "[DEBUG@matplotlib.font_manager] findfont: score(<Font 'Lucida Bright' (LBRITEI.TTF) italic normal 400 normal>) = 11.05\n",
      "[DEBUG@matplotlib.font_manager] findfont: score(<Font 'Segoe UI' (seguili.ttf) italic normal 300 normal>) = 11.145\n",
      "[DEBUG@matplotlib.font_manager] findfont: score(<Font 'XITS' (xits-bolditalic.otf) italic normal 700 normal>) = 11.335\n",
      "[DEBUG@matplotlib.font_manager] findfont: score(<Font 'Magneto' (MAGNETOB.TTF) normal normal 700 normal>) = 10.335\n",
      "[DEBUG@matplotlib.font_manager] findfont: score(<Font 'DejaVu Serif' (DejaVuSerif-BoldItalic.ttf) italic normal 700 normal>) = 11.335\n",
      "[DEBUG@matplotlib.font_manager] findfont: score(<Font 'DejaVu Serif' (DejaVuSerifCondensed.ttf) normal normal 400 condensed>) = 10.25\n"
     ]
    },
    {
     "name": "stderr",
     "output_type": "stream",
     "text": [
      "[DEBUG@matplotlib.font_manager] findfont: score(<Font 'OCR A Extended' (OCRAEXT.TTF) normal normal 400 expanded>) = 10.25\n",
      "[DEBUG@matplotlib.font_manager] findfont: score(<Font 'Book Antiqua' (ANTQUAB.TTF) normal normal 700 normal>) = 10.335\n",
      "[DEBUG@matplotlib.font_manager] findfont: score(<Font 'Bookshelf Symbol 7' (BSSYM7.TTF) normal normal 400 normal>) = 10.05\n",
      "[DEBUG@matplotlib.font_manager] findfont: score(<Font 'Baby Kruffy' (babyk___.ttf) normal normal 400 normal>) = 10.05\n",
      "[DEBUG@matplotlib.font_manager] findfont: score(<Font 'Lucida Console' (lucon.ttf) normal normal 400 normal>) = 10.05\n",
      "[DEBUG@matplotlib.font_manager] findfont: score(<Font 'Almonte Snow' (almosnow.ttf) normal normal 400 normal>) = 10.05\n",
      "[DEBUG@matplotlib.font_manager] findfont: score(<Font 'Berlin Sans FB' (BRLNSR.TTF) normal normal 400 normal>) = 10.05\n",
      "[DEBUG@matplotlib.font_manager] findfont: score(<Font 'Niagara Solid' (NIAGSOL.TTF) normal normal 400 normal>) = 10.05\n",
      "[DEBUG@matplotlib.font_manager] findfont: score(<Font 'AcmeFont' (Acme____.ttf) normal normal 5 normal>) = 10.42525\n",
      "[DEBUG@matplotlib.font_manager] findfont: score(<Font 'Mongolian Baiti' (monbaiti.ttf) normal normal 400 normal>) = 10.05\n",
      "[DEBUG@matplotlib.font_manager] findfont: score(<Font 'Corbel' (corbell.ttf) normal normal 300 normal>) = 10.145\n",
      "[DEBUG@matplotlib.font_manager] findfont: score(<Font 'X-Files' (xfiles.ttf) normal normal 400 normal>) = 10.05\n",
      "[DEBUG@matplotlib.font_manager] findfont: score(<Font 'Gill Sans MT' (GIL_____.TTF) normal normal 400 normal>) = 10.05\n",
      "[DEBUG@matplotlib.font_manager] findfont: score(<Font 'Vivaldi' (VIVALDII.TTF) italic normal 400 normal>) = 11.05\n",
      "[DEBUG@matplotlib.font_manager] findfont: score(<Font 'Elephant' (ELEPHNTI.TTF) italic normal 400 normal>) = 11.05\n",
      "[DEBUG@matplotlib.font_manager] findfont: score(<Font 'Open Sans' (Open Sans Bold Italic.ttf) italic normal 700 normal>) = 11.335\n",
      "[DEBUG@matplotlib.font_manager] findfont: score(<Font 'Martina' (Martina_.ttf) normal normal 5 normal>) = 10.42525\n",
      "[DEBUG@matplotlib.font_manager] findfont: score(<Font 'Microsoft PhagsPa' (phagspa.ttf) normal normal 400 normal>) = 10.05\n",
      "[DEBUG@matplotlib.font_manager] findfont: score(<Font 'Consolas' (consolaz.ttf) italic normal 700 normal>) = 11.335\n",
      "[DEBUG@matplotlib.font_manager] findfont: score(<Font 'Candara' (Candarab.ttf) normal normal 700 normal>) = 10.335\n",
      "[DEBUG@matplotlib.font_manager] findfont: score(<Font 'Corbel' (corbeli.ttf) italic normal 400 normal>) = 11.05\n",
      "[DEBUG@matplotlib.font_manager] findfont: score(<Font 'High Tower Text' (HTOWERTI.TTF) italic normal 400 normal>) = 11.05\n",
      "[DEBUG@matplotlib.font_manager] findfont: score(<Font 'Nasalization' (nasaliza.ttf) normal normal 400 normal>) = 10.05\n",
      "[DEBUG@matplotlib.font_manager] findfont: score(<Font 'Harvest' (HARVEST_.TTF) normal normal 5 normal>) = 10.42525\n",
      "[DEBUG@matplotlib.font_manager] findfont: score(<Font 'Chiller' (CHILLER.TTF) normal normal 400 normal>) = 10.05\n",
      "[DEBUG@matplotlib.font_manager] findfont: score(<Font 'Vladimir Script' (VLADIMIR.TTF) normal normal 400 normal>) = 10.05\n",
      "[DEBUG@matplotlib.font_manager] findfont: score(<Font 'Segoe UI' (segoeuiz.ttf) italic normal 700 normal>) = 11.335\n",
      "[DEBUG@matplotlib.font_manager] findfont: score(<Font 'Corbel' (corbelli.ttf) italic normal 300 normal>) = 11.145\n",
      "[DEBUG@matplotlib.font_manager] findfont: score(<Font 'AcmeFont' (Acme____.ttf) normal normal 5 normal>) = 10.42525\n",
      "[DEBUG@matplotlib.font_manager] findfont: score(<Font 'Tw Cen MT' (TCMI____.TTF) italic normal 400 normal>) = 11.05\n",
      "[DEBUG@matplotlib.font_manager] findfont: score(<Font 'ESSTIXEight' (ESSTIX8_.TTF) normal normal 400 normal>) = 10.05\n",
      "[DEBUG@matplotlib.font_manager] findfont: score(<Font 'Constantia' (constani.ttf) italic normal 400 normal>) = 11.05\n",
      "[DEBUG@matplotlib.font_manager] findfont: score(<Font 'Fingerpop' (fingerpop2.ttf) normal normal 400 normal>) = 10.05\n",
      "[DEBUG@matplotlib.font_manager] findfont: score(<Font 'Archivo Narrow' (Archivo Narrow Bold.ttf) normal normal 700 condensed>) = 10.535\n",
      "[DEBUG@matplotlib.font_manager] findfont: score(<Font 'ESSTIXFive' (ESSTIX5_.TTF) normal normal 400 normal>) = 10.05\n",
      "[DEBUG@matplotlib.font_manager] findfont: score(<Font 'Microsoft JhengHei' (msjhbd.ttc) normal normal 700 normal>) = 10.335\n",
      "[DEBUG@matplotlib.font_manager] findfont: score(<Font 'DejaVu Sans' (DejaVuSans-BoldOblique.ttf) oblique normal 700 normal>) = 1.335\n",
      "[DEBUG@matplotlib.font_manager] findfont: score(<Font 'Calvin' (CALVIN__.TTF) normal normal 5 normal>) = 10.42525\n",
      "[DEBUG@matplotlib.font_manager] findfont: score(<Font 'Parry Hotter' (parryhotter.ttf) normal normal 400 normal>) = 10.05\n",
      "[DEBUG@matplotlib.font_manager] findfont: score(<Font 'Franklin Gothic Demi' (FRADM.TTF) normal normal 400 normal>) = 10.05\n",
      "[DEBUG@matplotlib.font_manager] findfont: score(<Font 'Helonia' (HEBO____.ttf) italic normal 700 normal>) = 11.335\n",
      "[DEBUG@matplotlib.font_manager] findfont: score(<Font 'Leelawadee UI' (LeelaUIb.ttf) normal normal 700 normal>) = 10.335\n",
      "[DEBUG@matplotlib.font_manager] findfont: score(<Font 'Engravers MT' (ENGR.TTF) normal normal 500 normal>) = 10.145\n",
      "[DEBUG@matplotlib.font_manager] findfont: score(<Font 'Gill Sans MT Condensed' (GILC____.TTF) normal normal 400 condensed>) = 10.25\n",
      "[DEBUG@matplotlib.font_manager] findfont: score(<Font 'MS Outlook' (OUTLOOK.TTF) normal normal 400 normal>) = 10.05\n",
      "[DEBUG@matplotlib.font_manager] findfont: score(<Font 'Microsoft YaHei' (msyhbd.ttc) normal normal 700 normal>) = 10.335\n",
      "[DEBUG@matplotlib.font_manager] findfont: score(<Font 'Leelawadee UI' (LeelawUI.ttf) normal normal 400 normal>) = 10.05\n",
      "[DEBUG@matplotlib.font_manager] findfont: score(<Font 'Nasalization' (nasaliza.ttf) normal normal 400 normal>) = 10.05\n",
      "[DEBUG@matplotlib.font_manager] findfont: score(<Font 'Leelawadee UI' (LeelaUIb.ttf) normal normal 700 normal>) = 10.335\n",
      "[DEBUG@matplotlib.font_manager] findfont: score(<Font 'Autumn' (Autumn__.ttf) normal normal 5 normal>) = 10.42525\n",
      "[DEBUG@matplotlib.font_manager] findfont: score(<Font 'Greek Diner Inline TT' (Greek_i.ttf) normal normal 400 normal>) = 10.05\n",
      "[DEBUG@matplotlib.font_manager] findfont: score(<Font 'Hombre' (Hombre__.ttf) normal normal 5 normal>) = 10.42525\n",
      "[DEBUG@matplotlib.font_manager] findfont: score(<Font 'Lucida Handwriting' (LHANDW.TTF) italic normal 400 normal>) = 11.05\n",
      "[DEBUG@matplotlib.font_manager] findfont: score(<Font 'Sitka Small' (SitkaI.ttc) italic normal 400 normal>) = 11.05\n",
      "[DEBUG@matplotlib.font_manager] findfont: score(<Font 'Enliven' (Enliven_.ttf) normal normal 5 normal>) = 10.42525\n",
      "[DEBUG@matplotlib.font_manager] findfont: score(<Font 'Lucida Sans' (LSANS.TTF) normal normal 400 normal>) = 10.05\n",
      "[DEBUG@matplotlib.font_manager] findfont: score(<Font 'Segoe UI' (seguibli.ttf) italic normal 900 normal>) = 11.525\n",
      "[DEBUG@matplotlib.font_manager] findfont: score(<Font 'Symbol' (symbol.ttf) normal normal 400 normal>) = 10.05\n",
      "[DEBUG@matplotlib.font_manager] findfont: score(<Font 'Emmett' (Emmett__.ttf) normal normal 5 normal>) = 10.42525\n",
      "[DEBUG@matplotlib.font_manager] findfont: score(<Font 'Tw Cen MT' (TCB_____.TTF) normal normal 700 normal>) = 10.335\n",
      "[DEBUG@matplotlib.font_manager] findfont: score(<Font 'ESSTIXThree' (ESSTIX3_.TTF) normal normal 400 normal>) = 10.05\n",
      "[DEBUG@matplotlib.font_manager] findfont: score(<Font 'Russel Write TT' (Russrite.ttf) normal normal 400 normal>) = 10.05\n",
      "[DEBUG@matplotlib.font_manager] findfont: score(<Font 'Rockwell Condensed' (ROCCB___.TTF) normal normal 700 condensed>) = 10.535\n",
      "[DEBUG@matplotlib.font_manager] findfont: score(<Font 'Notram' (Notram__.ttf) normal normal 5 normal>) = 10.42525\n",
      "[DEBUG@matplotlib.font_manager] findfont: score(<Font 'Myanmar Text' (mmrtextb.ttf) normal normal 700 normal>) = 10.335\n",
      "[DEBUG@matplotlib.font_manager] findfont: score(<Font 'Sitka Small' (SitkaZ.ttc) italic normal 700 normal>) = 11.335\n",
      "[DEBUG@matplotlib.font_manager] findfont: score(<Font 'Engravers MT' (ENGR.TTF) normal normal 500 normal>) = 10.145\n",
      "[DEBUG@matplotlib.font_manager] findfont: score(<Font 'Arial' (arialbd.ttf) normal normal 700 normal>) = 6.698636363636363\n",
      "[DEBUG@matplotlib.font_manager] findfont: score(<Font 'Brush Script MT' (BRUSHSCI.TTF) italic normal 400 normal>) = 11.05\n"
     ]
    },
    {
     "name": "stderr",
     "output_type": "stream",
     "text": [
      "[DEBUG@matplotlib.font_manager] findfont: score(<Font 'Goudy Stout' (GOUDYSTO.TTF) normal normal 400 normal>) = 10.05\n",
      "[DEBUG@matplotlib.font_manager] findfont: score(<Font 'Book Antiqua' (ANTQUABI.TTF) italic normal 700 normal>) = 11.335\n",
      "[DEBUG@matplotlib.font_manager] findfont: score(<Font 'Mistral' (MISTRAL.TTF) normal normal 400 normal>) = 10.05\n",
      "[DEBUG@matplotlib.font_manager] findfont: score(<Font 'Valken' (VALKEN__.TTF) normal normal 5 normal>) = 10.42525\n",
      "[DEBUG@matplotlib.font_manager] findfont: score(<Font 'Lucida Sans' (LSANSD.TTF) normal normal 600 normal>) = 10.24\n",
      "[DEBUG@matplotlib.font_manager] findfont: score(<Font 'Bell MT' (BELLB.TTF) normal normal 700 normal>) = 10.335\n",
      "[DEBUG@matplotlib.font_manager] findfont: score(<Font 'Commons' (COMMONS_.TTF) normal normal 5 normal>) = 10.42525\n",
      "[DEBUG@matplotlib.font_manager] findfont: score(<Font 'November' (Novem___.ttf) normal normal 5 normal>) = 10.42525\n",
      "[DEBUG@matplotlib.font_manager] findfont: score(<Font 'Kristen ITC' (ITCKRIST.TTF) normal normal 400 normal>) = 10.05\n",
      "[DEBUG@matplotlib.font_manager] findfont: score(<Font 'Perpetua Titling MT' (PERTILI.TTF) normal normal 300 normal>) = 10.145\n",
      "[DEBUG@matplotlib.font_manager] findfont: score(<Font 'Segoe UI Symbol' (seguisym.ttf) normal normal 400 normal>) = 10.05\n",
      "[DEBUG@matplotlib.font_manager] findfont: score(<Font 'Candara' (Candarali.ttf) italic normal 400 normal>) = 11.05\n",
      "[DEBUG@matplotlib.font_manager] findfont: score(<Font 'Lucida Fax' (LFAXI.TTF) italic normal 400 normal>) = 11.05\n",
      "[DEBUG@matplotlib.font_manager] findfont: score(<Font 'Italianate' (Itali___.ttf) normal normal 5 normal>) = 10.42525\n",
      "[DEBUG@matplotlib.font_manager] findfont: score(<Font 'Gill Sans MT' (GILI____.TTF) italic normal 400 normal>) = 11.05\n",
      "[DEBUG@matplotlib.font_manager] findfont: score(<Font 'DejaVu Serif' (DejaVuSerif-Italic.ttf) italic normal 400 normal>) = 11.05\n",
      "[DEBUG@matplotlib.font_manager] findfont: score(<Font 'Playbill' (PLAYBILL.TTF) normal normal 400 normal>) = 10.05\n",
      "[DEBUG@matplotlib.font_manager] findfont: score(<Font 'Thames' (THB_____.ttf) normal normal 700 normal>) = 10.335\n",
      "[DEBUG@matplotlib.font_manager] findfont: score(<Font 'Rondalo' (RONDALO_.TTF) normal normal 5 normal>) = 10.42525\n",
      "[DEBUG@matplotlib.font_manager] findfont: score(<Font 'Franklin Gothic Medium' (framd.ttf) normal normal 400 normal>) = 10.05\n",
      "[DEBUG@matplotlib.font_manager] findfont: score(<Font 'HarvestItal' (HARVEIT_.TTF) normal normal 5 normal>) = 10.42525\n",
      "[DEBUG@matplotlib.font_manager] findfont: score(<Font 'Minerva' (Minerva_.ttf) normal normal 5 normal>) = 10.42525\n",
      "[DEBUG@matplotlib.font_manager] findfont: score(<Font 'Open Sans' (Open Sans Italic.ttf) italic normal 400 normal>) = 11.05\n",
      "[DEBUG@matplotlib.font_manager] findfont: score(<Font 'Bell MT' (BELL.TTF) normal normal 400 normal>) = 10.05\n",
      "[DEBUG@matplotlib.font_manager] findfont: score(<Font 'Deneane' (Deneane_.ttf) normal normal 5 normal>) = 10.42525\n",
      "[DEBUG@matplotlib.font_manager] findfont: score(<Font 'Perpetua' (PERBI___.TTF) italic normal 700 normal>) = 11.335\n",
      "[DEBUG@matplotlib.font_manager] findfont: score(<Font 'Franklin Gothic Demi' (FRADMIT.TTF) italic normal 400 normal>) = 11.05\n",
      "[DEBUG@matplotlib.font_manager] findfont: score(<Font 'Dominican' (DOMIN___.TTF) normal normal 5 normal>) = 10.42525\n",
      "[DEBUG@matplotlib.font_manager] findfont: score(<Font 'Bungee' (Bungee-Regular.otf) normal normal 400 normal>) = 10.05\n",
      "[DEBUG@matplotlib.font_manager] findfont: score(<Font 'Calisto MT' (CALISTBI.TTF) italic normal 700 normal>) = 11.335\n",
      "[DEBUG@matplotlib.font_manager] findfont: score(<Font 'Tw Cen MT' (TCM_____.TTF) normal normal 400 normal>) = 10.05\n",
      "[DEBUG@matplotlib.font_manager] findfont: score(<Font 'Lucida Sans' (LSANSDI.TTF) italic normal 600 normal>) = 11.24\n",
      "[DEBUG@matplotlib.font_manager] findfont: score(<Font 'Microsoft YaHei' (msyh.ttc) normal normal 400 normal>) = 10.05\n",
      "[DEBUG@matplotlib.font_manager] findfont: score(<Font 'Bodoni MT' (BOD_BLAR.TTF) normal normal 900 normal>) = 10.525\n",
      "[DEBUG@matplotlib.font_manager] findfont: score(<Font 'BN Machine' (bnmachine.ttf) normal normal 400 normal>) = 10.05\n",
      "[DEBUG@matplotlib.font_manager] findfont: score(<Font 'Wingdings 3' (WINGDNG3.TTF) normal normal 400 normal>) = 10.05\n",
      "[DEBUG@matplotlib.font_manager] findfont: score(<Font 'Clarendon' (CLARE___.TTF) normal normal 5 normal>) = 10.42525\n",
      "[DEBUG@matplotlib.font_manager] findfont: score(<Font 'Bahnschrift' (bahnschrift.ttf) normal normal 400 normal>) = 10.05\n",
      "[DEBUG@matplotlib.font_manager] findfont: score(<Font 'Bodoni MT' (BOD_BLAI.TTF) italic normal 900 normal>) = 11.525\n",
      "[DEBUG@matplotlib.font_manager] findfont: score(<Font 'Yu Gothic' (YuGothB.ttc) normal normal 700 normal>) = 10.335\n",
      "[DEBUG@matplotlib.font_manager] findfont: score(<Font 'Gadugi' (gadugib.ttf) normal normal 700 normal>) = 10.335\n",
      "[DEBUG@matplotlib.font_manager] findfont: score(<Font 'Gabriola' (Gabriola.ttf) normal normal 400 normal>) = 10.05\n",
      "[DEBUG@matplotlib.font_manager] findfont: score(<Font 'Calibri' (calibriz.ttf) italic normal 700 normal>) = 11.335\n",
      "[DEBUG@matplotlib.font_manager] findfont: score(<Font 'Yu Gothic' (YuGothR.ttc) normal normal 400 normal>) = 10.05\n",
      "[DEBUG@matplotlib.font_manager] findfont: score(<Font 'Sitka Small' (SitkaZ.ttc) italic normal 700 normal>) = 11.335\n",
      "[DEBUG@matplotlib.font_manager] findfont: score(<Font 'Trebuchet MS' (trebucbd.ttf) normal normal 700 normal>) = 10.335\n",
      "[DEBUG@matplotlib.font_manager] findfont: score(<Font 'Tw Cen MT' (TCBI____.TTF) italic normal 700 normal>) = 11.335\n",
      "[DEBUG@matplotlib.font_manager] findfont: score(<Font 'Archivo Narrow' (Archivo Narrow Italic.ttf) italic normal 400 condensed>) = 11.25\n",
      "[DEBUG@matplotlib.font_manager] findfont: score(<Font 'Franklin Gothic Heavy' (FRAHVIT.TTF) italic normal 400 normal>) = 11.05\n",
      "[DEBUG@matplotlib.font_manager] findfont: score(<Font 'Berlin Sans FB' (BRLNSB.TTF) normal normal 700 normal>) = 10.335\n",
      "[DEBUG@matplotlib.font_manager] findfont: score(<Font 'Corbel' (corbell.ttf) normal normal 300 normal>) = 10.145\n",
      "[DEBUG@matplotlib.font_manager] findfont: score(<Font 'Rockwell Condensed' (ROCC____.TTF) normal normal 400 condensed>) = 10.25\n",
      "[DEBUG@matplotlib.font_manager] findfont: score(<Font 'Arial Rounded MT Bold' (ARLRDBD.TTF) normal normal 400 normal>) = 10.05\n",
      "[DEBUG@matplotlib.font_manager] findfont: score(<Font 'Onyx' (ONYX.TTF) normal normal 400 normal>) = 10.05\n",
      "[DEBUG@matplotlib.font_manager] findfont: score(<Font 'ESSTIXFour' (ESSTIX4_.TTF) normal normal 400 normal>) = 10.05\n",
      "[DEBUG@matplotlib.font_manager] findfont: score(<Font 'Palatino Linotype' (palai.ttf) italic normal 400 normal>) = 11.05\n",
      "[DEBUG@matplotlib.font_manager] findfont: score(<Font 'Calligraphic' (CALLI___.TTF) normal normal 5 normal>) = 10.42525\n",
      "[DEBUG@matplotlib.font_manager] findfont: score(<Font 'Calibri' (calibri.ttf) normal normal 400 normal>) = 10.05\n",
      "[DEBUG@matplotlib.font_manager] findfont: score(<Font 'DejaVu Sans Mono' (DejaVuSansMono-BoldOblique.ttf) oblique normal 700 normal>) = 11.335\n",
      "[DEBUG@matplotlib.font_manager] findfont: score(<Font 'Britannic Bold' (BRITANIC.TTF) normal normal 400 normal>) = 10.05\n",
      "[DEBUG@matplotlib.font_manager] findfont: score(<Font 'Bodoni MT' (BOD_BLAR.TTF) normal normal 900 normal>) = 10.525\n",
      "[DEBUG@matplotlib.font_manager] findfont: score(<Font 'Sitka Small' (Sitka.ttc) normal normal 400 normal>) = 10.05\n",
      "[DEBUG@matplotlib.font_manager] findfont: score(<Font 'Microsoft New Tai Lue' (ntailu.ttf) normal normal 400 normal>) = 10.05\n",
      "[DEBUG@matplotlib.font_manager] findfont: score(<Font 'Lucida Fax' (LFAXI.TTF) italic normal 400 normal>) = 11.05\n",
      "[DEBUG@matplotlib.font_manager] findfont: score(<Font 'Candara' (Candaraz.ttf) italic normal 700 normal>) = 11.335\n",
      "[DEBUG@matplotlib.font_manager] findfont: score(<Font 'BolsterBold' (Bolstbo_.ttf) normal normal 7 normal>) = 10.42335\n",
      "[DEBUG@matplotlib.font_manager] findfont: score(<Font 'Yu Gothic' (YuGothL.ttc) normal normal 300 normal>) = 10.145\n",
      "[DEBUG@matplotlib.font_manager] findfont: score(<Font 'Open Sans' (Open Sans Light.ttf) normal normal 300 normal>) = 10.145\n",
      "[DEBUG@matplotlib.font_manager] findfont: score(<Font 'Comic Sans MS' (comic.ttf) normal normal 400 normal>) = 10.05\n",
      "[DEBUG@matplotlib.font_manager] findfont: score(<Font 'Consolas' (consola.ttf) normal normal 400 normal>) = 10.05\n"
     ]
    },
    {
     "name": "stderr",
     "output_type": "stream",
     "text": [
      "[DEBUG@matplotlib.font_manager] findfont: score(<Font 'Constantia' (constan.ttf) normal normal 400 normal>) = 10.05\n",
      "[DEBUG@matplotlib.font_manager] findfont: score(<Font 'Georgia' (georgiaz.ttf) italic normal 700 normal>) = 11.335\n",
      "[DEBUG@matplotlib.font_manager] findfont: score(<Font 'PenultimateLight' (PENULLI_.TTF) normal normal 5 normal>) = 10.42525\n",
      "[DEBUG@matplotlib.font_manager] findfont: score(<Font 'Arial' (ariblk.ttf) normal normal 900 normal>) = 6.888636363636364\n",
      "[DEBUG@matplotlib.font_manager] findfont: score(<Font 'ESSTIXTwo' (ESSTIX2_.TTF) normal normal 400 normal>) = 10.05\n",
      "[DEBUG@matplotlib.font_manager] findfont: score(<Font 'Niagara Engraved' (NIAGENG.TTF) normal normal 400 normal>) = 10.05\n",
      "[DEBUG@matplotlib.font_manager] findfont: score(<Font 'Bungee Layers Rotated' (BungeeLayersRotated-Regular.otf) normal normal 400 normal>) = 10.05\n",
      "[DEBUG@matplotlib.font_manager] findfont: score(<Font 'LetterOMatic!' (ltromatic.ttf) normal normal 400 normal>) = 10.05\n",
      "[DEBUG@matplotlib.font_manager] findfont: score(<Font 'Heavy Heap' (heavyhea2.ttf) normal normal 400 normal>) = 10.05\n",
      "[DEBUG@matplotlib.font_manager] findfont: score(<Font 'Centaur' (CENTAUR.TTF) normal normal 400 normal>) = 10.05\n",
      "[DEBUG@matplotlib.font_manager] findfont: score(<Font 'Candles' (candles_.ttf) normal normal 400 normal>) = 10.05\n",
      "[DEBUG@matplotlib.font_manager] findfont: score(<Font 'Candara' (Candaral.ttf) normal normal 400 normal>) = 10.05\n",
      "[DEBUG@matplotlib.font_manager] findfont: score(<Font 'Forte' (FORTE.TTF) normal normal 400 normal>) = 10.05\n",
      "[DEBUG@matplotlib.font_manager] findfont: score(<Font 'Tw Cen MT Condensed Extra Bold' (TCCEB.TTF) normal normal 400 condensed>) = 10.25\n",
      "[DEBUG@matplotlib.font_manager] findfont: score(<Font 'Colbert' (Colbert_.ttf) normal normal 5 normal>) = 10.42525\n",
      "[DEBUG@matplotlib.font_manager] findfont: score(<Font 'Courier New' (courbd.ttf) normal normal 700 normal>) = 10.335\n",
      "[DEBUG@matplotlib.font_manager] findfont: score(<Font 'Thames' (THI_____.ttf) italic normal 400 normal>) = 11.05\n",
      "[DEBUG@matplotlib.font_manager] findfont: score(<Font 'Consolas' (consolai.ttf) italic normal 400 normal>) = 11.05\n",
      "[DEBUG@matplotlib.font_manager] findfont: score(<Font 'Mistral' (MISTRAL.TTF) normal normal 400 normal>) = 10.05\n",
      "[DEBUG@matplotlib.font_manager] findfont: score(<Font 'Alfredo' (Alfredo_.ttf) normal normal 5 normal>) = 10.42525\n",
      "[DEBUG@matplotlib.font_manager] findfont: score(<Font 'DejaVu Serif' (DejaVuSerif-Bold.ttf) normal normal 700 normal>) = 10.335\n",
      "[DEBUG@matplotlib.font_manager] findfont: score(<Font 'STIX Math' (STIXMath-Regular.otf) normal normal 400 normal>) = 10.05\n",
      "[DEBUG@matplotlib.font_manager] findfont: score(<Font 'XITS' (xits-regular.otf) normal normal 400 normal>) = 10.05\n",
      "[DEBUG@matplotlib.font_manager] findfont: score(<Font 'Calibri' (calibriz.ttf) italic normal 700 normal>) = 11.335\n",
      "[DEBUG@matplotlib.font_manager] findfont: score(<Font 'Bodoni MT' (BOD_CBI.TTF) italic normal 700 condensed>) = 11.535\n",
      "[DEBUG@matplotlib.font_manager] findfont: score(<Font 'Steppes TT' (Steppes.ttf) normal normal 400 normal>) = 10.05\n",
      "[DEBUG@matplotlib.font_manager] findfont: score(<Font 'ESSTIXFourteen' (ESSTIX14.TTF) normal normal 400 normal>) = 10.05\n",
      "[DEBUG@matplotlib.font_manager] findfont: score(<Font 'Neon Lights' (neon2.ttf) normal normal 400 normal>) = 10.05\n",
      "[DEBUG@matplotlib.font_manager] findfont: score(<Font 'Digifit' (digifit.ttf) normal normal 400 normal>) = 10.05\n",
      "[DEBUG@matplotlib.font_manager] findfont: score(<Font 'Segoe UI' (seguibli.ttf) italic normal 900 normal>) = 11.525\n",
      "[DEBUG@matplotlib.font_manager] findfont: score(<Font 'Poor Richard' (POORICH.TTF) normal normal 400 normal>) = 10.05\n",
      "[DEBUG@matplotlib.font_manager] findfont: score(<Font 'Malgun Gothic' (malgunsl.ttf) normal normal 300 normal>) = 10.145\n",
      "[DEBUG@matplotlib.font_manager] findfont: score(<Font 'Archivo Narrow' (Archivo Narrow Bold Italic.ttf) italic normal 700 condensed>) = 11.535\n",
      "[DEBUG@matplotlib.font_manager] findfont: score(<Font 'Bungee Layers Rotated' (BungeeLayersRotated-Inline.otf) normal normal 500 normal>) = 10.145\n",
      "[DEBUG@matplotlib.font_manager] findfont: score(<Font 'Perpetua Titling MT' (PERTILI.TTF) normal normal 300 normal>) = 10.145\n",
      "[DEBUG@matplotlib.font_manager] findfont: score(<Font 'Lucida Sans Typewriter' (LTYPEBO.TTF) oblique normal 600 normal>) = 11.24\n",
      "[DEBUG@matplotlib.font_manager] findfont: score(<Font 'Garamond' (GARAIT.TTF) italic normal 400 normal>) = 11.05\n",
      "[DEBUG@matplotlib.font_manager] findfont: score(<Font 'Geotype TT' (Geotype.TTF) normal normal 400 normal>) = 10.05\n",
      "[DEBUG@matplotlib.font_manager] findfont: score(<Font 'Neon Lights' (neon2.ttf) normal normal 400 normal>) = 10.05\n",
      "[DEBUG@matplotlib.font_manager] findfont: score(<Font 'Segoe UI' (seguibl.ttf) normal normal 900 normal>) = 10.525\n",
      "[DEBUG@matplotlib.font_manager] findfont: score(<Font 'Gill Sans Ultra Bold' (GILSANUB.TTF) normal normal 400 normal>) = 10.05\n",
      "[DEBUG@matplotlib.font_manager] findfont: score(<Font 'Open Sans' (Open Sans Extrabold Italic.ttf) italic normal 800 normal>) = 11.43\n",
      "[DEBUG@matplotlib.font_manager] findfont: score(<Font 'Georgia' (georgiai.ttf) italic normal 400 normal>) = 11.05\n",
      "[DEBUG@matplotlib.font_manager] findfont: score(<Font 'Sitka Small' (SitkaI.ttc) italic normal 400 normal>) = 11.05\n",
      "[DEBUG@matplotlib.font_manager] findfont: score(<Font 'Bodoni MT' (BOD_CI.TTF) italic normal 400 condensed>) = 11.25\n",
      "[DEBUG@matplotlib.font_manager] findfont: score(<Font 'Californian FB' (CALIFB.TTF) normal normal 700 normal>) = 10.335\n",
      "[DEBUG@matplotlib.font_manager] findfont: score(<Font 'Notram' (Notram__.ttf) normal normal 5 normal>) = 10.42525\n",
      "[DEBUG@matplotlib.font_manager] findfont: score(<Font 'Constantia' (constan.ttf) normal normal 400 normal>) = 10.05\n",
      "[DEBUG@matplotlib.font_manager] findfont: score(<Font 'Segoe UI' (segoeuisl.ttf) normal normal 350 normal>) = 10.0975\n",
      "[DEBUG@matplotlib.font_manager] findfont: score(<Font 'Skinny' (Skinny__.ttf) normal normal 5 normal>) = 10.42525\n",
      "[DEBUG@matplotlib.font_manager] findfont: score(<Font 'Courier New' (courbi.ttf) italic normal 700 normal>) = 11.335\n",
      "[DEBUG@matplotlib.font_manager] findfont: score(<Font 'Courier New' (courbd.ttf) normal normal 700 normal>) = 10.335\n",
      "[DEBUG@matplotlib.font_manager] findfont: score(<Font 'Cracked Johnnie' (cracj___.ttf) normal normal 400 normal>) = 10.05\n",
      "[DEBUG@matplotlib.font_manager] findfont: score(<Font 'Courier New' (couri.ttf) italic normal 400 normal>) = 11.05\n",
      "[DEBUG@matplotlib.font_manager] findfont: score(<Font 'Old English Text MT' (OLDENGL.TTF) normal normal 400 normal>) = 10.05\n",
      "[DEBUG@matplotlib.font_manager] findfont: score(<Font 'Glockenspiel' (Glock___.ttf) normal normal 5 normal>) = 10.42525\n",
      "[DEBUG@matplotlib.font_manager] findfont: score(<Font 'HarvestItal' (HARVEIT_.TTF) normal normal 5 normal>) = 10.42525\n",
      "[DEBUG@matplotlib.font_manager] findfont: score(<Font 'Lucida Fax' (LFAX.TTF) normal normal 400 normal>) = 10.05\n",
      "[DEBUG@matplotlib.font_manager] findfont: score(<Font 'Segoe UI' (segoeuil.ttf) normal normal 300 normal>) = 10.145\n",
      "[DEBUG@matplotlib.font_manager] findfont: score(<Font 'Bradley Hand ITC' (BRADHITC.TTF) normal normal 400 normal>) = 10.05\n",
      "[DEBUG@matplotlib.font_manager] findfont: score(<Font 'MS Gothic' (msgothic.ttc) normal normal 400 normal>) = 10.05\n",
      "[DEBUG@matplotlib.font_manager] findfont: score(<Font 'DejaVu Sans Mono' (DejaVuSansMono-Bold.ttf) normal normal 700 normal>) = 10.335\n",
      "[DEBUG@matplotlib.font_manager] findfont: score(<Font 'Limousine' (Limou___.ttf) normal normal 5 normal>) = 10.42525\n",
      "[DEBUG@matplotlib.font_manager] findfont: score(<Font 'DejaVu Serif' (DejaVuSerifCondensed-Italic.ttf) italic normal 400 condensed>) = 11.25\n",
      "[DEBUG@matplotlib.font_manager] findfont: score(<Font 'Franklin Gothic Medium' (framdit.ttf) italic normal 400 normal>) = 11.05\n",
      "[DEBUG@matplotlib.font_manager] findfont: score(<Font 'Pirate' (Pirate__.ttf) normal normal 5 normal>) = 10.42525\n",
      "[DEBUG@matplotlib.font_manager] findfont: score(<Font 'Rockwell' (ROCK.TTF) normal normal 400 normal>) = 10.05\n",
      "[DEBUG@matplotlib.font_manager] findfont: score(<Font 'Bodoni MT' (BOD_PSTC.TTF) normal normal 300 normal>) = 10.145\n",
      "[DEBUG@matplotlib.font_manager] findfont: score(<Font 'Nirmala UI' (NirmalaB.ttf) normal normal 700 normal>) = 10.335\n"
     ]
    },
    {
     "name": "stderr",
     "output_type": "stream",
     "text": [
      "[DEBUG@matplotlib.font_manager] findfont: score(<Font 'Pirate' (Pirate__.ttf) normal normal 5 normal>) = 10.42525\n",
      "[DEBUG@matplotlib.font_manager] findfont: score(<Font 'Verdana' (verdanai.ttf) italic normal 400 normal>) = 4.6863636363636365\n",
      "[DEBUG@matplotlib.font_manager] findfont: score(<Font 'Dubai' (DUBAI-LIGHT.TTF) normal normal 300 normal>) = 10.145\n",
      "[DEBUG@matplotlib.font_manager] findfont: score(<Font 'Open Sans' (Open Sans Bold Italic.ttf) italic normal 700 normal>) = 11.335\n",
      "[DEBUG@matplotlib.font_manager] findfont: score(<Font 'Bungee' (Bungee-Inline.otf) normal normal 600 normal>) = 10.24\n",
      "[DEBUG@matplotlib.font_manager] findfont: score(<Font 'Deneane' (Deneane_.ttf) normal normal 5 normal>) = 10.42525\n",
      "[DEBUG@matplotlib.font_manager] findfont: score(<Font 'Century Schoolbook' (CENSCBK.TTF) normal normal 400 normal>) = 10.05\n",
      "[DEBUG@matplotlib.font_manager] findfont: score(<Font 'Franklin Gothic Medium Cond' (FRAMDCN.TTF) normal normal 400 condensed>) = 10.25\n",
      "[DEBUG@matplotlib.font_manager] findfont: score(<Font 'Elephant' (ELEPHNT.TTF) normal normal 400 normal>) = 10.05\n",
      "[DEBUG@matplotlib.font_manager] findfont: score(<Font 'Alien Encounters' (aliee13.ttf) normal normal 400 normal>) = 10.05\n",
      "[DEBUG@matplotlib.font_manager] findfont: score(<Font 'Dubai' (DUBAI-MEDIUM.TTF) normal normal 500 normal>) = 10.145\n",
      "[DEBUG@matplotlib.font_manager] findfont: score(<Font 'TeamViewer10' (teamviewer10.otf) normal normal 500 normal>) = 10.145\n",
      "[DEBUG@matplotlib.font_manager] findfont: score(<Font 'Thames' (THR_____.ttf) normal normal 400 normal>) = 10.05\n",
      "[DEBUG@matplotlib.font_manager] findfont: score(<Font 'Arial' (ARIALN.TTF) normal normal 400 condensed>) = 6.613636363636363\n",
      "[DEBUG@matplotlib.font_manager] findfont: score(<Font 'Frankfurter Venetian TT' (Frnkvent.ttf) normal normal 400 normal>) = 10.05\n",
      "[DEBUG@matplotlib.font_manager] findfont: score(<Font 'Niagara Solid' (NIAGSOL.TTF) normal normal 400 normal>) = 10.05\n",
      "[DEBUG@matplotlib.font_manager] findfont: score(<Font 'Nirmala UI' (NirmalaB.ttf) normal normal 700 normal>) = 10.335\n",
      "[DEBUG@matplotlib.font_manager] findfont: score(<Font 'Arial' (ARIALNI.TTF) italic normal 400 condensed>) = 7.613636363636363\n",
      "[DEBUG@matplotlib.font_manager] findfont: score(<Font 'Century Gothic' (GOTHICBI.TTF) italic normal 700 normal>) = 11.335\n",
      "[DEBUG@matplotlib.font_manager] findfont: score(<Font 'Bungee Layers Rotated' (BungeeLayersRotated-Shade.otf) normal normal 700 normal>) = 10.335\n",
      "[DEBUG@matplotlib.font_manager] findfont: score(<Font 'Calibri' (calibril.ttf) normal normal 300 normal>) = 10.145\n",
      "[DEBUG@matplotlib.font_manager] findfont: score(<Font 'Segoe UI Historic' (seguihis.ttf) normal normal 400 normal>) = 10.05\n",
      "[DEBUG@matplotlib.font_manager] findfont: score(<Font 'Rockwell Condensed' (ROCCB___.TTF) normal normal 700 condensed>) = 10.535\n",
      "[DEBUG@matplotlib.font_manager] findfont: score(<Font 'Bodoni MT' (BOD_CR.TTF) normal normal 400 condensed>) = 10.25\n",
      "[DEBUG@matplotlib.font_manager] findfont: score(<Font 'XITS' (xits-bold.otf) normal normal 700 normal>) = 10.335\n",
      "[DEBUG@matplotlib.font_manager] findfont: score(<Font 'Palatino Linotype' (palabi.ttf) italic normal 700 normal>) = 11.335\n",
      "[DEBUG@matplotlib.font_manager] findfont: score(<Font 'Century Schoolbook' (SCHLBKI.TTF) italic normal 400 normal>) = 11.05\n",
      "[DEBUG@matplotlib.font_manager] findfont: score(<Font 'Times New Roman' (timesbi.ttf) italic normal 700 normal>) = 11.335\n",
      "[DEBUG@matplotlib.font_manager] findfont: score(<Font 'Comic Sans MS' (comicz.ttf) italic normal 700 normal>) = 11.335\n",
      "[DEBUG@matplotlib.font_manager] findfont: score(<Font 'DejaVu Sans' (DejaVuSans.ttf) normal normal 400 normal>) = 0.05\n",
      "[DEBUG@matplotlib.font_manager] findfont: score(<Font 'Brussels' (Bruss___.ttf) normal normal 5 normal>) = 10.42525\n",
      "[DEBUG@matplotlib.font_manager] findfont: score(<Font 'Rockwell Extra Bold' (ROCKEB.TTF) normal normal 800 normal>) = 10.43\n",
      "[DEBUG@matplotlib.font_manager] findfont: score(<Font 'Calibri' (calibril.ttf) normal normal 300 normal>) = 10.145\n",
      "[DEBUG@matplotlib.font_manager] findfont: score(<Font 'Corbel' (corbelz.ttf) italic normal 700 normal>) = 11.335\n",
      "[DEBUG@matplotlib.font_manager] findfont: score(<Font '18thCentury' (18cents.ttf) normal normal 400 normal>) = 10.05\n",
      "[DEBUG@matplotlib.font_manager] findfont: score(<Font 'Tarzan' (Tarzan__.ttf) normal normal 5 normal>) = 10.42525\n",
      "[DEBUG@matplotlib.font_manager] findfont: score(<Font 'DejaVu Sans Mono' (DejaVuSansMono.ttf) normal normal 400 normal>) = 10.05\n",
      "[DEBUG@matplotlib.font_manager] findfont: score(<Font 'Arial' (arialbi.ttf) italic normal 700 normal>) = 7.698636363636363\n",
      "[DEBUG@matplotlib.font_manager] findfont: score(<Font 'TeamViewer10' (teamviewer10.otf) normal normal 500 normal>) = 10.145\n",
      "[DEBUG@matplotlib.font_manager] findfont: score(<Font 'FontAwesome' (FontAwesome Regular.ttf) normal normal 400 normal>) = 10.05\n",
      "[DEBUG@matplotlib.font_manager] findfont: score(<Font 'Century Schoolbook' (SCHLBKBI.TTF) italic normal 700 normal>) = 11.335\n",
      "[DEBUG@matplotlib.font_manager] findfont: score(<Font 'Arial' (ARIALNBI.TTF) italic normal 700 condensed>) = 7.8986363636363635\n",
      "[DEBUG@matplotlib.font_manager] findfont: score(<Font 'Open Sans' (Open Sans Semibold Italic.ttf) italic normal 600 normal>) = 11.24\n",
      "[DEBUG@matplotlib.font_manager] findfont: score(<Font 'Courier New' (cour.ttf) normal normal 400 normal>) = 10.05\n",
      "[DEBUG@matplotlib.font_manager] findfont: score(<Font 'XITS' (xits-italic.otf) italic normal 400 normal>) = 11.05\n",
      "[DEBUG@matplotlib.font_manager] findfont: score(<Font 'Comic Sans MS' (comic.ttf) normal normal 400 normal>) = 10.05\n",
      "[DEBUG@matplotlib.font_manager] findfont: score(<Font 'French Script MT' (FRSCRIPT.TTF) normal normal 400 normal>) = 10.05\n",
      "[DEBUG@matplotlib.font_manager] findfont: score(<Font 'SimSun' (simsun.ttc) normal normal 400 normal>) = 10.05\n",
      "[DEBUG@matplotlib.font_manager] findfont: score(<Font 'Curlz MT' (CURLZ___.TTF) normal normal 400 normal>) = 10.05\n",
      "[DEBUG@matplotlib.font_manager] findfont: score(<Font 'Arial' (ariali.ttf) italic normal 400 normal>) = 7.413636363636363\n",
      "[DEBUG@matplotlib.font_manager] findfont: score(<Font 'ESSTIXTwelve' (ESSTIX12.TTF) normal normal 400 normal>) = 10.05\n",
      "[DEBUG@matplotlib.font_manager] findfont: score(<Font 'Huxley Titling' (Huxley_Titling.ttf) normal normal 400 normal>) = 10.05\n",
      "[DEBUG@matplotlib.font_manager] findfont: score(<Font 'Myanmar Text' (mmrtext.ttf) normal normal 400 normal>) = 10.05\n",
      "[DEBUG@matplotlib.font_manager] findfont: score(<Font 'Corporate' (Corpo___.ttf) normal normal 5 normal>) = 10.42525\n",
      "[DEBUG@matplotlib.font_manager] findfont: score(<Font 'Segoe Print' (segoeprb.ttf) normal normal 700 normal>) = 10.335\n",
      "[DEBUG@matplotlib.font_manager] findfont: score(<Font 'November' (Novem___.ttf) normal normal 5 normal>) = 10.42525\n",
      "[DEBUG@matplotlib.font_manager] findfont: score(<Font 'Microsoft New Tai Lue' (ntailub.ttf) normal normal 700 normal>) = 10.335\n",
      "[DEBUG@matplotlib.font_manager] findfont: score(<Font 'Corbel' (corbel.ttf) normal normal 400 normal>) = 10.05\n",
      "[DEBUG@matplotlib.font_manager] findfont: score(<Font 'Book Antiqua' (ANTQUAI.TTF) italic normal 400 normal>) = 11.05\n",
      "[DEBUG@matplotlib.font_manager] findfont: score(<Font 'DejaVu Sans Mono' (DejaVuSansMono-Oblique.ttf) oblique normal 400 normal>) = 11.05\n",
      "[DEBUG@matplotlib.font_manager] findfont: score(<Font 'Segoe UI' (seguisb.ttf) normal normal 600 normal>) = 10.24\n",
      "[DEBUG@matplotlib.font_manager] findfont: score(<Font 'Segoe UI' (segoeuisl.ttf) normal normal 350 normal>) = 10.0975\n",
      "[DEBUG@matplotlib.font_manager] findfont: score(<Font 'Gill Sans MT' (GILI____.TTF) italic normal 400 normal>) = 11.05\n",
      "[DEBUG@matplotlib.font_manager] findfont: score(<Font 'Times New Roman' (timesi.ttf) italic normal 400 normal>) = 11.05\n",
      "[DEBUG@matplotlib.font_manager] findfont: score(<Font 'Segoe UI' (seguibl.ttf) normal normal 900 normal>) = 10.525\n",
      "[DEBUG@matplotlib.font_manager] findfont: score(<Font 'Berlin Sans FB Demi' (BRLNSDB.TTF) normal normal 700 normal>) = 10.335\n",
      "[DEBUG@matplotlib.font_manager] findfont: score(<Font 'Flubber' (flubber.ttf) normal normal 400 normal>) = 10.05\n",
      "[DEBUG@matplotlib.font_manager] findfont: score(<Font 'Century' (CENTURY.TTF) normal normal 400 normal>) = 10.05\n"
     ]
    },
    {
     "name": "stderr",
     "output_type": "stream",
     "text": [
      "[DEBUG@matplotlib.font_manager] findfont: score(<Font 'Eras Medium ITC' (ERASMD.TTF) normal normal 400 normal>) = 10.05\n",
      "[DEBUG@matplotlib.font_manager] findfont: score(<Font 'Impact' (impact.ttf) normal normal 400 normal>) = 10.05\n",
      "[DEBUG@matplotlib.font_manager] findfont: score(<Font 'Nirmala UI' (Nirmala.ttf) normal normal 400 normal>) = 10.05\n",
      "[DEBUG@matplotlib.font_manager] findfont: score(<Font 'DejaVu Sans' (DejaVuSans-Oblique.ttf) oblique normal 400 normal>) = 1.05\n",
      "[DEBUG@matplotlib.font_manager] findfont: score(<Font 'Wide Latin' (LATINWD.TTF) normal normal 400 expanded>) = 10.25\n",
      "[DEBUG@matplotlib.font_manager] findfont: score(<Font 'Californian FB' (CALIFR.TTF) normal normal 400 normal>) = 10.05\n",
      "[DEBUG@matplotlib.font_manager] findfont: score(<Font 'Book Antiqua' (ANTQUAB.TTF) normal normal 700 normal>) = 10.335\n",
      "[DEBUG@matplotlib.font_manager] findfont: score(<Font 'Comic Sans MS' (comicbd.ttf) normal normal 700 normal>) = 10.335\n",
      "[DEBUG@matplotlib.font_manager] findfont: score(<Font 'DejaVu Serif' (DejaVuSerifCondensed-BoldItalic.ttf) italic normal 700 condensed>) = 11.535\n",
      "[DEBUG@matplotlib.font_manager] findfont: score(<Font 'Asimov' (asimov.ttf) normal normal 400 normal>) = 10.05\n",
      "[DEBUG@matplotlib.font_manager] findfont: score(<Font 'Segoe Print' (segoepr.ttf) normal normal 400 normal>) = 10.05\n",
      "[DEBUG@matplotlib.font_manager] findfont: score(<Font 'Cooper Black' (COOPBL.TTF) normal normal 400 normal>) = 10.05\n",
      "[DEBUG@matplotlib.font_manager] findfont: score(<Font 'Goudy Old Style' (GOUDOS.TTF) normal normal 400 normal>) = 10.05\n",
      "[DEBUG@matplotlib.font_manager] findfont: score(<Font 'Creepygirl' (creerg__.ttf) normal normal 400 normal>) = 10.05\n",
      "[DEBUG@matplotlib.font_manager] findfont: score(<Font 'FontAwesome' (FontAwesome Regular.ttf) normal normal 400 normal>) = 10.05\n",
      "[DEBUG@matplotlib.font_manager] findfont: score(<Font 'Bungee Layers Rotated' (BungeeLayersRotated-Inline.otf) normal normal 500 normal>) = 10.145\n",
      "[DEBUG@matplotlib.font_manager] findfont: score(<Font 'Copperplate Gothic Bold' (COPRGTB.TTF) normal normal 400 normal>) = 10.05\n",
      "[DEBUG@matplotlib.font_manager] findfont: score(<Font 'Material Icons' (Material Icons.ttf) normal normal 400 normal>) = 10.05\n",
      "[DEBUG@matplotlib.font_manager] findfont: score(<Font 'Perpetua' (PERB____.TTF) normal normal 700 normal>) = 10.335\n",
      "[DEBUG@matplotlib.font_manager] findfont: score(<Font 'Gill Sans MT' (GILBI___.TTF) italic normal 700 normal>) = 11.335\n",
      "[DEBUG@matplotlib.font_manager] findfont: score(<Font 'Consolas' (consolaz.ttf) italic normal 700 normal>) = 11.335\n",
      "[DEBUG@matplotlib.font_manager] findfont: score(<Font 'Candara' (Candarai.ttf) italic normal 400 normal>) = 11.05\n",
      "[DEBUG@matplotlib.font_manager] findfont: score(<Font 'Goudy Old Style' (GOUDOSI.TTF) italic normal 400 normal>) = 11.05\n",
      "[DEBUG@matplotlib.font_manager] findfont: score(<Font 'Toledo' (Toledo__.ttf) normal normal 5 normal>) = 10.42525\n",
      "[DEBUG@matplotlib.font_manager] findfont: score(<Font 'Hand Me Down S (BRK)' (handmeds.ttf) normal normal 400 normal>) = 10.05\n",
      "[DEBUG@matplotlib.font_manager] findfont: score(<Font 'Marlett' (marlett.ttf) normal normal 500 normal>) = 10.145\n",
      "[DEBUG@matplotlib.font_manager] findfont: score(<Font 'Bernard MT Condensed' (BERNHC.TTF) normal normal 400 condensed>) = 10.25\n",
      "[DEBUG@matplotlib.font_manager] findfont: score(<Font 'DejaVu Serif' (DejaVuSerif-BoldItalic.ttf) italic normal 700 normal>) = 11.335\n",
      "[DEBUG@matplotlib.font_manager] findfont: score(<Font 'Garamond' (GARA.TTF) normal normal 400 normal>) = 10.05\n",
      "[DEBUG@matplotlib.font_manager] findfont: score(<Font 'Archivo Narrow' (Archivo Narrow Italic.ttf) italic normal 400 condensed>) = 11.25\n",
      "[DEBUG@matplotlib.font_manager] findfont: score(<Font 'Segoe UI' (segoeui.ttf) normal normal 400 normal>) = 10.05\n",
      "[DEBUG@matplotlib.font_manager] findfont: score(<Font 'Courant' (COO_____.ttf) italic normal 400 normal>) = 11.05\n",
      "[DEBUG@matplotlib.font_manager] findfont: score(<Font 'DejaVu Sans' (DejaVuSans-Oblique.ttf) oblique normal 400 normal>) = 1.05\n",
      "[DEBUG@matplotlib.font_manager] findfont: score(<Font 'Californian FB' (CALIFR.TTF) normal normal 400 normal>) = 10.05\n",
      "[DEBUG@matplotlib.font_manager] findfont: score(<Font 'Microsoft PhagsPa' (phagspa.ttf) normal normal 400 normal>) = 10.05\n",
      "[DEBUG@matplotlib.font_manager] findfont: score(<Font 'Arial' (ariali.ttf) italic normal 400 normal>) = 7.413636363636363\n",
      "[DEBUG@matplotlib.font_manager] findfont: score(<Font 'Modern No. 20' (MOD20.TTF) normal normal 400 normal>) = 10.05\n",
      "[DEBUG@matplotlib.font_manager] findfont: score(<Font 'Gill Sans MT Ext Condensed Bold' (GLSNECB.TTF) normal normal 400 condensed>) = 10.25\n",
      "[DEBUG@matplotlib.font_manager] findfont: score(<Font 'Microsoft YaHei' (msyhl.ttc) normal normal 290 normal>) = 10.1545\n",
      "[DEBUG@matplotlib.font_manager] findfont: score(<Font 'Ethnocentric' (ethnocen.ttf) normal normal 400 normal>) = 10.05\n",
      "[DEBUG@matplotlib.font_manager] findfont: score(<Font 'Perpetua' (PERI____.TTF) italic normal 400 normal>) = 11.05\n",
      "[DEBUG@matplotlib.font_manager] findfont: score(<Font 'Georgia' (georgia.ttf) normal normal 400 normal>) = 10.05\n",
      "[DEBUG@matplotlib.font_manager] findfont: score(<Font 'RowdyHeavy' (Rowdyhe_.ttf) normal normal 5 normal>) = 10.42525\n",
      "[DEBUG@matplotlib.font_manager] findfont: score(<Font 'Arial' (ARIALNB.TTF) normal normal 700 condensed>) = 6.8986363636363635\n",
      "[DEBUG@matplotlib.font_manager] findfont: score(<Font 'Microsoft JhengHei' (msjh.ttc) normal normal 400 normal>) = 10.05\n",
      "[DEBUG@matplotlib.font_manager] findfont: score(<Font 'Lucida Sans' (LSANSI.TTF) italic normal 400 normal>) = 11.05\n",
      "[DEBUG@matplotlib.font_manager] findfont: score(<Font 'Courier New' (courbi.ttf) italic normal 700 normal>) = 11.335\n",
      "[DEBUG@matplotlib.font_manager] findfont: score(<Font 'PenultimateLightItal' (PENLIIT_.TTF) normal normal 5 normal>) = 10.42525\n",
      "[DEBUG@matplotlib.font_manager] findfont: score(<Font 'Franklin Gothic Book' (FRABKIT.TTF) italic normal 400 normal>) = 11.05\n",
      "[DEBUG@matplotlib.font_manager] findfont: score(<Font 'Edwardian Script ITC' (ITCEDSCR.TTF) normal normal 400 normal>) = 10.05\n",
      "[DEBUG@matplotlib.font_manager] findfont: score(<Font 'Courant' (CON_____.ttf) normal normal 400 normal>) = 10.05\n",
      "[DEBUG@matplotlib.font_manager] findfont: score(<Font 'Rockwell' (ROCKB.TTF) normal normal 700 normal>) = 10.335\n",
      "[DEBUG@matplotlib.font_manager] findfont: score(<Font 'Palace Script MT' (PALSCRI.TTF) normal normal 400 normal>) = 10.05\n",
      "[DEBUG@matplotlib.font_manager] findfont: score(<Font 'Lucida Calligraphy' (LCALLIG.TTF) italic normal 400 normal>) = 11.05\n",
      "[DEBUG@matplotlib.font_manager] findfont: score(<Font 'Lucida Bright' (LBRITE.TTF) normal normal 400 normal>) = 10.05\n",
      "[DEBUG@matplotlib.font_manager] findfont: score(<Font 'Corporate' (Corpo___.ttf) normal normal 5 normal>) = 10.42525\n",
      "[DEBUG@matplotlib.font_manager] findfont: score(<Font 'Hombre' (Hombre__.ttf) normal normal 5 normal>) = 10.42525\n",
      "[DEBUG@matplotlib.font_manager] findfont: score(<Font 'Calibri' (calibri.ttf) normal normal 400 normal>) = 10.05\n",
      "[DEBUG@matplotlib.font_manager] findfont: score(<Font 'MaplePi' (MaplePi.ttf) normal normal 400 normal>) = 10.05\n",
      "[DEBUG@matplotlib.font_manager] findfont: score(<Font 'Segoe UI' (segoeuib.ttf) normal normal 700 normal>) = 10.335\n",
      "[DEBUG@matplotlib.font_manager] findfont: score(<Font 'STIX' (STIX-Regular.otf) normal normal 400 normal>) = 10.05\n",
      "[DEBUG@matplotlib.font_manager] findfont: score(<Font 'Onyx' (ONYX.TTF) normal normal 400 normal>) = 10.05\n",
      "[DEBUG@matplotlib.font_manager] findfont: score(<Font 'Baskerville Old Face' (BASKVILL.TTF) normal normal 400 normal>) = 10.05\n",
      "[DEBUG@matplotlib.font_manager] findfont: score(<Font 'Bodoni MT' (BOD_B.TTF) normal normal 700 normal>) = 10.335\n",
      "[DEBUG@matplotlib.font_manager] findfont: score(<Font 'Britannic Bold' (BRITANIC.TTF) normal normal 400 normal>) = 10.05\n",
      "[DEBUG@matplotlib.font_manager] findfont: score(<Font 'Lucida Sans' (LSANSI.TTF) italic normal 400 normal>) = 11.05\n",
      "[DEBUG@matplotlib.font_manager] findfont: score(<Font 'Bell MT' (BELL.TTF) normal normal 400 normal>) = 10.05\n",
      "[DEBUG@matplotlib.font_manager] findfont: score(<Font 'Ink Free' (Inkfree.ttf) normal normal 400 normal>) = 10.05\n",
      "[DEBUG@matplotlib.font_manager] findfont: score(<Font 'Open Sans' (Open Sans Semibold Italic.ttf) italic normal 600 normal>) = 11.24\n"
     ]
    },
    {
     "name": "stderr",
     "output_type": "stream",
     "text": [
      "[DEBUG@matplotlib.font_manager] findfont: score(<Font 'High Tower Text' (HTOWERTI.TTF) italic normal 400 normal>) = 11.05\n",
      "[DEBUG@matplotlib.font_manager] findfont: score(<Font 'DejaVu Sans' (DejaVuSans-Bold.ttf) normal normal 700 normal>) = 0.33499999999999996\n",
      "[DEBUG@matplotlib.font_manager] findfont: score(<Font 'PhrasticMedium' (Phrasme_.ttf) normal normal 5 normal>) = 10.42525\n",
      "[DEBUG@matplotlib.font_manager] findfont: score(<Font 'Playbill' (PLAYBILL.TTF) normal normal 400 normal>) = 10.05\n",
      "[DEBUG@matplotlib.font_manager] findfont: score(<Font 'Digifit' (digifit.ttf) normal normal 400 normal>) = 10.05\n",
      "[DEBUG@matplotlib.font_manager] findfont: score(<Font 'Perpetua' (PERBI___.TTF) italic normal 700 normal>) = 11.335\n",
      "[DEBUG@matplotlib.font_manager] findfont: score(<Font 'Malgun Gothic' (malgun.ttf) normal normal 400 normal>) = 10.05\n",
      "[DEBUG@matplotlib.font_manager] findfont: score(<Font 'Book Antiqua' (BKANT.TTF) normal normal 400 normal>) = 10.05\n",
      "[DEBUG@matplotlib.font_manager] findfont: score(<Font '18thCentury' (18cents.ttf) normal normal 400 normal>) = 10.05\n",
      "[DEBUG@matplotlib.font_manager] findfont: score(<Font 'Microsoft YaHei' (msyhl.ttc) normal normal 290 normal>) = 10.1545\n",
      "[DEBUG@matplotlib.font_manager] findfont: score(<Font 'Splash' (SPLASH__.TTF) normal normal 5 normal>) = 10.42525\n",
      "[DEBUG@matplotlib.font_manager] findfont: score(<Font 'Wingdings 2' (WINGDNG2.TTF) normal normal 400 normal>) = 10.05\n",
      "[DEBUG@matplotlib.font_manager] findfont: score(<Font 'Impact' (impact.ttf) normal normal 400 normal>) = 10.05\n",
      "[DEBUG@matplotlib.font_manager] findfont: score(<Font 'Segoe UI Emoji' (seguiemj.ttf) normal normal 400 normal>) = 10.05\n",
      "[DEBUG@matplotlib.font_manager] findfont: score(<Font 'Corbel' (corbelb.ttf) normal normal 700 normal>) = 10.335\n",
      "[DEBUG@matplotlib.font_manager] findfont: score(<Font 'Candles' (candles_.ttf) normal normal 400 normal>) = 10.05\n",
      "[DEBUG@matplotlib.font_manager] findfont: score(<Font 'Felix Titling' (FELIXTI.TTF) normal normal 400 normal>) = 10.05\n",
      "[DEBUG@matplotlib.font_manager] findfont: score(<Font 'MelodBold' (Melodbo_.ttf) normal normal 7 normal>) = 10.42335\n",
      "[DEBUG@matplotlib.font_manager] findfont: score(<Font 'Constantia' (constanz.ttf) italic normal 700 normal>) = 11.335\n",
      "[DEBUG@matplotlib.font_manager] findfont: score(<Font 'Calisto MT' (CALIST.TTF) normal normal 400 normal>) = 10.05\n",
      "[DEBUG@matplotlib.font_manager] findfont: score(<Font 'Gadugi' (gadugi.ttf) normal normal 400 normal>) = 10.05\n",
      "[DEBUG@matplotlib.font_manager] findfont: score(<Font 'Courant' (COBO____.ttf) italic normal 700 normal>) = 11.335\n",
      "[DEBUG@matplotlib.font_manager] findfont: score(<Font 'Leelawadee UI' (LeelUIsl.ttf) normal normal 350 normal>) = 10.0975\n",
      "[DEBUG@matplotlib.font_manager] findfont: score(<Font 'Century Gothic' (GOTHICB.TTF) normal normal 700 normal>) = 10.335\n",
      "[DEBUG@matplotlib.font_manager] findfont: score(<Font 'Candara' (Candaral.ttf) normal normal 400 normal>) = 10.05\n",
      "[DEBUG@matplotlib.font_manager] findfont: score(<Font 'Open Sans' (Open Sans Extrabold.ttf) normal normal 800 normal>) = 10.43\n",
      "[DEBUG@matplotlib.font_manager] findfont: score(<Font 'Brush Script MT' (BRUSHSCI.TTF) italic normal 400 normal>) = 11.05\n",
      "[DEBUG@matplotlib.font_manager] findfont: score(<Font 'Century Gothic' (GOTHIC.TTF) normal normal 400 normal>) = 10.05\n",
      "[DEBUG@matplotlib.font_manager] findfont: score(<Font 'Snowdrift' (snowdrft.ttf) normal normal 400 normal>) = 10.05\n",
      "[DEBUG@matplotlib.font_manager] findfont: score(<Font 'Courier New' (couri.ttf) italic normal 400 normal>) = 11.05\n",
      "[DEBUG@matplotlib.font_manager] findfont: score(<Font 'Arial' (ARIALN.TTF) normal normal 400 condensed>) = 6.613636363636363\n",
      "[DEBUG@matplotlib.font_manager] findfont: score(<Font 'Tahoma' (tahomabd.ttf) normal normal 700 normal>) = 10.335\n",
      "[DEBUG@matplotlib.font_manager] findfont: score(<Font 'Wingdings' (wingding.ttf) normal normal 400 normal>) = 10.05\n",
      "[DEBUG@matplotlib.font_manager] findfont: score(<Font 'Mongolian Baiti' (monbaiti.ttf) normal normal 400 normal>) = 10.05\n",
      "[DEBUG@matplotlib.font_manager] findfont: score(<Font 'Courant' (COO_____.ttf) italic normal 400 normal>) = 11.05\n",
      "[DEBUG@matplotlib.font_manager] findfont: score(<Font 'Eras Light ITC' (ERASLGHT.TTF) normal normal 400 normal>) = 10.05\n",
      "[DEBUG@matplotlib.font_manager] findfont: score(<Font 'Cooper Black' (COOPBL.TTF) normal normal 400 normal>) = 10.05\n",
      "[DEBUG@matplotlib.font_manager] findfont: score(<Font 'Bookman Old Style' (BOOKOSBI.TTF) italic normal 600 normal>) = 11.24\n",
      "[DEBUG@matplotlib.font_manager] findfont: score(<Font 'Broadway' (BROADW.TTF) normal normal 400 normal>) = 10.05\n",
      "[DEBUG@matplotlib.font_manager] findfont: score(<Font 'Segoe MDL2 Assets' (segmdl2.ttf) normal normal 400 normal>) = 10.05\n",
      "[DEBUG@matplotlib.font_manager] findfont: score(<Font 'Snowdrift' (snowdrft.ttf) normal normal 400 normal>) = 10.05\n",
      "[DEBUG@matplotlib.font_manager] findfont: score(<Font 'Bodoni MT' (BOD_PSTC.TTF) normal normal 300 normal>) = 10.145\n",
      "[DEBUG@matplotlib.font_manager] findfont: score(<Font 'Bungee' (Bungee-Hairline.otf) normal normal 500 normal>) = 10.145\n",
      "[DEBUG@matplotlib.font_manager] findfont: score(<Font 'Microsoft Himalaya' (himalaya.ttf) normal normal 400 normal>) = 10.05\n",
      "[DEBUG@matplotlib.font_manager] findfont: score(<Font 'Trebuchet MS' (trebucbi.ttf) italic normal 700 normal>) = 11.335\n",
      "[DEBUG@matplotlib.font_manager] findfont: score(<Font 'Autumn' (Autumn__.ttf) normal normal 5 normal>) = 10.42525\n",
      "[DEBUG@matplotlib.font_manager] findfont: score(<Font 'DejaVu Sans Mono' (DejaVuSansMono-Oblique.ttf) oblique normal 400 normal>) = 11.05\n",
      "[DEBUG@matplotlib.font_manager] findfont: score(<Font 'ESSTIXTen' (ESSTIX10.TTF) normal normal 400 normal>) = 10.05\n",
      "[DEBUG@matplotlib.font_manager] findfont: score(<Font 'Script MT Bold' (SCRIPTBL.TTF) normal normal 700 normal>) = 10.335\n",
      "[DEBUG@matplotlib.font_manager] findfont: score(<Font 'Cambria' (cambria.ttc) normal normal 400 normal>) = 10.05\n",
      "[DEBUG@matplotlib.font_manager] findfont: score(<Font 'High Tower Text' (HTOWERT.TTF) normal normal 400 normal>) = 10.05\n",
      "[DEBUG@matplotlib.font_manager] findfont: score(<Font 'Bodoni MT' (BOD_CR.TTF) normal normal 400 condensed>) = 10.25\n",
      "[DEBUG@matplotlib.font_manager] findfont: score(<Font 'Freestyle Script' (FREESCPT.TTF) normal normal 400 normal>) = 10.05\n",
      "[DEBUG@matplotlib.font_manager] findfont: score(<Font 'Gazzarelli' (gazzarelli.ttf) normal normal 400 normal>) = 10.05\n",
      "[DEBUG@matplotlib.font_manager] findfont: score(<Font 'OpineHeavy' (Opinehe_.ttf) normal normal 5 normal>) = 10.42525\n",
      "[DEBUG@matplotlib.font_manager] findfont: score(<Font 'Haettenschweiler' (HATTEN.TTF) normal normal 400 normal>) = 10.05\n",
      "[DEBUG@matplotlib.font_manager] findfont: score(<Font 'Script MT Bold' (SCRIPTBL.TTF) normal normal 700 normal>) = 10.335\n",
      "[DEBUG@matplotlib.font_manager] findfont: score(<Font 'Bodoni MT' (BOD_CB.TTF) normal normal 700 condensed>) = 10.535\n",
      "[DEBUG@matplotlib.font_manager] findfont: score(<Font 'Century Gothic' (GOTHICB.TTF) normal normal 700 normal>) = 10.335\n",
      "[DEBUG@matplotlib.font_manager] findfont: score(<Font 'Lucida Sans Unicode' (l_10646.ttf) normal normal 400 normal>) = 10.05\n",
      "[DEBUG@matplotlib.font_manager] findfont: score(<Font 'Footlight MT Light' (FTLTLT.TTF) normal normal 300 normal>) = 10.145\n",
      "[DEBUG@matplotlib.font_manager] findfont: score(<Font 'Kristen ITC' (ITCKRIST.TTF) normal normal 400 normal>) = 10.05\n",
      "[DEBUG@matplotlib.font_manager] findfont: score(<Font 'Palace Script MT' (PALSCRI.TTF) normal normal 400 normal>) = 10.05\n",
      "[DEBUG@matplotlib.font_manager] findfont: score(<Font 'Open Sans' (Open Sans Extrabold Italic.ttf) italic normal 800 normal>) = 11.43\n",
      "[DEBUG@matplotlib.font_manager] findfont: score(<Font 'Stencil' (STENCIL.TTF) normal normal 400 normal>) = 10.05\n",
      "[DEBUG@matplotlib.font_manager] findfont: score(<Font 'Segoe UI' (seguisli.ttf) italic normal 350 normal>) = 11.0975\n",
      "[DEBUG@matplotlib.font_manager] findfont: score(<Font 'MS Gothic' (msgothic.ttc) normal normal 400 normal>) = 10.05\n",
      "[DEBUG@matplotlib.font_manager] findfont: score(<Font 'Malgun Gothic' (malgunbd.ttf) normal normal 700 normal>) = 10.335\n",
      "[DEBUG@matplotlib.font_manager] findfont: score(<Font 'Colbert' (Colbert_.ttf) normal normal 5 normal>) = 10.42525\n"
     ]
    },
    {
     "name": "stderr",
     "output_type": "stream",
     "text": [
      "[DEBUG@matplotlib.font_manager] findfont: score(<Font 'Georgia' (georgiai.ttf) italic normal 400 normal>) = 11.05\n",
      "[DEBUG@matplotlib.font_manager] findfont: score(<Font 'Californian FB' (CALIFB.TTF) normal normal 700 normal>) = 10.335\n",
      "[DEBUG@matplotlib.font_manager] findfont: score(<Font 'Bungee Layers' (BungeeLayers-Outline.otf) normal normal 600 normal>) = 10.24\n",
      "[DEBUG@matplotlib.font_manager] findfont: score(<Font 'Segoe UI' (segoeui.ttf) normal normal 400 normal>) = 10.05\n",
      "[DEBUG@matplotlib.font_manager] findfont: score(<Font 'Helonia' (HEB_____.ttf) normal normal 700 normal>) = 10.335\n",
      "[DEBUG@matplotlib.font_manager] findfont: score(<Font 'Corbel' (corbelli.ttf) italic normal 300 normal>) = 11.145\n",
      "[DEBUG@matplotlib.font_manager] findfont: score(<Font 'PenultimateLightItal' (PENLIIT_.TTF) normal normal 5 normal>) = 10.42525\n",
      "[DEBUG@matplotlib.font_manager] findfont: score(<Font 'Dubai' (DUBAI-BOLD.TTF) normal normal 700 normal>) = 10.335\n",
      "[DEBUG@matplotlib.font_manager] findfont: score(<Font 'Times New Roman' (timesbi.ttf) italic normal 700 normal>) = 11.335\n",
      "[DEBUG@matplotlib.font_manager] findfont: score(<Font 'Italianate' (Itali___.ttf) normal normal 5 normal>) = 10.42525\n",
      "[DEBUG@matplotlib.font_manager] findfont: score(<Font 'Segoe UI Historic' (seguihis.ttf) normal normal 400 normal>) = 10.05\n",
      "[DEBUG@matplotlib.font_manager] findfont: score(<Font 'Bookman Old Style' (BOOKOSB.TTF) normal normal 600 normal>) = 10.24\n",
      "[DEBUG@matplotlib.font_manager] findfont: score(<Font 'XITS' (xits-bolditalic.otf) italic normal 700 normal>) = 11.335\n",
      "[DEBUG@matplotlib.font_manager] findfont: score(<Font 'Calisto MT' (CALISTB.TTF) normal normal 700 normal>) = 10.335\n",
      "[DEBUG@matplotlib.font_manager] findfont: score(<Font 'Rockwell Condensed' (ROCC____.TTF) normal normal 400 condensed>) = 10.25\n",
      "[DEBUG@matplotlib.font_manager] findfont: score(<Font 'DejaVu Sans' (DejaVuSansCondensed-Oblique.ttf) oblique normal 400 condensed>) = 1.25\n",
      "[DEBUG@matplotlib.font_manager] findfont: score(<Font 'Dubai' (DUBAI-MEDIUM.TTF) normal normal 500 normal>) = 10.145\n",
      "[DEBUG@matplotlib.font_manager] findfont: score(<Font 'Matura MT Script Capitals' (MATURASC.TTF) normal normal 400 normal>) = 10.05\n",
      "[DEBUG@matplotlib.font_manager] findfont: score(<Font 'Book Antiqua' (ANTQUAI.TTF) italic normal 400 normal>) = 11.05\n",
      "[DEBUG@matplotlib.font_manager] findfont: score(<Font 'Times New Roman' (timesbd.ttf) normal normal 700 normal>) = 10.335\n",
      "[DEBUG@matplotlib.font_manager] findfont: score(<Font 'DejaVu Serif' (DejaVuSerifCondensed-Bold.ttf) normal normal 700 condensed>) = 10.535\n",
      "[DEBUG@matplotlib.font_manager] findfont: score(<Font 'Informal Roman' (INFROMAN.TTF) normal normal 400 normal>) = 10.05\n",
      "[DEBUG@matplotlib.font_manager] findfont: score(<Font 'Segoe UI' (seguisbi.ttf) italic normal 600 normal>) = 11.24\n",
      "[DEBUG@matplotlib.font_manager] findfont: score(<Font 'Yu Gothic' (YuGothM.ttc) normal normal 500 normal>) = 10.145\n",
      "[DEBUG@matplotlib.font_manager] findfont: score(<Font 'Franklin Gothic Book' (FRABK.TTF) normal normal 400 normal>) = 10.05\n",
      "[DEBUG@matplotlib.font_manager] findfont: score(<Font 'DejaVu Serif' (DejaVuSerif.ttf) normal normal 400 normal>) = 10.05\n",
      "[DEBUG@matplotlib.font_manager] findfont: score(<Font 'Induction' (inductio.ttf) normal normal 400 normal>) = 10.05\n",
      "[DEBUG@matplotlib.font_manager] findfont: score(<Font 'Sitka Small' (SitkaB.ttc) normal normal 700 normal>) = 10.335\n",
      "[DEBUG@matplotlib.font_manager] findfont: score(<Font 'Gill Sans Ultra Bold' (GILSANUB.TTF) normal normal 400 normal>) = 10.05\n",
      "[DEBUG@matplotlib.font_manager] findfont: score(<Font 'Franklin Gothic Demi Cond' (FRADMCN.TTF) normal normal 400 condensed>) = 10.25\n",
      "[DEBUG@matplotlib.font_manager] findfont: score(<Font 'Rockwell' (ROCKB.TTF) normal normal 700 normal>) = 10.335\n",
      "[DEBUG@matplotlib.font_manager] findfont: score(<Font 'Latin Modern Roman' (lmroman12-regular.otf) normal normal 400 normal>) = 10.05\n",
      "[DEBUG@matplotlib.font_manager] findfont: score(<Font 'Courant' (COBO____.ttf) italic normal 700 normal>) = 11.335\n",
      "[DEBUG@matplotlib.font_manager] findfont: score(<Font 'Arial' (arial.ttf) normal normal 400 normal>) = 6.413636363636363\n",
      "[DEBUG@matplotlib.font_manager] findfont: score(<Font 'Bauhaus 93' (BAUHS93.TTF) normal normal 400 normal>) = 10.05\n",
      "[DEBUG@matplotlib.font_manager] findfont: score(<Font 'Bastion' (BASTION_.TTF) normal normal 5 normal>) = 10.42525\n",
      "[DEBUG@matplotlib.font_manager] findfont: score(<Font 'Bungee Layers' (BungeeLayers-Shade.otf) normal normal 700 normal>) = 10.335\n",
      "[DEBUG@matplotlib.font_manager] findfont: score(<Font 'HoloLens MDL2 Assets' (holomdl2.ttf) normal normal 400 normal>) = 10.05\n",
      "[DEBUG@matplotlib.font_manager] findfont: score(<Font 'Lucida Fax' (LFAXD.TTF) normal normal 600 normal>) = 10.24\n",
      "[DEBUG@matplotlib.font_manager] findfont: score(<Font 'Manorly' (Manorly_.ttf) normal normal 5 normal>) = 10.42525\n",
      "[DEBUG@matplotlib.font_manager] findfont: score(<Font 'Lucida Bright' (LBRITEDI.TTF) italic normal 600 normal>) = 11.24\n",
      "[DEBUG@matplotlib.font_manager] findfont: score(<Font 'DejaVu Sans Mono' (DejaVuSansMono-BoldOblique.ttf) oblique normal 700 normal>) = 11.335\n",
      "[DEBUG@matplotlib.font_manager] findfont: score(<Font 'Segoe UI' (segoeuii.ttf) italic normal 400 normal>) = 11.05\n",
      "[DEBUG@matplotlib.font_manager] findfont: score(<Font 'DejaVu Sans Mono' (DejaVuSansMono-Bold.ttf) normal normal 700 normal>) = 10.335\n",
      "[DEBUG@matplotlib.font_manager] findfont: score(<Font 'Constantia' (constanb.ttf) normal normal 700 normal>) = 10.335\n",
      "[DEBUG@matplotlib.font_manager] findfont: score(<Font 'ESSTIXThirteen' (ESSTIX13.TTF) normal normal 400 normal>) = 10.05\n",
      "[DEBUG@matplotlib.font_manager] findfont: score(<Font 'Franklin Gothic Heavy' (FRAHV.TTF) normal normal 400 normal>) = 10.05\n",
      "[DEBUG@matplotlib.font_manager] findfont: score(<Font 'Sitka Small' (Sitka.ttc) normal normal 400 normal>) = 10.05\n",
      "[DEBUG@matplotlib.font_manager] findfont: score(<Font 'Bodoni MT' (BOD_R.TTF) normal normal 400 normal>) = 10.05\n",
      "[DEBUG@matplotlib.font_manager] findfont: score(<Font 'Waverly' (Waverly_.ttf) normal normal 5 normal>) = 10.42525\n",
      "[DEBUG@matplotlib.font_manager] findfont: score(<Font 'DejaVu Serif' (DejaVuSerifCondensed.ttf) normal normal 400 condensed>) = 10.25\n",
      "[DEBUG@matplotlib.font_manager] findfont: score(<Font 'MS Outlook' (OUTLOOK.TTF) normal normal 400 normal>) = 10.05\n",
      "[DEBUG@matplotlib.font_manager] findfont: score(<Font 'Gadugi' (gadugi.ttf) normal normal 400 normal>) = 10.05\n",
      "[DEBUG@matplotlib.font_manager] findfont: score(<Font 'Wingdings 3' (WINGDNG3.TTF) normal normal 400 normal>) = 10.05\n",
      "[DEBUG@matplotlib.font_manager] findfont: score(<Font 'Informal Roman' (INFROMAN.TTF) normal normal 400 normal>) = 10.05\n",
      "[DEBUG@matplotlib.font_manager] findfont: score(<Font 'ESSTIXSix' (ESSTIX6_.TTF) normal normal 400 normal>) = 10.05\n",
      "[DEBUG@matplotlib.font_manager] findfont: score(<Font 'Yu Gothic' (YuGothM.ttc) normal normal 500 normal>) = 10.145\n",
      "[DEBUG@matplotlib.font_manager] findfont: score(<Font 'Comic Sans MS' (comicbd.ttf) normal normal 700 normal>) = 10.335\n",
      "[DEBUG@matplotlib.font_manager] findfont: score(<Font 'Segoe UI' (seguisli.ttf) italic normal 350 normal>) = 11.0975\n",
      "[DEBUG@matplotlib.font_manager] findfont: score(<Font 'ESSTIXSeven' (ESSTIX7_.TTF) normal normal 400 normal>) = 10.05\n",
      "[DEBUG@matplotlib.font_manager] findfont: score(<Font 'Helonia' (HEO_____.ttf) italic normal 400 normal>) = 11.05\n",
      "[DEBUG@matplotlib.font_manager] findfont: score(<Font 'Showcard Gothic' (SHOWG.TTF) normal normal 400 normal>) = 10.05\n",
      "[DEBUG@matplotlib.font_manager] findfont: score(<Font 'Kunstler Script' (KUNSTLER.TTF) normal normal 400 normal>) = 10.05\n",
      "[DEBUG@matplotlib.font_manager] findfont: score(<Font 'Eras Medium ITC' (ERASMD.TTF) normal normal 400 normal>) = 10.05\n",
      "[DEBUG@matplotlib.font_manager] findfont: score(<Font 'DejaVu Sans' (DejaVuSansCondensed.ttf) normal normal 400 condensed>) = 0.25\n",
      "[DEBUG@matplotlib.font_manager] findfont: score(<Font 'Gadugi' (gadugib.ttf) normal normal 700 normal>) = 10.335\n",
      "[DEBUG@matplotlib.font_manager] findfont: score(<Font 'Lucida Bright' (LBRITEI.TTF) italic normal 400 normal>) = 11.05\n",
      "[DEBUG@matplotlib.font_manager] findfont: score(<Font 'Bodoni MT' (BOD_BI.TTF) italic normal 700 normal>) = 11.335\n"
     ]
    },
    {
     "name": "stderr",
     "output_type": "stream",
     "text": [
      "[DEBUG@matplotlib.font_manager] findfont: score(<Font 'Verdana' (verdanaz.ttf) italic normal 700 normal>) = 4.971363636363637\n",
      "[DEBUG@matplotlib.font_manager] findfont: score(<Font 'Harlow Solid Italic' (HARLOWSI.TTF) italic normal 400 normal>) = 11.05\n",
      "[DEBUG@matplotlib.font_manager] findfont: score(<Font 'Distant Galaxy' (distant galaxy 2.ttf) normal normal 400 normal>) = 10.05\n",
      "[DEBUG@matplotlib.font_manager] findfont: score(<Font 'ESSTIXOne' (ESSTIX1_.TTF) normal normal 400 normal>) = 10.05\n",
      "[DEBUG@matplotlib.font_manager] findfont: score(<Font 'QuiverItal' (QUIVEIT_.TTF) normal normal 5 normal>) = 10.42525\n",
      "[DEBUG@matplotlib.font_manager] findfont: score(<Font 'RowdyHeavy' (Rowdyhe_.ttf) normal normal 5 normal>) = 10.42525\n",
      "[DEBUG@matplotlib.font_manager] findfont: score(<Font 'Archivo Narrow' (Archivo Narrow Regular.ttf) normal normal 400 condensed>) = 10.25\n",
      "[DEBUG@matplotlib.font_manager] findfont: score(<Font 'Imprint MT Shadow' (IMPRISHA.TTF) normal normal 400 normal>) = 10.05\n",
      "[DEBUG@matplotlib.font_manager] findfont: score(<Font 'STIX' (STIX-Italic.otf) italic normal 400 normal>) = 11.05\n",
      "[DEBUG@matplotlib.font_manager] findfont: score(<Font 'Symbol' (symbol.ttf) normal normal 400 normal>) = 10.05\n",
      "[DEBUG@matplotlib.font_manager] findfont: score(<Font 'Terminator Two' (terminat.ttf) normal normal 5 normal>) = 10.42525\n",
      "[DEBUG@matplotlib.font_manager] findfont: score(<Font 'Franklin Gothic Demi' (FRADM.TTF) normal normal 400 normal>) = 10.05\n",
      "[DEBUG@matplotlib.font_manager] findfont: score(<Font 'Borealis' (Borea___.ttf) normal normal 5 normal>) = 10.42525\n",
      "[DEBUG@matplotlib.font_manager] findfont: score(<Font 'Calisto MT' (CALISTB.TTF) normal normal 700 normal>) = 10.335\n",
      "[DEBUG@matplotlib.font_manager] findfont: score(<Font 'Mael' (mael____.ttf) normal normal 400 normal>) = 10.05\n",
      "[DEBUG@matplotlib.font_manager] findfont: score(<Font 'Gazzarelli' (gazzarelli.ttf) normal normal 400 normal>) = 10.05\n",
      "[DEBUG@matplotlib.font_manager] findfont: score(<Font 'Segoe UI' (seguisbi.ttf) italic normal 600 normal>) = 11.24\n",
      "[DEBUG@matplotlib.font_manager] findfont: score(<Font 'Commons' (COMMONS_.TTF) normal normal 5 normal>) = 10.42525\n",
      "[DEBUG@matplotlib.font_manager] findfont: score(<Font 'Bungee Layers' (BungeeLayers-Shade.otf) normal normal 700 normal>) = 10.335\n",
      "[DEBUG@matplotlib.font_manager] findfont: score(<Font 'Garamond' (GARA.TTF) normal normal 400 normal>) = 10.05\n",
      "[DEBUG@matplotlib.font_manager] findfont: score(<Font 'Tw Cen MT Condensed' (TCCB____.TTF) normal normal 700 condensed>) = 10.535\n",
      "[DEBUG@matplotlib.font_manager] findfont: score(<Font 'Courant' (COB_____.ttf) normal normal 700 normal>) = 10.335\n",
      "[DEBUG@matplotlib.font_manager] findfont: score(<Font 'Brussels' (Bruss___.ttf) normal normal 5 normal>) = 10.42525\n",
      "[DEBUG@matplotlib.font_manager] findfont: score(<Font 'Bodoni MT' (BOD_B.TTF) normal normal 700 normal>) = 10.335\n",
      "[DEBUG@matplotlib.font_manager] findfont: score(<Font 'Footlight MT Light' (FTLTLT.TTF) normal normal 300 normal>) = 10.145\n",
      "[DEBUG@matplotlib.font_manager] findfont: score(<Font 'Microsoft JhengHei' (msjh.ttc) normal normal 400 normal>) = 10.05\n",
      "[DEBUG@matplotlib.font_manager] findfont: score(<Font 'Tahoma' (tahoma.ttf) normal normal 400 normal>) = 10.05\n",
      "[DEBUG@matplotlib.font_manager] findfont: score(<Font 'Whimsy TT' (Whimsy.TTF) normal normal 400 normal>) = 10.05\n",
      "[DEBUG@matplotlib.font_manager] findfont: score(<Font 'Berlin Sans FB' (BRLNSR.TTF) normal normal 400 normal>) = 10.05\n",
      "[DEBUG@matplotlib.font_manager] findfont: score(<Font 'Hansen' (Hansen__.ttf) normal normal 5 normal>) = 10.42525\n",
      "[DEBUG@matplotlib.font_manager] findfont: score(<Font 'Rockwell' (ROCKI.TTF) italic normal 400 normal>) = 11.05\n",
      "[DEBUG@matplotlib.font_manager] findfont: score(<Font 'Castellar' (CASTELAR.TTF) normal normal 400 normal>) = 10.05\n",
      "[DEBUG@matplotlib.font_manager] findfont: score(<Font 'Nirmala UI' (Nirmala.ttf) normal normal 400 normal>) = 10.05\n",
      "[DEBUG@matplotlib.font_manager] findfont: score(<Font 'Rockwell Extra Bold' (ROCKEB.TTF) normal normal 800 normal>) = 10.43\n",
      "[DEBUG@matplotlib.font_manager] findfont: score(<Font 'Viner Hand ITC' (VINERITC.TTF) normal normal 400 normal>) = 10.05\n",
      "[DEBUG@matplotlib.font_manager] findfont: score(<Font 'Palatino Linotype' (palab.ttf) normal normal 700 normal>) = 10.335\n",
      "[DEBUG@matplotlib.font_manager] findfont: score(<Font 'Lucida Sans Typewriter' (LTYPEB.TTF) normal normal 600 normal>) = 10.24\n",
      "[DEBUG@matplotlib.font_manager] findfont: score(<Font 'Gill Sans MT' (GIL_____.TTF) normal normal 400 normal>) = 10.05\n",
      "[DEBUG@matplotlib.font_manager] findfont: score(<Font 'ESSTIXFifteen' (ESSTIX15.TTF) normal normal 400 normal>) = 10.05\n",
      "[DEBUG@matplotlib.font_manager] findfont: score(<Font 'Segoe Script' (segoescb.ttf) normal normal 700 normal>) = 10.335\n",
      "[DEBUG@matplotlib.font_manager] findfont: score(<Font 'Wide Latin' (LATINWD.TTF) normal normal 400 expanded>) = 10.25\n",
      "[DEBUG@matplotlib.font_manager] findfont: score(<Font 'Franklin Gothic Medium' (framd.ttf) normal normal 400 normal>) = 10.05\n",
      "[DEBUG@matplotlib.font_manager] findfont: score(<Font 'Lucida Bright' (LBRITE.TTF) normal normal 400 normal>) = 10.05\n",
      "[DEBUG@matplotlib.font_manager] findfont: score(<Font 'Amethyst' (Ameth___.ttf) normal normal 5 normal>) = 10.42525\n",
      "[DEBUG@matplotlib.font_manager] findfont: score(<Font 'Garamond' (GARABD.TTF) normal normal 700 normal>) = 10.335\n",
      "[DEBUG@matplotlib.font_manager] findfont: score(<Font 'Helonia' (HEB_____.ttf) normal normal 700 normal>) = 10.335\n",
      "[DEBUG@matplotlib.font_manager] findfont: score(<Font 'Microsoft Tai Le' (taile.ttf) normal normal 400 normal>) = 10.05\n",
      "[DEBUG@matplotlib.font_manager] findfont: score(<Font 'Myanmar Text' (mmrtextb.ttf) normal normal 700 normal>) = 10.335\n",
      "[DEBUG@matplotlib.font_manager] findfont: score(<Font 'Gloucester MT Extra Condensed' (GLECB.TTF) normal normal 400 condensed>) = 10.25\n",
      "[DEBUG@matplotlib.font_manager] findfont: score(<Font 'Franklin Gothic Demi' (FRADMIT.TTF) italic normal 400 normal>) = 11.05\n",
      "[DEBUG@matplotlib.font_manager] findfont: score(<Font 'Centaur' (CENTAUR.TTF) normal normal 400 normal>) = 10.05\n",
      "[DEBUG@matplotlib.font_manager] findfont: score(<Font 'Calibri' (calibrii.ttf) italic normal 400 normal>) = 11.05\n",
      "[DEBUG@matplotlib.font_manager] findfont: score(<Font 'Old English Text MT' (OLDENGL.TTF) normal normal 400 normal>) = 10.05\n",
      "[DEBUG@matplotlib.font_manager] findfont: score(<Font 'Thames' (THI_____.ttf) italic normal 400 normal>) = 11.05\n",
      "[DEBUG@matplotlib.font_manager] findfont: score(<Font 'Lucida Sans Typewriter' (LTYPE.TTF) normal normal 400 normal>) = 10.05\n",
      "[DEBUG@matplotlib.font_manager] findfont: score(<Font 'Times New Roman' (timesi.ttf) italic normal 400 normal>) = 11.05\n",
      "[DEBUG@matplotlib.font_manager] findfont: score(<Font 'Elephant' (ELEPHNTI.TTF) italic normal 400 normal>) = 11.05\n",
      "[DEBUG@matplotlib.font_manager] findfont: score(<Font 'Segoe Script' (segoesc.ttf) normal normal 400 normal>) = 10.05\n",
      "[DEBUG@matplotlib.font_manager] findfont: score(<Font 'Webdings' (webdings.ttf) normal normal 400 normal>) = 10.05\n",
      "[DEBUG@matplotlib.font_manager] findfont: score(<Font 'Courant' (COB_____.ttf) normal normal 700 normal>) = 10.335\n",
      "[DEBUG@matplotlib.font_manager] findfont: score(<Font 'STIX Math' (STIXMath-Regular.otf) normal normal 400 normal>) = 10.05\n",
      "[DEBUG@matplotlib.font_manager] findfont: score(<Font 'Palatino Linotype' (pala.ttf) normal normal 400 normal>) = 10.05\n",
      "[DEBUG@matplotlib.font_manager] findfont: score(<Font 'Limousine' (Limou___.ttf) normal normal 5 normal>) = 10.42525\n",
      "[DEBUG@matplotlib.font_manager] findfont: score(<Font 'Eras Bold ITC' (ERASBD.TTF) normal normal 400 normal>) = 10.05\n",
      "[DEBUG@matplotlib.font_manager] findfont: score(<Font 'Thames' (THR_____.ttf) normal normal 400 normal>) = 10.05\n",
      "[DEBUG@matplotlib.font_manager] findfont: score(<Font 'Bahnschrift' (bahnschrift.ttf) normal normal 400 normal>) = 10.05\n",
      "[DEBUG@matplotlib.font_manager] findfont: score(<Font 'Microsoft JhengHei' (msjhl.ttc) normal normal 290 normal>) = 10.1545\n",
      "[DEBUG@matplotlib.font_manager] findfont: score(<Font 'PR Celtic Narrow' (narrow.ttf) normal normal 400 condensed>) = 10.25\n",
      "[DEBUG@matplotlib.font_manager] findfont: score(<Font 'Trebuchet MS' (trebucit.ttf) italic normal 400 normal>) = 11.05\n"
     ]
    },
    {
     "name": "stderr",
     "output_type": "stream",
     "text": [
      "[DEBUG@matplotlib.font_manager] findfont: score(<Font 'Lucida Fax' (LFAXDI.TTF) italic normal 600 normal>) = 11.24\n",
      "[DEBUG@matplotlib.font_manager] findfont: score(<Font 'Century Schoolbook' (SCHLBKI.TTF) italic normal 400 normal>) = 11.05\n",
      "[DEBUG@matplotlib.font_manager] findfont: score(<Font 'Felix Titling' (FELIXTI.TTF) normal normal 400 normal>) = 10.05\n",
      "[DEBUG@matplotlib.font_manager] findfont: score(<Font 'ESSTIXThirteen' (ESSTIX13.TTF) normal normal 400 normal>) = 10.05\n",
      "[DEBUG@matplotlib.font_manager] findfont: score(<Font 'DejaVu Sans' (DejaVuSansCondensed.ttf) normal normal 400 condensed>) = 0.25\n",
      "[DEBUG@matplotlib.font_manager] findfont: score(<Font 'Calibri' (calibrib.ttf) normal normal 700 normal>) = 10.335\n",
      "[DEBUG@matplotlib.font_manager] findfont: score(<Font 'X-Files' (xfiles.ttf) normal normal 400 normal>) = 10.05\n",
      "[DEBUG@matplotlib.font_manager] findfont: score(<Font 'Lucida Calligraphy' (LCALLIG.TTF) italic normal 400 normal>) = 11.05\n",
      "[DEBUG@matplotlib.font_manager] findfont: score(<Font 'Century' (CENTURY.TTF) normal normal 400 normal>) = 10.05\n",
      "[DEBUG@matplotlib.font_manager] findfont: score(<Font 'Mael' (mael____.ttf) normal normal 400 normal>) = 10.05\n",
      "[DEBUG@matplotlib.font_manager] findfont: score(<Font 'Lucida Fax' (LFAXDI.TTF) italic normal 600 normal>) = 11.24\n",
      "[DEBUG@matplotlib.font_manager] findfont: score(<Font 'Bell MT' (BELLB.TTF) normal normal 700 normal>) = 10.335\n",
      "[DEBUG@matplotlib.font_manager] findfont: score(<Font 'Lucida Handwriting' (LHANDW.TTF) italic normal 400 normal>) = 11.05\n",
      "[DEBUG@matplotlib.font_manager] findfont: score(<Font 'MaplePi' (MP______.ttf) normal normal 400 normal>) = 10.05\n",
      "[DEBUG@matplotlib.font_manager] findfont: score(<Font 'Segoe MDL2 Assets' (segmdl2.ttf) normal normal 400 normal>) = 10.05\n",
      "[DEBUG@matplotlib.font_manager] findfont: score(<Font 'Segoe Print' (segoeprb.ttf) normal normal 700 normal>) = 10.335\n",
      "[DEBUG@matplotlib.font_manager] findfont: score(<Font 'Chiller' (CHILLER.TTF) normal normal 400 normal>) = 10.05\n",
      "[DEBUG@matplotlib.font_manager] findfont: score(<Font 'Nirmala UI' (NirmalaS.ttf) normal normal 350 normal>) = 10.0975\n",
      "[DEBUG@matplotlib.font_manager] findfont: score(<Font 'Distant Galaxy' (distant galaxy 2.ttf) normal normal 400 normal>) = 10.05\n",
      "[DEBUG@matplotlib.font_manager] findfont: score(<Font 'Haettenschweiler' (HATTEN.TTF) normal normal 400 normal>) = 10.05\n",
      "[DEBUG@matplotlib.font_manager] findfont: score(<Font 'Parchment' (PARCHM.TTF) normal normal 400 normal>) = 10.05\n",
      "[DEBUG@matplotlib.font_manager] findfont: score(<Font 'Showcard Gothic' (SHOWG.TTF) normal normal 400 normal>) = 10.05\n",
      "[DEBUG@matplotlib.font_manager] findfont: score(<Font 'Yu Gothic' (YuGothL.ttc) normal normal 300 normal>) = 10.145\n",
      "[DEBUG@matplotlib.font_manager] findfont: score(<Font 'Bungee' (Bungee-Shade.otf) normal normal 800 normal>) = 10.43\n",
      "[DEBUG@matplotlib.font_manager] findfont: score(<Font 'BolsterBold' (Bolstbo_.ttf) normal normal 7 normal>) = 10.42335\n",
      "[DEBUG@matplotlib.font_manager] findfont: score(<Font 'Lucida Sans Typewriter' (LTYPEO.TTF) oblique normal 400 normal>) = 11.05\n",
      "[DEBUG@matplotlib.font_manager] findfont: score(<Font 'Malgun Gothic' (malgunbd.ttf) normal normal 700 normal>) = 10.335\n",
      "[DEBUG@matplotlib.font_manager] findfont: score(<Font 'SF Movie Poster' (sf movie poster2.ttf) normal normal 400 normal>) = 10.05\n",
      "[DEBUG@matplotlib.font_manager] findfont: score(<Font 'Dubai' (DUBAI-LIGHT.TTF) normal normal 300 normal>) = 10.145\n",
      "[DEBUG@matplotlib.font_manager] findfont: score(<Font 'Thames' (THBI____.ttf) italic normal 700 normal>) = 11.335\n",
      "[DEBUG@matplotlib.font_manager] findfont: score(<Font 'STIX' (STIX-BoldItalic.otf) italic normal 700 normal>) = 11.335\n",
      "[DEBUG@matplotlib.font_manager] findfont: score(<Font 'Niagara Engraved' (NIAGENG.TTF) normal normal 400 normal>) = 10.05\n",
      "[DEBUG@matplotlib.font_manager] findfont: score(<Font 'Consolas' (consolab.ttf) normal normal 700 normal>) = 10.335\n",
      "[DEBUG@matplotlib.font_manager] findfont: score(<Font 'Open Sans' (Open Sans Semibold.ttf) normal normal 600 normal>) = 10.24\n",
      "[DEBUG@matplotlib.font_manager] findfont: score(<Font 'High Tower Text' (HTOWERT.TTF) normal normal 400 normal>) = 10.05\n",
      "[DEBUG@matplotlib.font_manager] findfont: score(<Font 'Bodoni MT' (BOD_R.TTF) normal normal 400 normal>) = 10.05\n",
      "[DEBUG@matplotlib.font_manager] findfont: score(<Font 'Goudy Stout' (GOUDYSTO.TTF) normal normal 400 normal>) = 10.05\n",
      "[DEBUG@matplotlib.font_manager] findfont: score(<Font 'Cracked Johnnie' (cracj___.ttf) normal normal 400 normal>) = 10.05\n",
      "[DEBUG@matplotlib.font_manager] findfont: score(<Font 'Monotype Corsiva' (MTCORSVA.TTF) normal normal 400 normal>) = 10.05\n",
      "[DEBUG@matplotlib.font_manager] findfont: score(<Font 'Latin Modern Math' (latinmodern-math.otf) normal normal 400 normal>) = 10.05\n",
      "[DEBUG@matplotlib.font_manager] findfont: score(<Font 'Century Schoolbook' (SCHLBKB.TTF) normal normal 700 normal>) = 10.335\n",
      "[DEBUG@matplotlib.font_manager] findfont: score(<Font 'Microsoft New Tai Lue' (ntailu.ttf) normal normal 400 normal>) = 10.05\n",
      "[DEBUG@matplotlib.font_manager] findfont: score(<Font 'Martina' (Martina_.ttf) normal normal 5 normal>) = 10.42525\n",
      "[DEBUG@matplotlib.font_manager] findfont: score(<Font 'Rondalo' (RONDALO_.TTF) normal normal 5 normal>) = 10.42525\n",
      "[DEBUG@matplotlib.font_manager] findfont: score(<Font 'Harvest' (HARVEST_.TTF) normal normal 5 normal>) = 10.42525\n",
      "[DEBUG@matplotlib.font_manager] findfont: score(<Font 'Rockwell' (ROCKI.TTF) italic normal 400 normal>) = 11.05\n",
      "[DEBUG@matplotlib.font_manager] findfont: score(<Font 'Jokerman' (JOKERMAN.TTF) normal normal 400 normal>) = 10.05\n",
      "[DEBUG@matplotlib.font_manager] findfont: score(<Font 'Calvin' (CALVIN__.TTF) normal normal 5 normal>) = 10.42525\n",
      "[DEBUG@matplotlib.font_manager] findfont: score(<Font 'Segoe UI' (segoeuil.ttf) normal normal 300 normal>) = 10.145\n",
      "[DEBUG@matplotlib.font_manager] findfont: score(<Font 'MS Reference Specialty' (REFSPCL.TTF) normal normal 400 normal>) = 10.05\n",
      "[DEBUG@matplotlib.font_manager] findfont: score(<Font 'Verdana' (verdana.ttf) normal normal 400 normal>) = 3.6863636363636365\n",
      "[DEBUG@matplotlib.font_manager] findfont: score(<Font 'Leelawadee UI' (LeelUIsl.ttf) normal normal 350 normal>) = 10.0975\n",
      "[DEBUG@matplotlib.font_manager] findfont: score(<Font 'Lucida Sans' (LSANS.TTF) normal normal 400 normal>) = 10.05\n",
      "[DEBUG@matplotlib.font_manager] findfont: score(<Font 'Bungee' (Bungee-Hairline.otf) normal normal 500 normal>) = 10.145\n",
      "[DEBUG@matplotlib.font_manager] findfont: score(<Font 'DejaVu Sans' (DejaVuSans-ExtraLight.ttf) normal normal 200 normal>) = 0.24\n",
      "[DEBUG@matplotlib.font_manager] findfont: score(<Font 'ESSTIXNine' (ESSTIX9_.TTF) normal normal 400 normal>) = 10.05\n",
      "[DEBUG@matplotlib.font_manager] findfont: score(<Font 'Lucida Sans Unicode' (l_10646.ttf) normal normal 400 normal>) = 10.05\n",
      "[DEBUG@matplotlib.font_manager] findfont: score(<Font 'BN Machine' (bnmachine.ttf) normal normal 400 normal>) = 10.05\n",
      "[DEBUG@matplotlib.font_manager] findfont: score(<Font 'Cambria' (cambriai.ttf) italic normal 400 normal>) = 11.05\n",
      "[DEBUG@matplotlib.font_manager] findfont: score(<Font 'Coolsville' (Cools___.ttf) normal normal 5 normal>) = 10.42525\n",
      "[DEBUG@matplotlib.font_manager] findfont: score(<Font 'Kunstler Script' (KUNSTLER.TTF) normal normal 400 normal>) = 10.05\n",
      "[DEBUG@matplotlib.font_manager] findfont: score(<Font 'Algerian' (ALGER.TTF) normal normal 400 normal>) = 10.05\n",
      "[DEBUG@matplotlib.font_manager] findfont: score(<Font 'Freestyle Script' (FREESCPT.TTF) normal normal 400 normal>) = 10.05\n",
      "[DEBUG@matplotlib.font_manager] findfont: score(<Font 'Tw Cen MT Condensed' (TCCM____.TTF) normal normal 400 condensed>) = 10.25\n",
      "[DEBUG@matplotlib.font_manager] findfont: score(<Font 'Rockwell' (ROCK.TTF) normal normal 400 normal>) = 10.05\n",
      "[DEBUG@matplotlib.font_manager] findfont: score(<Font 'Glockenspiel' (Glock___.ttf) normal normal 5 normal>) = 10.42525\n",
      "[DEBUG@matplotlib.font_manager] findfont: score(<Font 'Corbel' (corbel.ttf) normal normal 400 normal>) = 10.05\n",
      "[DEBUG@matplotlib.font_manager] findfont: score(<Font 'Thames' (THBI____.ttf) italic normal 700 normal>) = 11.335\n",
      "[DEBUG@matplotlib.font_manager] findfont: score(<Font 'Borealis' (Borea___.ttf) normal normal 5 normal>) = 10.42525\n"
     ]
    },
    {
     "name": "stderr",
     "output_type": "stream",
     "text": [
      "[DEBUG@matplotlib.font_manager] findfont: score(<Font 'Alien Encounters' (aliee13.ttf) normal normal 400 normal>) = 10.05\n",
      "[DEBUG@matplotlib.font_manager] findfont: score(<Font 'Blackadder ITC' (ITCBLKAD.TTF) normal normal 400 normal>) = 10.05\n",
      "[DEBUG@matplotlib.font_manager] findfont: score(<Font 'Russel Write TT' (Russrite.ttf) normal normal 400 normal>) = 10.05\n",
      "[DEBUG@matplotlib.font_manager] findfont: score(<Font 'Tahoma' (tahomabd.ttf) normal normal 700 normal>) = 10.335\n",
      "[DEBUG@matplotlib.font_manager] findfont: score(<Font 'Maiandra GD' (MAIAN.TTF) normal normal 400 normal>) = 10.05\n",
      "[DEBUG@matplotlib.font_manager] findfont: score(<Font 'ESSTIXFourteen' (ESSTIX14.TTF) normal normal 400 normal>) = 10.05\n",
      "[DEBUG@matplotlib.font_manager] findfont: score(<Font 'Waverly' (Waverly_.ttf) normal normal 5 normal>) = 10.42525\n",
      "[DEBUG@matplotlib.font_manager] findfont: score(<Font 'BN Jinx' (bnjinx.ttf) normal normal 400 normal>) = 10.05\n",
      "[DEBUG@matplotlib.font_manager] findfont: score(<Font 'Garamond' (GARAIT.TTF) italic normal 400 normal>) = 11.05\n",
      "[DEBUG@matplotlib.font_manager] findfont: score(<Font 'Palatino Linotype' (pala.ttf) normal normal 400 normal>) = 10.05\n",
      "[DEBUG@matplotlib.font_manager] findfont: score(<Font 'Times New Roman' (timesbd.ttf) normal normal 700 normal>) = 10.335\n",
      "[DEBUG@matplotlib.font_manager] findfont: score(<Font 'Lucida Console' (lucon.ttf) normal normal 400 normal>) = 10.05\n",
      "[DEBUG@matplotlib.font_manager] findfont: score(<Font 'Tarzan' (Tarzan__.ttf) normal normal 5 normal>) = 10.42525\n",
      "[DEBUG@matplotlib.font_manager] findfont: score(<Font 'Book Antiqua' (ANTQUABI.TTF) italic normal 700 normal>) = 11.335\n",
      "[DEBUG@matplotlib.font_manager] findfont: score(<Font 'Arial' (arialbi.ttf) italic normal 700 normal>) = 7.698636363636363\n",
      "[DEBUG@matplotlib.font_manager] findfont: score(<Font 'Terminator Two' (terminat.ttf) normal normal 5 normal>) = 10.42525\n",
      "[DEBUG@matplotlib.font_manager] findfont: score(<Font 'DejaVu Sans' (DejaVuSansCondensed-BoldOblique.ttf) oblique normal 700 condensed>) = 1.535\n",
      "[DEBUG@matplotlib.font_manager] findfont: score(<Font 'Bungee Layers Rotated' (BungeeLayersRotated-Outline.otf) normal normal 600 normal>) = 10.24\n",
      "[DEBUG@matplotlib.font_manager] findfont: score(<Font 'Magneto' (MAGNETOB.TTF) normal normal 700 normal>) = 10.335\n",
      "[DEBUG@matplotlib.font_manager] findfont: score(<Font 'Segoe UI Emoji' (seguiemj.ttf) normal normal 400 normal>) = 10.05\n",
      "[DEBUG@matplotlib.font_manager] findfont: score(<Font 'Juice ITC' (JUICE___.TTF) normal normal 400 normal>) = 10.05\n",
      "[DEBUG@matplotlib.font_manager] findfont: score(<Font 'Open Sans' (Open Sans Light Italic.ttf) italic normal 300 normal>) = 11.145\n",
      "[DEBUG@matplotlib.font_manager] findfont: score(<Font 'PenultimateLight' (PENULLI_.TTF) normal normal 5 normal>) = 10.42525\n",
      "[DEBUG@matplotlib.font_manager] findfont: score(<Font 'Manorly' (Manorly_.ttf) normal normal 5 normal>) = 10.42525\n",
      "[DEBUG@matplotlib.font_manager] findfont: score(<Font 'Goudy Old Style' (GOUDOSB.TTF) normal normal 700 normal>) = 10.335\n",
      "[DEBUG@matplotlib.font_manager] findfont: score(<Font 'Century Schoolbook' (SCHLBKB.TTF) normal normal 700 normal>) = 10.335\n",
      "[DEBUG@matplotlib.font_manager] findfont: score(<Font 'Microsoft JhengHei' (msjhl.ttc) normal normal 290 normal>) = 10.1545\n",
      "[DEBUG@matplotlib.font_manager] findfont: score(<Font 'Agency FB' (AGENCYB.TTF) normal normal 700 normal>) = 10.335\n",
      "[DEBUG@matplotlib.font_manager] findfont: score(<Font 'ESSTIXTwelve' (ESSTIX12.TTF) normal normal 400 normal>) = 10.05\n",
      "[DEBUG@matplotlib.font_manager] findfont: score(<Font 'Cambria' (cambriaz.ttf) italic normal 700 normal>) = 11.335\n",
      "[DEBUG@matplotlib.font_manager] findfont: score(<Font 'Vivian' (Vivian__.ttf) normal normal 5 normal>) = 10.42525\n",
      "[DEBUG@matplotlib.font_manager] findfont: score(<Font 'Dayton' (DAYTON__.TTF) normal normal 5 normal>) = 10.42525\n",
      "[DEBUG@matplotlib.font_manager] findfont: score(<Font 'French Script MT' (FRSCRIPT.TTF) normal normal 400 normal>) = 10.05\n",
      "[DEBUG@matplotlib.font_manager] findfont: score(<Font 'Splash' (SPLASH__.TTF) normal normal 5 normal>) = 10.42525\n",
      "[DEBUG@matplotlib.font_manager] findfont: score(<Font 'DejaVu Serif' (DejaVuSerif-Italic.ttf) italic normal 400 normal>) = 11.05\n",
      "[DEBUG@matplotlib.font_manager] findfont: score(<Font 'SymbolPi' (SYP_____.ttf) normal normal 400 normal>) = 10.05\n",
      "[DEBUG@matplotlib.font_manager] findfont: score(<Font 'Emmett' (Emmett__.ttf) normal normal 5 normal>) = 10.42525\n",
      "[DEBUG@matplotlib.font_manager] findfont: score(<Font 'ESSTIXFifteen' (ESSTIX15.TTF) normal normal 400 normal>) = 10.05\n",
      "[DEBUG@matplotlib.font_manager] findfont: score(<Font 'Franklin Gothic Heavy' (FRAHVIT.TTF) italic normal 400 normal>) = 11.05\n",
      "[DEBUG@matplotlib.font_manager] findfont: score(<Font 'Balthazar' (BALTH___.TTF) normal normal 5 normal>) = 10.42525\n",
      "[DEBUG@matplotlib.font_manager] findfont: score(<Font 'Franklin Gothic Medium' (framdit.ttf) italic normal 400 normal>) = 11.05\n",
      "[DEBUG@matplotlib.font_manager] findfont: score(<Font 'Haxton Logos TT' (Haxton.ttf) normal normal 400 normal>) = 10.05\n",
      "[DEBUG@matplotlib.font_manager] findfont: score(<Font 'Bodoni MT' (BOD_CB.TTF) normal normal 700 condensed>) = 10.535\n",
      "[DEBUG@matplotlib.font_manager] findfont: score(<Font 'Segoe UI' (segoeuiz.ttf) italic normal 700 normal>) = 11.335\n",
      "[DEBUG@matplotlib.font_manager] findfont: score(<Font 'Ethnocentric' (ethnocen.ttf) normal normal 400 normal>) = 10.05\n",
      "[DEBUG@matplotlib.font_manager] findfont: score(<Font 'Microsoft Sans Serif' (micross.ttf) normal normal 400 normal>) = 10.05\n",
      "[DEBUG@matplotlib.font_manager] findfont: score(<Font 'SimSun-ExtB' (simsunb.ttf) normal normal 400 normal>) = 10.05\n",
      "[DEBUG@matplotlib.font_manager] findfont: score(<Font 'Dubai' (DUBAI-BOLD.TTF) normal normal 700 normal>) = 10.335\n",
      "[DEBUG@matplotlib.font_manager] findfont: score(<Font 'Cambria' (cambriaz.ttf) italic normal 700 normal>) = 11.335\n",
      "[DEBUG@matplotlib.font_manager] findfont: score(<Font 'Microsoft YaHei' (msyhbd.ttc) normal normal 700 normal>) = 10.335\n",
      "[DEBUG@matplotlib.font_manager] findfont: score(<Font 'Material Icons' (Material Icons.ttf) normal normal 400 normal>) = 10.05\n",
      "[DEBUG@matplotlib.font_manager] findfont: score(<Font 'BN Jinx' (bnjinx.ttf) normal normal 400 normal>) = 10.05\n",
      "[DEBUG@matplotlib.font_manager] findfont: score(<Font 'Open Sans' (Open Sans.ttf) normal normal 400 normal>) = 10.05\n",
      "[DEBUG@matplotlib.font_manager] findfont: score(<Font 'Alfredo' (Alfredo_.ttf) normal normal 5 normal>) = 10.42525\n",
      "[DEBUG@matplotlib.font_manager] findfont: score(<Font 'Flubber' (flubber.ttf) normal normal 400 normal>) = 10.05\n",
      "[DEBUG@matplotlib.font_manager] findfont: score(<Font 'Palatino Linotype' (palabi.ttf) italic normal 700 normal>) = 11.335\n",
      "[DEBUG@matplotlib.font_manager] findfont: score(<Font 'MS Reference Specialty' (REFSPCL.TTF) normal normal 400 normal>) = 10.05\n",
      "[DEBUG@matplotlib.font_manager] findfont: score(<Font 'Year supply of fairy cakes' (yearsupplyoffairycakes.ttf) normal normal 400 normal>) = 10.05\n",
      "[DEBUG@matplotlib.font_manager] findfont: score(<Font 'Valken' (VALKEN__.TTF) normal normal 5 normal>) = 10.42525\n",
      "[DEBUG@matplotlib.font_manager] findfont: score(<Font 'Candara' (Candarab.ttf) normal normal 700 normal>) = 10.335\n",
      "[DEBUG@matplotlib.font_manager] findfont: score(<Font 'Corbel' (corbelz.ttf) italic normal 700 normal>) = 11.335\n",
      "[DEBUG@matplotlib.font_manager] findfont: score(<Font 'Segoe Print' (segoepr.ttf) normal normal 400 normal>) = 10.05\n",
      "[DEBUG@matplotlib.font_manager] findfont: score(<Font 'Microsoft PhagsPa' (phagspab.ttf) normal normal 700 normal>) = 10.335\n",
      "[DEBUG@matplotlib.font_manager] findfont: score(<Font 'Lucida Fax' (LFAXD.TTF) normal normal 600 normal>) = 10.24\n",
      "[DEBUG@matplotlib.font_manager] findfont: score(<Font 'Viner Hand ITC' (VINERITC.TTF) normal normal 400 normal>) = 10.05\n",
      "[DEBUG@matplotlib.font_manager] findfont: score(<Font 'Bodoni MT' (BOD_BLAI.TTF) italic normal 900 normal>) = 11.525\n",
      "[DEBUG@matplotlib.font_manager] findfont: score(<Font 'Calibri' (calibrili.ttf) italic normal 300 normal>) = 11.145\n",
      "[DEBUG@matplotlib.font_manager] findfont: score(<Font 'Whimsy TT' (Whimsy.TTF) normal normal 400 normal>) = 10.05\n",
      "[DEBUG@matplotlib.font_manager] findfont: score(<Font 'MV Boli' (mvboli.ttf) normal normal 400 normal>) = 10.05\n"
     ]
    },
    {
     "name": "stderr",
     "output_type": "stream",
     "text": [
      "[DEBUG@matplotlib.font_manager] findfont: score(<Font 'Bauhaus 93' (BAUHS93.TTF) normal normal 400 normal>) = 10.05\n",
      "[DEBUG@matplotlib.font_manager] findfont: score(<Font 'Gabriola' (Gabriola.ttf) normal normal 400 normal>) = 10.05\n",
      "[DEBUG@matplotlib.font_manager] findfont: score(<Font 'Woodcut' (woodcut.ttf) normal normal 5 normal>) = 10.42525\n",
      "[DEBUG@matplotlib.font_manager] findfont: score(<Font 'Bungee Layers' (BungeeLayers-Inline.otf) normal normal 500 normal>) = 10.145\n",
      "[DEBUG@matplotlib.font_manager] findfont: score(<Font 'Leelawadee UI' (LeelawUI.ttf) normal normal 400 normal>) = 10.05\n",
      "[DEBUG@matplotlib.font_manager] findfont: score(<Font 'Stephen' (Stephen_.ttf) normal normal 5 normal>) = 10.42525\n",
      "[DEBUG@matplotlib.font_manager] findfont: score(<Font 'Lucida Sans Typewriter' (LTYPEO.TTF) oblique normal 400 normal>) = 11.05\n",
      "[DEBUG@matplotlib.font_manager] findfont: score(<Font 'XITS Math' (xits-mathbold.otf) normal normal 700 normal>) = 10.335\n",
      "[DEBUG@matplotlib.font_manager] findfont: score(<Font 'Helonia' (HEN_____.ttf) normal normal 400 normal>) = 10.05\n",
      "[DEBUG@matplotlib.font_manager] findfont: score(<Font 'Open Sans' (Open Sans Semibold.ttf) normal normal 600 normal>) = 10.24\n",
      "[DEBUG@matplotlib.font_manager] findfont: score(<Font 'Poor Richard' (POORICH.TTF) normal normal 400 normal>) = 10.05\n",
      "[DEBUG@matplotlib.font_manager] findfont: score(<Font 'ESSTIXThree' (ESSTIX3_.TTF) normal normal 400 normal>) = 10.05\n",
      "[DEBUG@matplotlib.font_manager] findfont: score(<Font 'Roland' (Roland__.ttf) normal normal 5 normal>) = 10.42525\n",
      "[DEBUG@matplotlib.font_manager] findfont: score(<Font 'Sitka Small' (SitkaB.ttc) normal normal 700 normal>) = 10.335\n",
      "[DEBUG@matplotlib.font_manager] findfont: score(<Font 'Javanese Text' (javatext.ttf) normal normal 400 normal>) = 10.05\n",
      "[DEBUG@matplotlib.font_manager] findfont: score(<Font 'Microsoft Tai Le' (taileb.ttf) normal normal 700 normal>) = 10.335\n",
      "[DEBUG@matplotlib.font_manager] findfont: score(<Font 'MS Reference Sans Serif' (REFSAN.TTF) normal normal 400 normal>) = 10.05\n",
      "[DEBUG@matplotlib.font_manager] findfont: score(<Font 'Constantia' (constani.ttf) italic normal 400 normal>) = 11.05\n",
      "[DEBUG@matplotlib.font_manager] findfont: score(<Font 'Perpetua Titling MT' (PERTIBD.TTF) normal normal 700 normal>) = 10.335\n",
      "[DEBUG@matplotlib.font_manager] findfont: score(<Font 'Hand Me Down S (BRK)' (handmeds.ttf) normal normal 400 normal>) = 10.05\n",
      "[DEBUG@matplotlib.font_manager] findfont: score(<Font 'DejaVu Sans' (DejaVuSans-BoldOblique.ttf) oblique normal 700 normal>) = 1.335\n",
      "[DEBUG@matplotlib.font_manager] findfont: score(<Font 'Mycalc' (Mycalc__.ttf) normal normal 5 normal>) = 10.42525\n",
      "[DEBUG@matplotlib.font_manager] findfont: score(<Font 'Edwardian Script ITC' (ITCEDSCR.TTF) normal normal 400 normal>) = 10.05\n",
      "[DEBUG@matplotlib.font_manager] findfont: score(<Font 'Century Schoolbook' (SCHLBKBI.TTF) italic normal 700 normal>) = 11.335\n",
      "[DEBUG@matplotlib.font_manager] findfont: score(<Font 'Blackadder ITC' (ITCBLKAD.TTF) normal normal 400 normal>) = 10.05\n",
      "[DEBUG@matplotlib.font_manager] findfont: score(<Font 'Lucida Sans Typewriter' (LTYPE.TTF) normal normal 400 normal>) = 10.05\n",
      "[DEBUG@matplotlib.font_manager] findfont: score(<Font 'DejaVu Serif' (DejaVuSerif.ttf) normal normal 400 normal>) = 10.05\n",
      "[DEBUG@matplotlib.font_manager] findfont: score(<Font 'Juice ITC' (JUICE___.TTF) normal normal 400 normal>) = 10.05\n",
      "[DEBUG@matplotlib.font_manager] findfont: score(<Font 'Calisto MT' (CALISTI.TTF) italic normal 400 normal>) = 11.05\n",
      "[DEBUG@matplotlib.font_manager] findfont: score(<Font 'Tempus Sans ITC' (TEMPSITC.TTF) normal normal 400 normal>) = 10.05\n",
      "[DEBUG@matplotlib.font_manager] findfont: score(<Font 'Segoe UI' (segoeuii.ttf) italic normal 400 normal>) = 11.05\n",
      "[DEBUG@matplotlib.font_manager] findfont: score(<Font 'Arial' (arialbd.ttf) normal normal 700 normal>) = 6.698636363636363\n",
      "[DEBUG@matplotlib.font_manager] findfont: score(<Font 'DejaVu Sans' (DejaVuSansCondensed-BoldOblique.ttf) oblique normal 700 condensed>) = 1.535\n",
      "[DEBUG@matplotlib.font_manager] findfont: score(<Font 'DejaVu Sans' (DejaVuSans-ExtraLight.ttf) normal normal 200 normal>) = 0.24\n",
      "[DEBUG@matplotlib.font_manager] findfont: score(<Font 'MaplePi' (MP______.ttf) normal normal 400 normal>) = 10.05\n",
      "[DEBUG@matplotlib.font_manager] findfont: score(<Font 'Bungee Layers Rotated' (BungeeLayersRotated-Outline.otf) normal normal 600 normal>) = 10.24\n",
      "[DEBUG@matplotlib.font_manager] findfont: score(<Font 'Arial' (ariblk.ttf) normal normal 900 normal>) = 6.888636363636364\n",
      "[DEBUG@matplotlib.font_manager] findfont: score(<Font 'Lucida Sans Typewriter' (LTYPEBO.TTF) oblique normal 600 normal>) = 11.24\n",
      "[DEBUG@matplotlib.font_manager] findfont: score(<Font 'Pristina' (PRISTINA.TTF) normal normal 400 normal>) = 10.05\n",
      "[DEBUG@matplotlib.font_manager] findfont: score(<Font 'Rockwell' (ROCKBI.TTF) italic normal 700 normal>) = 11.335\n",
      "[DEBUG@matplotlib.font_manager] findfont: score(<Font 'Comic Sans MS' (comici.ttf) italic normal 400 normal>) = 11.05\n",
      "[DEBUG@matplotlib.font_manager] findfont: score(<Font 'Eras Bold ITC' (ERASBD.TTF) normal normal 400 normal>) = 10.05\n",
      "[DEBUG@matplotlib.font_manager] findfont: score(<Font 'Bookman Old Style' (BOOKOSBI.TTF) italic normal 600 normal>) = 11.24\n",
      "[DEBUG@matplotlib.font_manager] findfont: score(<Font 'Bungee Layers Rotated' (BungeeLayersRotated-Regular.otf) normal normal 400 normal>) = 10.05\n",
      "[DEBUG@matplotlib.font_manager] findfont: score(<Font 'Microsoft JhengHei' (msjhbd.ttc) normal normal 700 normal>) = 10.335\n",
      "[DEBUG@matplotlib.font_manager] findfont: score(<Font 'ESSTIXSixteen' (ESSTIX16.TTF) normal normal 400 normal>) = 10.05\n",
      "[DEBUG@matplotlib.font_manager] findfont: score(<Font 'Latin Modern Math' (latinmodern-math.otf) normal normal 400 normal>) = 10.05\n",
      "[DEBUG@matplotlib.font_manager] findfont: score(<Font 'Nirmala UI' (NirmalaS.ttf) normal normal 350 normal>) = 10.0975\n",
      "[DEBUG@matplotlib.font_manager] findfont: score(<Font 'Consolas' (consola.ttf) normal normal 400 normal>) = 10.05\n",
      "[DEBUG@matplotlib.font_manager] findfont: score(<Font 'Microsoft New Tai Lue' (ntailub.ttf) normal normal 700 normal>) = 10.335\n",
      "[DEBUG@matplotlib.font_manager] findfont: score(<Font 'DejaVu Sans' (DejaVuSans.ttf) normal normal 400 normal>) = 0.05\n",
      "[DEBUG@matplotlib.font_manager] findfont: score(<Font 'Calisto MT' (CALIST.TTF) normal normal 400 normal>) = 10.05\n",
      "[DEBUG@matplotlib.font_manager] findfont: score(<Font 'Goudy Old Style' (GOUDOSB.TTF) normal normal 700 normal>) = 10.335\n",
      "[DEBUG@matplotlib.font_manager] findfont: score(<Font 'Toledo' (Toledo__.ttf) normal normal 5 normal>) = 10.42525\n",
      "[DEBUG@matplotlib.font_manager] findfont: score(<Font 'Candara' (Candara.ttf) normal normal 400 normal>) = 10.05\n",
      "[DEBUG@matplotlib.font_manager] findfont: score(<Font 'SimSun-ExtB' (simsunb.ttf) normal normal 400 normal>) = 10.05\n",
      "[DEBUG@matplotlib.font_manager] findfont: score(<Font 'LittleLordFontleroy' (littlelo.ttf) normal normal 400 normal>) = 10.05\n",
      "[DEBUG@matplotlib.font_manager] findfont: score(<Font 'Georgia' (georgia.ttf) normal normal 400 normal>) = 10.05\n",
      "[DEBUG@matplotlib.font_manager] findfont: score(<Font 'Consolas' (consolab.ttf) normal normal 700 normal>) = 10.335\n",
      "[DEBUG@matplotlib.font_manager] findfont: score(<Font 'ESSTIXSixteen' (ESSTIX16.TTF) normal normal 400 normal>) = 10.05\n",
      "[DEBUG@matplotlib.font_manager] findfont: score(<Font 'Garamond' (GARABD.TTF) normal normal 700 normal>) = 10.335\n",
      "[DEBUG@matplotlib.font_manager] findfont: score(<Font 'Hollywood Hills' (hollh___.ttf) normal normal 400 normal>) = 10.05\n",
      "[DEBUG@matplotlib.font_manager] findfont: score(<Font 'Segoe Script' (segoescb.ttf) normal normal 700 normal>) = 10.335\n",
      "[DEBUG@matplotlib.font_manager] findfont: score(<Font 'Trebuchet MS' (trebucbi.ttf) italic normal 700 normal>) = 11.335\n",
      "[DEBUG@matplotlib.font_manager] findfont: score(<Font 'ESSTIXOne' (ESSTIX1_.TTF) normal normal 400 normal>) = 10.05\n",
      "[DEBUG@matplotlib.font_manager] findfont: score(<Font 'Roland' (Roland__.ttf) normal normal 5 normal>) = 10.42525\n",
      "[DEBUG@matplotlib.font_manager] findfont: score(<Font 'Bungee' (Bungee-Outline.otf) normal normal 700 normal>) = 10.335\n",
      "[DEBUG@matplotlib.font_manager] findfont: score(<Font 'Arial' (arial.ttf) normal normal 400 normal>) = 6.413636363636363\n"
     ]
    },
    {
     "name": "stderr",
     "output_type": "stream",
     "text": [
      "[DEBUG@matplotlib.font_manager] findfont: score(<Font 'Tw Cen MT Condensed' (TCCM____.TTF) normal normal 400 condensed>) = 10.25\n",
      "[DEBUG@matplotlib.font_manager] findfont: score(<Font 'Elephant' (ELEPHNT.TTF) normal normal 400 normal>) = 10.05\n",
      "[DEBUG@matplotlib.font_manager] findfont: score(<Font 'SymbolPi' (SYP_____.ttf) normal normal 400 normal>) = 10.05\n",
      "[DEBUG@matplotlib.font_manager] findfont: score(<Font 'Constantia' (constanz.ttf) italic normal 700 normal>) = 11.335\n",
      "[DEBUG@matplotlib.font_manager] findfont: score(<Font 'Dubai' (DUBAI-REGULAR.TTF) normal normal 400 normal>) = 10.05\n",
      "[DEBUG@matplotlib.font_manager] findfont: score(<Font 'Consolas' (consolai.ttf) italic normal 400 normal>) = 11.05\n",
      "[DEBUG@matplotlib.font_manager] findfont: score(<Font 'Brandish' (Brand___.ttf) normal normal 5 normal>) = 10.42525\n",
      "[DEBUG@matplotlib.font_manager] findfont: score(<Font 'Trebuchet MS' (trebucbd.ttf) normal normal 700 normal>) = 10.335\n",
      "[DEBUG@matplotlib.font_manager] findfont: score(<Font 'Wingdings' (wingding.ttf) normal normal 400 normal>) = 10.05\n",
      "[DEBUG@matplotlib.font_manager] findfont: score(<Font 'Ravie' (RAVIE.TTF) normal normal 400 normal>) = 10.05\n",
      "[DEBUG@matplotlib.font_manager] findfont: score(<Font 'STIX' (STIX-Bold.otf) normal normal 700 normal>) = 10.335\n",
      "[DEBUG@matplotlib.font_manager] findfont: score(<Font 'Century Gothic' (GOTHICI.TTF) italic normal 400 normal>) = 11.05\n",
      "[DEBUG@matplotlib.font_manager] findfont: score(<Font 'Segoe UI' (seguisb.ttf) normal normal 600 normal>) = 10.24\n",
      "[DEBUG@matplotlib.font_manager] findfont: score(<Font 'Open Sans' (Open Sans Bold.ttf) normal normal 700 normal>) = 10.335\n",
      "[DEBUG@matplotlib.font_manager] findfont: score(<Font 'ESSTIXEight' (ESSTIX8_.TTF) normal normal 400 normal>) = 10.05\n",
      "[DEBUG@matplotlib.font_manager] findfont: score(<Font 'Dominican' (DOMIN___.TTF) normal normal 5 normal>) = 10.42525\n",
      "[DEBUG@matplotlib.font_manager] findfont: score(<Font 'Open Sans' (Open Sans Extrabold.ttf) normal normal 800 normal>) = 10.43\n",
      "[DEBUG@matplotlib.font_manager] findfont: score(<Font 'Moonbeam' (MOONB___.TTF) normal normal 5 normal>) = 10.42525\n",
      "[DEBUG@matplotlib.font_manager] findfont: score(<Font 'Tahoma' (tahoma.ttf) normal normal 400 normal>) = 10.05\n",
      "[DEBUG@matplotlib.font_manager] findfont: score(<Font 'Palatino Linotype' (palai.ttf) italic normal 400 normal>) = 11.05\n",
      "[DEBUG@matplotlib.font_manager] findfont: score(<Font 'Arial Rounded MT Bold' (ARLRDBD.TTF) normal normal 400 normal>) = 10.05\n",
      "[DEBUG@matplotlib.font_manager] findfont: score(<Font 'Microsoft YaHei' (msyh.ttc) normal normal 400 normal>) = 10.05\n",
      "[DEBUG@matplotlib.font_manager] findfont: score(<Font 'Stephen' (Stephen_.ttf) normal normal 5 normal>) = 10.42525\n",
      "[DEBUG@matplotlib.font_manager] findfont: score(<Font 'Modern No. 20' (MOD20.TTF) normal normal 400 normal>) = 10.05\n",
      "[DEBUG@matplotlib.font_manager] findfont: score(<Font 'Rage Italic' (RAGE.TTF) italic normal 400 normal>) = 11.05\n",
      "[DEBUG@matplotlib.font_manager] findfont: score(<Font 'DejaVu Serif' (DejaVuSerif-Bold.ttf) normal normal 700 normal>) = 10.335\n",
      "[DEBUG@matplotlib.font_manager] findfont: score(<Font 'Papyrus' (PAPYRUS.TTF) normal normal 400 normal>) = 10.05\n",
      "[DEBUG@matplotlib.font_manager] findfont: score(<Font 'LittleLordFontleroy' (littlelo.ttf) normal normal 400 normal>) = 10.05\n",
      "[DEBUG@matplotlib.font_manager] findfont: score(<Font 'DejaVu Sans' (DejaVuSansCondensed-Bold.ttf) normal normal 700 condensed>) = 0.5349999999999999\n",
      "[DEBUG@matplotlib.font_manager] findfont: score(<Font 'Tw Cen MT' (TCM_____.TTF) normal normal 400 normal>) = 10.05\n",
      "[DEBUG@matplotlib.font_manager] findfont: score(<Font 'Bookman Old Style' (BOOKOS.TTF) normal normal 300 normal>) = 10.145\n",
      "[DEBUG@matplotlib.font_manager] findfont: score(<Font 'Californian FB' (CALIFI.TTF) italic normal 400 normal>) = 11.05\n",
      "[DEBUG@matplotlib.font_manager] findfont: score(<Font 'Microsoft Himalaya' (himalaya.ttf) normal normal 400 normal>) = 10.05\n",
      "[DEBUG@matplotlib.font_manager] findfont: score(<Font 'Courant' (CON_____.ttf) normal normal 400 normal>) = 10.05\n",
      "[DEBUG@matplotlib.font_manager] findfont: score(<Font 'ESSTIXSeventeen' (ESSTIX17.TTF) normal normal 400 normal>) = 10.05\n",
      "[DEBUG@matplotlib.font_manager] findfont: score(<Font 'Agency FB' (AGENCYR.TTF) normal normal 400 normal>) = 10.05\n",
      "[DEBUG@matplotlib.font_manager] findfont: score(<Font 'Verdana' (verdana.ttf) normal normal 400 normal>) = 3.6863636363636365\n",
      "[DEBUG@matplotlib.font_manager] findfont: score(<Font 'Bodoni MT' (BOD_I.TTF) italic normal 400 normal>) = 11.05\n",
      "[DEBUG@matplotlib.font_manager] findfont: score(<Font 'Bastion' (BASTION_.TTF) normal normal 5 normal>) = 10.42525\n",
      "[DEBUG@matplotlib.font_manager] findfont: score(<Font 'Hollywood Hills' (hollh___.ttf) normal normal 400 normal>) = 10.05\n",
      "[DEBUG@matplotlib.font_manager] findfont: score(<Font 'Bodoni MT' (BOD_BI.TTF) italic normal 700 normal>) = 11.335\n",
      "[DEBUG@matplotlib.font_manager] findfont: score(<Font 'ESSTIXFive' (ESSTIX5_.TTF) normal normal 400 normal>) = 10.05\n",
      "[DEBUG@matplotlib.font_manager] findfont: score(<Font 'Bungee' (Bungee-Inline.otf) normal normal 600 normal>) = 10.24\n",
      "[DEBUG@matplotlib.font_manager] findfont: score(<Font 'Gill Sans MT Condensed' (GILC____.TTF) normal normal 400 condensed>) = 10.25\n",
      "[DEBUG@matplotlib.font_manager] findfont: score(<Font 'Candara' (Candarali.ttf) italic normal 400 normal>) = 11.05\n",
      "[DEBUG@matplotlib.font_manager] findfont: score(<Font 'Clarendon' (CLARE___.TTF) normal normal 5 normal>) = 10.42525\n",
      "[DEBUG@matplotlib.font_manager] findfont: score(<Font 'Franklin Gothic Heavy' (FRAHV.TTF) normal normal 400 normal>) = 10.05\n",
      "[DEBUG@matplotlib.font_manager] findfont: score(<Font 'Times New Roman' (times.ttf) normal normal 400 normal>) = 10.05\n",
      "[DEBUG@matplotlib.font_manager] findfont: score(<Font 'Colonna MT' (COLONNA.TTF) normal normal 400 normal>) = 10.05\n",
      "[DEBUG@matplotlib.font_manager] findfont: score(<Font 'ESSTIXTen' (ESSTIX10.TTF) normal normal 400 normal>) = 10.05\n",
      "[DEBUG@matplotlib.font_manager] findfont: score(<Font 'Maiandra GD' (MAIAN.TTF) normal normal 400 normal>) = 10.05\n",
      "[DEBUG@matplotlib.font_manager] findfont: score(<Font 'Segoe UI Symbol' (seguisym.ttf) normal normal 400 normal>) = 10.05\n",
      "[DEBUG@matplotlib.font_manager] findfont: score(<Font 'Perpetua' (PERB____.TTF) normal normal 700 normal>) = 10.335\n",
      "[DEBUG@matplotlib.font_manager] findfont: score(<Font 'DejaVu Sans' (DejaVuSansCondensed-Bold.ttf) normal normal 700 condensed>) = 0.5349999999999999\n",
      "[DEBUG@matplotlib.font_manager] findfont: score(<Font 'Snap ITC' (SNAP____.TTF) normal normal 400 normal>) = 10.05\n",
      "[DEBUG@matplotlib.font_manager] findfont: score(<Font 'MelodBold' (Melodbo_.ttf) normal normal 7 normal>) = 10.42335\n",
      "[DEBUG@matplotlib.font_manager] findfont: score(<Font 'SimSun' (simsun.ttc) normal normal 400 normal>) = 10.05\n",
      "[DEBUG@matplotlib.font_manager] findfont: score(<Font 'Trebuchet MS' (trebucit.ttf) italic normal 400 normal>) = 11.05\n",
      "[DEBUG@matplotlib.font_manager] findfont: score(<Font 'Bell MT' (BELLI.TTF) italic normal 400 normal>) = 11.05\n",
      "[DEBUG@matplotlib.font_manager] findfont: score(<Font 'Harrington' (HARNGTON.TTF) normal normal 400 normal>) = 10.05\n",
      "[DEBUG@matplotlib.font_manager] findfont: score(<Font 'Georgia' (georgiab.ttf) normal normal 700 normal>) = 10.335\n",
      "[DEBUG@matplotlib.font_manager] findfont: score(<Font 'Cambria' (cambria.ttc) normal normal 400 normal>) = 10.05\n",
      "[DEBUG@matplotlib.font_manager] findfont: score(<Font 'Coolsville' (Cools___.ttf) normal normal 5 normal>) = 10.42525\n",
      "[DEBUG@matplotlib.font_manager] findfont: score(<Font 'ESSTIXEleven' (ESSTIX11.TTF) normal normal 400 normal>) = 10.05\n",
      "[DEBUG@matplotlib.font_manager] findfont: score(<Font 'Gill Sans MT' (GILB____.TTF) normal normal 700 normal>) = 10.335\n",
      "[DEBUG@matplotlib.font_manager] findfont: score(<Font 'Candara' (Candara.ttf) normal normal 400 normal>) = 10.05\n",
      "[DEBUG@matplotlib.font_manager] findfont: score(<Font 'MingLiU-ExtB' (mingliub.ttc) normal normal 400 normal>) = 10.05\n",
      "[DEBUG@matplotlib.font_manager] findfont: score(<Font 'Harlow Solid Italic' (HARLOWSI.TTF) italic normal 400 normal>) = 11.05\n",
      "[DEBUG@matplotlib.font_manager] findfont: score(<Font 'Gill Sans MT' (GILBI___.TTF) italic normal 700 normal>) = 11.335\n"
     ]
    },
    {
     "name": "stderr",
     "output_type": "stream",
     "text": [
      "[DEBUG@matplotlib.font_manager] findfont: score(<Font 'DejaVu Sans Mono' (DejaVuSansMono.ttf) normal normal 400 normal>) = 10.05\n",
      "[DEBUG@matplotlib.font_manager] findfont: score(<Font 'Lucida Bright' (LBRITED.TTF) normal normal 600 normal>) = 10.24\n",
      "[DEBUG@matplotlib.font_manager] findfont: score(<Font 'Georgia' (georgiab.ttf) normal normal 700 normal>) = 10.335\n",
      "[DEBUG@matplotlib.font_manager] findfont: score(<Font 'Gigi' (GIGI.TTF) normal normal 400 normal>) = 10.05\n",
      "[DEBUG@matplotlib.font_manager] findfont: score(<Font 'Verdana' (verdanab.ttf) normal normal 700 normal>) = 3.9713636363636367\n",
      "[DEBUG@matplotlib.font_manager] findfont: score(<Font 'Microsoft Yi Baiti' (msyi.ttf) normal normal 400 normal>) = 10.05\n",
      "[DEBUG@matplotlib.font_manager] findfont: score(<Font 'Microsoft PhagsPa' (phagspab.ttf) normal normal 700 normal>) = 10.335\n",
      "[DEBUG@matplotlib.font_manager] findfont: score(<Font 'DejaVu Sans' (DejaVuSansCondensed-Oblique.ttf) oblique normal 400 condensed>) = 1.25\n",
      "[DEBUG@matplotlib.font_manager] findfont: score(<Font 'Agency FB' (AGENCYB.TTF) normal normal 700 normal>) = 10.335\n",
      "[DEBUG@matplotlib.font_manager] findfont: score(<Font 'Curlz MT' (CURLZ___.TTF) normal normal 400 normal>) = 10.05\n",
      "[DEBUG@matplotlib.font_manager] findfont: score(<Font 'Bradley Hand ITC' (BRADHITC.TTF) normal normal 400 normal>) = 10.05\n",
      "[DEBUG@matplotlib.font_manager] findfont: score(<Font 'Brandish' (Brand___.ttf) normal normal 5 normal>) = 10.42525\n",
      "[DEBUG@matplotlib.font_manager] findfont: score(<Font 'Imprint MT Shadow' (IMPRISHA.TTF) normal normal 400 normal>) = 10.05\n",
      "[DEBUG@matplotlib.font_manager] findfont: score(<Font 'Perpetua' (PERI____.TTF) italic normal 400 normal>) = 11.05\n",
      "[DEBUG@matplotlib.font_manager] findfont: score(<Font 'Perpetua' (PER_____.TTF) normal normal 400 normal>) = 10.05\n",
      "[DEBUG@matplotlib.font_manager] findfont: score(<Font 'Parry Hotter' (parryhotter.ttf) normal normal 400 normal>) = 10.05\n",
      "[DEBUG@matplotlib.font_manager] findfont: score(<Font 'Century Schoolbook' (CENSCBK.TTF) normal normal 400 normal>) = 10.05\n",
      "[DEBUG@matplotlib.font_manager] findfont: score(<Font 'Helonia' (HEO_____.ttf) italic normal 400 normal>) = 11.05\n",
      "[DEBUG@matplotlib.font_manager] findfont: score(<Font 'Javanese Text' (javatext.ttf) normal normal 400 normal>) = 10.05\n",
      "[DEBUG@matplotlib.font_manager] findfont: score(<Font 'Archivo Narrow' (Archivo Narrow Regular.ttf) normal normal 400 condensed>) = 10.25\n",
      "[DEBUG@matplotlib.font_manager] findfont: score(<Font 'Dayton' (DAYTON__.TTF) normal normal 5 normal>) = 10.42525\n",
      "[DEBUG@matplotlib.font_manager] findfont: score(<Font 'Bungee Layers' (BungeeLayers-Outline.otf) normal normal 600 normal>) = 10.24\n",
      "[DEBUG@matplotlib.font_manager] findfont: score(<Font 'Induction' (inductio.ttf) normal normal 400 normal>) = 10.05\n",
      "[DEBUG@matplotlib.font_manager] findfont: score(<Font 'Candara' (Candarai.ttf) italic normal 400 normal>) = 11.05\n",
      "[DEBUG@matplotlib.font_manager] findfont: score(<Font 'Trebuchet MS' (trebuc.ttf) normal normal 400 normal>) = 10.05\n",
      "[DEBUG@matplotlib.font_manager] findfont: score(<Font 'Lucida Sans' (LSANSD.TTF) normal normal 600 normal>) = 10.24\n",
      "[DEBUG@matplotlib.font_manager] findfont: score(<Font 'Asimov' (asimov.ttf) normal normal 400 normal>) = 10.05\n",
      "[DEBUG@matplotlib.font_manager] findfont: score(<Font 'Malgun Gothic' (malgunsl.ttf) normal normal 300 normal>) = 10.145\n",
      "[DEBUG@matplotlib.font_manager] findfont: score(<Font 'Open Sans' (Open Sans Italic.ttf) italic normal 400 normal>) = 11.05\n",
      "[DEBUG@matplotlib.font_manager] findfont: score(<Font 'Tw Cen MT Condensed' (TCCB____.TTF) normal normal 700 condensed>) = 10.535\n",
      "[DEBUG@matplotlib.font_manager] findfont: score(<Font 'Vivian' (Vivian__.ttf) normal normal 5 normal>) = 10.42525\n",
      "[DEBUG@matplotlib.font_manager] findfont: score(<Font 'Ebrima' (ebrima.ttf) normal normal 400 normal>) = 10.05\n",
      "[DEBUG@matplotlib.font_manager] findfont: score(<Font 'Webdings' (webdings.ttf) normal normal 400 normal>) = 10.05\n",
      "[DEBUG@matplotlib.font_manager] findfont: score(<Font 'Open Sans' (Open Sans.ttf) normal normal 400 normal>) = 10.05\n",
      "[DEBUG@matplotlib.font_manager] findfont: score(<Font 'Tw Cen MT' (TCMI____.TTF) italic normal 400 normal>) = 11.05\n",
      "[DEBUG@matplotlib.font_manager] findfont: score(<Font 'Bungee Layers' (BungeeLayers-Inline.otf) normal normal 500 normal>) = 10.145\n",
      "[DEBUG@matplotlib.font_manager] findfont: score(<Font 'Yu Gothic' (YuGothB.ttc) normal normal 700 normal>) = 10.335\n",
      "[DEBUG@matplotlib.font_manager] findfont: score(<Font 'Bodoni MT' (BOD_I.TTF) italic normal 400 normal>) = 11.05\n",
      "[DEBUG@matplotlib.font_manager] findfont: score(<Font 'Calligraphic' (CALLI___.TTF) normal normal 5 normal>) = 10.42525\n",
      "[DEBUG@matplotlib.font_manager] findfont: score(<Font 'Calibri' (calibrili.ttf) italic normal 300 normal>) = 11.145\n",
      "[DEBUG@matplotlib.font_manager] findfont: score(<Font 'Eras Demi ITC' (ERASDEMI.TTF) normal normal 400 normal>) = 10.05\n",
      "[DEBUG@matplotlib.font_manager] findfont: score(<Font 'Century Gothic' (GOTHICI.TTF) italic normal 400 normal>) = 11.05\n",
      "[DEBUG@matplotlib.font_manager] findfont: score(<Font 'Ravie' (RAVIE.TTF) normal normal 400 normal>) = 10.05\n",
      "[DEBUG@matplotlib.font_manager] findfont: score(<Font 'Bobcat' (bobcat.ttf) normal normal 400 normal>) = 10.05\n",
      "[DEBUG@matplotlib.font_manager] findfont: score(<Font 'XITS Math' (xits-mathbold.otf) normal normal 700 normal>) = 10.335\n",
      "[DEBUG@matplotlib.font_manager] findfont: score(<Font 'Latin Modern Roman' (lmroman12-regular.otf) normal normal 400 normal>) = 10.05\n",
      "[DEBUG@matplotlib.font_manager] findfont: score(<Font 'Geotype TT' (Geotype.TTF) normal normal 400 normal>) = 10.05\n",
      "[DEBUG@matplotlib.font_manager] findfont: score(<Font 'Tempus Sans ITC' (TEMPSITC.TTF) normal normal 400 normal>) = 10.05\n",
      "[DEBUG@matplotlib.font_manager] findfont: score(<Font 'Papyrus' (PAPYRUS.TTF) normal normal 400 normal>) = 10.05\n",
      "[DEBUG@matplotlib.font_manager] findfont: score(<Font 'Corbel' (corbelb.ttf) normal normal 700 normal>) = 10.335\n",
      "[DEBUG@matplotlib.font_manager] findfont: score(<Font 'Bungee' (Bungee-Regular.otf) normal normal 400 normal>) = 10.05\n",
      "[DEBUG@matplotlib.font_manager] findfont: score(<Font 'MV Boli' (mvboli.ttf) normal normal 400 normal>) = 10.05\n",
      "[DEBUG@matplotlib.font_manager] findfont: score(<Font 'Verdana' (verdanab.ttf) normal normal 700 normal>) = 3.9713636363636367\n",
      "[DEBUG@matplotlib.font_manager] findfont: score(<Font 'Segoe UI' (seguili.ttf) italic normal 300 normal>) = 11.145\n",
      "[DEBUG@matplotlib.font_manager] findfont: score(<Font 'Franklin Gothic Medium Cond' (FRAMDCN.TTF) normal normal 400 condensed>) = 10.25\n",
      "[DEBUG@matplotlib.font_manager] findfont: score(<Font 'Stencil' (STENCIL.TTF) normal normal 400 normal>) = 10.05\n",
      "[DEBUG@matplotlib.font_manager] findfont: score(<Font 'Good Times' (goodtime.ttf) normal normal 400 normal>) = 10.05\n",
      "[DEBUG@matplotlib.font_manager] findfont: score(<Font 'MS Reference Sans Serif' (REFSAN.TTF) normal normal 400 normal>) = 10.05\n",
      "[DEBUG@matplotlib.font_manager] findfont: score(<Font 'Baby Kruffy' (babyk___.ttf) normal normal 400 normal>) = 10.05\n",
      "[DEBUG@matplotlib.font_manager] findfont: score(<Font 'Parchment' (PARCHM.TTF) normal normal 400 normal>) = 10.05\n",
      "[DEBUG@matplotlib.font_manager] findfont: score(<Font 'Bungee Layers Rotated' (BungeeLayersRotated-Shade.otf) normal normal 700 normal>) = 10.335\n",
      "[DEBUG@matplotlib.font_manager] findfont: score(<Font 'Gigi' (GIGI.TTF) normal normal 400 normal>) = 10.05\n",
      "[DEBUG@matplotlib.font_manager] findfont: score(<Font 'LetterOMatic!' (ltromatic.ttf) normal normal 400 normal>) = 10.05\n",
      "[DEBUG@matplotlib.font_manager] findfont: score(<Font 'Bell MT' (BELLI.TTF) italic normal 400 normal>) = 11.05\n",
      "[DEBUG@matplotlib.font_manager] findfont: score(<Font 'OpineHeavy' (Opinehe_.ttf) normal normal 5 normal>) = 10.42525\n",
      "[DEBUG@matplotlib.font_manager] findfont: Matching sans\\-serif:style=normal:variant=normal:weight=normal:stretch=normal:size=10.0 to DejaVu Sans ('C:\\\\Users\\\\SMRobot\\\\anaconda3\\\\lib\\\\site-packages\\\\matplotlib\\\\mpl-data\\\\fonts\\\\ttf\\\\DejaVuSans.ttf') with score of 0.050000.\n"
     ]
    },
    {
     "data": {
      "image/png": "[encoded data removed]",
      "text/plain": [
       "<Figure size 432x288 with 1 Axes>"
      ]
     },
     "metadata": {
      "needs_background": "light"
     },
     "output_type": "display_data"
    }
   ],
   "source": [
    "if D1:\n",
    "    plt.scatter(x_train[:,0], y_train);\n",
    "    plt.scatter(x_validation[:,0], y_validation);\n",
    "    plt.scatter(x_test[:,0], y_test);\n",
    "else:\n",
    "    plt.scatter(x_train[:,1], y_train);\n",
    "    plt.scatter(x_validation[:,1], y_validation);\n",
    "    plt.scatter(x_test[:,1], y_test);\n",
    "plt.show()"
   ]
  },
  {
   "cell_type": "code",
   "execution_count": 15,
   "metadata": {
    "id": "zac2HHNlgbpm"
   },
   "outputs": [],
   "source": [
    "# convert from nparray to Var\n",
    "def nparray_to_Var(x):\n",
    "  if x.ndim==1:\n",
    "    y = [[Var(float(x[i]))] for i in range(x.shape[0])] # always work with list of list\n",
    "  else:\n",
    "    y = [[Var(float(x[i,j])) for j in range(x.shape[1])] for i in range(x.shape[0])]\n",
    "  return y\n",
    "   \n",
    "x_train = nparray_to_Var(x_train)\n",
    "y_train = nparray_to_Var(y_train)\n",
    "x_validation = nparray_to_Var(x_validation)\n",
    "y_validation = nparray_to_Var(y_validation)\n",
    "x_test = nparray_to_Var(x_test)\n",
    "y_test = nparray_to_Var(y_test)\n"
   ]
  },
  {
   "cell_type": "markdown",
   "metadata": {
    "id": "VbjrqcpVFtGe"
   },
   "source": [
    "# Defining and initializing the network\n",
    "\n",
    "The steps to create a feed forward neural network are the following:\n",
    "\n",
    "1. **Number of hidden layer and hidden units**. We have to define the number of hidden units in each layer. The number of features in X and the output dimensionality (the size of Y) are given but the numbers in between are set by the researcher. Remember that for each unit in each layer beside in the input has a bias term.\n",
    "2. **Activation functions** for each hidden layer. Each hidden layer in your list must have an activation function (it can also be the linear activation which is equivalent to identity function). The power of neural networks comes from non-linear activation functions that learn representations (features) from the data allowing us to learn from it. \n",
    "3. **Parameter initialization**. We will initialize the weights to have random values. This is done in practice by drawing pseudo random numbers from a Gaussian or uniform distribution. It turns out that for deeper models we have to be careful about how we scale the random numbers. This will be the topic of the exercise below. For now we will just use unit variance Gaussians.  \n",
    "\n",
    "In order to make life easier for ourselves we define a DenseLayer class that takes care of initialization and the forward pass. We can also extend it later with print and advanced initialization capabilities. For the latter we have introduced a Initializer class.\n",
    "\n",
    "Note that we use Sequence in the code below. A Sequence is an ordered list. This means the order we insert and access items are the same."
   ]
  },
  {
   "cell_type": "code",
   "execution_count": 16,
   "metadata": {
    "id": "ij_ieRsAt7Xt"
   },
   "outputs": [],
   "source": [
    "class Initializer:\n",
    "\n",
    "  def init_weights(self, n_in, n_out):\n",
    "    raise NotImplementedError\n",
    "\n",
    "  def init_bias(self, n_out):\n",
    "    raise NotImplementedError"
   ]
  },
  {
   "cell_type": "code",
   "execution_count": 17,
   "metadata": {
    "id": "eb18N5phuIha"
   },
   "outputs": [],
   "source": [
    "import random\n",
    "\n",
    "class NormalInitializer(Initializer):\n",
    "\n",
    "  def __init__(self, mean=0, std=0.1):\n",
    "    self.mean = mean\n",
    "    self.std = std\n",
    "\n",
    "  def init_weights(self, n_in, n_out):\n",
    "    return [[Var(random.gauss(self.mean, self.std)) for _ in range(n_out)] for _ in range(n_in)]\n",
    "\n",
    "  def init_bias(self, n_out):\n",
    "    return [Var(0.0) for _ in range(n_out)]\n",
    "\n",
    "class ConstantInitializer(Initializer):\n",
    "\n",
    "  def __init__(self, weight=1.0, bias=0.0):\n",
    "    self.weight = weight\n",
    "    self.bias = bias\n",
    "\n",
    "  def init_weights(self, n_in, n_out):\n",
    "    return [[Var(self.weight) for _ in range(n_out)] for _ in range(n_in)]\n",
    "\n",
    "  def init_bias(self, n_out):\n",
    "    return [Var(self.bias) for _ in range(n_out)]"
   ]
  },
  {
   "cell_type": "code",
   "execution_count": 39,
   "metadata": {
    "id": "jOLYGnZKuM6W"
   },
   "outputs": [],
   "source": [
    "from typing import Sequence\n",
    "\n",
    "class DenseLayer:\n",
    "    def __init__(self, n_in: int, n_out: int, act_fn, initializer = NormalInitializer()):\n",
    "        self.weights = initializer.init_weights(n_in, n_out)\n",
    "        self.bias = initializer.init_bias(n_out)\n",
    "        self.act_fn = act_fn\n",
    "        \n",
    "    def __repr__(self):    \n",
    "        return 'Weights: ' + repr(self.weights) + ' Biases: ' + repr(self.bias) + ' layer: ' + \n",
    "\n",
    "    def parameters(self) -> Sequence[Var]:\n",
    "      params = []\n",
    "      for r in self.weights:\n",
    "        params += r\n",
    "\n",
    "      return params + self.bias\n",
    "\n",
    "    def forward(self, single_input: Sequence[Var]) -> Sequence[Var]:\n",
    "        # self.weights is a matrix with dimension n_in x n_out. We check that the dimensionality of the input \n",
    "        # to the current layer matches the number of nodes in the current layer\n",
    "        assert len(self.weights) == len(single_input), \"weights and single_input must match in first dimension\"\n",
    "        weights = self.weights\n",
    "        out = []\n",
    "        # For some given data point single_input, we now want to calculate the resulting value in each node in the current layer\n",
    "        # We therefore loop over the (number of) nodes in the current layer:\n",
    "        for j in range(len(weights[0])): \n",
    "            # Initialize the node value depending on its corresponding parameters.\n",
    "            node = Var(0.0) # <- Insert code\n",
    "            # We now finish the linear transformation corresponding to the parameters of the currently considered node.\n",
    "            for i in range(len(single_input)):\n",
    "                node += Var(0.0)  # <- Insert code\n",
    "            node = self.act_fn(node)\n",
    "            out.append(node)\n",
    "\n",
    "        return out"
   ]
  },
  {
   "cell_type": "markdown",
   "metadata": {
    "id": "jpIZPBpNI0pO"
   },
   "source": [
    "## Exercise f) Add more activation functions\n",
    "\n",
    "To have a full definition of the neural network, we must define an activation function for every layer. Several activation functions have been proposed and have different characteristics. In the Var class we have already defined the rectified linear init (relu). \n",
    " \n",
    "Implement the following activation functions in the Var class:\n",
    "\n",
    "* Identity: $$\\mathrm{identity}(x) = x$$\n",
    "* Hyperbolic tangent: $$\\tanh(x)$$\n",
    "* Sigmoid (or logistic function): $$\\mathrm{sigmoid}(x) = \\frac{1}{1.0 + \\exp(-x ) }$$  Hint: $\\mathrm{sigmoid}'(x)= \\mathrm{sigmoid}(x)(1-\\mathrm{sigmoid}(x))$.  \n",
    "\n",
    "Hint: You can seek inspiration in the relu method in the Var class."
   ]
  },
  {
   "cell_type": "markdown",
   "metadata": {
    "id": "p_8n_SKnIW2F"
   },
   "source": [
    "## Exercise g) Complete the forward pass\n",
    "\n",
    "In the code below we initialize a 1-5-1 network and pass the training set through it. *The forward method in DenseLayer is **not** complete*. It just outputs zeros right now. The method forward should perform an [affine transformation](https://en.wikipedia.org/wiki/Affine_transformation) on the input followed by an application of the activation function."
   ]
  },
  {
   "cell_type": "code",
   "execution_count": 48,
   "metadata": {
    "colab": {
     "base_uri": "https://localhost:8080/",
     "height": 337
    },
    "id": "xDEjtePxE7Mv",
    "outputId": "753406cd-d8a1-4282-ce03-25ad959b0e11"
   },
   "outputs": [
    {
     "name": "stdout",
     "output_type": "stream",
     "text": [
      "[[Var(v=0.0000, grad=0.0000)], [Var(v=0.0000, grad=0.0000)], [Var(v=0.0000, grad=0.0000)], [Var(v=0.0000, grad=0.0000)], [Var(v=0.0000, grad=0.0000)], [Var(v=0.0000, grad=0.0000)], [Var(v=0.0000, grad=0.0000)], [Var(v=0.0000, grad=0.0000)], [Var(v=0.0000, grad=0.0000)], [Var(v=0.0000, grad=0.0000)], [Var(v=0.0000, grad=0.0000)], [Var(v=0.0000, grad=0.0000)], [Var(v=0.0000, grad=0.0000)], [Var(v=0.0000, grad=0.0000)], [Var(v=0.0000, grad=0.0000)], [Var(v=0.0000, grad=0.0000)], [Var(v=0.0000, grad=0.0000)], [Var(v=0.0000, grad=0.0000)], [Var(v=0.0000, grad=0.0000)], [Var(v=0.0000, grad=0.0000)], [Var(v=0.0000, grad=0.0000)], [Var(v=0.0000, grad=0.0000)], [Var(v=0.0000, grad=0.0000)], [Var(v=0.0000, grad=0.0000)], [Var(v=0.0000, grad=0.0000)], [Var(v=0.0000, grad=0.0000)], [Var(v=0.0000, grad=0.0000)], [Var(v=0.0000, grad=0.0000)], [Var(v=0.0000, grad=0.0000)], [Var(v=0.0000, grad=0.0000)], [Var(v=0.0000, grad=0.0000)], [Var(v=0.0000, grad=0.0000)], [Var(v=0.0000, grad=0.0000)], [Var(v=0.0000, grad=0.0000)], [Var(v=0.0000, grad=0.0000)], [Var(v=0.0000, grad=0.0000)], [Var(v=0.0000, grad=0.0000)], [Var(v=0.0000, grad=0.0000)], [Var(v=0.0000, grad=0.0000)], [Var(v=0.0000, grad=0.0000)], [Var(v=0.0000, grad=0.0000)], [Var(v=0.0000, grad=0.0000)], [Var(v=0.0000, grad=0.0000)], [Var(v=0.0000, grad=0.0000)], [Var(v=0.0000, grad=0.0000)], [Var(v=0.0000, grad=0.0000)], [Var(v=0.0000, grad=0.0000)], [Var(v=0.0000, grad=0.0000)], [Var(v=0.0000, grad=0.0000)], [Var(v=0.0000, grad=0.0000)], [Var(v=0.0000, grad=0.0000)], [Var(v=0.0000, grad=0.0000)], [Var(v=0.0000, grad=0.0000)], [Var(v=0.0000, grad=0.0000)], [Var(v=0.0000, grad=0.0000)], [Var(v=0.0000, grad=0.0000)], [Var(v=0.0000, grad=0.0000)], [Var(v=0.0000, grad=0.0000)], [Var(v=0.0000, grad=0.0000)], [Var(v=0.0000, grad=0.0000)], [Var(v=0.0000, grad=0.0000)], [Var(v=0.0000, grad=0.0000)], [Var(v=0.0000, grad=0.0000)], [Var(v=0.0000, grad=0.0000)], [Var(v=0.0000, grad=0.0000)], [Var(v=0.0000, grad=0.0000)], [Var(v=0.0000, grad=0.0000)], [Var(v=0.0000, grad=0.0000)], [Var(v=0.0000, grad=0.0000)], [Var(v=0.0000, grad=0.0000)], [Var(v=0.0000, grad=0.0000)], [Var(v=0.0000, grad=0.0000)], [Var(v=0.0000, grad=0.0000)], [Var(v=0.0000, grad=0.0000)], [Var(v=0.0000, grad=0.0000)], [Var(v=0.0000, grad=0.0000)], [Var(v=0.0000, grad=0.0000)], [Var(v=0.0000, grad=0.0000)], [Var(v=0.0000, grad=0.0000)], [Var(v=0.0000, grad=0.0000)], [Var(v=0.0000, grad=0.0000)], [Var(v=0.0000, grad=0.0000)], [Var(v=0.0000, grad=0.0000)], [Var(v=0.0000, grad=0.0000)], [Var(v=0.0000, grad=0.0000)], [Var(v=0.0000, grad=0.0000)], [Var(v=0.0000, grad=0.0000)], [Var(v=0.0000, grad=0.0000)], [Var(v=0.0000, grad=0.0000)], [Var(v=0.0000, grad=0.0000)], [Var(v=0.0000, grad=0.0000)], [Var(v=0.0000, grad=0.0000)], [Var(v=0.0000, grad=0.0000)], [Var(v=0.0000, grad=0.0000)], [Var(v=0.0000, grad=0.0000)], [Var(v=0.0000, grad=0.0000)], [Var(v=0.0000, grad=0.0000)], [Var(v=0.0000, grad=0.0000)], [Var(v=0.0000, grad=0.0000)], [Var(v=0.0000, grad=0.0000)], [Var(v=0.0000, grad=0.0000)], [Var(v=0.0000, grad=0.0000)], [Var(v=0.0000, grad=0.0000)], [Var(v=0.0000, grad=0.0000)], [Var(v=0.0000, grad=0.0000)]]\n"
     ]
    }
   ],
   "source": [
    "NN = [\n",
    "    DenseLayer(1, 5, lambda x: x.relu()),\n",
    "    DenseLayer(5, 1, lambda x: x.identity())\n",
    "]\n",
    "\n",
    "def forward(input, network):\n",
    "\n",
    "  def forward_single(x, network):\n",
    "    for layer in network:\n",
    "        x = layer.forward(x)\n",
    "    return x\n",
    "\n",
    "  output = [ forward_single(input[n], network) for n in range(len(input))]\n",
    "  return output\n",
    "\n",
    "print(forward(x_train, NN))\n"
   ]
  },
  {
   "cell_type": "markdown",
   "metadata": {
    "id": "oLrGJytZFtGm"
   },
   "source": [
    "## Exercise h) Print all network parameters\n",
    "\n",
    "Make a function that prints all the parameters of the network (weights and biases) with information about in which layer they appear. In the object oriented spirit you should introduce a method in the DenseLayer class to print the parameters of a layer. Hint: You can take inspiration from the corresponding method in Var. "
   ]
  },
  {
   "cell_type": "code",
   "execution_count": 40,
   "metadata": {
    "id": "iac-VwYGFtGm"
   },
   "outputs": [
    {
     "name": "stdout",
     "output_type": "stream",
     "text": [
      "[Weights: [[Var(v=0.2024, grad=0.0000), Var(v=0.0727, grad=0.0000), Var(v=0.0287, grad=0.0000), Var(v=0.1451, grad=0.0000), Var(v=0.0748, grad=0.0000)]] Biases: [Var(v=0.0000, grad=0.0000), Var(v=0.0000, grad=0.0000), Var(v=0.0000, grad=0.0000), Var(v=0.0000, grad=0.0000), Var(v=0.0000, grad=0.0000)], Weights: [[Var(v=-0.1951, grad=0.0000)], [Var(v=0.0130, grad=0.0000)], [Var(v=-0.0900, grad=0.0000)], [Var(v=0.0917, grad=0.0000)], [Var(v=-0.0733, grad=0.0000)]] Biases: [Var(v=0.0000, grad=0.0000)]]\n"
     ]
    }
   ],
   "source": [
    "# Insert code here and in the DenseLayer class\n",
    "print(NN\n",
    "      \n",
    "#really have no idea how the layer is supose to be represented"
   ]
  },
  {
   "cell_type": "markdown",
   "metadata": {
    "id": "_79HOAXrFtHK"
   },
   "source": [
    "## Visualization\n",
    "\n",
    "Now that we have defined our activation functions we can visualize them to see what they look like:"
   ]
  },
  {
   "cell_type": "code",
   "execution_count": 49,
   "metadata": {
    "id": "1FcylHqLTl-Z"
   },
   "outputs": [
    {
     "data": {
      "text/plain": [
       "[<matplotlib.lines.Line2D at 0x29ce1afc610>]"
      ]
     },
     "execution_count": 49,
     "metadata": {},
     "output_type": "execute_result"
    },
    {
     "data": {
      "image/png": "[encoded data removed]",
      "text/plain": [
       "<Figure size 432x288 with 1 Axes>"
      ]
     },
     "metadata": {
      "needs_background": "light"
     },
     "output_type": "display_data"
    }
   ],
   "source": [
    "x = np.linspace(-6, 6, 100)\n",
    "\n",
    "# convert from Var to ndarray  \n",
    "def Var_to_nparray(x):\n",
    "  y = np.zeros((len(x),len(x[0])))\n",
    "  for i in range(len(x)):\n",
    "    for j in range(len(x[0])):\n",
    "      y[i,j] = x[i][j].v\n",
    "  return y\n",
    "\n",
    "# define 1-1 network with weight = 1 and relu activation \n",
    "NN = [ DenseLayer(1, 1, lambda x: x.relu(), initializer = ConstantInitializer(1.0)) ] \n",
    "y = Var_to_nparray(forward(nparray_to_Var(x), NN))\n",
    "\n",
    "#y = Var_to_nparray(relu(nparray_to_Var(x)))\n",
    "plt.plot(x,y)"
   ]
  },
  {
   "cell_type": "code",
   "execution_count": 47,
   "metadata": {
    "id": "oOL2UolJFtHL"
   },
   "outputs": [
    {
     "data": {
      "image/png": "[encoded data removed]",
      "text/plain": [
       "<Figure size 360x360 with 1 Axes>"
      ]
     },
     "metadata": {
      "needs_background": "light"
     },
     "output_type": "display_data"
    }
   ],
   "source": [
    "# Testing all activation layers\n",
    "\n",
    "x = np.linspace(-6, 6, 100)\n",
    "units = {\n",
    "    \"identity\": lambda x: x.identity(),\n",
    "    #\"sigmoid\": lambda x: x.sigmoid(),  <- uncomment before sharing\n",
    "    \"relu\": lambda x: x.relu(),\n",
    "    #\"tanh\": lambda x: x.tanh() <- uncomment before sharing\n",
    "}\n",
    "\n",
    "plt.figure(figsize=(5, 5))\n",
    "[plt.plot(x, Var_to_nparray(forward(nparray_to_Var(x), [DenseLayer(1, 1, unit, initializer = ConstantInitializer(1.0))]) ), label=unit_name, lw=2) for unit_name, unit in units.items()] # unit(nparray_to_Var(x))), label=unit_name, lw=2) for unit_name, unit in units.items()]\n",
    "plt.legend(loc=2, fontsize=16)\n",
    "plt.title('Our activation functions', fontsize=20)\n",
    "plt.ylim([-2, 5])\n",
    "plt.xlim([-6, 6])\n",
    "plt.show()"
   ]
  },
  {
   "cell_type": "markdown",
   "metadata": {
    "id": "b-jdEl-7FtGs"
   },
   "source": [
    "# Advanced initialization schemes\n",
    "\n",
    "If we are not careful with initialization, the signals we propagate forward ($a^{(l)}$, $l=1,\\ldots,L$) and backward ($\\delta^l$, $l=L,L-1,\\ldots,1$) can blow up or shrink to zero. A statistical analysis of the variance of the signals for different activation functions can be found in these two papers: [Glorot initialization](http://proceedings.mlr.press/v9/glorot10a/glorot10a.pdf) and [He initialization](https://arxiv.org/pdf/1502.01852v1.pdf). \n",
    "\n",
    "The result of the analyses are proposals for how to make the initialization such that the variance of the signals (forward and backward) are kept approxmimatly constant when propagating from layer to layer. The exact expressions depend upon the non-linear activation function used. In Glorot initialization, the aim is to keep both the forward and backward variances constant whereas He only aims at keeping the variance in the forward pass constant.\n",
    "\n",
    "We define $n_{in}$ and $n_{out}$ as the number of input units and output units of a particular layer. \n",
    "\n",
    "The Glorot initialization has the form: \n",
    "\n",
    "$$w_{ij} \\sim N \\bigg( 0, \\, \\frac{2 \\alpha }{n_{in} + n_{out}} \\bigg) \\ . $$\n",
    "\n",
    "where $N(\\mu,\\sigma^2)$ is a Gaussian distribution with mean $\\mu$ and variance $\\sigma^2$ and $\\alpha$ is a parameter that depends upon the activation function used. For $\\tanh$, $\\alpha=1$ and for Rectified Linear Unit (ReLU) activations, $\\alpha=2$. (It is also possible to use a uniform distribution for initialization, see [this blog post](https://mmuratarat.github.io/2019-02-25/xavier-glorot-he-weight-init).) \n",
    "\n",
    "The He initialization is very similar\n",
    "\n",
    "$$w_{ij} \\sim N \\bigg( 0, \\, \\frac{\\alpha}{n_{in}} \\bigg) \\ . $$"
   ]
  },
  {
   "cell_type": "markdown",
   "metadata": {
    "id": "mqeyab9qFtGs"
   },
   "source": [
    "## Exercise i) Glorot and He initialization\n",
    " \n",
    "Using the Initializer class, implement functions that implement Glorot and He \n",
    "\n",
    "Explain briefly how you would test numerically that these initializations have the sought after property. Hint: See plots in Glorot paper.\n",
    "\n",
    "Comment: If you want to be more advanced then try to make a universal initializer taking both the activation function and type (Glorot or He) as argument."
   ]
  },
  {
   "cell_type": "code",
   "execution_count": 50,
   "metadata": {
    "id": "Qyk01CgaFtGt"
   },
   "outputs": [],
   "source": [
    "## Glorot\n",
    "def DenseLayer_Glorot_tanh(n_in: int, n_out: int):\n",
    "  std = sqrt(2/n_in+n_out) # <- replace with proper initialization\n",
    "  return DenseLayer(n_in, n_out, lambda x: x.tanh(), initializer = NormalInitializer(std))\n",
    "\n",
    "## He\n",
    "def DenseLayer_He_relu(n_in: int, n_out: int):\n",
    "  std = sqrt(2/n_in) # <- replace with proper initialization\n",
    "  return DenseLayer(n_in, n_out, lambda x: x.relu(), initializer = NormalInitializer(std))"
   ]
  },
  {
   "cell_type": "markdown",
   "metadata": {
    "id": "-XyXBD37FtHk"
   },
   "source": [
    "## Exercise j) Forward pass unit test\n",
    "\n",
    "Write a bit of code to make a unit test that the forward pass works. This can be done by defining a simple network with for example all weights equal to one (using the ConstantInitializer method) and identity activation functions. \n",
    "\n",
    "Hints: Use the [assert](https://www.w3schools.com/python/ref_keyword_assert.asp), the nparray_to_Var and the Var_to_nparray commands. "
   ]
  },
  {
   "cell_type": "code",
   "execution_count": null,
   "metadata": {
    "id": "k0miqRUAFtHl"
   },
   "outputs": [],
   "source": [
    "# Insert code here"
   ]
  },
  {
   "cell_type": "markdown",
   "metadata": {
    "id": "faCxhfFnFtHp"
   },
   "source": [
    "# Loss functions\n",
    "\n",
    "We are only missing a loss function to we need to define a loss function and its derivative with respect to the output of the neural network $y$"
   ]
  },
  {
   "cell_type": "code",
   "execution_count": null,
   "metadata": {
    "id": "I2eDYKvAFtHq"
   },
   "outputs": [],
   "source": [
    "def squared_loss(t, y):\n",
    "  \n",
    "  # add check that sizes agree\n",
    "  \n",
    "  def squared_loss_single(t, y):\n",
    "    Loss = Var(0.0)\n",
    "    for i in range(len(t)): # sum over outputs\n",
    "      Loss += (t[i]-y[i]) ** 2\n",
    "    return Loss\n",
    "\n",
    "  Loss = Var(0.0)\n",
    "  for n in range(len(t)): # sum over training data\n",
    "    Loss += squared_loss_single(t[n],y[n])\n",
    "  return Loss"
   ]
  },
  {
   "cell_type": "markdown",
   "metadata": {
    "id": "SrwSJ2UWFtHu"
   },
   "source": [
    "## Exercise j) Implement cross entropy loss\n",
    "\n",
    "Insert code below to implement cross-entropy loss for general dimensionality of $t$. Use a logits formulation:\n",
    "$$\n",
    "\\rm{Loss} = - \\sum_i t_i \\, log \\, p_i \n",
    "$$\n",
    "with $p$ given by the the softmax function in terms of the logits $h$:\n",
    "$$\n",
    "p_i = \\frac{\\exp(h_i)}{\\sum_{i'} \\exp(h_{i'})} .\n",
    "$$\n",
    "Inserting $p$ in the expression for the loss gives\n",
    "$$\n",
    "\\rm{Loss} = - \\sum_i t_i h_i + \\rm{LogSumExp}(h) \\ ,\n",
    "$$\n",
    "where \n",
    "$$\n",
    "\\rm{LogSumExp}(h) = \\log \\sum_i \\exp h_i \\ .\n",
    "$$\n",
    "This is true for $t$ being a one-hot vector. \n",
    "\n",
    "Call the function to convince yourself it works. \n",
    "\n",
    "In practice you want to implement a [numerically stable](https://leimao.github.io/blog/LogSumExp/) version of LogSumExp. But we will not bother about that here.\n",
    "\n",
    "Help: You can add these methods in the Var class:\n",
    "\n",
    "    def exp(self):\n",
    "        return Var(exp(self.v), lambda: [(self, exp(self.v))])\n",
    "    \n",
    "    def log(self):\n",
    "        return Var(log(self.v), lambda: [(self, self.v ** -1)])"
   ]
  },
  {
   "cell_type": "code",
   "execution_count": null,
   "metadata": {
    "id": "6nMuxyfzFtHv"
   },
   "outputs": [],
   "source": [
    "def cross_entropy_loss(t, h):\n",
    "     \n",
    "    Loss = Var(0.0)\n",
    "    # Insert code here\n",
    "    return Loss"
   ]
  },
  {
   "cell_type": "markdown",
   "metadata": {
    "id": "8fAF5ew4FtHy"
   },
   "source": [
    "# Backward pass\n",
    "\n",
    "Now the magic happens! We get the calculation of the gradients for free. Just do:"
   ]
  },
  {
   "cell_type": "code",
   "execution_count": null,
   "metadata": {
    "id": "iHyfPPI9Qqwu"
   },
   "outputs": [],
   "source": [
    "NN = [\n",
    "    DenseLayer(1, 5, lambda x: x.relu()),\n",
    "    DenseLayer(5, 1, lambda x: x.identity())\n",
    "]\n",
    "\n",
    "output = forward(x_train, NN)\n",
    "\n",
    "Loss = squared_loss(y_train,output)\n",
    "Loss.backward()"
   ]
  },
  {
   "cell_type": "markdown",
   "metadata": {
    "id": "49biIAYKQ1oG"
   },
   "source": [
    "and the gradients will be calculated:"
   ]
  },
  {
   "cell_type": "code",
   "execution_count": null,
   "metadata": {
    "id": "_rGt1bq_Q7uk"
   },
   "outputs": [],
   "source": [
    "[print('Layer', i, '\\n', NN[i]) for i in range(len(NN))] "
   ]
  },
  {
   "cell_type": "markdown",
   "metadata": {
    "id": "D7d7qK0uFtH9"
   },
   "source": [
    "# Backward pass unit test\n",
    "\n",
    "Above we used finite differences to test that Nanograd is actually doing what it is supposed to do. We can in principle try the same for the neural network. But we will trust that the test above is enough."
   ]
  },
  {
   "cell_type": "markdown",
   "metadata": {
    "id": "WgBi8GOSFtIN"
   },
   "source": [
    "# Training and validation\n",
    "\n",
    "We are ready to train some neural networks!\n",
    "\n",
    "We initialize again:"
   ]
  },
  {
   "cell_type": "code",
   "execution_count": null,
   "metadata": {
    "id": "01ePmzBzRtdh"
   },
   "outputs": [],
   "source": [
    "NN = [\n",
    "    DenseLayer(1, 15, lambda x: x.relu()),\n",
    "    DenseLayer(15, 50, lambda x: x.relu()),\n",
    "    DenseLayer(50, 1, lambda x: x.identity())\n",
    "]\n",
    "\n",
    "output = forward(x_train, NN)\n",
    "\n",
    "Loss = squared_loss(y_train,output)\n",
    "Loss.backward()"
   ]
  },
  {
   "cell_type": "markdown",
   "metadata": {
    "id": "10iRPiQ1ISHw"
   },
   "source": [
    "and make an update:\n",
    "\n",
    "We introduce a help function parameters to have a handle in all parameters in the network."
   ]
  },
  {
   "cell_type": "code",
   "execution_count": null,
   "metadata": {
    "id": "dhAI7eyeznia"
   },
   "outputs": [],
   "source": [
    "print('Network before update:')\n",
    "[print('Layer', i, '\\n', NN[i]) for i in range(len(NN))] \n",
    "\n",
    "def parameters(network):\n",
    "  params = []\n",
    "  for layer in range(len(network)):\n",
    "    params += network[layer].parameters()\n",
    "  return params\n",
    "\n",
    "def update_parameters(params, learning_rate=0.01):\n",
    "  for p in params:\n",
    "    p.v -= learning_rate*p.grad\n",
    "\n",
    "def zero_gradients(params):\n",
    "  for p in params:\n",
    "    p.grad = 0.0\n",
    "\n",
    "update_parameters(parameters(NN))\n",
    "\n",
    "print('\\nNetwork after update:')\n",
    "[print('Layer', i, '\\n', NN[i]) for i in range(len(NN))] \n",
    "\n",
    "zero_gradients(parameters(NN))\n",
    "\n",
    "print('\\nNetwork after zeroing gradients:')\n",
    "[print('Layer', i, '\\n', NN[i]) for i in range(len(NN))] "
   ]
  },
  {
   "cell_type": "code",
   "execution_count": null,
   "metadata": {
    "id": "woWYpdw6FtIO"
   },
   "outputs": [],
   "source": [
    "# Initialize an arbitrary neural network\n",
    "NN = [\n",
    "    DenseLayer(1, 8, lambda x: x.relu()),\n",
    "    DenseLayer(8, 1, lambda x: x.identity())\n",
    "]\n",
    "\n",
    "# Recommended hyper-parameters for 3-D: \n",
    "#NN = [\n",
    "#    DenseLayer(3, 16, lambda x: x.relu()),\n",
    "#    DenseLayer(16, 1, lambda x: x.identity())\n",
    "#]\n",
    "\n",
    "\n",
    "### Notice that, when we switch from tanh to relu activation, we decrease the learning rate. This is due the stability of the gradients \n",
    "## of the activation functions."
   ]
  },
  {
   "cell_type": "code",
   "execution_count": null,
   "metadata": {
    "id": "mdqaqYBVFtIR"
   },
   "outputs": [],
   "source": [
    "# Initialize training hyperparameters\n",
    "EPOCHS = 200\n",
    "LEARN_R = 2e-3 "
   ]
  },
  {
   "cell_type": "code",
   "execution_count": null,
   "metadata": {
    "colab": {
     "base_uri": "https://localhost:8080/"
    },
    "id": "5kfg76GMFtIW",
    "outputId": "e30cf68a-31f2-42b4-cc5e-860c297c0f04",
    "scrolled": true
   },
   "outputs": [],
   "source": [
    "train_loss = []\n",
    "val_loss = []\n",
    "\n",
    "for e in range(EPOCHS):\n",
    "     \n",
    "    # Forward pass and loss computation\n",
    "    Loss = squared_loss(y_train, forward(x_train, NN))\n",
    "\n",
    "    # Backward pass\n",
    "    Loss.backward()\n",
    "    \n",
    "    # gradient descent update\n",
    "    update_parameters(parameters(NN), LEARN_R)\n",
    "    zero_gradients(parameters(NN))\n",
    "    \n",
    "    # Training loss\n",
    "    train_loss.append(Loss.v)\n",
    "    \n",
    "    # Validation\n",
    "    Loss_validation = squared_loss(y_validation, forward(x_validation, NN))\n",
    "    val_loss.append(Loss_validation.v)\n",
    "    \n",
    "    if e%10==0:\n",
    "        print(\"{:4d}\".format(e),\n",
    "              \"({:5.2f}%)\".format(e/EPOCHS*100), \n",
    "              \"Train loss: {:4.3f} \\t Validation loss: {:4.3f}\".format(train_loss[-1], val_loss[-1]))\n",
    "        \n"
   ]
  },
  {
   "cell_type": "code",
   "execution_count": null,
   "metadata": {
    "colab": {
     "base_uri": "https://localhost:8080/",
     "height": 265
    },
    "id": "VetyRWFwFtIY",
    "outputId": "344e490d-6d7d-455a-fa6f-88dd11eb957e"
   },
   "outputs": [],
   "source": [
    "plt.plot(range(len(train_loss)), train_loss);\n",
    "plt.plot(range(len(val_loss)), val_loss);"
   ]
  },
  {
   "cell_type": "markdown",
   "metadata": {
    "id": "8OgmIrM9FtIb"
   },
   "source": [
    "# Testing\n",
    "\n",
    "We have kept the calculation of the test error separate in order to emphasize that you should not use the test set in optimization."
   ]
  },
  {
   "cell_type": "code",
   "execution_count": null,
   "metadata": {
    "id": "HmNi7S-vFtIc"
   },
   "outputs": [],
   "source": [
    "output_test = forward(x_test, NN)"
   ]
  },
  {
   "cell_type": "code",
   "execution_count": null,
   "metadata": {
    "colab": {
     "base_uri": "https://localhost:8080/",
     "height": 316
    },
    "id": "7mmJOTSEFtIf",
    "outputId": "e3264095-cefe-4aee-893d-bf152438e332"
   },
   "outputs": [],
   "source": [
    "y_test_np = Var_to_nparray(y_test)\n",
    "plt.scatter(y_test_np, Var_to_nparray(output_test));\n",
    "plt.plot([np.min(y_test_np), np.max(y_test_np)], [np.min(y_test_np), np.max(y_test_np)], color='k');\n",
    "plt.xlabel(\"y\");\n",
    "plt.ylabel(\"$\\hat{y}$\");\n",
    "plt.title(\"Model prediction vs real in the test set, the close to the line the better\")\n",
    "plt.grid(True);\n",
    "plt.axis('equal');\n",
    "plt.tight_layout();\n",
    "\n",
    "Loss_test = squared_loss(y_test, forward(x_test, NN))\n",
    "\n",
    "print(\"Test loss:  {:4.3f}\".format(Loss_test.v))"
   ]
  },
  {
   "cell_type": "code",
   "execution_count": null,
   "metadata": {
    "colab": {
     "base_uri": "https://localhost:8080/",
     "height": 279
    },
    "id": "ODi0WlmQFtIh",
    "outputId": "d1ab874f-0717-4987-87bf-1f0c7c8e7148"
   },
   "outputs": [],
   "source": [
    "x_test_np = Var_to_nparray(x_test)\n",
    "x_train_np = Var_to_nparray(x_train)\n",
    "y_train_np = Var_to_nparray(y_train)\n",
    "if D1:\n",
    "    plt.scatter(x_train_np, y_train_np, label=\"train data\");\n",
    "    plt.scatter(x_test_np, Var_to_nparray(output_test), label=\"test prediction\");\n",
    "    plt.scatter(x_test_np, y_test_np, label=\"test data\");\n",
    "    plt.legend();\n",
    "    plt.xlabel(\"x\");\n",
    "    plt.ylabel(\"y\");\n",
    "else:\n",
    "    plt.scatter(x_train_np[:,1], y_train, label=\"train data\");\n",
    "    plt.scatter(x_test_np[:,1], Var_to_nparray(output_test), label=\"test data prediction\");\n",
    "    plt.scatter(x_test_np[:,1], y_test_np, label=\"test data\");\n",
    "    plt.legend();\n",
    "    plt.xlabel(\"x\");\n",
    "    plt.ylabel(\"y\");"
   ]
  },
  {
   "cell_type": "markdown",
   "metadata": {
    "id": "zTBAmjsAFtIk"
   },
   "source": [
    "## Exercise k) Show overfitting, underfitting and just right fitting\n",
    "\n",
    "Vary the architecture and other things to show clear signs of overfitting (=training loss significantly lower than test loss) and underfitting (=not fitting enoung to training data so that test performance is also hurt).\n",
    "\n",
    "See also if you can get a good compromise which leads to a low validation loss. \n",
    "\n",
    "For this problem do you see any big difference between validation and test loss? The answer here will probably be no. Discuss cases where it is important to keep the two separate.\n",
    "\n",
    "_Insert written answer here._\n"
   ]
  },
  {
   "cell_type": "code",
   "execution_count": null,
   "metadata": {
    "id": "tQZCn2dxFtIl"
   },
   "outputs": [],
   "source": [
    "# Insert your code for getting overfitting, underfitting and just right fitting"
   ]
  },
  {
   "cell_type": "markdown",
   "metadata": {
    "id": "fYPZP-eTFtIo"
   },
   "source": [
    "# Next steps - classification\n",
    "\n",
    "It is straight forward to extend what we have done to classification. \n",
    "\n",
    "For numerical stability it is better to make softmax and cross-entropy as one function so we write the cross entropy loss as a function of the logits we talked about last week. \n",
    "\n",
    "Next week we will see how to perform classification in PyTorch."
   ]
  }
 ],
 "metadata": {
  "anaconda-cloud": {},
  "colab": {
   "collapsed_sections": [
    "U4057_ljNvWB",
    "p_8n_SKnIW2F",
    "oLrGJytZFtGm",
    "jpIZPBpNI0pO",
    "_79HOAXrFtHK",
    "mqeyab9qFtGs",
    "-XyXBD37FtHk",
    "SrwSJ2UWFtHu",
    "zTBAmjsAFtIk",
    "qsVPul3QFtIo",
    "APqhJv3tta1O"
   ],
   "name": "2.1-EXE-FNN-AutoDif-Nanograd.ipynb",
   "provenance": []
  },
  "kernelspec": {
   "display_name": "Python 3",
   "language": "python",
   "name": "python3"
  },
  "language_info": {
   "codemirror_mode": {
    "name": "ipython",
    "version": 3
   },
   "file_extension": ".py",
   "mimetype": "text/x-python",
   "name": "python",
   "nbconvert_exporter": "python",
   "pygments_lexer": "ipython3",
   "version": "3.8.5"
  }
 },
 "nbformat": 4,
 "nbformat_minor": 1
}
